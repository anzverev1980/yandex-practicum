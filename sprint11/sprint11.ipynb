{
 "cells": [
  {
   "cell_type": "markdown",
   "metadata": {},
   "source": [
    "## Review\n",
    "\n",
    "Hi Vladimir. Soslan is here. As always, I've added all my comments to new cells with different coloring.\n",
    "\n",
    "<div class=\"alert alert-success\" role=\"alert\">\n",
    "  If you did something great I'm using green color for my comment\n",
    "</div>\n",
    "\n",
    "<div class=\"alert alert-warning\" role=\"alert\">\n",
    "If I want to give you advice or think that something can be improved, then I'll use yellow. This is an optional recommendation.\n",
    "</div>\n",
    "\n",
    "<div class=\"alert alert-danger\" role=\"alert\">\n",
    "  If the topic requires some extra work so I can accept it then the color will be red\n",
    "</div>\n",
    "\n",
    "You did a nice project. All steps are correct. So, I'm accepting your project. Thank you for your work.\n",
    "\n",
    "---"
   ]
  },
  {
   "cell_type": "markdown",
   "metadata": {
    "colab_type": "text",
    "id": "fzTKwarQIFeg"
   },
   "source": [
    "The Sure Tomorrow insurance company wants to protect its clients' data. Your task is to develop a data transforming algorithm that would make it hard to recover personal information from the transformed data. Prove that the algorithm works correctly\n",
    "\n",
    "The data should be protected in such a way that the quality of machine learning models doesn't suffer. You don't need to pick the best model."
   ]
  },
  {
   "cell_type": "code",
   "execution_count": 1,
   "metadata": {
    "colab": {
     "base_uri": "https://localhost:8080/",
     "height": 35
    },
    "colab_type": "code",
    "id": "ilYyYN9zIk1q",
    "outputId": "4d411906-c894-4819-e5bc-4d603f3feb51"
   },
   "outputs": [
    {
     "name": "stdout",
     "output_type": "stream",
     "text": [
      "Writing requirements.txt\n"
     ]
    }
   ],
   "source": [
    "%%writefile requirements.txt \n",
    "watermark\n",
    "ipython-autotime"
   ]
  },
  {
   "cell_type": "code",
   "execution_count": 2,
   "metadata": {
    "colab": {},
    "colab_type": "code",
    "id": "O3B-0ghl21-n"
   },
   "outputs": [],
   "source": [
    "!pip install -r requirements.txt -qq"
   ]
  },
  {
   "cell_type": "code",
   "execution_count": 3,
   "metadata": {
    "colab": {},
    "colab_type": "code",
    "id": "tmyZeIheIrYu"
   },
   "outputs": [],
   "source": [
    "%load_ext watermark\n",
    "%load_ext autotime"
   ]
  },
  {
   "cell_type": "code",
   "execution_count": 6,
   "metadata": {
    "colab": {
     "base_uri": "https://localhost:8080/",
     "height": 176
    },
    "colab_type": "code",
    "id": "524M9Bh4ItWi",
    "outputId": "3d85bd46-3d51-40cf-e14c-8449afedf30a"
   },
   "outputs": [
    {
     "name": "stdout",
     "output_type": "stream",
     "text": [
      "time: 486 µs\n"
     ]
    }
   ],
   "source": [
    "%watermark -p numpy,scipy,sklearn,seaborn -g"
   ]
  },
  {
   "cell_type": "markdown",
   "metadata": {},
   "source": [
    "<div class=\"alert alert-warning\" role=\"alert\">\n",
    "I didn't execute upper cells.</div>"
   ]
  },
  {
   "cell_type": "markdown",
   "metadata": {
    "colab_type": "text",
    "id": "30RwozcCIFeh"
   },
   "source": [
    "## 1. Data downloading"
   ]
  },
  {
   "cell_type": "code",
   "execution_count": 7,
   "metadata": {
    "colab": {
     "base_uri": "https://localhost:8080/",
     "height": 35
    },
    "colab_type": "code",
    "id": "pQwMRcQTIIMT",
    "outputId": "f11f7a20-84d3-4a47-b1da-d4bf40b8b317"
   },
   "outputs": [
    {
     "name": "stdout",
     "output_type": "stream",
     "text": [
      "time: 103 ms\n"
     ]
    }
   ],
   "source": [
    "import pandas as pd\n",
    "import numpy as np\n",
    "from sklearn.linear_model import LinearRegression\n",
    "from sklearn.model_selection import train_test_split\n",
    "from sklearn.tree import DecisionTreeClassifier\n",
    "from sklearn.metrics import r2_score\n",
    "from statsmodels.regression.linear_model import OLS\n",
    "import seaborn as sns\n",
    "from IPython.display import display, Math\n",
    "import matplotlib.pyplot as plt\n",
    "%matplotlib inline\n",
    "import random\n",
    "import warnings\n",
    "warnings.filterwarnings('ignore')\n",
    "import logging\n",
    "logger = logging.getLogger()\n",
    "logger.setLevel(logging.CRITICAL)"
   ]
  },
  {
   "cell_type": "code",
   "execution_count": 8,
   "metadata": {
    "colab": {
     "base_uri": "https://localhost:8080/",
     "height": 35
    },
    "colab_type": "code",
    "id": "3hZV8clRRwtQ",
    "outputId": "a4001c04-d2ed-4257-f1ce-95cc2337f797"
   },
   "outputs": [
    {
     "name": "stdout",
     "output_type": "stream",
     "text": [
      "time: 952 µs\n"
     ]
    }
   ],
   "source": [
    "seed_value = 42\n",
    "random.seed(seed_value)\n",
    "np.random.seed(seed_value)"
   ]
  },
  {
   "cell_type": "code",
   "execution_count": 9,
   "metadata": {
    "colab": {
     "base_uri": "https://localhost:8080/",
     "height": 35
    },
    "colab_type": "code",
    "id": "FPCQbFSNUi-Y",
    "outputId": "f689c41a-a93d-49b8-e8e4-fda180fd8ead"
   },
   "outputs": [
    {
     "name": "stdout",
     "output_type": "stream",
     "text": [
      "time: 5 ms\n"
     ]
    }
   ],
   "source": [
    "#missing value ratio\n",
    "def missing_values(df):\n",
    "    df_nulls=pd.concat([df.dtypes, df.isna().sum(), df.isna().sum()/len(df)], axis=1)\n",
    "    df_nulls.columns = [\"type\",\"count\",\"missing_ratio\"]\n",
    "    df_nulls=df_nulls[df_nulls[\"count\"]>0]\n",
    "    df_nulls.sort_values(by=\"missing_ratio\", ascending=False)\n",
    "    return df_nulls\n",
    "\n",
    "#outliers by 3 sigma rule\n",
    "def outlier(data):\n",
    "    data_mean, data_std = np.mean(data), np.std(data)\n",
    "    cut_off = data_std * 3\n",
    "    lower, upper = data_mean - cut_off, data_mean + cut_off\n",
    "    outliers = [x for x in data if x < lower or x > upper]\n",
    "    outliers_removed = [x for x in data if x >= lower and x <= upper]\n",
    "    return len(outliers)\n",
    "\n",
    "# full description statistics \n",
    "def describe_full(df, target_name=\"\"):\n",
    "    data_describe = df.describe().T\n",
    "    df_numeric = df._get_numeric_data()\n",
    "    if target_name in df.columns:\n",
    "        corr_with_target=df_numeric.drop(target_name, axis=1).apply(lambda x: x.corr(df_numeric[target_name]))\n",
    "        data_describe['corr_with_target']=corr_with_target\n",
    "    dtype_df = df_numeric.dtypes\n",
    "    data_describe['dtypes'] = dtype_df\n",
    "    data_null = df_numeric.isnull().sum()/len(df) * 100\n",
    "    data_describe['Missing %'] = data_null\n",
    "    Cardinality = df_numeric.apply(pd.Series.nunique)\n",
    "    data_describe['Cardinality'] = Cardinality\n",
    "    df_skew = df_numeric.skew(axis=0, skipna=True)\n",
    "    data_describe['Skew'] = df_skew\n",
    "    data_describe['outliers']=[outlier(df_numeric[col]) for col in df_numeric.columns]\n",
    "    data_describe['kurtosis']=df_numeric.kurtosis()\n",
    "    return data_describe"
   ]
  },
  {
   "cell_type": "code",
   "execution_count": 10,
   "metadata": {
    "colab": {
     "base_uri": "https://localhost:8080/",
     "height": 35
    },
    "colab_type": "code",
    "id": "9f0ABFVWIFeh",
    "outputId": "6d05e434-60e2-467f-ff63-6d9731334eff"
   },
   "outputs": [
    {
     "name": "stdout",
     "output_type": "stream",
     "text": [
      "time: 168 ms\n"
     ]
    }
   ],
   "source": [
    "data_path = \"https://code.s3.yandex.net/datasets/insurance_us.csv\"\n",
    "df = pd.read_csv(data_path)"
   ]
  },
  {
   "cell_type": "code",
   "execution_count": 11,
   "metadata": {
    "colab": {
     "base_uri": "https://localhost:8080/",
     "height": 254
    },
    "colab_type": "code",
    "id": "F7z6KnsYUp5F",
    "outputId": "1ee58dea-5928-49ef-e60b-b4cbf043e005"
   },
   "outputs": [
    {
     "data": {
      "text/html": [
       "<div>\n",
       "<style scoped>\n",
       "    .dataframe tbody tr th:only-of-type {\n",
       "        vertical-align: middle;\n",
       "    }\n",
       "\n",
       "    .dataframe tbody tr th {\n",
       "        vertical-align: top;\n",
       "    }\n",
       "\n",
       "    .dataframe thead th {\n",
       "        text-align: right;\n",
       "    }\n",
       "</style>\n",
       "<table border=\"1\" class=\"dataframe\">\n",
       "  <thead>\n",
       "    <tr style=\"text-align: right;\">\n",
       "      <th></th>\n",
       "      <th>count</th>\n",
       "      <th>mean</th>\n",
       "      <th>std</th>\n",
       "      <th>min</th>\n",
       "      <th>25%</th>\n",
       "      <th>50%</th>\n",
       "      <th>75%</th>\n",
       "      <th>max</th>\n",
       "      <th>dtypes</th>\n",
       "      <th>Missing %</th>\n",
       "      <th>Cardinality</th>\n",
       "      <th>Skew</th>\n",
       "      <th>outliers</th>\n",
       "      <th>kurtosis</th>\n",
       "    </tr>\n",
       "  </thead>\n",
       "  <tbody>\n",
       "    <tr>\n",
       "      <td>Gender</td>\n",
       "      <td>5000.0</td>\n",
       "      <td>0.4990</td>\n",
       "      <td>0.500049</td>\n",
       "      <td>0.0</td>\n",
       "      <td>0.0</td>\n",
       "      <td>0.0</td>\n",
       "      <td>1.0</td>\n",
       "      <td>1.0</td>\n",
       "      <td>int64</td>\n",
       "      <td>0.0</td>\n",
       "      <td>2</td>\n",
       "      <td>0.004001</td>\n",
       "      <td>0</td>\n",
       "      <td>-2.000784</td>\n",
       "    </tr>\n",
       "    <tr>\n",
       "      <td>Age</td>\n",
       "      <td>5000.0</td>\n",
       "      <td>30.9528</td>\n",
       "      <td>8.440807</td>\n",
       "      <td>18.0</td>\n",
       "      <td>24.0</td>\n",
       "      <td>30.0</td>\n",
       "      <td>37.0</td>\n",
       "      <td>65.0</td>\n",
       "      <td>float64</td>\n",
       "      <td>0.0</td>\n",
       "      <td>46</td>\n",
       "      <td>0.515148</td>\n",
       "      <td>12</td>\n",
       "      <td>-0.297665</td>\n",
       "    </tr>\n",
       "    <tr>\n",
       "      <td>Salary</td>\n",
       "      <td>5000.0</td>\n",
       "      <td>39916.3600</td>\n",
       "      <td>9900.083569</td>\n",
       "      <td>5300.0</td>\n",
       "      <td>33300.0</td>\n",
       "      <td>40200.0</td>\n",
       "      <td>46600.0</td>\n",
       "      <td>79000.0</td>\n",
       "      <td>float64</td>\n",
       "      <td>0.0</td>\n",
       "      <td>524</td>\n",
       "      <td>-0.036723</td>\n",
       "      <td>14</td>\n",
       "      <td>0.021468</td>\n",
       "    </tr>\n",
       "    <tr>\n",
       "      <td>Family members</td>\n",
       "      <td>5000.0</td>\n",
       "      <td>1.1942</td>\n",
       "      <td>1.091387</td>\n",
       "      <td>0.0</td>\n",
       "      <td>0.0</td>\n",
       "      <td>1.0</td>\n",
       "      <td>2.0</td>\n",
       "      <td>6.0</td>\n",
       "      <td>int64</td>\n",
       "      <td>0.0</td>\n",
       "      <td>7</td>\n",
       "      <td>0.898297</td>\n",
       "      <td>39</td>\n",
       "      <td>0.715275</td>\n",
       "    </tr>\n",
       "    <tr>\n",
       "      <td>Insurance benefits</td>\n",
       "      <td>5000.0</td>\n",
       "      <td>0.1480</td>\n",
       "      <td>0.463183</td>\n",
       "      <td>0.0</td>\n",
       "      <td>0.0</td>\n",
       "      <td>0.0</td>\n",
       "      <td>0.0</td>\n",
       "      <td>5.0</td>\n",
       "      <td>int64</td>\n",
       "      <td>0.0</td>\n",
       "      <td>6</td>\n",
       "      <td>3.845707</td>\n",
       "      <td>141</td>\n",
       "      <td>18.163968</td>\n",
       "    </tr>\n",
       "  </tbody>\n",
       "</table>\n",
       "</div>"
      ],
      "text/plain": [
       "                     count        mean          std     min      25%      50%  \\\n",
       "Gender              5000.0      0.4990     0.500049     0.0      0.0      0.0   \n",
       "Age                 5000.0     30.9528     8.440807    18.0     24.0     30.0   \n",
       "Salary              5000.0  39916.3600  9900.083569  5300.0  33300.0  40200.0   \n",
       "Family members      5000.0      1.1942     1.091387     0.0      0.0      1.0   \n",
       "Insurance benefits  5000.0      0.1480     0.463183     0.0      0.0      0.0   \n",
       "\n",
       "                        75%      max   dtypes  Missing %  Cardinality  \\\n",
       "Gender                  1.0      1.0    int64        0.0            2   \n",
       "Age                    37.0     65.0  float64        0.0           46   \n",
       "Salary              46600.0  79000.0  float64        0.0          524   \n",
       "Family members          2.0      6.0    int64        0.0            7   \n",
       "Insurance benefits      0.0      5.0    int64        0.0            6   \n",
       "\n",
       "                        Skew  outliers   kurtosis  \n",
       "Gender              0.004001         0  -2.000784  \n",
       "Age                 0.515148        12  -0.297665  \n",
       "Salary             -0.036723        14   0.021468  \n",
       "Family members      0.898297        39   0.715275  \n",
       "Insurance benefits  3.845707       141  18.163968  "
      ]
     },
     "execution_count": 11,
     "metadata": {},
     "output_type": "execute_result"
    },
    {
     "name": "stdout",
     "output_type": "stream",
     "text": [
      "time: 96.4 ms\n"
     ]
    }
   ],
   "source": [
    "describe_full(df)"
   ]
  },
  {
   "cell_type": "code",
   "execution_count": 12,
   "metadata": {
    "colab": {
     "base_uri": "https://localhost:8080/",
     "height": 243
    },
    "colab_type": "code",
    "id": "e8PzCc68MBJT",
    "outputId": "122f8cdb-aa81-4313-c0f8-a5a49ed13817"
   },
   "outputs": [
    {
     "name": "stdout",
     "output_type": "stream",
     "text": [
      "<class 'pandas.core.frame.DataFrame'>\n",
      "RangeIndex: 5000 entries, 0 to 4999\n",
      "Data columns (total 5 columns):\n",
      "Gender                5000 non-null int64\n",
      "Age                   5000 non-null float64\n",
      "Salary                5000 non-null float64\n",
      "Family members        5000 non-null int64\n",
      "Insurance benefits    5000 non-null int64\n",
      "dtypes: float64(2), int64(3)\n",
      "memory usage: 195.4 KB\n",
      "time: 5.92 ms\n"
     ]
    }
   ],
   "source": [
    "df.info()"
   ]
  },
  {
   "cell_type": "code",
   "execution_count": 13,
   "metadata": {
    "colab": {
     "base_uri": "https://localhost:8080/",
     "height": 121
    },
    "colab_type": "code",
    "id": "CdG5poV4MCeY",
    "outputId": "a6808417-ff66-49ce-b1f6-ffcaa60c9577"
   },
   "outputs": [
    {
     "data": {
      "text/plain": [
       "Gender                0\n",
       "Age                   0\n",
       "Salary                0\n",
       "Family members        0\n",
       "Insurance benefits    0\n",
       "dtype: int64"
      ]
     },
     "execution_count": 13,
     "metadata": {},
     "output_type": "execute_result"
    },
    {
     "name": "stdout",
     "output_type": "stream",
     "text": [
      "time: 5.78 ms\n"
     ]
    }
   ],
   "source": [
    "df.isna().sum()"
   ]
  },
  {
   "cell_type": "code",
   "execution_count": 14,
   "metadata": {
    "colab": {
     "base_uri": "https://localhost:8080/",
     "height": 219
    },
    "colab_type": "code",
    "id": "ZvoGy0cmMEAU",
    "outputId": "2c0a41b3-151d-4b41-8760-5c333692ad4d"
   },
   "outputs": [
    {
     "data": {
      "text/html": [
       "<div>\n",
       "<style scoped>\n",
       "    .dataframe tbody tr th:only-of-type {\n",
       "        vertical-align: middle;\n",
       "    }\n",
       "\n",
       "    .dataframe tbody tr th {\n",
       "        vertical-align: top;\n",
       "    }\n",
       "\n",
       "    .dataframe thead th {\n",
       "        text-align: right;\n",
       "    }\n",
       "</style>\n",
       "<table border=\"1\" class=\"dataframe\">\n",
       "  <thead>\n",
       "    <tr style=\"text-align: right;\">\n",
       "      <th></th>\n",
       "      <th>Gender</th>\n",
       "      <th>Age</th>\n",
       "      <th>Salary</th>\n",
       "      <th>Family members</th>\n",
       "      <th>Insurance benefits</th>\n",
       "    </tr>\n",
       "  </thead>\n",
       "  <tbody>\n",
       "    <tr>\n",
       "      <td>0</td>\n",
       "      <td>1</td>\n",
       "      <td>41.0</td>\n",
       "      <td>49600.0</td>\n",
       "      <td>1</td>\n",
       "      <td>0</td>\n",
       "    </tr>\n",
       "    <tr>\n",
       "      <td>1</td>\n",
       "      <td>0</td>\n",
       "      <td>46.0</td>\n",
       "      <td>38000.0</td>\n",
       "      <td>1</td>\n",
       "      <td>1</td>\n",
       "    </tr>\n",
       "    <tr>\n",
       "      <td>2</td>\n",
       "      <td>0</td>\n",
       "      <td>29.0</td>\n",
       "      <td>21000.0</td>\n",
       "      <td>0</td>\n",
       "      <td>0</td>\n",
       "    </tr>\n",
       "    <tr>\n",
       "      <td>3</td>\n",
       "      <td>0</td>\n",
       "      <td>21.0</td>\n",
       "      <td>41700.0</td>\n",
       "      <td>2</td>\n",
       "      <td>0</td>\n",
       "    </tr>\n",
       "    <tr>\n",
       "      <td>4</td>\n",
       "      <td>1</td>\n",
       "      <td>28.0</td>\n",
       "      <td>26100.0</td>\n",
       "      <td>0</td>\n",
       "      <td>0</td>\n",
       "    </tr>\n",
       "  </tbody>\n",
       "</table>\n",
       "</div>"
      ],
      "text/plain": [
       "   Gender   Age   Salary  Family members  Insurance benefits\n",
       "0       1  41.0  49600.0               1                   0\n",
       "1       0  46.0  38000.0               1                   1\n",
       "2       0  29.0  21000.0               0                   0\n",
       "3       0  21.0  41700.0               2                   0\n",
       "4       1  28.0  26100.0               0                   0"
      ]
     },
     "execution_count": 14,
     "metadata": {},
     "output_type": "execute_result"
    },
    {
     "name": "stdout",
     "output_type": "stream",
     "text": [
      "time: 9.38 ms\n"
     ]
    }
   ],
   "source": [
    "df.head()"
   ]
  },
  {
   "cell_type": "code",
   "execution_count": 15,
   "metadata": {
    "colab": {
     "base_uri": "https://localhost:8080/",
     "height": 35
    },
    "colab_type": "code",
    "id": "mw2nfq8LMFJR",
    "outputId": "9a0b10e5-ffe8-4c57-cb84-e041cd0af398"
   },
   "outputs": [
    {
     "name": "stdout",
     "output_type": "stream",
     "text": [
      "time: 7.55 ms\n"
     ]
    }
   ],
   "source": [
    "df = df.drop_duplicates().reset_index()"
   ]
  },
  {
   "cell_type": "code",
   "execution_count": 16,
   "metadata": {
    "colab": {
     "base_uri": "https://localhost:8080/",
     "height": 35
    },
    "colab_type": "code",
    "id": "zZFlHIiOMU7G",
    "outputId": "cb027ab3-d45f-474d-b532-b3a9a3fddba7"
   },
   "outputs": [
    {
     "name": "stdout",
     "output_type": "stream",
     "text": [
      "time: 2.73 ms\n"
     ]
    }
   ],
   "source": [
    "df[\"Age\"] = df[\"Age\"].astype(\"int64\")"
   ]
  },
  {
   "cell_type": "code",
   "execution_count": 17,
   "metadata": {
    "colab": {
     "base_uri": "https://localhost:8080/",
     "height": 35
    },
    "colab_type": "code",
    "id": "a8HYbai-V2k2",
    "outputId": "2ca2a0f5-50e7-46ce-ab32-39d56c6b7f24"
   },
   "outputs": [
    {
     "name": "stdout",
     "output_type": "stream",
     "text": [
      "time: 690 µs\n"
     ]
    }
   ],
   "source": [
    "features = ['Gender', 'Age', 'Salary', 'Family members']\n",
    "target = 'Insurance benefits'"
   ]
  },
  {
   "cell_type": "code",
   "execution_count": 18,
   "metadata": {
    "colab": {
     "base_uri": "https://localhost:8080/",
     "height": 35
    },
    "colab_type": "code",
    "id": "auABGioOWfjA",
    "outputId": "d65f3740-6d41-4a5d-be19-1c3f7903814a"
   },
   "outputs": [
    {
     "data": {
      "text/plain": [
       "array([0, 1, 2, 3, 5, 4])"
      ]
     },
     "execution_count": 18,
     "metadata": {},
     "output_type": "execute_result"
    },
    {
     "name": "stdout",
     "output_type": "stream",
     "text": [
      "time: 3.68 ms\n"
     ]
    }
   ],
   "source": [
    "df[target].unique()"
   ]
  },
  {
   "cell_type": "markdown",
   "metadata": {
    "colab_type": "text",
    "id": "1YSXo01CUt2M"
   },
   "source": [
    "most important features by "
   ]
  },
  {
   "cell_type": "code",
   "execution_count": 19,
   "metadata": {
    "colab": {
     "base_uri": "https://localhost:8080/",
     "height": 314
    },
    "colab_type": "code",
    "id": "9q6vjwuiUteg",
    "outputId": "c0706f37-685b-4c8f-f02b-d67b702aea7f"
   },
   "outputs": [
    {
     "data": {
      "text/plain": [
       "<matplotlib.axes._subplots.AxesSubplot at 0x7fe919e35850>"
      ]
     },
     "execution_count": 19,
     "metadata": {},
     "output_type": "execute_result"
    },
    {
     "data": {
      "image/png": "[encoded data removed]",
      "text/plain": [
       "<Figure size 432x288 with 1 Axes>"
      ]
     },
     "metadata": {
      "needs_background": "light"
     },
     "output_type": "display_data"
    },
    {
     "name": "stdout",
     "output_type": "stream",
     "text": [
      "time: 233 ms\n"
     ]
    }
   ],
   "source": [
    "X, y = df[features].values,df[target].values\n",
    "X_train, X_test, y_train, y_test = train_test_split(X, y, test_size=0.2, random_state=seed_value)\n",
    "rfc = DecisionTreeClassifier().fit(X_train, y_train)\n",
    "y_pred = rfc.predict(X_test)\n",
    "df_feature_importances = pd.DataFrame(((zip(features, rfc.feature_importances_)))).rename(columns={0:\"feature\",1:\"coeff\"}).sort_values(by=\"coeff\", ascending = False )\n",
    "sns.barplot(data=df_feature_importances, x=df_feature_importances[\"coeff\"], y=df_feature_importances[\"feature\"])"
   ]
  },
  {
   "cell_type": "markdown",
   "metadata": {},
   "source": [
    "<div class=\"alert alert-success\" role=\"alert\">\n",
    "Good start. Data was opened and examined correctly.</div>\n"
   ]
  },
  {
   "cell_type": "markdown",
   "metadata": {
    "colab_type": "text",
    "id": "Ik5b3-0SIFek"
   },
   "source": [
    "## 2. Multiplication of matrices"
   ]
  },
  {
   "cell_type": "markdown",
   "metadata": {
    "colab_type": "text",
    "id": "6-MjD4WLIFel"
   },
   "source": [
    "In this task, you can write formulas in *Jupyter Notebook.*\n",
    "\n",
    "To write the formula in-between the text, frame it with dollar signs \\\\$; if it should be outside the text —  with double signs \\\\$\\\\$. These formulas are written in markup language *LaTeX.* \n",
    "\n",
    "For example, we wrote down linear regression formulas. You can copy and edit them to solve the task.\n",
    "\n",
    "You don't have to use *LaTeX*."
   ]
  },
  {
   "cell_type": "markdown",
   "metadata": {
    "colab_type": "text",
    "id": "kMy-9Ax4IFen"
   },
   "source": [
    "Denote:\n",
    "\n",
    "- $X$ — feature matrix (zero column consists of unities)\n",
    "\n",
    "- $y$ — target vector\n",
    "\n",
    "- $P$ — matrix by which the features are multiplied\n",
    "\n",
    "- $w$ — linear regression weight vector (zero element is equal to the shift)"
   ]
  },
  {
   "cell_type": "markdown",
   "metadata": {
    "colab_type": "text",
    "id": "Sd_iDgPaIFen"
   },
   "source": [
    "Predictions:\n",
    "\n",
    "$$\n",
    "a = Xw\n",
    "$$\n",
    "\n",
    "Training objective:\n",
    "\n",
    "$$\n",
    "\\min_w d_2(Xw, y)\n",
    "$$\n",
    "\n",
    "Training formula:\n",
    "\n",
    "$$\n",
    "w = (X^T X)^{-1} X^T y\n",
    "$$"
   ]
  },
  {
   "cell_type": "markdown",
   "metadata": {
    "colab_type": "text",
    "id": "WHkdzK4J_Tp_"
   },
   "source": [
    "Our main goal is depersonalized data(and sub-goal is min distance between Xw and y as linear regression task). According:\n",
    "\n",
    "$X'=Xs$ \n",
    "\n",
    "$w = (X^T X)^{-1} X^T y$\n",
    "\n",
    "$w' = (X'^T X')^{-1} X'^T y = ((Xs)^{T}(Xs))^{-1}(Xs)^{T}y = (s^{T}X^{T}Xs)^{-1}s^{T}X^{T}y = s^{-1}(X^{T}X)^{-1}s^{T^{-1}}s^{T}X^{T}y$, where s - random salt and $(s^T)^{-1}s^{T} = E$\n",
    "\n",
    "therefore:\n",
    "$w'=s^{-1}(X^{T}X)^{-1}s^{T^{-1}}s^{T}X^{T}y=s^{-1}w$  \n",
    "and finally:\n",
    "$a'= Xsw' = Xss^{-1}w = XEw = Xw = a$\n",
    "\n",
    "QED\n"
   ]
  },
  {
   "cell_type": "markdown",
   "metadata": {},
   "source": [
    "<div class=\"alert alert-success\" role=\"alert\">\n",
    "Excellent. The proof is clear and mathematically rigorous.</div>\n"
   ]
  },
  {
   "cell_type": "markdown",
   "metadata": {
    "colab_type": "text",
    "id": "wLvu6MoJIFeo"
   },
   "source": [
    "## 3. Transformation algorithm"
   ]
  },
  {
   "cell_type": "markdown",
   "metadata": {
    "colab_type": "text",
    "id": "hUI-6kXpGOYa"
   },
   "source": [
    "$X_s = XS$,\n",
    "\n",
    "$X = X_sS^{-1}$"
   ]
  },
  {
   "cell_type": "markdown",
   "metadata": {
    "colab_type": "text",
    "id": "hZwtdXhHEbme"
   },
   "source": [
    "Let's check it on our data"
   ]
  },
  {
   "cell_type": "code",
   "execution_count": 20,
   "metadata": {
    "colab": {
     "base_uri": "https://localhost:8080/",
     "height": 35
    },
    "colab_type": "code",
    "id": "cqlro-nyDKuE",
    "outputId": "a561babf-cb76-444c-e6e8-db8a69851552"
   },
   "outputs": [
    {
     "data": {
      "text/plain": [
       "(9982.134413038993, 17975.984686392443)"
      ]
     },
     "execution_count": 20,
     "metadata": {},
     "output_type": "execute_result"
    },
    {
     "name": "stdout",
     "output_type": "stream",
     "text": [
      "time: 3.78 ms\n"
     ]
    }
   ],
   "source": [
    "X.mean(), X.std()"
   ]
  },
  {
   "cell_type": "code",
   "execution_count": 21,
   "metadata": {
    "colab": {
     "base_uri": "https://localhost:8080/",
     "height": 35
    },
    "colab_type": "code",
    "id": "aCLnzt3bEGig",
    "outputId": "c3209d60-6ea4-4b43-8bf3-cc941e2ea090"
   },
   "outputs": [
    {
     "data": {
      "text/plain": [
       "0.5553039005754896"
      ]
     },
     "execution_count": 21,
     "metadata": {},
     "output_type": "execute_result"
    },
    {
     "name": "stdout",
     "output_type": "stream",
     "text": [
      "time: 3.67 ms\n"
     ]
    }
   ],
   "source": [
    "coeff_var = X.mean()/X.std()\n",
    "coeff_var"
   ]
  },
  {
   "cell_type": "code",
   "execution_count": 22,
   "metadata": {
    "colab": {
     "base_uri": "https://localhost:8080/",
     "height": 87
    },
    "colab_type": "code",
    "id": "sajBcH0K3qfj",
    "outputId": "12250bc1-72ed-493a-8da1-d993e2bc2ed1"
   },
   "outputs": [
    {
     "data": {
      "text/plain": [
       "array([[-151,  237,  226,  425],\n",
       "       [  -6,    8,   -4, -100],\n",
       "       [-559,  409,  373, -263],\n",
       "       [  34,  -50,  -40, -430]])"
      ]
     },
     "execution_count": 22,
     "metadata": {},
     "output_type": "execute_result"
    },
    {
     "name": "stdout",
     "output_type": "stream",
     "text": [
      "time: 4.25 ms\n"
     ]
    }
   ],
   "source": [
    "mu = np.random.randint(100,200)\n",
    "sigma = mu/coeff_var\n",
    "s = np.random.normal(mu, sigma, size=(X.shape[1], X.shape[1])).astype('int64')\n",
    "s"
   ]
  },
  {
   "cell_type": "code",
   "execution_count": 23,
   "metadata": {
    "colab": {
     "base_uri": "https://localhost:8080/",
     "height": 35
    },
    "colab_type": "code",
    "id": "gwkxr483FM_r",
    "outputId": "1d27400d-6dbd-4a76-a1e4-d0d1d4c9ce69"
   },
   "outputs": [
    {
     "data": {
      "text/plain": [
       "True"
      ]
     },
     "execution_count": 23,
     "metadata": {},
     "output_type": "execute_result"
    },
    {
     "name": "stdout",
     "output_type": "stream",
     "text": [
      "time: 33.9 ms\n"
     ]
    }
   ],
   "source": [
    "np.allclose(np.rint(X @ s @ np.linalg.inv(s)), X)"
   ]
  },
  {
   "cell_type": "markdown",
   "metadata": {
    "colab_type": "text",
    "id": "I39tf54eIFeq"
   },
   "source": [
    "## 4. Algorithm test"
   ]
  },
  {
   "cell_type": "code",
   "execution_count": 24,
   "metadata": {
    "colab": {
     "base_uri": "https://localhost:8080/",
     "height": 35
    },
    "colab_type": "code",
    "id": "XduoZgUcJ0qw",
    "outputId": "7468e960-2432-4899-d2d1-f7e788241b4e"
   },
   "outputs": [
    {
     "name": "stdout",
     "output_type": "stream",
     "text": [
      "time: 1.73 ms\n"
     ]
    }
   ],
   "source": [
    "class LinearRegressionImpl:\n",
    "    def fit(self, X, y):\n",
    "        n_samples = len(y)\n",
    "        X = np.hstack((np.ones((n_samples, 1)), X))\n",
    "        w = np.linalg.inv(X.T @ X) @ X.T @ y\n",
    "        self.w0 = w[0]\n",
    "        self.w = w[1:]\n",
    "        return self\n",
    " \n",
    "    def predict(self, X):\n",
    "        return X @ self.w + self.w0     "
   ]
  },
  {
   "cell_type": "markdown",
   "metadata": {
    "colab_type": "text",
    "id": "z-8lC6opOb0E"
   },
   "source": [
    "numpy based implementation without random salt:"
   ]
  },
  {
   "cell_type": "code",
   "execution_count": 25,
   "metadata": {
    "colab": {
     "base_uri": "https://localhost:8080/",
     "height": 56
    },
    "colab_type": "code",
    "id": "4Cm8U54EIFeq",
    "outputId": "b2984d88-386f-4ca1-c5e7-27fe5990cccb"
   },
   "outputs": [
    {
     "data": {
      "text/latex": [
       "$\\displaystyle R_2=0.4392664167749786$"
      ],
      "text/plain": [
       "<IPython.core.display.Math object>"
      ]
     },
     "metadata": {},
     "output_type": "display_data"
    },
    {
     "name": "stdout",
     "output_type": "stream",
     "text": [
      "time: 106 ms\n"
     ]
    }
   ],
   "source": [
    "X_train, X_test, y_train, y_test = train_test_split(X, y, test_size=0.2, random_state=seed_value)\n",
    "lr = LinearRegressionImpl().fit(X_train, y_train)\n",
    "y_pred = lr.predict(X_test)\n",
    "display(Math(r\"$R_2={}$\".format(r2_score(y_test, y_pred))))"
   ]
  },
  {
   "cell_type": "markdown",
   "metadata": {
    "colab_type": "text",
    "id": "er_Zt5rmOiOh"
   },
   "source": [
    "numpy based implementation with random salt:"
   ]
  },
  {
   "cell_type": "code",
   "execution_count": 26,
   "metadata": {
    "colab": {
     "base_uri": "https://localhost:8080/",
     "height": 35
    },
    "colab_type": "code",
    "id": "eb1k8P0OLYPv",
    "outputId": "c17d232c-c35c-42ba-dc16-e018c24f2039"
   },
   "outputs": [
    {
     "name": "stdout",
     "output_type": "stream",
     "text": [
      "time: 2.08 ms\n"
     ]
    }
   ],
   "source": [
    "coeff_var = X.mean()/X.std()\n",
    "mu = np.random.randint(100,200)\n",
    "sigma = mu/coeff_var\n",
    "s = np.random.normal(mu, sigma, size=(X.shape[1], X.shape[1])).astype('int64')"
   ]
  },
  {
   "cell_type": "code",
   "execution_count": 27,
   "metadata": {
    "colab": {
     "base_uri": "https://localhost:8080/",
     "height": 35
    },
    "colab_type": "code",
    "id": "qhUgjhPhL1rb",
    "outputId": "30085f32-4db8-4baf-a0b6-c93ddf3543df"
   },
   "outputs": [
    {
     "name": "stdout",
     "output_type": "stream",
     "text": [
      "time: 912 µs\n"
     ]
    }
   ],
   "source": [
    "X_s = X@s"
   ]
  },
  {
   "cell_type": "code",
   "execution_count": 28,
   "metadata": {
    "colab": {
     "base_uri": "https://localhost:8080/",
     "height": 56
    },
    "colab_type": "code",
    "id": "cLuHBzc2OkV_",
    "outputId": "d6e6bd34-a216-483b-9c60-9262a639dbef"
   },
   "outputs": [
    {
     "data": {
      "text/latex": [
       "$\\displaystyle R_2=0.43926640764514546$"
      ],
      "text/plain": [
       "<IPython.core.display.Math object>"
      ]
     },
     "metadata": {},
     "output_type": "display_data"
    },
    {
     "name": "stdout",
     "output_type": "stream",
     "text": [
      "time: 172 ms\n"
     ]
    }
   ],
   "source": [
    "X_train, X_test, y_train, y_test = train_test_split(X_s, y, test_size=0.2, random_state=seed_value)\n",
    "lr = LinearRegressionImpl().fit(X_train, y_train)\n",
    "y_pred = lr.predict(X_test)\n",
    "display(Math(r\"$R_2={}$\".format(r2_score(y_test, y_pred))))"
   ]
  },
  {
   "cell_type": "markdown",
   "metadata": {
    "colab_type": "text",
    "id": "nUKNsvdZOxX7"
   },
   "source": [
    "sklearn LR without random salt:"
   ]
  },
  {
   "cell_type": "code",
   "execution_count": 29,
   "metadata": {
    "colab": {
     "base_uri": "https://localhost:8080/",
     "height": 56
    },
    "colab_type": "code",
    "id": "jWRwY-nHKlPm",
    "outputId": "93ea6e05-c721-43ee-abd6-815f4212252e"
   },
   "outputs": [
    {
     "data": {
      "text/latex": [
       "$\\displaystyle R_2=0.43926641677498457$"
      ],
      "text/plain": [
       "<IPython.core.display.Math object>"
      ]
     },
     "metadata": {},
     "output_type": "display_data"
    },
    {
     "name": "stdout",
     "output_type": "stream",
     "text": [
      "time: 194 ms\n"
     ]
    }
   ],
   "source": [
    "X_train, X_test, y_train, y_test = train_test_split(X, y, test_size=0.2, random_state=seed_value)\n",
    "lr = LinearRegression().fit(X_train, y_train)\n",
    "y_pred = lr.predict(X_test)\n",
    "display(Math(r\"$R_2={}$\".format(r2_score(y_test, y_pred))))"
   ]
  },
  {
   "cell_type": "markdown",
   "metadata": {
    "colab_type": "text",
    "id": "gcXGh8LbO2Mz"
   },
   "source": [
    "sklearn LR with random salt:"
   ]
  },
  {
   "cell_type": "code",
   "execution_count": 30,
   "metadata": {
    "colab": {
     "base_uri": "https://localhost:8080/",
     "height": 56
    },
    "colab_type": "code",
    "id": "S90EFK5BLIjS",
    "outputId": "57e80238-e7c9-454a-b371-9d8faa6f88d9"
   },
   "outputs": [
    {
     "data": {
      "text/latex": [
       "$\\displaystyle R_2=0.43926641677544753$"
      ],
      "text/plain": [
       "<IPython.core.display.Math object>"
      ]
     },
     "metadata": {},
     "output_type": "display_data"
    },
    {
     "name": "stdout",
     "output_type": "stream",
     "text": [
      "time: 80.2 ms\n"
     ]
    }
   ],
   "source": [
    "X_train, X_test, y_train, y_test = train_test_split(X_s, y, test_size=0.2, random_state=seed_value)\n",
    "lr = LinearRegression().fit(X_train, y_train)\n",
    "y_pred = lr.predict(X_test)\n",
    "display(Math(r\"$R_2={}$\".format(r2_score(y_test, y_pred))))"
   ]
  },
  {
   "cell_type": "markdown",
   "metadata": {
    "colab_type": "text",
    "id": "K7rm4uIoO41-"
   },
   "source": [
    "as we see, we proved our transformation algorithm and also checked it on linear regression model, all of the results($R_2$) are pretty equal"
   ]
  },
  {
   "cell_type": "markdown",
   "metadata": {},
   "source": [
    "<div class=\"alert alert-success\" role=\"alert\">\n",
    "Algo and testing are correct.</div>"
   ]
  },
  {
   "cell_type": "markdown",
   "metadata": {
    "colab_type": "text",
    "id": "4Yt8PeIrIFet"
   },
   "source": [
    "## Checklist"
   ]
  },
  {
   "cell_type": "markdown",
   "metadata": {
    "colab_type": "text",
    "id": "KoL36_F_IFet"
   },
   "source": [
    "Type 'x' to check. Then press Shift+Enter."
   ]
  },
  {
   "cell_type": "markdown",
   "metadata": {
    "colab_type": "text",
    "id": "zOKg-WmSIFeu"
   },
   "source": [
    "- [x]  Jupyter Notebook is open\n",
    "- [ ]  Code is error free\n",
    "- [ ]  The cells with the code have been arranged in order of execution\n",
    "- [ ]  Step 1 performed: the data was downloaded\n",
    "- [ ]  Step 2 performed: the answer to the matrix multiplication problem was provided\n",
    "    - [ ]  The correct answer was chosen\n",
    "    - [ ]  The choice was justified\n",
    "- [ ]  Step 3 performed: the transform algorithm was proposed\n",
    "    - [ ]  The algorithm was described\n",
    "    - [ ]  The algorithm was justified\n",
    "- [ ]  Step 4 performed: the algorithm was tested\n",
    "    - [ ]  The algorithm was realized\n",
    "    - [ ]  Model quality was assessed before and after the transformation"
   ]
  },
  {
   "cell_type": "code",
   "execution_count": 28,
   "metadata": {
    "colab": {},
    "colab_type": "code",
    "id": "CklvoqKQIFev"
   },
   "outputs": [],
   "source": []
  }
 ],
 "metadata": {
  "colab": {
   "collapsed_sections": [],
   "name": "ya_sprint11.ipynb",
   "provenance": []
  },
  "kernelspec": {
   "display_name": "Python 3",
   "language": "python",
   "name": "python3"
  },
  "language_info": {
   "codemirror_mode": {
    "name": "ipython",
    "version": 3
   },
   "file_extension": ".py",
   "mimetype": "text/x-python",
   "name": "python",
   "nbconvert_exporter": "python",
   "pygments_lexer": "ipython3",
   "version": "3.7.6"
  }
 },
 "nbformat": 4,
 "nbformat_minor": 1
}
