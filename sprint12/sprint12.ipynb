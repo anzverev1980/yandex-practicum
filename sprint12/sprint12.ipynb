{
 "cells": [
  {
   "cell_type": "markdown",
   "metadata": {},
   "source": [
    " Hello **Vladimir**, my name is **Lyuman** and I'm going to review your project!\n",
    "\n",
    "You can find my comments in <font color='green'>green</font>, <font color='blue'>blue</font> or <font color='red'>red</font> boxes like this:\n",
    "\n",
    "<div class=\"alert alert-block alert-success\">\n",
    "<b>Success:</b> if everything is done succesfully\n",
    "</div>\n",
    "\n",
    "<div class=\"alert alert-block alert-info\">\n",
    "<b>Improve: </b> \"Improve\" comments mean that there are tiny corrections that could help you to make your project better.\n",
    "</div>\n",
    "\n",
    "<div class=\"alert alert-block alert-danger\">\n",
    "<b>Needs fixing:</b> if the block requires some corrections. Work can't be accepted with the red comments.\n",
    "</div>\n",
    "\n",
    "### <font color='orange'>General feedback</font>\n",
    "* Thank you for sending your project. You've done a really good job on it!  \n",
    "* Your project looks pretty good! I especially liked your work with data functions. .\n",
    "* Also really liked your depth knowledge of machine learning models.\n",
    "* Your project is a true \"A\". Congratulations!\n",
    "* Good luck!\n",
    "\n"
   ]
  },
  {
   "cell_type": "markdown",
   "metadata": {
    "colab_type": "text",
    "id": "8CRqsBAYqO8F"
   },
   "source": [
    "## Project description"
   ]
  },
  {
   "cell_type": "markdown",
   "metadata": {
    "colab_type": "text",
    "id": "onXg2PDXC7fe"
   },
   "source": [
    "Rusty Bargain used car sales service is developing an app to attract new customers. In that app, you can quickly find out the market value of your car. You have access to historical data: technical specifications, trim versions, and prices. You need to build the model to determine the value. \n",
    "\n",
    "Rusty Bargain is interested in:\n",
    "\n",
    "- the quality of the prediction;\n",
    "- the speed of the prediction;\n",
    "- the time required for training"
   ]
  },
  {
   "cell_type": "markdown",
   "metadata": {
    "colab_type": "text",
    "id": "X0xQ3HPCqimR"
   },
   "source": [
    "<div class=\"markdown markdown_size_normal markdown_type_theory\"><h3>Project instructions</h3><ol start=\"1\"><li>Download and look at the data.</li><li>Train different models with various hyperparameters (You should make at least two different models, but more is better. Remember, various implementations of gradient boosting don't count as different models.) The main point of this step is to compare gradient boosting methods with random forest, decision tree, and linear regression.</li><li>Analyze the speed and quality of the models.</li></ol><div class=\"paragraph\">Notes:</div><ul><li>Use the <em>RMSE</em> metric to evaluate the models.</li><li>Linear regression is not very good for hyperparameter tuning, but it is perfect for doing a sanity check of other methods. If gradient boosting performs worse than linear regression, something definitely went wrong.</li><li>On your own, work with the LightGBM library and use its tools to build gradient boosting models.</li><li>Ideally, your project should include linear regression for a sanity check, a tree-based algorithm with hyperparameter tuning (preferably, random forrest), LightGBM with hyperparameter tuning (try a couple of sets), and CatBoost and XGBoost with hyperparameter tuning (optional).</li><li>Take note of the encoding of categorical features for simple algorithms. LightGBM and CatBoost have their implementation, but XGBoost requires OHE.</li><li>You can use a special command to find the cell code runtime in Jupyter Notebook. Find that command.</li><li>Since the training of a gradient boosting model can take a long time, change only a few model parameters.</li></ul></div>"
   ]
  },
  {
   "cell_type": "code",
   "execution_count": 1,
   "metadata": {
    "colab": {
     "base_uri": "https://localhost:8080/",
     "height": 34
    },
    "colab_type": "code",
    "id": "5A8uGAyRGqnv",
    "outputId": "3f8cba5c-48a4-429a-ba4e-f9c9edcd31cb"
   },
   "outputs": [
    {
     "name": "stdout",
     "output_type": "stream",
     "text": [
      "\u001b[K     |████████████████████████████████| 66.1MB 44kB/s \n",
      "\u001b[?25h"
     ]
    }
   ],
   "source": [
    "!pip install -qq catboost"
   ]
  },
  {
   "cell_type": "code",
   "execution_count": 2,
   "metadata": {
    "colab": {
     "base_uri": "https://localhost:8080/",
     "height": 71
    },
    "colab_type": "code",
    "id": "CNlNYlQKDTk1",
    "outputId": "4a133c7c-82c1-47d5-dc09-790723ef1d8c"
   },
   "outputs": [
    {
     "name": "stderr",
     "output_type": "stream",
     "text": [
      "/usr/local/lib/python3.6/dist-packages/statsmodels/tools/_testing.py:19: FutureWarning: pandas.util.testing is deprecated. Use the functions in the public API at pandas.testing instead.\n",
      "  import pandas.util.testing as tm\n"
     ]
    }
   ],
   "source": [
    "import numpy as np\n",
    "import pandas as pd\n",
    "from sklearn.model_selection import *\n",
    "from sklearn.ensemble import *\n",
    "from sklearn.tree import *\n",
    "from sklearn.linear_model import *\n",
    "from sklearn.tree import DecisionTreeRegressor, DecisionTreeClassifier\n",
    "from sklearn.metrics import *\n",
    "from sklearn.preprocessing import LabelEncoder\n",
    "from sklearn.pipeline import Pipeline\n",
    "from sklearn.utils import shuffle\n",
    "from sklearn.dummy import DummyRegressor\n",
    "from catboost import CatBoostRegressor, Pool\n",
    "from lightgbm import LGBMRegressor\n",
    "from xgboost import XGBRegressor\n",
    "import seaborn as sns\n",
    "import matplotlib.pyplot as plt\n",
    "%matplotlib inline\n",
    "\n",
    "import random\n",
    "random_state=42\n",
    "random.seed(random_state)\n",
    "np.random.seed(random_state)\n",
    "\n",
    "import warnings\n",
    "warnings.filterwarnings('ignore')\n",
    "import logging\n",
    "logger = logging.getLogger()\n",
    "logger.setLevel(logging.CRITICAL)\n",
    "import timeit\n",
    "from functools import lru_cache"
   ]
  },
  {
   "cell_type": "markdown",
   "metadata": {},
   "source": [
    "<div class=\"alert alert-block alert-success\">\n",
    "<b>Success:</b>  It is interesting that you use logging, I've never seen it before from students!\n",
    "</div>"
   ]
  },
  {
   "cell_type": "markdown",
   "metadata": {
    "colab_type": "text",
    "id": "sUyW_zLzC7ff"
   },
   "source": [
    "# 1. Data preparation"
   ]
  },
  {
   "cell_type": "markdown",
   "metadata": {
    "colab_type": "text",
    "id": "oe-r09_1q9uH"
   },
   "source": [
    "<div class=\"markdown markdown_size_normal markdown_type_theory\"><h3>Data description</h3><div class=\"paragraph\">The dataset is stored in file <code class=\"code-inline code-inline_theme_light\">/datasets/car_data.csv</code>. <a href=\"https://code.s3.yandex.net/datasets/car_data.csv\" target=\"_blank\">download dataset</a>.</div><div class=\"paragraph\"><strong>Features</strong></div><ul><li><em>DateCrawled</em> — date profile was downloaded from the database</li><li><em>VehicleType</em> — vehicle body type</li><li><em>RegistrationYear</em> — vehicle registration year</li><li><em>Gearbox</em> — gearbox type</li><li><em>Power</em> — power (hp)</li><li><em>Model</em> — vehicle model</li><li>Mileage — mileage (measured in km due to dataset's regional specifics)</li><li><em>RegistrationMonth</em> — vehicle registration month</li><li><em>FuelType</em> — fuel type</li><li><em>Brand</em> — vehicle brand</li><li><em>NotRepaired</em> — vehicle repaired or not</li><li><em>DateCreated</em> — date of profile creation</li><li><em>NumberOfPictures</em> — number of vehicle pictures</li><li><em>PostalCode</em> —  postal code of profile owner (user)</li><li><em>LastSeen</em> — date of the last activity of the user</li></ul><div class=\"paragraph\"><strong>Target</strong></div><div class=\"paragraph\"><em>Price</em> — price (Euro)</div></div>"
   ]
  },
  {
   "cell_type": "markdown",
   "metadata": {
    "colab_type": "text",
    "id": "ZsiJGYsQrzzY"
   },
   "source": [
    "#### Helper functions:"
   ]
  },
  {
   "cell_type": "code",
   "execution_count": 3,
   "metadata": {
    "colab": {},
    "colab_type": "code",
    "id": "Ce-a4G2vroC4"
   },
   "outputs": [],
   "source": [
    "#missing value ratio\n",
    "def missing_values(df):\n",
    "    df_nulls=pd.concat([df.dtypes, df.isna().sum(), df.isna().sum()/len(df)], axis=1)\n",
    "    df_nulls.columns = [\"type\",\"count\",\"missing_ratio\"]\n",
    "    df_nulls=df_nulls[df_nulls[\"count\"]>0]\n",
    "    df_nulls.sort_values(by=\"missing_ratio\", ascending=False)\n",
    "    return df_nulls\n",
    "\n",
    "#outliers by 3 sigma rule\n",
    "def outlier(data):\n",
    "    data_mean, data_std = np.mean(data), np.std(data)\n",
    "    cut_off = data_std * 3\n",
    "    lower, upper = data_mean - cut_off, data_mean + cut_off\n",
    "    outliers = [x for x in data if x < lower or x > upper]\n",
    "    outliers_removed = [x for x in data if x >= lower and x <= upper]\n",
    "    return len(outliers)\n",
    "\n",
    "# full description statistics \n",
    "def describe_full(df, target_name=\"\"):\n",
    "    data_describe = df.describe().T\n",
    "    df_numeric = df._get_numeric_data()\n",
    "    if target_name in df.columns:\n",
    "        corr_with_target=df_numeric.drop(target_name, axis=1).apply(lambda x: x.corr(df_numeric[target_name]))\n",
    "        data_describe['corr_with_target']=corr_with_target\n",
    "    dtype_df = df_numeric.dtypes\n",
    "    data_describe['dtypes'] = dtype_df\n",
    "    data_null = df_numeric.isnull().sum()/len(df) * 100\n",
    "    data_describe['Missing %'] = data_null\n",
    "    Cardinality = df_numeric.apply(pd.Series.nunique)\n",
    "    data_describe['Cardinality'] = Cardinality\n",
    "    df_skew = df_numeric.skew(axis=0, skipna=True)\n",
    "    data_describe['Skew'] = df_skew\n",
    "    data_describe['outliers %']=[outlier(df_numeric[col])/len(df) * 100 for col in df_numeric.columns]\n",
    "    data_describe['kurtosis']=df_numeric.kurtosis()\n",
    "    return data_describe\n",
    "\n",
    "def display_classification_report(y_true, y_pred):\n",
    "    display(pd.DataFrame(classification_report(y_test, y_pred, output_dict=True)).T)\n",
    "\n",
    "\n",
    "def plot_roc(y_test, preds, ax=None, label='model'):\n",
    "    with plt.style.context('seaborn-whitegrid'):\n",
    "        if not ax: fig, ax = plt.subplots(1, 1)\n",
    "        fpr, tpr, thresholds = roc_curve(y_test, preds)\n",
    "        ax.plot([0, 1], [0, 1],'r--')\n",
    "        ax.plot(fpr, tpr, lw=2, label=label)\n",
    "        ax.legend(loc='lower right')\n",
    "        ax.set_title(\n",
    "             'ROC curve\\n'\n",
    "            f\"\"\" AP: {average_precision_score(\n",
    "                y_test, preds, pos_label=1\n",
    "            ):.2} | \"\"\"\n",
    "            f'AUC: {auc(fpr, tpr):.2}')\n",
    "        ax.set_xlabel('False Positive Rate (FPR)')\n",
    "        ax.set_ylabel('True Positive Rate (TPR)')\n",
    "        ax.annotate(f'AUC: {auc(fpr, tpr):.2}', xy=(.43, .025))\n",
    "        ax.legend()\n",
    "        ax.grid()\n",
    "        return ax\n",
    "    \n",
    "\n",
    "def plot_pr(y_test, preds, ax=None, label='model'):\n",
    "    with plt.style.context('seaborn-whitegrid'):\n",
    "        precision, recall, thresholds = precision_recall_curve(y_test, preds)\n",
    "        if not ax: fig, ax = plt.subplots()\n",
    "        ax.plot([0, 1], [1, 0],'r--')    \n",
    "        ax.plot(recall, precision, lw=2, label=label)\n",
    "        ax.legend()\n",
    "        ax.set_title(\n",
    "            'Precision-recall curve\\n'\n",
    "            f\"\"\" AP: {average_precision_score(\n",
    "                y_test, preds, pos_label=1\n",
    "            ):.2} | \"\"\"\n",
    "            f'AUC: {auc(recall, precision):.2}'\n",
    "        )\n",
    "        ax.set_xlabel('Recall')\n",
    "        ax.set_ylabel('Precision')\n",
    "        ax.set_xlim(-0.05, 1.05)\n",
    "        ax.set_ylim(-0.05, 1.05)\n",
    "        ax.legend()\n",
    "        ax.grid()\n",
    "        return ax\n",
    "\n",
    "def show_feature_importances(df, features, target):\n",
    "  X, y = df[features].values,df[target].values\n",
    "  X_train, X_test, y_train, y_test = train_test_split(X, y, test_size=0.1, random_state=42)\n",
    "  rfc = DecisionTreeRegressor().fit(X_train, y_train)\n",
    "  y_pred = rfc.predict(X_test)\n",
    "  df_feature_importances = pd.DataFrame(((zip(features, rfc.feature_importances_)))).rename(columns={0:\"feature\",1:\"coeff\"}).sort_values(by=\"coeff\", ascending = False )\n",
    "  sns.barplot(data=df_feature_importances, x=df_feature_importances[\"coeff\"], y=df_feature_importances[\"feature\"])\n",
    "  return df_feature_importances"
   ]
  },
  {
   "cell_type": "markdown",
   "metadata": {},
   "source": [
    "<div class=\"alert alert-block alert-success\">\n",
    "<b>Success:</b> It's great that you logically divide the actions of the projects by functions!\n"
   ]
  },
  {
   "cell_type": "code",
   "execution_count": 4,
   "metadata": {
    "colab": {
     "base_uri": "https://localhost:8080/",
     "height": 34
    },
    "colab_type": "code",
    "id": "eDT57a3qIi1a",
    "outputId": "2beed29f-c5b4-48ed-9de1-3ffbd3385b75"
   },
   "outputs": [
    {
     "name": "stdout",
     "output_type": "stream",
     "text": [
      "./project/car_data.csv: No such file or directory\n"
     ]
    }
   ],
   "source": [
    "!wget https://code.s3.yandex.net/datasets/car_data.csv -O ./project/car_data.csv"
   ]
  },
  {
   "cell_type": "code",
   "execution_count": 5,
   "metadata": {
    "colab": {},
    "colab_type": "code",
    "id": "Dz7V7izcC7fg"
   },
   "outputs": [],
   "source": [
    "url = \"https://code.s3.yandex.net/datasets/car_data.csv\""
   ]
  },
  {
   "cell_type": "code",
   "execution_count": 6,
   "metadata": {
    "colab": {},
    "colab_type": "code",
    "id": "xKghxpfcDZVp"
   },
   "outputs": [],
   "source": [
    "df =  pd.read_csv(url)"
   ]
  },
  {
   "cell_type": "code",
   "execution_count": 7,
   "metadata": {
    "colab": {},
    "colab_type": "code",
    "id": "0ywQxtHNrBSK"
   },
   "outputs": [],
   "source": [
    "target = \"Price\"\n",
    "features = list(set(df.columns)-set(target))"
   ]
  },
  {
   "cell_type": "code",
   "execution_count": 8,
   "metadata": {
    "colab": {
     "base_uri": "https://localhost:8080/",
     "height": 309
    },
    "colab_type": "code",
    "id": "uUiwoy6NDiAR",
    "outputId": "874f8845-28f5-4c74-b969-3b57a136f92c"
   },
   "outputs": [
    {
     "data": {
      "text/html": [
       "<div>\n",
       "<style scoped>\n",
       "    .dataframe tbody tr th:only-of-type {\n",
       "        vertical-align: middle;\n",
       "    }\n",
       "\n",
       "    .dataframe tbody tr th {\n",
       "        vertical-align: top;\n",
       "    }\n",
       "\n",
       "    .dataframe thead th {\n",
       "        text-align: right;\n",
       "    }\n",
       "</style>\n",
       "<table border=\"1\" class=\"dataframe\">\n",
       "  <thead>\n",
       "    <tr style=\"text-align: right;\">\n",
       "      <th></th>\n",
       "      <th>DateCrawled</th>\n",
       "      <th>Price</th>\n",
       "      <th>VehicleType</th>\n",
       "      <th>RegistrationYear</th>\n",
       "      <th>Gearbox</th>\n",
       "      <th>Power</th>\n",
       "      <th>Model</th>\n",
       "      <th>Mileage</th>\n",
       "      <th>RegistrationMonth</th>\n",
       "      <th>FuelType</th>\n",
       "      <th>Brand</th>\n",
       "      <th>NotRepaired</th>\n",
       "      <th>DateCreated</th>\n",
       "      <th>NumberOfPictures</th>\n",
       "      <th>PostalCode</th>\n",
       "      <th>LastSeen</th>\n",
       "    </tr>\n",
       "  </thead>\n",
       "  <tbody>\n",
       "    <tr>\n",
       "      <th>0</th>\n",
       "      <td>24/03/2016 11:52</td>\n",
       "      <td>480</td>\n",
       "      <td>NaN</td>\n",
       "      <td>1993</td>\n",
       "      <td>manual</td>\n",
       "      <td>0</td>\n",
       "      <td>golf</td>\n",
       "      <td>150000</td>\n",
       "      <td>0</td>\n",
       "      <td>petrol</td>\n",
       "      <td>volkswagen</td>\n",
       "      <td>NaN</td>\n",
       "      <td>24/03/2016 00:00</td>\n",
       "      <td>0</td>\n",
       "      <td>70435</td>\n",
       "      <td>07/04/2016 03:16</td>\n",
       "    </tr>\n",
       "    <tr>\n",
       "      <th>1</th>\n",
       "      <td>24/03/2016 10:58</td>\n",
       "      <td>18300</td>\n",
       "      <td>coupe</td>\n",
       "      <td>2011</td>\n",
       "      <td>manual</td>\n",
       "      <td>190</td>\n",
       "      <td>NaN</td>\n",
       "      <td>125000</td>\n",
       "      <td>5</td>\n",
       "      <td>gasoline</td>\n",
       "      <td>audi</td>\n",
       "      <td>yes</td>\n",
       "      <td>24/03/2016 00:00</td>\n",
       "      <td>0</td>\n",
       "      <td>66954</td>\n",
       "      <td>07/04/2016 01:46</td>\n",
       "    </tr>\n",
       "    <tr>\n",
       "      <th>2</th>\n",
       "      <td>14/03/2016 12:52</td>\n",
       "      <td>9800</td>\n",
       "      <td>suv</td>\n",
       "      <td>2004</td>\n",
       "      <td>auto</td>\n",
       "      <td>163</td>\n",
       "      <td>grand</td>\n",
       "      <td>125000</td>\n",
       "      <td>8</td>\n",
       "      <td>gasoline</td>\n",
       "      <td>jeep</td>\n",
       "      <td>NaN</td>\n",
       "      <td>14/03/2016 00:00</td>\n",
       "      <td>0</td>\n",
       "      <td>90480</td>\n",
       "      <td>05/04/2016 12:47</td>\n",
       "    </tr>\n",
       "    <tr>\n",
       "      <th>3</th>\n",
       "      <td>17/03/2016 16:54</td>\n",
       "      <td>1500</td>\n",
       "      <td>small</td>\n",
       "      <td>2001</td>\n",
       "      <td>manual</td>\n",
       "      <td>75</td>\n",
       "      <td>golf</td>\n",
       "      <td>150000</td>\n",
       "      <td>6</td>\n",
       "      <td>petrol</td>\n",
       "      <td>volkswagen</td>\n",
       "      <td>no</td>\n",
       "      <td>17/03/2016 00:00</td>\n",
       "      <td>0</td>\n",
       "      <td>91074</td>\n",
       "      <td>17/03/2016 17:40</td>\n",
       "    </tr>\n",
       "    <tr>\n",
       "      <th>4</th>\n",
       "      <td>31/03/2016 17:25</td>\n",
       "      <td>3600</td>\n",
       "      <td>small</td>\n",
       "      <td>2008</td>\n",
       "      <td>manual</td>\n",
       "      <td>69</td>\n",
       "      <td>fabia</td>\n",
       "      <td>90000</td>\n",
       "      <td>7</td>\n",
       "      <td>gasoline</td>\n",
       "      <td>skoda</td>\n",
       "      <td>no</td>\n",
       "      <td>31/03/2016 00:00</td>\n",
       "      <td>0</td>\n",
       "      <td>60437</td>\n",
       "      <td>06/04/2016 10:17</td>\n",
       "    </tr>\n",
       "  </tbody>\n",
       "</table>\n",
       "</div>"
      ],
      "text/plain": [
       "        DateCrawled  Price  ... PostalCode          LastSeen\n",
       "0  24/03/2016 11:52    480  ...      70435  07/04/2016 03:16\n",
       "1  24/03/2016 10:58  18300  ...      66954  07/04/2016 01:46\n",
       "2  14/03/2016 12:52   9800  ...      90480  05/04/2016 12:47\n",
       "3  17/03/2016 16:54   1500  ...      91074  17/03/2016 17:40\n",
       "4  31/03/2016 17:25   3600  ...      60437  06/04/2016 10:17\n",
       "\n",
       "[5 rows x 16 columns]"
      ]
     },
     "execution_count": 8,
     "metadata": {
      "tags": []
     },
     "output_type": "execute_result"
    }
   ],
   "source": [
    "df.head()"
   ]
  },
  {
   "cell_type": "code",
   "execution_count": 9,
   "metadata": {
    "colab": {
     "base_uri": "https://localhost:8080/",
     "height": 408
    },
    "colab_type": "code",
    "id": "LwtAXzVvDi89",
    "outputId": "a6946bd9-0fc9-4d7e-9e22-027f2264cd3f"
   },
   "outputs": [
    {
     "name": "stdout",
     "output_type": "stream",
     "text": [
      "<class 'pandas.core.frame.DataFrame'>\n",
      "RangeIndex: 354369 entries, 0 to 354368\n",
      "Data columns (total 16 columns):\n",
      " #   Column             Non-Null Count   Dtype \n",
      "---  ------             --------------   ----- \n",
      " 0   DateCrawled        354369 non-null  object\n",
      " 1   Price              354369 non-null  int64 \n",
      " 2   VehicleType        316879 non-null  object\n",
      " 3   RegistrationYear   354369 non-null  int64 \n",
      " 4   Gearbox            334536 non-null  object\n",
      " 5   Power              354369 non-null  int64 \n",
      " 6   Model              334664 non-null  object\n",
      " 7   Mileage            354369 non-null  int64 \n",
      " 8   RegistrationMonth  354369 non-null  int64 \n",
      " 9   FuelType           321474 non-null  object\n",
      " 10  Brand              354369 non-null  object\n",
      " 11  NotRepaired        283215 non-null  object\n",
      " 12  DateCreated        354369 non-null  object\n",
      " 13  NumberOfPictures   354369 non-null  int64 \n",
      " 14  PostalCode         354369 non-null  int64 \n",
      " 15  LastSeen           354369 non-null  object\n",
      "dtypes: int64(7), object(9)\n",
      "memory usage: 43.3+ MB\n"
     ]
    }
   ],
   "source": [
    "df.info()"
   ]
  },
  {
   "cell_type": "markdown",
   "metadata": {
    "colab_type": "text",
    "id": "UnWaRRSBu4GN"
   },
   "source": [
    "#### type conversion"
   ]
  },
  {
   "cell_type": "code",
   "execution_count": 10,
   "metadata": {
    "colab": {},
    "colab_type": "code",
    "id": "tUT5wTQlu0_u"
   },
   "outputs": [],
   "source": [
    "df[\"DateCrawled\"] = pd.to_datetime(df[\"DateCrawled\"])\n",
    "df[\"DateCreated\"] = pd.to_datetime(df[\"DateCreated\"])\n",
    "df[\"LastSeen\"] = pd.to_datetime(df[\"LastSeen\"])"
   ]
  },
  {
   "cell_type": "markdown",
   "metadata": {
    "colab_type": "text",
    "id": "aGwrOrvtvdwa"
   },
   "source": [
    "#### imputing"
   ]
  },
  {
   "cell_type": "markdown",
   "metadata": {
    "colab_type": "text",
    "id": "lnVw7N8evgW-"
   },
   "source": [
    "good question how to impute NotRepaired. NaN imho is deafualt field, and it means no one changed it. and it's hard to understand what is real meaning of it. let's think that it's 'yes' (it's more probable meaning of default value)"
   ]
  },
  {
   "cell_type": "code",
   "execution_count": 11,
   "metadata": {
    "colab": {},
    "colab_type": "code",
    "id": "yJVgjLjnua1K"
   },
   "outputs": [],
   "source": [
    "df[\"NotRepaired\"] = df[\"NotRepaired\"].fillna('yes')\n",
    "df[\"NotRepaired\"] = (df[\"NotRepaired\"] == 'yes').astype('int')"
   ]
  },
  {
   "cell_type": "markdown",
   "metadata": {},
   "source": [
    "<div class=\"alert alert-block alert-success\">\n",
    "<b>Success:</b> there is no unambiguous solution, and since you reasoned your action, it can be considered correct."
   ]
  },
  {
   "cell_type": "code",
   "execution_count": 12,
   "metadata": {
    "colab": {},
    "colab_type": "code",
    "id": "qHECY6eQryyQ"
   },
   "outputs": [],
   "source": [
    "df[\"Gearbox\"] = (df[\"Gearbox\"] == \"auto\").astype(\"int\")"
   ]
  },
  {
   "cell_type": "markdown",
   "metadata": {
    "colab_type": "text",
    "id": "0FsFkJ07wqQi"
   },
   "source": [
    "let's impute others categorical features by model depends on others values and without target (for avoiding leakage in the reaulting model)"
   ]
  },
  {
   "cell_type": "code",
   "execution_count": 13,
   "metadata": {
    "colab": {
     "base_uri": "https://localhost:8080/",
     "height": 306
    },
    "colab_type": "code",
    "id": "ARlWFKgxug3k",
    "outputId": "050f14fa-15cb-4099-971c-7a2d174c867c"
   },
   "outputs": [
    {
     "data": {
      "text/plain": [
       "DateCrawled              0\n",
       "Price                    0\n",
       "VehicleType          37490\n",
       "RegistrationYear         0\n",
       "Gearbox                  0\n",
       "Power                    0\n",
       "Model                19705\n",
       "Mileage                  0\n",
       "RegistrationMonth        0\n",
       "FuelType             32895\n",
       "Brand                    0\n",
       "NotRepaired              0\n",
       "DateCreated              0\n",
       "NumberOfPictures         0\n",
       "PostalCode               0\n",
       "LastSeen                 0\n",
       "dtype: int64"
      ]
     },
     "execution_count": 13,
     "metadata": {
      "tags": []
     },
     "output_type": "execute_result"
    }
   ],
   "source": [
    "df.isna().sum()"
   ]
  },
  {
   "cell_type": "code",
   "execution_count": 14,
   "metadata": {
    "colab": {},
    "colab_type": "code",
    "id": "8COdn7Yiwphr"
   },
   "outputs": [],
   "source": [
    "def impute_value(in_df, features, target):\n",
    "  encoders=dict()\n",
    "  df = in_df.copy()\n",
    "  for col in df[features].select_dtypes('object').columns:\n",
    "    df.loc[df[col].isna(), col] = \"None\"\n",
    "    le = LabelEncoder()\n",
    "    df[col] = le.fit_transform(df[col])\n",
    "    encoders[col] = le  \n",
    "  for col in df[features].select_dtypes('datetime64').columns:\n",
    "    df[f\"{col}_hour\"] = df[col].dt.hour\n",
    "    df[f\"{col}_month\"] = df[col].dt.month\n",
    "    df[f\"{col}_day\"] = df[col].dt.day  \n",
    "    del df[col]\n",
    "  features = list(set(df.columns)-set([target]))\n",
    "  train_df = df[~df[target].isna()]\n",
    "  test_df = df[df[target].isna()]\n",
    "  let = LabelEncoder()\n",
    "  y_train = let.fit_transform(train_df[target])\n",
    "  y_train = train_df[target].values\n",
    "  X_train, X_test = train_df[features].values, test_df[features].values\n",
    "  if len(X_test)==0:\n",
    "    return in_df\n",
    "  model = DecisionTreeClassifier().fit(X_train, y_train)\n",
    "  y_pred = model.predict(X_test)\n",
    "  df.loc[df[target].isna(), target] = y_pred\n",
    "  in_df[target] = df[target]\n",
    "  return in_df"
   ]
  },
  {
   "cell_type": "code",
   "execution_count": 15,
   "metadata": {
    "colab": {},
    "colab_type": "code",
    "id": "2DR5IhXo2IHg"
   },
   "outputs": [],
   "source": [
    "for col in [\"FuelType\", \"VehicleType\", \"Model\"]:\n",
    "  df = impute_value(df, features=list(set(df.columns)-set([col])-set([target])), target=col)"
   ]
  },
  {
   "cell_type": "code",
   "execution_count": 16,
   "metadata": {
    "colab": {
     "base_uri": "https://localhost:8080/",
     "height": 306
    },
    "colab_type": "code",
    "id": "r3lWzsNmDllW",
    "outputId": "02bb7958-a9f0-4d36-ca9a-95e160f9b536"
   },
   "outputs": [
    {
     "data": {
      "text/plain": [
       "DateCrawled          0\n",
       "Price                0\n",
       "VehicleType          0\n",
       "RegistrationYear     0\n",
       "Gearbox              0\n",
       "Power                0\n",
       "Model                0\n",
       "Mileage              0\n",
       "RegistrationMonth    0\n",
       "FuelType             0\n",
       "Brand                0\n",
       "NotRepaired          0\n",
       "DateCreated          0\n",
       "NumberOfPictures     0\n",
       "PostalCode           0\n",
       "LastSeen             0\n",
       "dtype: int64"
      ]
     },
     "execution_count": 16,
     "metadata": {
      "tags": []
     },
     "output_type": "execute_result"
    }
   ],
   "source": [
    "df.isna().sum()"
   ]
  },
  {
   "cell_type": "code",
   "execution_count": 17,
   "metadata": {
    "colab": {
     "base_uri": "https://localhost:8080/",
     "height": 365
    },
    "colab_type": "code",
    "id": "ig-1be2SszqZ",
    "outputId": "65b31144-0725-4e16-b04d-df17727a0fc2",
    "scrolled": true
   },
   "outputs": [
    {
     "data": {
      "text/html": [
       "<div>\n",
       "<style scoped>\n",
       "    .dataframe tbody tr th:only-of-type {\n",
       "        vertical-align: middle;\n",
       "    }\n",
       "\n",
       "    .dataframe tbody tr th {\n",
       "        vertical-align: top;\n",
       "    }\n",
       "\n",
       "    .dataframe thead th {\n",
       "        text-align: right;\n",
       "    }\n",
       "</style>\n",
       "<table border=\"1\" class=\"dataframe\">\n",
       "  <thead>\n",
       "    <tr style=\"text-align: right;\">\n",
       "      <th></th>\n",
       "      <th>count</th>\n",
       "      <th>mean</th>\n",
       "      <th>std</th>\n",
       "      <th>min</th>\n",
       "      <th>25%</th>\n",
       "      <th>50%</th>\n",
       "      <th>75%</th>\n",
       "      <th>max</th>\n",
       "      <th>corr_with_target</th>\n",
       "      <th>dtypes</th>\n",
       "      <th>Missing %</th>\n",
       "      <th>Cardinality</th>\n",
       "      <th>Skew</th>\n",
       "      <th>outliers %</th>\n",
       "      <th>kurtosis</th>\n",
       "    </tr>\n",
       "  </thead>\n",
       "  <tbody>\n",
       "    <tr>\n",
       "      <th>Price</th>\n",
       "      <td>354369.0</td>\n",
       "      <td>4416.656776</td>\n",
       "      <td>4514.158514</td>\n",
       "      <td>0.0</td>\n",
       "      <td>1050.0</td>\n",
       "      <td>2700.0</td>\n",
       "      <td>6400.0</td>\n",
       "      <td>20000.0</td>\n",
       "      <td>NaN</td>\n",
       "      <td>int64</td>\n",
       "      <td>0.0</td>\n",
       "      <td>3731</td>\n",
       "      <td>1.430609</td>\n",
       "      <td>1.547539</td>\n",
       "      <td>1.410638</td>\n",
       "    </tr>\n",
       "    <tr>\n",
       "      <th>RegistrationYear</th>\n",
       "      <td>354369.0</td>\n",
       "      <td>2004.234448</td>\n",
       "      <td>90.227958</td>\n",
       "      <td>1000.0</td>\n",
       "      <td>1999.0</td>\n",
       "      <td>2003.0</td>\n",
       "      <td>2008.0</td>\n",
       "      <td>9999.0</td>\n",
       "      <td>0.026916</td>\n",
       "      <td>int64</td>\n",
       "      <td>0.0</td>\n",
       "      <td>151</td>\n",
       "      <td>74.621005</td>\n",
       "      <td>0.045715</td>\n",
       "      <td>6083.101952</td>\n",
       "    </tr>\n",
       "    <tr>\n",
       "      <th>Gearbox</th>\n",
       "      <td>354369.0</td>\n",
       "      <td>0.187051</td>\n",
       "      <td>0.389953</td>\n",
       "      <td>0.0</td>\n",
       "      <td>0.0</td>\n",
       "      <td>0.0</td>\n",
       "      <td>0.0</td>\n",
       "      <td>1.0</td>\n",
       "      <td>0.257725</td>\n",
       "      <td>int64</td>\n",
       "      <td>0.0</td>\n",
       "      <td>2</td>\n",
       "      <td>1.605071</td>\n",
       "      <td>0.000000</td>\n",
       "      <td>0.576256</td>\n",
       "    </tr>\n",
       "    <tr>\n",
       "      <th>Power</th>\n",
       "      <td>354369.0</td>\n",
       "      <td>110.094337</td>\n",
       "      <td>189.850405</td>\n",
       "      <td>0.0</td>\n",
       "      <td>69.0</td>\n",
       "      <td>105.0</td>\n",
       "      <td>143.0</td>\n",
       "      <td>20000.0</td>\n",
       "      <td>0.158872</td>\n",
       "      <td>int64</td>\n",
       "      <td>0.0</td>\n",
       "      <td>712</td>\n",
       "      <td>60.157196</td>\n",
       "      <td>0.101307</td>\n",
       "      <td>4624.103219</td>\n",
       "    </tr>\n",
       "    <tr>\n",
       "      <th>Mileage</th>\n",
       "      <td>354369.0</td>\n",
       "      <td>128211.172535</td>\n",
       "      <td>37905.341530</td>\n",
       "      <td>5000.0</td>\n",
       "      <td>125000.0</td>\n",
       "      <td>150000.0</td>\n",
       "      <td>150000.0</td>\n",
       "      <td>150000.0</td>\n",
       "      <td>-0.333199</td>\n",
       "      <td>int64</td>\n",
       "      <td>0.0</td>\n",
       "      <td>13</td>\n",
       "      <td>-1.724119</td>\n",
       "      <td>2.150019</td>\n",
       "      <td>1.925124</td>\n",
       "    </tr>\n",
       "    <tr>\n",
       "      <th>RegistrationMonth</th>\n",
       "      <td>354369.0</td>\n",
       "      <td>5.714645</td>\n",
       "      <td>3.726421</td>\n",
       "      <td>0.0</td>\n",
       "      <td>3.0</td>\n",
       "      <td>6.0</td>\n",
       "      <td>9.0</td>\n",
       "      <td>12.0</td>\n",
       "      <td>0.110581</td>\n",
       "      <td>int64</td>\n",
       "      <td>0.0</td>\n",
       "      <td>13</td>\n",
       "      <td>0.081207</td>\n",
       "      <td>0.000000</td>\n",
       "      <td>-1.148239</td>\n",
       "    </tr>\n",
       "    <tr>\n",
       "      <th>NotRepaired</th>\n",
       "      <td>354369.0</td>\n",
       "      <td>0.302532</td>\n",
       "      <td>0.459355</td>\n",
       "      <td>0.0</td>\n",
       "      <td>0.0</td>\n",
       "      <td>0.0</td>\n",
       "      <td>1.0</td>\n",
       "      <td>1.0</td>\n",
       "      <td>-0.296046</td>\n",
       "      <td>int64</td>\n",
       "      <td>0.0</td>\n",
       "      <td>2</td>\n",
       "      <td>0.859766</td>\n",
       "      <td>0.000000</td>\n",
       "      <td>-1.260809</td>\n",
       "    </tr>\n",
       "    <tr>\n",
       "      <th>NumberOfPictures</th>\n",
       "      <td>354369.0</td>\n",
       "      <td>0.000000</td>\n",
       "      <td>0.000000</td>\n",
       "      <td>0.0</td>\n",
       "      <td>0.0</td>\n",
       "      <td>0.0</td>\n",
       "      <td>0.0</td>\n",
       "      <td>0.0</td>\n",
       "      <td>NaN</td>\n",
       "      <td>int64</td>\n",
       "      <td>0.0</td>\n",
       "      <td>1</td>\n",
       "      <td>0.000000</td>\n",
       "      <td>0.000000</td>\n",
       "      <td>0.000000</td>\n",
       "    </tr>\n",
       "    <tr>\n",
       "      <th>PostalCode</th>\n",
       "      <td>354369.0</td>\n",
       "      <td>50508.689087</td>\n",
       "      <td>25783.096248</td>\n",
       "      <td>1067.0</td>\n",
       "      <td>30165.0</td>\n",
       "      <td>49413.0</td>\n",
       "      <td>71083.0</td>\n",
       "      <td>99998.0</td>\n",
       "      <td>0.076055</td>\n",
       "      <td>int64</td>\n",
       "      <td>0.0</td>\n",
       "      <td>8143</td>\n",
       "      <td>0.077054</td>\n",
       "      <td>0.000000</td>\n",
       "      <td>-0.965296</td>\n",
       "    </tr>\n",
       "  </tbody>\n",
       "</table>\n",
       "</div>"
      ],
      "text/plain": [
       "                      count           mean  ...  outliers %     kurtosis\n",
       "Price              354369.0    4416.656776  ...    1.547539     1.410638\n",
       "RegistrationYear   354369.0    2004.234448  ...    0.045715  6083.101952\n",
       "Gearbox            354369.0       0.187051  ...    0.000000     0.576256\n",
       "Power              354369.0     110.094337  ...    0.101307  4624.103219\n",
       "Mileage            354369.0  128211.172535  ...    2.150019     1.925124\n",
       "RegistrationMonth  354369.0       5.714645  ...    0.000000    -1.148239\n",
       "NotRepaired        354369.0       0.302532  ...    0.000000    -1.260809\n",
       "NumberOfPictures   354369.0       0.000000  ...    0.000000     0.000000\n",
       "PostalCode         354369.0   50508.689087  ...    0.000000    -0.965296\n",
       "\n",
       "[9 rows x 15 columns]"
      ]
     },
     "execution_count": 17,
     "metadata": {
      "tags": []
     },
     "output_type": "execute_result"
    }
   ],
   "source": [
    "describe_full(df, target_name=target)"
   ]
  },
  {
   "cell_type": "markdown",
   "metadata": {},
   "source": [
    "<div class=\"alert alert-block alert-info\">\n",
    "<b>Improve: </b> It would be better if you removed unnecessary features from data.\n",
    "</div>"
   ]
  },
  {
   "cell_type": "markdown",
   "metadata": {
    "colab_type": "text",
    "id": "mAjcaladC7fi"
   },
   "source": [
    "# 2. Model training"
   ]
  },
  {
   "cell_type": "markdown",
   "metadata": {
    "colab_type": "text",
    "id": "MElLLv0EPjaF"
   },
   "source": [
    "let's use CV technics and 10% for a final test set. \n",
    "we gonna see 3 models - CatBoost, XGBoost, and LGBMBoost"
   ]
  },
  {
   "cell_type": "code",
   "execution_count": 18,
   "metadata": {
    "colab": {},
    "colab_type": "code",
    "id": "LQ_e68aCJU8x"
   },
   "outputs": [],
   "source": [
    "def get_data(df, transform_data=True, apply_encoding=False):\n",
    "  in_df = df.copy()\n",
    "  target = \"Price\"\n",
    "  features = list(set(in_df.columns)-set([target]))\n",
    "  if transform_data:\n",
    "    for col in in_df[features].select_dtypes('datetime64').columns:\n",
    "      in_df[f\"{col}_hour\"] = in_df[col].dt.hour\n",
    "      in_df[f\"{col}_month\"] = in_df[col].dt.month\n",
    "      in_df[f\"{col}_day\"] = in_df[col].dt.day  \n",
    "      del in_df[col]\n",
    "  features = list(set(in_df.columns)-set([target]))\n",
    "  encoders = dict()\n",
    "  if apply_encoding:\n",
    "    for col in in_df[features].select_dtypes('object').columns:\n",
    "      lbl = LabelEncoder().fit(in_df[col].values)\n",
    "      in_df[col] = lbl.transform(in_df[col].values)\n",
    "      encoders[col] = lbl\n",
    "  features = list(set(in_df.columns)-set([target]))\n",
    "  cat_features = list(in_df[features].select_dtypes('object').columns)\n",
    "  return in_df[features].values, in_df[target].values, features, target, encoders, cat_features"
   ]
  },
  {
   "cell_type": "code",
   "execution_count": 19,
   "metadata": {
    "colab": {},
    "colab_type": "code",
    "id": "pnrZFqKixhcx"
   },
   "outputs": [],
   "source": [
    "rmse_func = lambda y_true, y_pred: mean_squared_error(y_true, y_pred, squared=False)\n",
    "rmsle  = make_scorer(rmse_func, greater_is_better=False)"
   ]
  },
  {
   "cell_type": "code",
   "execution_count": 20,
   "metadata": {
    "colab": {},
    "colab_type": "code",
    "id": "Ztl-ALnxV74d"
   },
   "outputs": [],
   "source": [
    "def eval_model(model, X_train, X_test, y_train, y_test):\n",
    "  model.fit(X_train, y_train, eval_metric='rmse', verbose = False, eval_set = [(X_test, y_test)])\n",
    "  y_pred = model.predict(X_test)\n",
    "  print(\"RMSE\", rmse_func(y_test, y_pred))"
   ]
  },
  {
   "cell_type": "code",
   "execution_count": 21,
   "metadata": {
    "colab": {},
    "colab_type": "code",
    "id": "v-UeBX-IAp0p"
   },
   "outputs": [],
   "source": [
    "log_metrics = {\"models\": [\"catboost\", \"xgboost\", \"LGBM\"], \"rmse_init\": [0.0]*3, \"rmse_cv\": [0.0]*3}\n",
    "m_idx = {\"catboost\":0, \"xgboost\":1, \"LGBM\":2}"
   ]
  },
  {
   "cell_type": "markdown",
   "metadata": {
    "colab_type": "text",
    "id": "cA-ZY-WEUBPv"
   },
   "source": [
    "CatBoost"
   ]
  },
  {
   "cell_type": "markdown",
   "metadata": {
    "colab_type": "text",
    "id": "ODyjci9UP9se"
   },
   "source": [
    "CatBoost by default could work with categorical data (that's why it's CatBoost;)) for others model, we gonna use just simple LabelEncoder for simplicity (in real case I believe need to think better, because some categorical data for sure is sensitive to order, in terms of the price for example)"
   ]
  },
  {
   "cell_type": "markdown",
   "metadata": {},
   "source": [
    "<div class=\"alert alert-block alert-success\">\n",
    "<b>Success:</b> Good job, great theoretical knowledge of machine learning models! \n"
   ]
  },
  {
   "cell_type": "code",
   "execution_count": 22,
   "metadata": {
    "colab": {},
    "colab_type": "code",
    "id": "PbBr2QupUiWN"
   },
   "outputs": [],
   "source": [
    "X, y, features, target, _, cat_features = get_data(df)\n",
    "X_train, X_test, y_train, y_test = train_test_split(X, y, test_size=0.1, random_state=random_state)\n",
    "train_ds = Pool(data=X_train, label=y_train, cat_features=cat_features, feature_names=features)\n",
    "test_ds = Pool(data=X_test, label=y_test, cat_features=cat_features, feature_names=features)\n",
    "full_ds = Pool(data=X, label=y, cat_features=cat_features, feature_names=features)"
   ]
  },
  {
   "cell_type": "code",
   "execution_count": 23,
   "metadata": {
    "colab": {
     "base_uri": "https://localhost:8080/",
     "height": 51
    },
    "colab_type": "code",
    "id": "cCbOnxs1uyRu",
    "outputId": "02d40d20-4b17-4307-b0e1-df0464151dc8"
   },
   "outputs": [
    {
     "name": "stdout",
     "output_type": "stream",
     "text": [
      "RMSE 2031.6121358688922\n",
      "time 0.017636935000041376\n"
     ]
    }
   ],
   "source": [
    "model = CatBoostRegressor(iterations=20, task_type=\"GPU\", devices='0:1', random_seed=random_state, loss_function='RMSE', has_time=True)\n",
    "model.fit(train_ds, verbose = 0)\n",
    "y_pred = model.predict(test_ds)\n",
    "print(\"RMSE\", rmse_func(y_test, y_pred))\n",
    "print(\"time {}\".format(timeit.timeit()))"
   ]
  },
  {
   "cell_type": "code",
   "execution_count": 24,
   "metadata": {
    "colab": {},
    "colab_type": "code",
    "id": "OTMSUtPqBXxX"
   },
   "outputs": [],
   "source": [
    "log_metrics[\"rmse_init\"][m_idx[\"catboost\"]] = rmse_func(y_test, y_pred)"
   ]
  },
  {
   "cell_type": "markdown",
   "metadata": {
    "colab_type": "text",
    "id": "Vjhtw-9GxntD"
   },
   "source": [
    "CatBoost, GridSearch"
   ]
  },
  {
   "cell_type": "code",
   "execution_count": 25,
   "metadata": {
    "colab": {
     "base_uri": "https://localhost:8080/",
     "height": 578
    },
    "colab_type": "code",
    "id": "m_gWuccDUhGt",
    "outputId": "8d92a746-76fd-407e-a042-56cfe408589d"
   },
   "outputs": [
    {
     "name": "stdout",
     "output_type": "stream",
     "text": [
      "bestTest = 4752.341541\n",
      "bestIteration = 19\n",
      "bestTest = 3313.669621\n",
      "bestIteration = 19\n",
      "bestTest = 4752.633783\n",
      "bestIteration = 19\n",
      "bestTest = 3309.862571\n",
      "bestIteration = 19\n",
      "bestTest = 4753.759192\n",
      "bestIteration = 19\n",
      "bestTest = 3310.323643\n",
      "bestIteration = 19\n",
      "bestTest = 4753.521487\n",
      "bestIteration = 19\n",
      "bestTest = 3310.929601\n",
      "bestIteration = 19\n",
      "bestTest = 4883.118616\n",
      "bestIteration = 19\n",
      "bestTest = 3521.36343\n",
      "bestIteration = 19\n",
      "bestTest = 4885.325524\n",
      "bestIteration = 19\n",
      "bestTest = 3602.869696\n",
      "bestIteration = 19\n",
      "bestTest = 4886.72806\n",
      "bestIteration = 19\n",
      "bestTest = 3899.645873\n",
      "bestIteration = 19\n",
      "bestTest = 4887.717598\n",
      "bestIteration = 19\n",
      "bestTest = 3442.039682\n",
      "bestIteration = 19\n",
      "time 0.017827375000024404\n"
     ]
    }
   ],
   "source": [
    "param_grid = {\n",
    "        'learning_rate': [0.03, 0.1],\n",
    "        'depth': [6, 10],\n",
    "        'l2_leaf_reg': [3, 5, 7, 9],\n",
    "        'has_time': [True]        \n",
    "}\n",
    "\n",
    "model = CatBoostRegressor(iterations=20, loss_function='RMSE', task_type=\"GPU\", devices='0:1', random_seed=random_state)\n",
    "grid_search_result = model.grid_search(param_grid, \n",
    "                                       full_ds,\n",
    "                                       verbose=0,\n",
    "                                       partition_random_seed=random_state,\n",
    "                                       search_by_train_test_split=True,\n",
    "                                       train_size=0.9,\n",
    "                                       plot=False)\n",
    "print(\"time {}\".format(timeit.timeit()))"
   ]
  },
  {
   "cell_type": "code",
   "execution_count": 26,
   "metadata": {
    "colab": {
     "base_uri": "https://localhost:8080/",
     "height": 51
    },
    "colab_type": "code",
    "id": "Xotiour18zpI",
    "outputId": "0bc1a575-ccf4-4996-e0aa-af3200dadf6c"
   },
   "outputs": [
    {
     "name": "stdout",
     "output_type": "stream",
     "text": [
      "Best validation RMSE score : 3386.8826±53.5941 on step 19\n",
      "time 0.017897307999987788\n"
     ]
    }
   ],
   "source": [
    "cv_data = pd.DataFrame(grid_search_result[\"cv_results\"])\n",
    "best_value = cv_data['test-RMSE-mean'].min()\n",
    "best_iter = cv_data['test-RMSE-mean'].values.argmin()\n",
    "\n",
    "print('Best validation RMSE score : {:.4f}±{:.4f} on step {}'.format(\n",
    "    best_value,\n",
    "    cv_data['test-RMSE-std'][best_iter],\n",
    "    best_iter)\n",
    ")\n",
    "print(\"time {}\".format(timeit.timeit()))"
   ]
  },
  {
   "cell_type": "code",
   "execution_count": 27,
   "metadata": {
    "colab": {
     "base_uri": "https://localhost:8080/",
     "height": 425
    },
    "colab_type": "code",
    "id": "JKHfC26syc24",
    "outputId": "53d9e516-bdc0-45c2-d896-0a657e9886f0"
   },
   "outputs": [
    {
     "name": "stdout",
     "output_type": "stream",
     "text": [
      "0:\tlearn: 4309.9372102\ttest: 4335.5325575\tbest: 4335.5325575 (0)\ttotal: 8.55ms\tremaining: 162ms\n",
      "1:\tlearn: 4137.1928374\ttest: 4161.5550416\tbest: 4161.5550416 (1)\ttotal: 16.3ms\tremaining: 147ms\n",
      "2:\tlearn: 4003.0147326\ttest: 4026.0271465\tbest: 4026.0271465 (2)\ttotal: 23.7ms\tremaining: 134ms\n",
      "3:\tlearn: 3791.0693485\ttest: 3812.1858605\tbest: 3812.1858605 (3)\ttotal: 31.2ms\tremaining: 125ms\n",
      "4:\tlearn: 3581.4539154\ttest: 3602.3626442\tbest: 3602.3626442 (4)\ttotal: 38.6ms\tremaining: 116ms\n",
      "5:\tlearn: 3402.6315489\ttest: 3423.3342179\tbest: 3423.3342179 (5)\ttotal: 46ms\tremaining: 107ms\n",
      "6:\tlearn: 3259.0395387\ttest: 3279.4509355\tbest: 3279.4509355 (6)\ttotal: 53.4ms\tremaining: 99.2ms\n",
      "7:\tlearn: 3126.2840909\ttest: 3147.3218778\tbest: 3147.3218778 (7)\ttotal: 60.8ms\tremaining: 91.2ms\n",
      "8:\tlearn: 3003.2234016\ttest: 3025.9154716\tbest: 3025.9154716 (8)\ttotal: 68.4ms\tremaining: 83.6ms\n",
      "9:\tlearn: 2902.4776491\ttest: 2925.2238484\tbest: 2925.2238484 (9)\ttotal: 75.5ms\tremaining: 75.5ms\n",
      "10:\tlearn: 2803.8190526\ttest: 2826.0650332\tbest: 2826.0650332 (10)\ttotal: 83ms\tremaining: 67.9ms\n",
      "11:\tlearn: 2720.2540950\ttest: 2742.0183479\tbest: 2742.0183479 (11)\ttotal: 90.6ms\tremaining: 60.4ms\n",
      "12:\tlearn: 2648.4838795\ttest: 2671.4905924\tbest: 2671.4905924 (12)\ttotal: 98.3ms\tremaining: 52.9ms\n",
      "13:\tlearn: 2587.3103596\ttest: 2608.8642364\tbest: 2608.8642364 (13)\ttotal: 106ms\tremaining: 45.3ms\n",
      "14:\tlearn: 2531.8662684\ttest: 2553.1396635\tbest: 2553.1396635 (14)\ttotal: 113ms\tremaining: 37.8ms\n",
      "15:\tlearn: 2480.7175760\ttest: 2501.8127668\tbest: 2501.8127668 (15)\ttotal: 134ms\tremaining: 33.5ms\n",
      "16:\tlearn: 2433.8734492\ttest: 2456.0798677\tbest: 2456.0798677 (16)\ttotal: 142ms\tremaining: 25ms\n",
      "17:\tlearn: 2394.6721402\ttest: 2416.4083462\tbest: 2416.4083462 (17)\ttotal: 149ms\tremaining: 16.6ms\n",
      "18:\tlearn: 2358.9124097\ttest: 2381.2632559\tbest: 2381.2632559 (18)\ttotal: 157ms\tremaining: 8.24ms\n",
      "19:\tlearn: 2328.6240149\ttest: 2351.5671215\tbest: 2351.5671215 (19)\ttotal: 164ms\tremaining: 0us\n",
      "bestTest = 2351.567122\n",
      "bestIteration = 19\n",
      "RMSE 2351.5671824607048\n",
      "time 0.01842117099999996\n"
     ]
    }
   ],
   "source": [
    "model = CatBoostRegressor(iterations=20, loss_function='RMSE', task_type=\"GPU\", devices='0:1', random_seed=random_state, **grid_search_result[\"params\"])\n",
    "model.fit(train_ds, verbose = 1, eval_set = [(X_test, y_test)], use_best_model=True)\n",
    "y_pred = model.predict(test_ds)\n",
    "print(\"RMSE\", rmse_func(y_test, y_pred))\n",
    "print(\"time {}\".format(timeit.timeit()))"
   ]
  },
  {
   "cell_type": "code",
   "execution_count": 28,
   "metadata": {
    "colab": {},
    "colab_type": "code",
    "id": "3XwNSbHUB4fu"
   },
   "outputs": [],
   "source": [
    "log_metrics[\"rmse_cv\"][m_idx[\"catboost\"]] = rmse_func(y_test, y_pred)"
   ]
  },
  {
   "cell_type": "markdown",
   "metadata": {
    "colab_type": "text",
    "id": "fpq-0RKNZ7kf"
   },
   "source": [
    "XGBoost"
   ]
  },
  {
   "cell_type": "code",
   "execution_count": 29,
   "metadata": {
    "colab": {},
    "colab_type": "code",
    "id": "YGRnKnE4N6ve"
   },
   "outputs": [],
   "source": [
    "X, y, features, target, encoders, _ = get_data(df, apply_encoding=True)\n",
    "X_train, X_test, y_train, y_test = train_test_split(X, y, test_size=0.1, random_state=random_state)"
   ]
  },
  {
   "cell_type": "code",
   "execution_count": 30,
   "metadata": {
    "colab": {
     "base_uri": "https://localhost:8080/",
     "height": 51
    },
    "colab_type": "code",
    "id": "0n1lIMlxW7yp",
    "outputId": "a528ab9a-12e0-47d8-cacd-4635fb968c1f"
   },
   "outputs": [
    {
     "name": "stdout",
     "output_type": "stream",
     "text": [
      "RMSE 2091.5177533063734\n",
      "time 0.011530643000014607\n"
     ]
    }
   ],
   "source": [
    "model = XGBRegressor(tree_method='gpu_hist', gpu_id=0, random_state=random_state, objective='reg:squarederror')\n",
    "eval_model(model, X_train, X_test, y_train, y_test)\n",
    "print(\"time {}\".format(timeit.timeit()))"
   ]
  },
  {
   "cell_type": "code",
   "execution_count": 31,
   "metadata": {
    "colab": {},
    "colab_type": "code",
    "id": "PWIb906PKv1J"
   },
   "outputs": [],
   "source": [
    "y_pred = model.predict(X_test)\n",
    "log_metrics[\"rmse_init\"][m_idx[\"xgboost\"]] = rmse_func(y_test, y_pred)"
   ]
  },
  {
   "cell_type": "markdown",
   "metadata": {
    "colab_type": "text",
    "id": "LTNji0d39iOX"
   },
   "source": [
    "XGBoost, CV"
   ]
  },
  {
   "cell_type": "code",
   "execution_count": 32,
   "metadata": {
    "colab": {
     "base_uri": "https://localhost:8080/",
     "height": 51
    },
    "colab_type": "code",
    "id": "jOQHudobM0e-",
    "outputId": "3a207387-4472-4a0d-e1c8-6fe371634f0d"
   },
   "outputs": [
    {
     "name": "stdout",
     "output_type": "stream",
     "text": [
      "{'learning_rate': 0.1, 'max_depth': 10, 'objective': 'reg:squarederror'}\n",
      "time 0.009419081999965329\n"
     ]
    }
   ],
   "source": [
    "param_grid = {\n",
    "        'learning_rate': [0.03, 0.1],\n",
    "        'max_depth': [4, 6, 10],\n",
    "        'objective':['reg:squarederror']\n",
    "        \n",
    "}\n",
    "model = XGBRegressor(tree_method='gpu_hist', gpu_id=0, random_state=random_state)\n",
    "\n",
    "grid = GridSearchCV(model,\n",
    "                        param_grid,\n",
    "                        cv = 5,\n",
    "                        n_jobs = 5,\n",
    "                        verbose=False,\n",
    "                        scoring=rmsle)\n",
    "\n",
    "grid.fit(X, y)\n",
    "\n",
    "print(grid.best_params_)\n",
    "print(\"time {}\".format(timeit.timeit()))"
   ]
  },
  {
   "cell_type": "code",
   "execution_count": 33,
   "metadata": {
    "colab": {
     "base_uri": "https://localhost:8080/",
     "height": 51
    },
    "colab_type": "code",
    "id": "wEPvQ9SF-Nxk",
    "outputId": "4f8dc1db-4596-408e-a534-b123592aefd7"
   },
   "outputs": [
    {
     "name": "stdout",
     "output_type": "stream",
     "text": [
      "RMSE 1689.7461009463398\n",
      "time 0.008836985000016284\n"
     ]
    }
   ],
   "source": [
    "model = XGBRegressor(tree_method='gpu_hist', gpu_id=0, random_state=random_state, **grid.best_params_)\n",
    "eval_model(model, X_train, X_test, y_train, y_test)\n",
    "print(\"time {}\".format(timeit.timeit()))"
   ]
  },
  {
   "cell_type": "code",
   "execution_count": 34,
   "metadata": {
    "colab": {
     "base_uri": "https://localhost:8080/",
     "height": 34
    },
    "colab_type": "code",
    "id": "Dpr3cP8fCcsQ",
    "outputId": "4649cf43-7022-4e93-9f88-e15df609fbea"
   },
   "outputs": [
    {
     "name": "stdout",
     "output_type": "stream",
     "text": [
      "time 0.009699415999989469\n"
     ]
    }
   ],
   "source": [
    "y_pred = model.predict(X_test)\n",
    "log_metrics[\"rmse_cv\"][m_idx[\"xgboost\"]] = rmse_func(y_test, y_pred)\n",
    "print(\"time {}\".format(timeit.timeit()))"
   ]
  },
  {
   "cell_type": "markdown",
   "metadata": {
    "colab_type": "text",
    "id": "snGidLggaeUW"
   },
   "source": [
    "LGBMRegressor"
   ]
  },
  {
   "cell_type": "markdown",
   "metadata": {
    "colab_type": "text",
    "id": "PyxY8YcSPbpF"
   },
   "source": [
    "don't want recompile it on GPU, run it on CPU"
   ]
  },
  {
   "cell_type": "code",
   "execution_count": 35,
   "metadata": {
    "colab": {},
    "colab_type": "code",
    "id": "6J_uZObP-GBq"
   },
   "outputs": [],
   "source": [
    "X, y, features, target, encoders, _ = get_data(df, apply_encoding=True)\n",
    "X_train, X_test, y_train, y_test = train_test_split(X, y, test_size=0.1, random_state=random_state)"
   ]
  },
  {
   "cell_type": "code",
   "execution_count": 36,
   "metadata": {
    "colab": {
     "base_uri": "https://localhost:8080/",
     "height": 51
    },
    "colab_type": "code",
    "id": "jIFlXA6mOswt",
    "outputId": "0afb5cea-5a69-4d8b-c9ad-a23218e36377"
   },
   "outputs": [
    {
     "name": "stdout",
     "output_type": "stream",
     "text": [
      "RMSE 1858.9991264087646\n",
      "time 0.008184862999996767\n"
     ]
    }
   ],
   "source": [
    "model = LGBMRegressor(objective=\"RMSE\", random_state=random_state, verbose=1)\n",
    "eval_model(model, X_train, X_test, y_train, y_test)\n",
    "print(\"time {}\".format(timeit.timeit()))"
   ]
  },
  {
   "cell_type": "code",
   "execution_count": 37,
   "metadata": {
    "colab": {
     "base_uri": "https://localhost:8080/",
     "height": 34
    },
    "colab_type": "code",
    "id": "zRuNUYDgCzcD",
    "outputId": "f9ce04f3-7d6a-4155-ce04-0d193a037010"
   },
   "outputs": [
    {
     "name": "stdout",
     "output_type": "stream",
     "text": [
      "time 0.00816397699998106\n"
     ]
    }
   ],
   "source": [
    "y_pred = model.predict(X_test)\n",
    "log_metrics[\"rmse_init\"][m_idx[\"LGBM\"]] = rmse_func(y_test, y_pred)\n",
    "print(\"time {}\".format(timeit.timeit()))"
   ]
  },
  {
   "cell_type": "code",
   "execution_count": 38,
   "metadata": {
    "colab": {
     "base_uri": "https://localhost:8080/",
     "height": 51
    },
    "colab_type": "code",
    "id": "uWKs6fnSajSx",
    "outputId": "38e4a18a-6de8-4d3e-d865-84301d9c5336"
   },
   "outputs": [
    {
     "name": "stdout",
     "output_type": "stream",
     "text": [
      "{'learning_rate': 0.1, 'max_depth': 10}\n",
      "time 0.00923197200006598\n"
     ]
    }
   ],
   "source": [
    "param_grid = {\n",
    "        'learning_rate': [0.03, 0.1],\n",
    "        'max_depth': [4, 6, 10]\n",
    "}\n",
    "\n",
    "model = LGBMRegressor(objective=\"RMSE\", random_state=random_state, verbose=0)\n",
    "\n",
    "grid = GridSearchCV(model,\n",
    "                        param_grid,\n",
    "                        cv = 5,\n",
    "                        n_jobs = 5,\n",
    "                        verbose=False)\n",
    "\n",
    "grid.fit(X, y)\n",
    "\n",
    "print(grid.best_params_)\n",
    "print(\"time {}\".format(timeit.timeit()))"
   ]
  },
  {
   "cell_type": "code",
   "execution_count": 39,
   "metadata": {
    "colab": {
     "base_uri": "https://localhost:8080/",
     "height": 34
    },
    "colab_type": "code",
    "id": "xurcgicgARGI",
    "outputId": "5b4d939e-5407-4112-8e0c-6613d9e607f2",
    "scrolled": true
   },
   "outputs": [
    {
     "name": "stdout",
     "output_type": "stream",
     "text": [
      "0.008756087999927331\n"
     ]
    }
   ],
   "source": [
    "model = LGBMRegressor(objective=\"RMSE\", random_state=random_state, verbose=0, **grid.best_params_)\n",
    "model.fit(X_train, y_train)\n",
    "y_pred = model.predict(X_test)\n",
    "log_metrics[\"rmse_cv\"][m_idx[\"LGBM\"]] = rmse_func(y_test, y_pred)\n",
    "print(\"{}\".format(timeit.timeit()))"
   ]
  },
  {
   "cell_type": "markdown",
   "metadata": {},
   "source": [
    "<div class=\"alert alert-block alert-success\">\n",
    "<b>Success:</b> This step was done very well! <br>\n",
    "Great that you used cross validation, and correctly measured the time of the models.\n",
    "</div>"
   ]
  },
  {
   "cell_type": "markdown",
   "metadata": {
    "colab_type": "text",
    "id": "Ytf6ohavC7fl"
   },
   "source": [
    "# 3. Model analysis"
   ]
  },
  {
   "cell_type": "markdown",
   "metadata": {
    "colab_type": "text",
    "id": "8cZtLD1LEI5z"
   },
   "source": [
    "Let's check our results, first of all, I didn't show measure of time executions, because I used GPU on the couple models, and on the last one on the CPU. for sure time would be different (anyway time results are pretty the same)"
   ]
  },
  {
   "cell_type": "markdown",
   "metadata": {},
   "source": [
    "<div class=\"alert alert-block alert-success\">\n",
    "<b>Success:</b> Okay, got it.\n",
    "</div>"
   ]
  },
  {
   "cell_type": "code",
   "execution_count": 40,
   "metadata": {
    "colab": {
     "base_uri": "https://localhost:8080/",
     "height": 142
    },
    "colab_type": "code",
    "id": "rmzG957wC7fm",
    "outputId": "fb88ffb9-4131-47fa-eab4-39f0c96f2628"
   },
   "outputs": [
    {
     "data": {
      "text/html": [
       "<div>\n",
       "<style scoped>\n",
       "    .dataframe tbody tr th:only-of-type {\n",
       "        vertical-align: middle;\n",
       "    }\n",
       "\n",
       "    .dataframe tbody tr th {\n",
       "        vertical-align: top;\n",
       "    }\n",
       "\n",
       "    .dataframe thead th {\n",
       "        text-align: right;\n",
       "    }\n",
       "</style>\n",
       "<table border=\"1\" class=\"dataframe\">\n",
       "  <thead>\n",
       "    <tr style=\"text-align: right;\">\n",
       "      <th></th>\n",
       "      <th>models</th>\n",
       "      <th>rmse_init</th>\n",
       "      <th>rmse_cv</th>\n",
       "    </tr>\n",
       "  </thead>\n",
       "  <tbody>\n",
       "    <tr>\n",
       "      <th>0</th>\n",
       "      <td>catboost</td>\n",
       "      <td>2031.612136</td>\n",
       "      <td>2351.567182</td>\n",
       "    </tr>\n",
       "    <tr>\n",
       "      <th>1</th>\n",
       "      <td>xgboost</td>\n",
       "      <td>2091.517753</td>\n",
       "      <td>1689.746101</td>\n",
       "    </tr>\n",
       "    <tr>\n",
       "      <th>2</th>\n",
       "      <td>LGBM</td>\n",
       "      <td>1858.999126</td>\n",
       "      <td>1856.729512</td>\n",
       "    </tr>\n",
       "  </tbody>\n",
       "</table>\n",
       "</div>"
      ],
      "text/plain": [
       "     models    rmse_init      rmse_cv\n",
       "0  catboost  2031.612136  2351.567182\n",
       "1   xgboost  2091.517753  1689.746101\n",
       "2      LGBM  1858.999126  1856.729512"
      ]
     },
     "execution_count": 40,
     "metadata": {
      "tags": []
     },
     "output_type": "execute_result"
    }
   ],
   "source": [
    "pd.DataFrame(log_metrics)"
   ]
  },
  {
   "cell_type": "markdown",
   "metadata": {
    "colab_type": "text",
    "id": "K99x1b1nEgp1"
   },
   "source": [
    "second thing is \n",
    "Best(lowest) RMSE has LGBM for init settings and XGBoost in the cross-validation\n",
    "I believe that good result CatBoost could show, it could work with categorical features from the box and could manage with time-related data. But I didn't spend a lot of time for manage settings for finetuned it. And suspicious that CV showed worser result compare with init\n",
    "\n",
    "Best result is on the XGBoost, and LGBM has weighted result in both cases\n",
    "\n"
   ]
  },
  {
   "cell_type": "markdown",
   "metadata": {},
   "source": [
    "<div class=\"alert alert-block alert-success\">\n",
    "<b>Success:</b> The best RMSE value  satisfies the criterion, the work is great, well done!\n",
    "</div>"
   ]
  },
  {
   "cell_type": "markdown",
   "metadata": {
    "colab_type": "text",
    "id": "yD3vysu0C7fo"
   },
   "source": [
    "## Checklist"
   ]
  },
  {
   "cell_type": "markdown",
   "metadata": {
    "colab_type": "text",
    "id": "OSU3LCl4C7fo"
   },
   "source": [
    "Type 'x' to check. Then press Shift+Enter."
   ]
  },
  {
   "cell_type": "markdown",
   "metadata": {
    "colab_type": "text",
    "id": "-jAfWcUhC7fp"
   },
   "source": [
    "- [x]  Jupyter Notebook is open\n",
    "- [ ]  Code is error free\n",
    "- [ ]  The cells with the code have been arranged in order of execution\n",
    "- [ ]  The data has been downloaded and prepared\n",
    "- [ ]  The models have been trained\n",
    "- [ ]  The analysis of speed and quality of the models has been performed"
   ]
  },
  {
   "cell_type": "code",
   "execution_count": 40,
   "metadata": {
    "colab": {},
    "colab_type": "code",
    "id": "HLKX7JAAC7fp"
   },
   "outputs": [],
   "source": []
  }
 ],
 "metadata": {
  "accelerator": "GPU",
  "colab": {
   "collapsed_sections": [],
   "name": "sprint12.ipynb",
   "provenance": [],
   "toc_visible": true
  },
  "kernelspec": {
   "display_name": "Python 3",
   "language": "python",
   "name": "python3"
  },
  "language_info": {
   "codemirror_mode": {
    "name": "ipython",
    "version": 3
   },
   "file_extension": ".py",
   "mimetype": "text/x-python",
   "name": "python",
   "nbconvert_exporter": "python",
   "pygments_lexer": "ipython3",
   "version": "3.7.6"
  }
 },
 "nbformat": 4,
 "nbformat_minor": 1
}
