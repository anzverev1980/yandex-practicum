{
  "nbformat": 4,
  "nbformat_minor": 0,
  "metadata": {
    "colab": {
      "name": "Untitled",
      "provenance": [],
      "collapsed_sections": [],
      "toc_visible": true
    },
    "kernelspec": {
      "name": "python3",
      "display_name": "Python 3"
    }
  },
  "cells": [
    {
      "cell_type": "code",
      "metadata": {
        "id": "SORoKj9e9kKD",
        "colab_type": "code",
        "colab": {
          "base_uri": "https://localhost:8080/",
          "height": 71
        },
        "outputId": "b871fe9f-d06a-485b-afae-122efe3efb83"
      },
      "source": [
        "import pandas as pd\n",
        "import numpy as np\n",
        "import matplotlib.pyplot as plt\n",
        "%matplotlib inline\n",
        "import seaborn as sns\n",
        "from sklearn.metrics import *\n",
        "from sklearn.model_selection import train_test_split, GridSearchCV, KFold\n",
        "from sklearn.preprocessing import *\n",
        "from sklearn.pipeline import make_pipeline, Pipeline\n",
        "from sklearn.tree import DecisionTreeClassifier\n",
        "from sklearn.ensemble import RandomForestClassifier\n",
        "from sklearn.linear_model import LogisticRegression, LinearRegression, Lasso, LogisticRegressionCV\n",
        "from sklearn.utils import shuffle\n",
        "from scipy import stats as st\n",
        "from statsmodels.api import OLS\n",
        "import random\n",
        "random.seed(42)\n",
        "np.random.seed(42)\n",
        "random_state = np.random.RandomState(42)\n",
        "import warnings\n",
        "warnings.filterwarnings('ignore')\n",
        "import logging\n",
        "logger = logging.getLogger()\n",
        "logger.setLevel(logging.CRITICAL)"
      ],
      "execution_count": 1,
      "outputs": [
        {
          "output_type": "stream",
          "text": [
            "/usr/local/lib/python3.6/dist-packages/statsmodels/tools/_testing.py:19: FutureWarning: pandas.util.testing is deprecated. Use the functions in the public API at pandas.testing instead.\n",
            "  import pandas.util.testing as tm\n"
          ],
          "name": "stderr"
        }
      ]
    },
    {
      "cell_type": "code",
      "metadata": {
        "id": "PNP4zj9X97JL",
        "colab_type": "code",
        "colab": {}
      },
      "source": [
        "#missing value ratio\n",
        "def missing_values(df):\n",
        "    df_nulls=pd.concat([df.dtypes, df.isna().sum(), df.isna().sum()/len(df)], axis=1)\n",
        "    df_nulls.columns = [\"type\",\"count\",\"missing_ratio\"]\n",
        "    df_nulls=df_nulls[df_nulls[\"count\"]>0]\n",
        "    df_nulls.sort_values(by=\"missing_ratio\", ascending=False)\n",
        "    return df_nulls\n",
        "\n",
        "#outliers by 3 sigma rule\n",
        "def outlier(data):\n",
        "    data_mean, data_std = np.mean(data), np.std(data)\n",
        "    cut_off = data_std * 3\n",
        "    lower, upper = data_mean - cut_off, data_mean + cut_off\n",
        "    outliers = [x for x in data if x < lower or x > upper]\n",
        "    outliers_removed = [x for x in data if x >= lower and x <= upper]\n",
        "    return len(outliers)\n",
        "\n",
        "# full description statistics \n",
        "def describe_full(df, target_name=\"\"):\n",
        "    data_describe = df.describe().T\n",
        "    df_numeric = df._get_numeric_data()\n",
        "    if target_name in df.columns:\n",
        "        corr_with_target=df_numeric.drop(target_name, axis=1).apply(lambda x: x.corr(df_numeric[target_name]))\n",
        "        data_describe['corr_with_target']=corr_with_target\n",
        "    dtype_df = df_numeric.dtypes\n",
        "    data_describe['dtypes'] = dtype_df\n",
        "    data_null = df_numeric.isnull().sum()/len(df) * 100\n",
        "    data_describe['Missing %'] = data_null\n",
        "    Cardinality = df_numeric.apply(pd.Series.nunique)\n",
        "    data_describe['Cardinality'] = Cardinality\n",
        "    df_skew = df_numeric.skew(axis=0, skipna=True)\n",
        "    data_describe['Skew'] = df_skew\n",
        "    data_describe['outliers']=[outlier(df_numeric[col]) for col in df_numeric.columns]\n",
        "    data_describe['kurtosis']=df_numeric.kurtosis()\n",
        "    return data_describe"
      ],
      "execution_count": 2,
      "outputs": []
    },
    {
      "cell_type": "code",
      "metadata": {
        "id": "angArgivYrHd",
        "colab_type": "code",
        "colab": {}
      },
      "source": [
        "def display_group_density_plot(df, groupby, on, palette, figsize):\n",
        "    \"\"\"\n",
        "    Displays a density plot by group, given a continuous variable, and a group to split the data by\n",
        "    :param df: DataFrame to display data from\n",
        "    :param groupby: Column name by which plots would be grouped (Categorical, maximum 10 categories)\n",
        "    :param on: Column name of the different density plots\n",
        "    :param palette: Color palette to use for drawing\n",
        "    :param figsize: Figure size\n",
        "    :return: matplotlib.axes._subplots.AxesSubplot object\n",
        "    \"\"\"\n",
        "\n",
        "    if not isinstance(df, pd.core.frame.DataFrame):\n",
        "        raise ValueError('df must be a pandas DataFrame')\n",
        "\n",
        "    if not groupby:\n",
        "        raise ValueError('groupby parameter must be provided')\n",
        "\n",
        "    elif not groupby in df.keys():\n",
        "        raise ValueError(groupby + ' column does not exist in the given DataFrame')\n",
        "\n",
        "    if not on:\n",
        "        raise ValueError('on parameter must be provided')\n",
        "\n",
        "    elif not on in df.keys():\n",
        "        raise ValueError(on + ' column does not exist in the given DataFrame')\n",
        "\n",
        "    if len(set(df[groupby])) > 10:\n",
        "        groups = df[groupby].value_counts().index[:10]\n",
        "\n",
        "    else:\n",
        "        groups = set(df[groupby])\n",
        "\n",
        "    # Get relevant palette\n",
        "    if palette:\n",
        "        palette = palette[:len(groups)]\n",
        "    else:\n",
        "        palette = sns.color_palette()[:len(groups)]\n",
        "\n",
        "    # Plot\n",
        "    fig = plt.figure(figsize=figsize)\n",
        "    ax = fig.add_subplot(111)\n",
        "    ax.legend(bbox_to_anchor=(1.04, 1), loc='upper left')\n",
        "\n",
        "    for value, color in zip(groups, palette):\n",
        "        sns.kdeplot(df.loc[df[groupby] == value][on], \\\n",
        "                    shade=True, color=color, label=value)\n",
        "\n",
        "    ax.set_title(str(\"Distribution of \" + on + \" per \" + groupby + \" group\"),\\\n",
        "                 fontsize=30)\n",
        "    \n",
        "    ax.set_xlabel(on, fontsize=20)\n",
        "    return ax "
      ],
      "execution_count": 3,
      "outputs": []
    },
    {
      "cell_type": "markdown",
      "metadata": {
        "id": "MYTgXEw6-WOm",
        "colab_type": "text"
      },
      "source": [
        "# Project Description\n",
        "\n",
        "<div class=\"markdown markdown_size_normal markdown_type_theory\"><div class=\"paragraph\">You work for the OilyGiant mining company. Your task is to find the best place for a new well.</div><div class=\"paragraph\">Steps to choose the location:</div><ul><li>Collect the oil well parameters in the selected region: oil quality and volume of reserves;</li><li>Build a model for predicting the volume of reserves in the new wells;</li><li>Pick the oil wells with the highest estimated values;</li><li>Pick the region with the highest total profit for the selected oil wells.</li></ul><div class=\"paragraph\">You have data on oil samples from three regions. Parameters of each oil well in the region are already known. Build a model that will help to pick the region with the highest profit margin. Analyze potential profit and risks using the <em>Bootstrapping</em> technique.</div></div>"
      ]
    },
    {
      "cell_type": "markdown",
      "metadata": {
        "id": "_k7r9rsM_bt6",
        "colab_type": "text"
      },
      "source": [
        "# 1. Download and prepare the data. Explain the procedure."
      ]
    },
    {
      "cell_type": "markdown",
      "metadata": {
        "id": "pMmW0jXN_ND8",
        "colab_type": "text"
      },
      "source": [
        "<h3>Data description</h3><div class=\"paragraph\">Geological exploration data for the three regions are stored in files:</div><ul><li><code class=\"code-inline code-inline_theme_light\">geo_data_0.csv</code>. <a href=\"https://code.s3.yandex.net/datasets/geo_data_0.csv\" target=\"_blank\">download dataset</a></li><li><code class=\"code-inline code-inline_theme_light\">geo_data_1.csv</code>. <a href=\"https://code.s3.yandex.net/datasets/geo_data_1.csv\" target=\"_blank\">download dataset</a></li><li><code class=\"code-inline code-inline_theme_light\">geo_data_2.csv</code>. <a href=\"https://code.s3.yandex.net/datasets/geo_data_2.csv\" target=\"_blank\">download dataset</a></li><li><em>id</em> — unique oil well identifier</li><li><em>f0, f1, f2</em> — three features of points (their specific meaning is unimportant, but the features themselves are significant)</li><li><em>product</em> — volume of reserves in the oil well (thousand barrels).</li></ul><div class=\"paragraph\"><strong>Conditions:</strong></div><ul><li>Only linear regression is suitable for model training (the rest are not sufficiently predictable).</li><li>When exploring the region, a study of 500 points is carried with picking the best 200 points for the profit calculation.</li><li>The budget for development of 200 oil wells is 100 USD million.</li><li>One barrel of raw materials brings 4.5 USD of revenue The revenue from one unit of product is 4,500 dollars (volume of reserves is in thousand barrels).</li><li>After the risk evaluation, keep only the regions with the risk of losses lower than 2.5%. From the ones that fit the criteria, the region with the highest average profit should be selected.</li></ul><div class=\"paragraph\">The data is synthetic: contract details and well characteristics are not disclosed.</div>"
      ]
    },
    {
      "cell_type": "code",
      "metadata": {
        "id": "J_D-25VBDpSl",
        "colab_type": "code",
        "colab": {}
      },
      "source": [
        "geo_data_0 = pd.read_csv(\"https://code.s3.yandex.net/datasets/geo_data_0.csv\")\n",
        "geo_data_1 = pd.read_csv(\"https://code.s3.yandex.net/datasets/geo_data_1.csv\")\n",
        "geo_data_2 = pd.read_csv(\"https://code.s3.yandex.net/datasets/geo_data_2.csv\")"
      ],
      "execution_count": 4,
      "outputs": []
    },
    {
      "cell_type": "code",
      "metadata": {
        "id": "Cs1co7AhEBnK",
        "colab_type": "code",
        "colab": {
          "base_uri": "https://localhost:8080/",
          "height": 119
        },
        "outputId": "79431250-5c74-41e1-d5ef-e17523761d2f"
      },
      "source": [
        "geo_data_0.isna().sum()"
      ],
      "execution_count": 5,
      "outputs": [
        {
          "output_type": "execute_result",
          "data": {
            "text/plain": [
              "id         0\n",
              "f0         0\n",
              "f1         0\n",
              "f2         0\n",
              "product    0\n",
              "dtype: int64"
            ]
          },
          "metadata": {
            "tags": []
          },
          "execution_count": 5
        }
      ]
    },
    {
      "cell_type": "code",
      "metadata": {
        "id": "jXsOWrCZEF0P",
        "colab_type": "code",
        "colab": {
          "base_uri": "https://localhost:8080/",
          "height": 119
        },
        "outputId": "edd42d46-8452-4c01-8723-3fd47a199ec4"
      },
      "source": [
        "geo_data_1.isna().sum()"
      ],
      "execution_count": 6,
      "outputs": [
        {
          "output_type": "execute_result",
          "data": {
            "text/plain": [
              "id         0\n",
              "f0         0\n",
              "f1         0\n",
              "f2         0\n",
              "product    0\n",
              "dtype: int64"
            ]
          },
          "metadata": {
            "tags": []
          },
          "execution_count": 6
        }
      ]
    },
    {
      "cell_type": "code",
      "metadata": {
        "id": "STg4hEteEGs1",
        "colab_type": "code",
        "colab": {
          "base_uri": "https://localhost:8080/",
          "height": 119
        },
        "outputId": "4849e792-7250-4c72-e5c9-edd65ca45211"
      },
      "source": [
        "geo_data_2.isna().sum()"
      ],
      "execution_count": 7,
      "outputs": [
        {
          "output_type": "execute_result",
          "data": {
            "text/plain": [
              "id         0\n",
              "f0         0\n",
              "f1         0\n",
              "f2         0\n",
              "product    0\n",
              "dtype: int64"
            ]
          },
          "metadata": {
            "tags": []
          },
          "execution_count": 7
        }
      ]
    },
    {
      "cell_type": "code",
      "metadata": {
        "id": "zoI7VgBRJtwg",
        "colab_type": "code",
        "colab": {
          "base_uri": "https://localhost:8080/",
          "height": 173
        },
        "outputId": "31a54b75-fbf5-4a5b-ec66-0ec7ccdf2641"
      },
      "source": [
        "describe_full(geo_data_0)"
      ],
      "execution_count": 8,
      "outputs": [
        {
          "output_type": "execute_result",
          "data": {
            "text/html": [
              "<div>\n",
              "<style scoped>\n",
              "    .dataframe tbody tr th:only-of-type {\n",
              "        vertical-align: middle;\n",
              "    }\n",
              "\n",
              "    .dataframe tbody tr th {\n",
              "        vertical-align: top;\n",
              "    }\n",
              "\n",
              "    .dataframe thead th {\n",
              "        text-align: right;\n",
              "    }\n",
              "</style>\n",
              "<table border=\"1\" class=\"dataframe\">\n",
              "  <thead>\n",
              "    <tr style=\"text-align: right;\">\n",
              "      <th></th>\n",
              "      <th>count</th>\n",
              "      <th>mean</th>\n",
              "      <th>std</th>\n",
              "      <th>min</th>\n",
              "      <th>25%</th>\n",
              "      <th>50%</th>\n",
              "      <th>75%</th>\n",
              "      <th>max</th>\n",
              "      <th>dtypes</th>\n",
              "      <th>Missing %</th>\n",
              "      <th>Cardinality</th>\n",
              "      <th>Skew</th>\n",
              "      <th>outliers</th>\n",
              "      <th>kurtosis</th>\n",
              "    </tr>\n",
              "  </thead>\n",
              "  <tbody>\n",
              "    <tr>\n",
              "      <th>f0</th>\n",
              "      <td>100000.0</td>\n",
              "      <td>0.500419</td>\n",
              "      <td>0.871832</td>\n",
              "      <td>-1.408605</td>\n",
              "      <td>-0.072580</td>\n",
              "      <td>0.502360</td>\n",
              "      <td>1.073581</td>\n",
              "      <td>2.362331</td>\n",
              "      <td>float64</td>\n",
              "      <td>0.0</td>\n",
              "      <td>100000</td>\n",
              "      <td>-0.000337</td>\n",
              "      <td>0</td>\n",
              "      <td>-0.868909</td>\n",
              "    </tr>\n",
              "    <tr>\n",
              "      <th>f1</th>\n",
              "      <td>100000.0</td>\n",
              "      <td>0.250143</td>\n",
              "      <td>0.504433</td>\n",
              "      <td>-0.848218</td>\n",
              "      <td>-0.200881</td>\n",
              "      <td>0.250252</td>\n",
              "      <td>0.700646</td>\n",
              "      <td>1.343769</td>\n",
              "      <td>float64</td>\n",
              "      <td>0.0</td>\n",
              "      <td>100000</td>\n",
              "      <td>0.000717</td>\n",
              "      <td>0</td>\n",
              "      <td>-1.186068</td>\n",
              "    </tr>\n",
              "    <tr>\n",
              "      <th>f2</th>\n",
              "      <td>100000.0</td>\n",
              "      <td>2.502647</td>\n",
              "      <td>3.248248</td>\n",
              "      <td>-12.088328</td>\n",
              "      <td>0.287748</td>\n",
              "      <td>2.515969</td>\n",
              "      <td>4.715088</td>\n",
              "      <td>16.003790</td>\n",
              "      <td>float64</td>\n",
              "      <td>0.0</td>\n",
              "      <td>100000</td>\n",
              "      <td>-0.002996</td>\n",
              "      <td>178</td>\n",
              "      <td>-0.111284</td>\n",
              "    </tr>\n",
              "    <tr>\n",
              "      <th>product</th>\n",
              "      <td>100000.0</td>\n",
              "      <td>92.500000</td>\n",
              "      <td>44.288691</td>\n",
              "      <td>0.000000</td>\n",
              "      <td>56.497507</td>\n",
              "      <td>91.849972</td>\n",
              "      <td>128.564089</td>\n",
              "      <td>185.364347</td>\n",
              "      <td>float64</td>\n",
              "      <td>0.0</td>\n",
              "      <td>100000</td>\n",
              "      <td>0.004816</td>\n",
              "      <td>0</td>\n",
              "      <td>-0.951506</td>\n",
              "    </tr>\n",
              "  </tbody>\n",
              "</table>\n",
              "</div>"
            ],
            "text/plain": [
              "            count       mean        std  ...      Skew  outliers  kurtosis\n",
              "f0       100000.0   0.500419   0.871832  ... -0.000337         0 -0.868909\n",
              "f1       100000.0   0.250143   0.504433  ...  0.000717         0 -1.186068\n",
              "f2       100000.0   2.502647   3.248248  ... -0.002996       178 -0.111284\n",
              "product  100000.0  92.500000  44.288691  ...  0.004816         0 -0.951506\n",
              "\n",
              "[4 rows x 14 columns]"
            ]
          },
          "metadata": {
            "tags": []
          },
          "execution_count": 8
        }
      ]
    },
    {
      "cell_type": "code",
      "metadata": {
        "id": "O5uiGxJ8JxCU",
        "colab_type": "code",
        "colab": {
          "base_uri": "https://localhost:8080/",
          "height": 173
        },
        "outputId": "92b62042-1576-4b6a-e2ba-28b80939f97b"
      },
      "source": [
        "describe_full(geo_data_1)"
      ],
      "execution_count": 9,
      "outputs": [
        {
          "output_type": "execute_result",
          "data": {
            "text/html": [
              "<div>\n",
              "<style scoped>\n",
              "    .dataframe tbody tr th:only-of-type {\n",
              "        vertical-align: middle;\n",
              "    }\n",
              "\n",
              "    .dataframe tbody tr th {\n",
              "        vertical-align: top;\n",
              "    }\n",
              "\n",
              "    .dataframe thead th {\n",
              "        text-align: right;\n",
              "    }\n",
              "</style>\n",
              "<table border=\"1\" class=\"dataframe\">\n",
              "  <thead>\n",
              "    <tr style=\"text-align: right;\">\n",
              "      <th></th>\n",
              "      <th>count</th>\n",
              "      <th>mean</th>\n",
              "      <th>std</th>\n",
              "      <th>min</th>\n",
              "      <th>25%</th>\n",
              "      <th>50%</th>\n",
              "      <th>75%</th>\n",
              "      <th>max</th>\n",
              "      <th>dtypes</th>\n",
              "      <th>Missing %</th>\n",
              "      <th>Cardinality</th>\n",
              "      <th>Skew</th>\n",
              "      <th>outliers</th>\n",
              "      <th>kurtosis</th>\n",
              "    </tr>\n",
              "  </thead>\n",
              "  <tbody>\n",
              "    <tr>\n",
              "      <th>f0</th>\n",
              "      <td>100000.0</td>\n",
              "      <td>1.141296</td>\n",
              "      <td>8.965932</td>\n",
              "      <td>-31.609576</td>\n",
              "      <td>-6.298551</td>\n",
              "      <td>1.153055</td>\n",
              "      <td>8.621015</td>\n",
              "      <td>29.421755</td>\n",
              "      <td>float64</td>\n",
              "      <td>0.0</td>\n",
              "      <td>100000</td>\n",
              "      <td>0.001992</td>\n",
              "      <td>7</td>\n",
              "      <td>-0.947124</td>\n",
              "    </tr>\n",
              "    <tr>\n",
              "      <th>f1</th>\n",
              "      <td>100000.0</td>\n",
              "      <td>-4.796579</td>\n",
              "      <td>5.119872</td>\n",
              "      <td>-26.358598</td>\n",
              "      <td>-8.267985</td>\n",
              "      <td>-4.813172</td>\n",
              "      <td>-1.332816</td>\n",
              "      <td>18.734063</td>\n",
              "      <td>float64</td>\n",
              "      <td>0.0</td>\n",
              "      <td>100000</td>\n",
              "      <td>0.016597</td>\n",
              "      <td>262</td>\n",
              "      <td>-0.023065</td>\n",
              "    </tr>\n",
              "    <tr>\n",
              "      <th>f2</th>\n",
              "      <td>100000.0</td>\n",
              "      <td>2.494541</td>\n",
              "      <td>1.703572</td>\n",
              "      <td>-0.018144</td>\n",
              "      <td>1.000021</td>\n",
              "      <td>2.011479</td>\n",
              "      <td>3.999904</td>\n",
              "      <td>5.019721</td>\n",
              "      <td>float64</td>\n",
              "      <td>0.0</td>\n",
              "      <td>100000</td>\n",
              "      <td>0.006666</td>\n",
              "      <td>0</td>\n",
              "      <td>-1.261794</td>\n",
              "    </tr>\n",
              "    <tr>\n",
              "      <th>product</th>\n",
              "      <td>100000.0</td>\n",
              "      <td>68.825000</td>\n",
              "      <td>45.944423</td>\n",
              "      <td>0.000000</td>\n",
              "      <td>26.953261</td>\n",
              "      <td>57.085625</td>\n",
              "      <td>107.813044</td>\n",
              "      <td>137.945408</td>\n",
              "      <td>float64</td>\n",
              "      <td>0.0</td>\n",
              "      <td>12</td>\n",
              "      <td>0.006685</td>\n",
              "      <td>0</td>\n",
              "      <td>-1.259374</td>\n",
              "    </tr>\n",
              "  </tbody>\n",
              "</table>\n",
              "</div>"
            ],
            "text/plain": [
              "            count       mean        std  ...      Skew  outliers  kurtosis\n",
              "f0       100000.0   1.141296   8.965932  ...  0.001992         7 -0.947124\n",
              "f1       100000.0  -4.796579   5.119872  ...  0.016597       262 -0.023065\n",
              "f2       100000.0   2.494541   1.703572  ...  0.006666         0 -1.261794\n",
              "product  100000.0  68.825000  45.944423  ...  0.006685         0 -1.259374\n",
              "\n",
              "[4 rows x 14 columns]"
            ]
          },
          "metadata": {
            "tags": []
          },
          "execution_count": 9
        }
      ]
    },
    {
      "cell_type": "code",
      "metadata": {
        "id": "xdmrll8NJx5e",
        "colab_type": "code",
        "colab": {
          "base_uri": "https://localhost:8080/",
          "height": 173
        },
        "outputId": "3dd60a9f-d3a1-47a1-8bd5-4d4117b3fc62"
      },
      "source": [
        "describe_full(geo_data_2)"
      ],
      "execution_count": 10,
      "outputs": [
        {
          "output_type": "execute_result",
          "data": {
            "text/html": [
              "<div>\n",
              "<style scoped>\n",
              "    .dataframe tbody tr th:only-of-type {\n",
              "        vertical-align: middle;\n",
              "    }\n",
              "\n",
              "    .dataframe tbody tr th {\n",
              "        vertical-align: top;\n",
              "    }\n",
              "\n",
              "    .dataframe thead th {\n",
              "        text-align: right;\n",
              "    }\n",
              "</style>\n",
              "<table border=\"1\" class=\"dataframe\">\n",
              "  <thead>\n",
              "    <tr style=\"text-align: right;\">\n",
              "      <th></th>\n",
              "      <th>count</th>\n",
              "      <th>mean</th>\n",
              "      <th>std</th>\n",
              "      <th>min</th>\n",
              "      <th>25%</th>\n",
              "      <th>50%</th>\n",
              "      <th>75%</th>\n",
              "      <th>max</th>\n",
              "      <th>dtypes</th>\n",
              "      <th>Missing %</th>\n",
              "      <th>Cardinality</th>\n",
              "      <th>Skew</th>\n",
              "      <th>outliers</th>\n",
              "      <th>kurtosis</th>\n",
              "    </tr>\n",
              "  </thead>\n",
              "  <tbody>\n",
              "    <tr>\n",
              "      <th>f0</th>\n",
              "      <td>100000.0</td>\n",
              "      <td>0.002023</td>\n",
              "      <td>1.732045</td>\n",
              "      <td>-8.760004</td>\n",
              "      <td>-1.162288</td>\n",
              "      <td>0.009424</td>\n",
              "      <td>1.158535</td>\n",
              "      <td>7.238262</td>\n",
              "      <td>float64</td>\n",
              "      <td>0.0</td>\n",
              "      <td>100000</td>\n",
              "      <td>0.003941</td>\n",
              "      <td>266</td>\n",
              "      <td>0.015364</td>\n",
              "    </tr>\n",
              "    <tr>\n",
              "      <th>f1</th>\n",
              "      <td>100000.0</td>\n",
              "      <td>-0.002081</td>\n",
              "      <td>1.730417</td>\n",
              "      <td>-7.084020</td>\n",
              "      <td>-1.174820</td>\n",
              "      <td>-0.009482</td>\n",
              "      <td>1.163678</td>\n",
              "      <td>7.844801</td>\n",
              "      <td>float64</td>\n",
              "      <td>0.0</td>\n",
              "      <td>100000</td>\n",
              "      <td>0.014802</td>\n",
              "      <td>281</td>\n",
              "      <td>-0.012328</td>\n",
              "    </tr>\n",
              "    <tr>\n",
              "      <th>f2</th>\n",
              "      <td>100000.0</td>\n",
              "      <td>2.495128</td>\n",
              "      <td>3.473445</td>\n",
              "      <td>-11.970335</td>\n",
              "      <td>0.130359</td>\n",
              "      <td>2.484236</td>\n",
              "      <td>4.858794</td>\n",
              "      <td>16.739402</td>\n",
              "      <td>float64</td>\n",
              "      <td>0.0</td>\n",
              "      <td>100000</td>\n",
              "      <td>0.004057</td>\n",
              "      <td>201</td>\n",
              "      <td>-0.068082</td>\n",
              "    </tr>\n",
              "    <tr>\n",
              "      <th>product</th>\n",
              "      <td>100000.0</td>\n",
              "      <td>95.000000</td>\n",
              "      <td>44.749921</td>\n",
              "      <td>0.000000</td>\n",
              "      <td>59.450441</td>\n",
              "      <td>94.925613</td>\n",
              "      <td>130.595027</td>\n",
              "      <td>190.029838</td>\n",
              "      <td>float64</td>\n",
              "      <td>0.0</td>\n",
              "      <td>100000</td>\n",
              "      <td>0.004655</td>\n",
              "      <td>0</td>\n",
              "      <td>-0.878423</td>\n",
              "    </tr>\n",
              "  </tbody>\n",
              "</table>\n",
              "</div>"
            ],
            "text/plain": [
              "            count       mean        std  ...      Skew  outliers  kurtosis\n",
              "f0       100000.0   0.002023   1.732045  ...  0.003941       266  0.015364\n",
              "f1       100000.0  -0.002081   1.730417  ...  0.014802       281 -0.012328\n",
              "f2       100000.0   2.495128   3.473445  ...  0.004057       201 -0.068082\n",
              "product  100000.0  95.000000  44.749921  ...  0.004655         0 -0.878423\n",
              "\n",
              "[4 rows x 14 columns]"
            ]
          },
          "metadata": {
            "tags": []
          },
          "execution_count": 10
        }
      ]
    },
    {
      "cell_type": "code",
      "metadata": {
        "id": "FK5ktVXYupSe",
        "colab_type": "code",
        "colab": {}
      },
      "source": [
        "target = \"product\"\n",
        "features = ['f0', 'f1', 'f2']"
      ],
      "execution_count": 11,
      "outputs": []
    },
    {
      "cell_type": "code",
      "metadata": {
        "id": "WljTYZzyWv-h",
        "colab_type": "code",
        "colab": {}
      },
      "source": [
        "gd1 = geo_data_0.copy()\n",
        "gd1[\"source\"] = \"geo_data_0\"\n",
        "gd2 = geo_data_1.copy()\n",
        "gd2[\"source\"] = \"geo_data_1\"\n",
        "gd3 = geo_data_2.copy()\n",
        "gd3[\"source\"] = \"geo_data_2\"\n",
        "df = pd.concat([gd1, gd2, gd3])\n",
        "del gd1,gd2,gd3"
      ],
      "execution_count": 12,
      "outputs": []
    },
    {
      "cell_type": "code",
      "metadata": {
        "id": "Ie6sR-xXWcHD",
        "colab_type": "code",
        "colab": {
          "base_uri": "https://localhost:8080/",
          "height": 297
        },
        "outputId": "8ea47da6-916d-4485-d566-dae2d10e753d"
      },
      "source": [
        "mdf = pd.melt(df[[target, 'source']], id_vars=['source'], var_name=[target])\n",
        "ax = sns.boxplot(x=\"source\", y=\"value\", hue=target, data=mdf)    \n",
        "plt.show()\n",
        "plt.clf()"
      ],
      "execution_count": 13,
      "outputs": [
        {
          "output_type": "display_data",
          "data": {
            "image/png": "[encoded data removed]",
            "text/plain": [
              "<Figure size 432x288 with 1 Axes>"
            ]
          },
          "metadata": {
            "tags": [],
            "needs_background": "light"
          }
        },
        {
          "output_type": "display_data",
          "data": {
            "text/plain": [
              "<Figure size 432x288 with 0 Axes>"
            ]
          },
          "metadata": {
            "tags": []
          }
        }
      ]
    },
    {
      "cell_type": "code",
      "metadata": {
        "id": "8I7k-4N3YrgB",
        "colab_type": "code",
        "colab": {
          "base_uri": "https://localhost:8080/",
          "height": 389
        },
        "outputId": "87c99a49-e447-49ec-e6a2-3d319d273fb2"
      },
      "source": [
        "display_group_density_plot(mdf, groupby = \"source\", on = 'value', \\\n",
        "                                           palette = sns.color_palette('Set2'), \n",
        "                           figsize = (10, 5))"
      ],
      "execution_count": 14,
      "outputs": [
        {
          "output_type": "execute_result",
          "data": {
            "text/plain": [
              "<matplotlib.axes._subplots.AxesSubplot at 0x7feea4ef85c0>"
            ]
          },
          "metadata": {
            "tags": []
          },
          "execution_count": 14
        },
        {
          "output_type": "display_data",
          "data": {
            "image/png": "[encoded data removed]",
            "text/plain": [
              "<Figure size 720x360 with 1 Axes>"
            ]
          },
          "metadata": {
            "tags": [],
            "needs_background": "light"
          }
        }
      ]
    },
    {
      "cell_type": "markdown",
      "metadata": {
        "id": "KNOGF5A-OF0_",
        "colab_type": "text"
      },
      "source": [
        "### Summary\n",
        "\n",
        "we have 3 datasets, without missing data, with the same counts, dataset1 and dataset3 have around similar mean value and distribution of the product compare with the dataset2"
      ]
    },
    {
      "cell_type": "markdown",
      "metadata": {
        "id": "TvkQxaxP_sdo",
        "colab_type": "text"
      },
      "source": [
        "# 2. Train and test the model for each region:"
      ]
    },
    {
      "cell_type": "markdown",
      "metadata": {
        "id": "ANtdjmS4CYY6",
        "colab_type": "text"
      },
      "source": [
        "## 2.1. Split the data into a training set and validation set at a ratio of 75:25.\n"
      ]
    },
    {
      "cell_type": "markdown",
      "metadata": {
        "id": "eCDacMwJCchH",
        "colab_type": "text"
      },
      "source": [
        "## 2.2. Train the model and make predictions for the validation set.\n"
      ]
    },
    {
      "cell_type": "markdown",
      "metadata": {
        "id": "18m4B7awCeib",
        "colab_type": "text"
      },
      "source": [
        "## 2.3. Save the predictions and correct answers for the validation set.\n"
      ]
    },
    {
      "cell_type": "markdown",
      "metadata": {
        "id": "kTmN7f3ICh80",
        "colab_type": "text"
      },
      "source": [
        "## 2.4. Print the average volume of predicted reserves and model RMSE.\n"
      ]
    },
    {
      "cell_type": "code",
      "metadata": {
        "id": "Q5B3G5lcU09h",
        "colab_type": "code",
        "colab": {}
      },
      "source": [
        "def test_lr_model(X_train,X_valid,y_train,y_valid):\n",
        "  lr = LinearRegression().fit(X_train,y_train)\n",
        "  y_pred = lr.predict(X_valid)  \n",
        "  return mean_squared_error(y_valid, y_pred,squared=False), lr.score(X_valid, y_valid), y_pred"
      ],
      "execution_count": 15,
      "outputs": []
    },
    {
      "cell_type": "code",
      "metadata": {
        "id": "XslAG_6Fyl56",
        "colab_type": "code",
        "colab": {
          "base_uri": "https://localhost:8080/",
          "height": 68
        },
        "outputId": "1a16d071-9a5d-471c-e64c-154f93d22471"
      },
      "source": [
        "X_train0,X_valid0,y_train0,y_valid0 = train_test_split(geo_data_0[features].values,geo_data_0[target].values,test_size=0.25, random_state=42)\n",
        "rmse, score, y_pred0 = test_lr_model(X_train0,X_valid0,y_train0,y_valid0)\n",
        "print(f\"RMSE: {rmse}\")\n",
        "print(f\"R^2: {score}\")\n",
        "print(f\"y_pred_mean: {y_pred0.mean()}\")"
      ],
      "execution_count": 16,
      "outputs": [
        {
          "output_type": "stream",
          "text": [
            "RMSE: 37.75660035026169\n",
            "R^2: 0.2728287328173471\n",
            "y_pred_mean: 92.39879990657776\n"
          ],
          "name": "stdout"
        }
      ]
    },
    {
      "cell_type": "code",
      "metadata": {
        "id": "6zICBCFB155B",
        "colab_type": "code",
        "colab": {
          "base_uri": "https://localhost:8080/",
          "height": 68
        },
        "outputId": "62fe0943-d7d7-429f-dff0-39fa5096c771"
      },
      "source": [
        "X_train1,X_valid1,y_train1,y_valid1 = train_test_split(geo_data_1[features].values,geo_data_1[target].values,test_size=0.25, random_state=42)\n",
        "rmse, score, y_pred1 = test_lr_model(X_train1,X_valid1,y_train1,y_valid1)\n",
        "print(f\"RMSE: {rmse}\")\n",
        "print(f\"R^2: {score}\")\n",
        "print(f\"y_pred_mean: {y_pred1.mean()}\")"
      ],
      "execution_count": 17,
      "outputs": [
        {
          "output_type": "stream",
          "text": [
            "RMSE: 0.8902801001028893\n",
            "R^2: 0.9996245232002449\n",
            "y_pred_mean: 68.71287803913718\n"
          ],
          "name": "stdout"
        }
      ]
    },
    {
      "cell_type": "code",
      "metadata": {
        "id": "qFQNkyYD19vr",
        "colab_type": "code",
        "colab": {
          "base_uri": "https://localhost:8080/",
          "height": 68
        },
        "outputId": "95c85db7-b267-4dba-af72-01e5683c9c7f"
      },
      "source": [
        "X_train2,X_valid2,y_train2,y_valid2 = train_test_split(geo_data_2[features].values,geo_data_2[target].values,test_size=0.25, random_state=42)\n",
        "rmse, score, y_pred2 = test_lr_model(X_train2,X_valid2,y_train2,y_valid2)\n",
        "print(f\"RMSE: {rmse}\")\n",
        "print(f\"R^2: {score}\")\n",
        "print(f\"y_pred_mean: {y_pred2.mean()}\")"
      ],
      "execution_count": 18,
      "outputs": [
        {
          "output_type": "stream",
          "text": [
            "RMSE: 40.145872311342174\n",
            "R^2: 0.19634705977280487\n",
            "y_pred_mean: 94.7710238776594\n"
          ],
          "name": "stdout"
        }
      ]
    },
    {
      "cell_type": "code",
      "metadata": {
        "id": "gB1N0VsbhAxT",
        "colab_type": "code",
        "colab": {}
      },
      "source": [
        "def test_model_cv(df):\n",
        "  \"\"\"\n",
        "  cross-validation checker of linear regression model \n",
        "  (also we could use LinearRegressionCV)\n",
        "  \"\"\"\n",
        "  shuffle(df)\n",
        "  X, y = df[features].values, df[target].values\n",
        "  result = dict(rmse=[], score=[])\n",
        "  for train_index, valid_index in KFold(n_splits=5).split(X):\n",
        "    scaler = StandardScaler()\n",
        "    X_train, X_valid = X[train_index], X[valid_index]\n",
        "    y_train, y_valid = y[train_index], y[valid_index]\n",
        "    scaler.fit(X_train)\n",
        "    X_train = scaler.transform(X_train)\n",
        "    X_valid = scaler.transform(X_valid)\n",
        "    rmse, score, _ = test_lr_model(X_train, X_valid, y_train, y_valid)\n",
        "    result[\"rmse\"].append(rmse)\n",
        "    result[\"score\"].append(score)\n",
        "  return pd.DataFrame(result)"
      ],
      "execution_count": 19,
      "outputs": []
    },
    {
      "cell_type": "code",
      "metadata": {
        "id": "5Fpf8fpYiU46",
        "colab_type": "code",
        "colab": {
          "base_uri": "https://localhost:8080/",
          "height": 68
        },
        "outputId": "7f9aab74-1814-4bcd-cbe0-9ef53b6d8995"
      },
      "source": [
        "test_model_cv(geo_data_0).describe().T['mean']"
      ],
      "execution_count": 20,
      "outputs": [
        {
          "output_type": "execute_result",
          "data": {
            "text/plain": [
              "rmse     37.694273\n",
              "score     0.275491\n",
              "Name: mean, dtype: float64"
            ]
          },
          "metadata": {
            "tags": []
          },
          "execution_count": 20
        }
      ]
    },
    {
      "cell_type": "code",
      "metadata": {
        "id": "Cycwx816iqxZ",
        "colab_type": "code",
        "colab": {
          "base_uri": "https://localhost:8080/",
          "height": 68
        },
        "outputId": "2ee57f50-f828-449a-f7bc-b8ff6777f9cd"
      },
      "source": [
        "test_model_cv(geo_data_1).describe().T['mean']"
      ],
      "execution_count": 21,
      "outputs": [
        {
          "output_type": "execute_result",
          "data": {
            "text/plain": [
              "rmse     0.890408\n",
              "score    0.999624\n",
              "Name: mean, dtype: float64"
            ]
          },
          "metadata": {
            "tags": []
          },
          "execution_count": 21
        }
      ]
    },
    {
      "cell_type": "code",
      "metadata": {
        "id": "A8KRhOG5irM_",
        "colab_type": "code",
        "colab": {
          "base_uri": "https://localhost:8080/",
          "height": 68
        },
        "outputId": "c74a9a7d-1fa8-4a85-debe-583327412048"
      },
      "source": [
        "test_model_cv(geo_data_2).describe().T['mean']"
      ],
      "execution_count": 22,
      "outputs": [
        {
          "output_type": "execute_result",
          "data": {
            "text/plain": [
              "rmse     40.056880\n",
              "score     0.198716\n",
              "Name: mean, dtype: float64"
            ]
          },
          "metadata": {
            "tags": []
          },
          "execution_count": 22
        }
      ]
    },
    {
      "cell_type": "markdown",
      "metadata": {
        "id": "deSncswkCkN1",
        "colab_type": "text"
      },
      "source": [
        "## 2.5. Analyze the results."
      ]
    },
    {
      "cell_type": "markdown",
      "metadata": {
        "id": "mLCyAFL22i_P",
        "colab_type": "text"
      },
      "source": [
        "We got next results for our models:\n",
        "\n",
        "RMSE: 37.76\n",
        "$R^2$: 0.27\n",
        "y_pred_mean: 92.40\n",
        "\n",
        "RMSE: 0.89\n",
        "$R^2$: 0.99\n",
        "y_pred_mean: 68.71\n",
        "\n",
        "RMSE: 40.15\n",
        "$R^2$: 0.19\n",
        "y_pred_mean: 94.77\n",
        "\n",
        "and for cross-validation:\n",
        "<div class=\"output_subarea output_html rendered_html\"><div>\n",
        "<style scoped=\"\">\n",
        "    .dataframe tbody tr th:only-of-type {\n",
        "        vertical-align: middle;\n",
        "    }\n",
        "\n",
        "    .dataframe tbody tr th {\n",
        "        vertical-align: top;\n",
        "    }\n",
        "\n",
        "    .dataframe thead th {\n",
        "        text-align: right;\n",
        "    }\n",
        "</style>\n",
        "<table border=\"1\" class=\"dataframe\">\n",
        "  <thead>\n",
        "    <tr style=\"text-align: right;\">\n",
        "      <th></th>\n",
        "      <th>geo_data0</th>\n",
        "      <th>geo_data1</th>\n",
        "      <th>geo_data2</th>\n",
        "    </tr>\n",
        "  </thead>\n",
        "  <tbody>\n",
        "    <tr>\n",
        "      <th>rmse</th>\n",
        "      <td>37.694273</td>\n",
        "      <td>0.890408</td>\n",
        "      <td>40.056880</td>\n",
        "    </tr>\n",
        "    <tr>\n",
        "      <th>score</th>\n",
        "      <td>0.275491</td>\n",
        "      <td>0.999624</td>\n",
        "      <td>0.198716</td>\n",
        "    </tr>\n",
        "  </tbody>\n",
        "</table>\n",
        "</div></div>\n",
        "\n"
      ]
    },
    {
      "cell_type": "markdown",
      "metadata": {
        "id": "UUypa-LGQtuJ",
        "colab_type": "text"
      },
      "source": [
        "and we see a picture that fits in well with distribution, datasets1 and 2, have pretty similar results, RMSE around 40, and the high mean of predicted value around 90. and dataset 2 has good low metric RMSE around 0.89 but also low mean predicted value. on the other hand the second dataset has really good coeff of the determination in contradistinction to the others datasets"
      ]
    },
    {
      "cell_type": "markdown",
      "metadata": {
        "id": "Pk_ty7z3_thm",
        "colab_type": "text"
      },
      "source": [
        "# 3. Prepare for profit calculation:"
      ]
    },
    {
      "cell_type": "markdown",
      "metadata": {
        "id": "P4RMuLKsCqn-",
        "colab_type": "text"
      },
      "source": [
        "## 3.1 Store all key values for calculations in separate variables."
      ]
    },
    {
      "cell_type": "markdown",
      "metadata": {
        "id": "rbIcpm1-Sgdi",
        "colab_type": "text"
      },
      "source": [
        "<div class=\"paragraph\"><strong>Conditions:</strong></div><ul><li>Only linear regression is suitable for model training (the rest are not sufficiently predictable).</li><li>When exploring the region, a study of 500 points is carried with picking the best 200 points for the profit calculation.</li><li>The budget for development of 200 oil wells is 100 USD million.</li><li>One barrel of raw materials brings 4.5 USD of revenue The revenue from one unit of product is 4,500 dollars (volume of reserves is in thousand barrels).</li><li>After the risk evaluation, keep only the regions with the risk of losses lower than 2.5%. From the ones that fit the criteria, the region with the highest average profit should be selected.</li></ul><div class=\"paragraph\">The data is synthetic: contract details and well characteristics are not disclosed.</div>"
      ]
    },
    {
      "cell_type": "markdown",
      "metadata": {
        "id": "YRsqWgveCuto",
        "colab_type": "text"
      },
      "source": [
        "## 3.2 Calculate the volume of reserves sufficient for developing a new well without losses. Compare the obtained value with the average volume of reserves in each region."
      ]
    },
    {
      "cell_type": "code",
      "metadata": {
        "id": "lFBY598oS4zM",
        "colab_type": "code",
        "colab": {}
      },
      "source": [
        "n_points_all = 500\n",
        "n_points = 200\n",
        "budget_total = 100_000_000 #for 200\n",
        "income_per_volume = 4500\n",
        "thres_risk_max = 2.5/100\n",
        "budget_per_one = budget_total/n_points\n",
        "unit_of_volume = 1000 #Barrels"
      ],
      "execution_count": 23,
      "outputs": []
    },
    {
      "cell_type": "markdown",
      "metadata": {
        "id": "eRZCSiVe_Ru4",
        "colab_type": "text"
      },
      "source": [
        "worst scenario and best, when we expore all of points and when we since the first time found out best of the wells"
      ]
    },
    {
      "cell_type": "code",
      "metadata": {
        "id": "9pPWA8VR-LPS",
        "colab_type": "code",
        "colab": {
          "base_uri": "https://localhost:8080/",
          "height": 34
        },
        "outputId": "4b4dcb56-5fc3-4b2e-acff-6be672daf7fa"
      },
      "source": [
        "#the bad scenario\n",
        "(budget_total*n_points_all/n_points)/n_points/income_per_volume"
      ],
      "execution_count": 24,
      "outputs": [
        {
          "output_type": "execute_result",
          "data": {
            "text/plain": [
              "277.77777777777777"
            ]
          },
          "metadata": {
            "tags": []
          },
          "execution_count": 24
        }
      ]
    },
    {
      "cell_type": "code",
      "metadata": {
        "id": "CdEqnkES_gCu",
        "colab_type": "code",
        "colab": {
          "base_uri": "https://localhost:8080/",
          "height": 34
        },
        "outputId": "7b436651-7d9e-4e7e-8002-295fd0d0e2bf"
      },
      "source": [
        "#best\n",
        "print(f\"the volume of reserves sufficient for developing a new well without losses = {budget_total/n_points/income_per_volume:.2f}\")"
      ],
      "execution_count": 25,
      "outputs": [
        {
          "output_type": "stream",
          "text": [
            "the volume of reserves sufficient for developing a new well without losses = 111.11\n"
          ],
          "name": "stdout"
        }
      ]
    },
    {
      "cell_type": "markdown",
      "metadata": {
        "id": "kIEv38mpC3eW",
        "colab_type": "text"
      },
      "source": [
        "## 3.3. Provide the findings about the preparation for profit calculation step."
      ]
    },
    {
      "cell_type": "markdown",
      "metadata": {
        "id": "GEmi1xQHBA-O",
        "colab_type": "text"
      },
      "source": [
        "average predicted volumes that we found  92.40,68.71,94.77 and it's less than 111.11, the volume of reserves sufficient for developing a new well without losses, therefore it's our baseline for finding sufficient wells"
      ]
    },
    {
      "cell_type": "markdown",
      "metadata": {
        "id": "86N-_Rkh_uXp",
        "colab_type": "text"
      },
      "source": [
        "# 4. Write a function to calculate profit from a set of selected oil wells and model predictions:\n",
        "## 4.1 Pick the wells with the highest values of predictions.\n",
        "## 4.2 Summarize the target volume of reserves in accordance with these predictions\n",
        "## 4.3 Provide findings: suggest a region for oil wells' development and justify the choice. Calculate the profit for the obtained volume of reserves."
      ]
    },
    {
      "cell_type": "code",
      "metadata": {
        "id": "UJXKdUZzBc_D",
        "colab_type": "code",
        "colab": {}
      },
      "source": [
        "def revenue(target, predicted, count):\n",
        "    indices = predicted.sort_values(ascending=False).index\n",
        "    return target[indices][:count].sum() * income_per_volume - budget_total"
      ],
      "execution_count": 26,
      "outputs": []
    },
    {
      "cell_type": "code",
      "metadata": {
        "id": "GEOXwS8R23qO",
        "colab_type": "code",
        "colab": {}
      },
      "source": [
        "def revenue(target, predicted, well_count):\n",
        "    predicted_sorted = predicted.sort_values(ascending=False)\n",
        "    selected = target[predicted_sorted.index][:well_count]\n",
        "    return selected.sum() * income_per_volume - budget_total"
      ],
      "execution_count": 27,
      "outputs": []
    },
    {
      "cell_type": "markdown",
      "metadata": {
        "id": "bU0dEvtrDK_b",
        "colab_type": "text"
      },
      "source": [
        "# 5. Calculate risks and profit for each region:"
      ]
    },
    {
      "cell_type": "markdown",
      "metadata": {
        "id": "uAu7jMfiDOAl",
        "colab_type": "text"
      },
      "source": [
        "## 5.1 Use the bootstrapping technique with 1000 samples to find the distribution of profit."
      ]
    },
    {
      "cell_type": "code",
      "metadata": {
        "id": "7bn2VxqSCQTg",
        "colab_type": "code",
        "colab": {}
      },
      "source": [
        "def revenue_bs(target, predicted):\n",
        "    values = []\n",
        "    target = pd.Series(target)\n",
        "    predicted = pd.Series(predicted)\n",
        "    for i in range(1000):\n",
        "        target_sample = target.sample(n=n_points_all, replace=True, random_state=random_state)\n",
        "        values.append(revenue(target_sample, predicted[target_sample.index], n_points))\n",
        "    return pd.Series(values)"
      ],
      "execution_count": 28,
      "outputs": []
    },
    {
      "cell_type": "code",
      "metadata": {
        "id": "3B1Jp4AkC3MQ",
        "colab_type": "code",
        "colab": {}
      },
      "source": [
        "revenues0 = revenue_bs(y_valid0, y_pred0)\n",
        "revenues1 = revenue_bs(y_valid1, y_pred1)\n",
        "revenues2 = revenue_bs(y_valid2, y_pred2)"
      ],
      "execution_count": 29,
      "outputs": []
    },
    {
      "cell_type": "code",
      "metadata": {
        "id": "Dr1MJMOz7nkn",
        "colab_type": "code",
        "colab": {
          "base_uri": "https://localhost:8080/",
          "height": 34
        },
        "outputId": "b6151b75-3028-4dfa-cb47-84041e04eb3a"
      },
      "source": [
        "len(revenues0[revenues0<0])/len(revenues0)"
      ],
      "execution_count": 30,
      "outputs": [
        {
          "output_type": "execute_result",
          "data": {
            "text/plain": [
              "0.055"
            ]
          },
          "metadata": {
            "tags": []
          },
          "execution_count": 30
        }
      ]
    },
    {
      "cell_type": "code",
      "metadata": {
        "id": "DI7GC3PU7xzy",
        "colab_type": "code",
        "colab": {
          "base_uri": "https://localhost:8080/",
          "height": 34
        },
        "outputId": "0d0b2b7d-951e-4a11-a5a9-4563917c7799"
      },
      "source": [
        "len(revenues1[revenues1<0])/len(revenues1)"
      ],
      "execution_count": 31,
      "outputs": [
        {
          "output_type": "execute_result",
          "data": {
            "text/plain": [
              "0.006"
            ]
          },
          "metadata": {
            "tags": []
          },
          "execution_count": 31
        }
      ]
    },
    {
      "cell_type": "code",
      "metadata": {
        "id": "bq2zJx4E7yOV",
        "colab_type": "code",
        "colab": {
          "base_uri": "https://localhost:8080/",
          "height": 34
        },
        "outputId": "2c0b60c4-015f-415d-e646-c03ee814ed0f"
      },
      "source": [
        "len(revenues2[revenues2<0])/len(revenues2)"
      ],
      "execution_count": 32,
      "outputs": [
        {
          "output_type": "execute_result",
          "data": {
            "text/plain": [
              "0.075"
            ]
          },
          "metadata": {
            "tags": []
          },
          "execution_count": 32
        }
      ]
    },
    {
      "cell_type": "code",
      "metadata": {
        "id": "IKDleUtHCY_I",
        "colab_type": "code",
        "colab": {
          "base_uri": "https://localhost:8080/",
          "height": 306
        },
        "outputId": "75026aaf-5452-4f5a-87e0-33ea14a56186"
      },
      "source": [
        "sns.distplot(revenues0)\n",
        "sns.distplot(revenues1)\n",
        "sns.distplot(revenues2)\n",
        "plt.axvline(0, c=\"r\", label=\"\")\n",
        "plt.legend()"
      ],
      "execution_count": 33,
      "outputs": [
        {
          "output_type": "execute_result",
          "data": {
            "text/plain": [
              "<matplotlib.legend.Legend at 0x7feea3dd43c8>"
            ]
          },
          "metadata": {
            "tags": []
          },
          "execution_count": 33
        },
        {
          "output_type": "display_data",
          "data": {
            "image/png": "[encoded data removed]",
            "text/plain": [
              "<Figure size 432x288 with 1 Axes>"
            ]
          },
          "metadata": {
            "tags": [],
            "needs_background": "light"
          }
        }
      ]
    },
    {
      "cell_type": "markdown",
      "metadata": {
        "id": "l_30AnX-8A_-",
        "colab_type": "text"
      },
      "source": [
        "as we see, primarily, revenue for all of regions are profitable (there are some loss cases) "
      ]
    },
    {
      "cell_type": "markdown",
      "metadata": {
        "id": "FuGqwINbDQsx",
        "colab_type": "text"
      },
      "source": [
        "## 5.2 Find average profit, 95% confidence interval and risk of losses. Loss is negative profit, calculate it as a probability and then express as a percentage."
      ]
    },
    {
      "cell_type": "code",
      "metadata": {
        "id": "baaSFAxH5wz0",
        "colab_type": "code",
        "colab": {
          "base_uri": "https://localhost:8080/",
          "height": 34
        },
        "outputId": "5600a651-be3c-45da-8c7a-d9b5df7b3ec3"
      },
      "source": [
        "confidence_interval = st.t.interval(0.95, len(revenues0)-1, revenues0.mean(), revenues0.sem())\n",
        "loss_risk = len(revenues0[revenues0 < 0]) / len(revenues0)\n",
        "print(f\"\"\"average profit of first region is {revenues0.mean():.2f}, 95% confidence interval is  ({confidence_interval[0]:.2f}, {confidence_interval[1]:.2f}) \\\n",
        "and risk of losses {loss_risk:.2%}\"\"\")"
      ],
      "execution_count": 34,
      "outputs": [
        {
          "output_type": "stream",
          "text": [
            "average profit of first region is 4278475.60, 95% confidence interval is  (4110802.09, 4446149.11) and risk of losses 5.50%\n"
          ],
          "name": "stdout"
        }
      ]
    },
    {
      "cell_type": "code",
      "metadata": {
        "id": "drdwzGgv4WVZ",
        "colab_type": "code",
        "colab": {
          "base_uri": "https://localhost:8080/",
          "height": 34
        },
        "outputId": "f910ef35-c22e-432e-f63e-1270060ea983"
      },
      "source": [
        "confidence_interval = st.t.interval(0.95, len(revenues1)-1, revenues1.mean(), revenues1.sem())\n",
        "loss_risk = len(revenues1[revenues1 < 0]) / len(revenues1)\n",
        "print(f\"\"\"average profit of second region is {revenues1.mean():.2f}, 95% confidence interval is  ({confidence_interval[0]:.2f}, {confidence_interval[1]:.2f}) \\\n",
        "and risk of losses {loss_risk:.2%}\"\"\")"
      ],
      "execution_count": 35,
      "outputs": [
        {
          "output_type": "stream",
          "text": [
            "average profit of second region is 5115302.18, 95% confidence interval is  (4980530.31, 5250074.06) and risk of losses 0.60%\n"
          ],
          "name": "stdout"
        }
      ]
    },
    {
      "cell_type": "code",
      "metadata": {
        "id": "2Fodf-8W68Vb",
        "colab_type": "code",
        "colab": {
          "base_uri": "https://localhost:8080/",
          "height": 34
        },
        "outputId": "2ca7f66d-a1c9-4ee2-bb9d-15a89271497f"
      },
      "source": [
        "confidence_interval = st.t.interval(0.95, len(revenues2)-1, revenues2.mean(), revenues2.sem())\n",
        "loss_risk = len(revenues2[revenues2 < 0]) / len(revenues2)\n",
        "print(f\"\"\"average profit of third region is {revenues2.mean():.2f}, 95% confidence interval is  ({confidence_interval[0]:.2f}, {confidence_interval[1]:.2f}) \\\n",
        "and risk of losses {loss_risk:.2%}\"\"\")"
      ],
      "execution_count": 36,
      "outputs": [
        {
          "output_type": "stream",
          "text": [
            "average profit of third region is 4085456.81, 95% confidence interval is  (3912282.08, 4258631.55) and risk of losses 7.50%\n"
          ],
          "name": "stdout"
        }
      ]
    },
    {
      "cell_type": "markdown",
      "metadata": {
        "id": "Ln7i8-rqDUE6",
        "colab_type": "text"
      },
      "source": [
        "## 5.3 Provide findings: suggest a region for development of oil wells and justify the choice."
      ]
    },
    {
      "cell_type": "markdown",
      "metadata": {
        "id": "dg6ULAhE8Pub",
        "colab_type": "text"
      },
      "source": [
        "as we could see, most interesting for development region, it's second one. in this case we have most valuable confidence interval with good profit (also mean predicted value and coefficient of determination closed to one, and low RMSE) and risk of losses is around 1%"
      ]
    },
    {
      "cell_type": "markdown",
      "metadata": {
        "id": "3K1_PB-8-4u4",
        "colab_type": "text"
      },
      "source": [
        "# Project evaluation\n",
        "\n",
        "<div class=\"paragraph\">We’ve put together the evaluation criteria for the project. Read this carefully before moving on to the task.</div><div class=\"paragraph\">Here’s what the reviewers will look at when reviewing your project:</div><ul><li>How did you prepare the data for training?</li><li>Have you followed all the steps of the instructions?</li><li>Have you taken into account all the business conditions?</li><li>What are your findings about the task study?</li><li>Have you applied the <em>Bootstrapping</em> technique correctly?</li><li>Have you suggested the best region for well development? Is the choice justified?</li><li>Did you avoid code duplication?</li><li>Have you kept to the project structure and kept the code neat?</li></ul></div>"
      ]
    }
  ]
}