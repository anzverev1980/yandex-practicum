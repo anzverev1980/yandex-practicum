{
  "nbformat": 4,
  "nbformat_minor": 0,
  "metadata": {
    "kernelspec": {
      "display_name": "Python 3",
      "language": "python",
      "name": "python3"
    },
    "language_info": {
      "codemirror_mode": {
        "name": "ipython",
        "version": 3
      },
      "file_extension": ".py",
      "mimetype": "text/x-python",
      "name": "python",
      "nbconvert_exporter": "python",
      "pygments_lexer": "ipython3",
      "version": "3.7.4"
    },
    "toc": {
      "base_numbering": 1,
      "nav_menu": {},
      "number_sections": true,
      "sideBar": true,
      "skip_h1_title": false,
      "title_cell": "Table of Contents",
      "title_sidebar": "Contents",
      "toc_cell": false,
      "toc_position": {},
      "toc_section_display": true,
      "toc_window_display": false
    },
    "colab": {
      "name": "sprint_4.ipynb",
      "provenance": [],
      "collapsed_sections": []
    }
  },
  "cells": [
    {
      "cell_type": "code",
      "metadata": {
        "ExecuteTime": {
          "start_time": "2020-04-22T14:25:32.313Z"
        },
        "id": "zV4eZtqeScBC",
        "colab_type": "code",
        "colab": {}
      },
      "source": [
        "import pandas as pd\n",
        "import numpy as np\n",
        "import matplotlib.pyplot as plt\n",
        "import seaborn as sns\n",
        "%matplotlib inline\n",
        "from IPython.core.interactiveshell import InteractiveShell\n",
        "import re\n",
        "from scipy import stats as stats\n",
        "from scipy.stats import f as f_test\n",
        "InteractiveShell.ast_node_interactivity = 'all'\n",
        "import warnings\n",
        "warnings.filterwarnings('ignore')"
      ],
      "execution_count": 0,
      "outputs": []
    },
    {
      "cell_type": "markdown",
      "metadata": {
        "id": "lfoBooa3ScBJ",
        "colab_type": "text"
      },
      "source": [
        "# Open the data file and study the general information"
      ]
    },
    {
      "cell_type": "markdown",
      "metadata": {
        "id": "RSpTQ4kYScBK",
        "colab_type": "text"
      },
      "source": [
        "<div class=\"paragraph\">You work as an analyst for \"Megaline\", a state mobile operator. The company offers its clients two prepaid plans, Surf and Ultimate. The commercial department would like to know which of the plans is more profitable in order to adjust the advertising budget. </div><div class=\"paragraph\">You are going to carry out a preliminary analysis of the plans based on a relatively small client selection. You'll have the data on 500 \"Megaline\" clients, specifically, who the clients are, where they are from, which plan they use, the number of calls made and SMS they sent in 2018. You have to analyse clients' behavior and work out the most profitable prepaid plan. </div><h3>Prepaid plans description</h3><div class=\"paragraph\"><strong>Surf</strong></div>\n",
        "\n",
        "<ol start=\"1\"><li>Monthly charge: \\$20</li><li>500 monthly minutes, 50 SMS and 15 GB of web traffic</li><li>After exceeding the package limits:\n",
        " 1. 1 minute: 3 cents (\"Megaline\" always rounds up the minute and megabyte values. If the call lasted just one second, it will be counted as one minute);\n",
        " 2. SMS: 3 cents;\n",
        " 3. 1 GB of web traffic: \\$10.</li></ol><div class=\"paragraph\"><strong>Ultimate</strong></div><ol start=\"1\"><li>Monthly charge: $70</li><li>3000 monthly minutes, 1000 SMS and 30 GB of web traffic</li><li>After exceeding the package limits:\n",
        " 1. 1 minute: 1 cent;\n",
        " 2. SMS: 1 cent;\n",
        " 3. 1 GB of web traffic: \\$7.</li></ol>"
      ]
    },
    {
      "cell_type": "markdown",
      "metadata": {
        "id": "ACd-BLdKScBL",
        "colab_type": "text"
      },
      "source": [
        "\n",
        "<div class=\"markdown markdown_size_normal markdown_type_theory\"><h2><strong>Project description</strong></h2><h3>Data description</h3><div class=\"paragraph\">The <code class=\"code-inline code-inline_theme_light\">users</code> table (data on users):</div><ul><li><em>user_id</em> — unique user identifier</li><li><em>first_name</em> — user's name</li><li><em>last_name</em> — user's last name</li><li><em>age</em> — user's age (years)</li><li><em>reg_date</em> — subscription date (dd, mm, yy)</li><li><em>churn_date</em> — the date of use discontinue (if the value is missed, the calling plan was used at the moment of data extraction)</li><li><em>city</em> — user's city of residence</li><li><em>tarif</em> — calling plan name</li></ul><div class=\"paragraph\">The <code class=\"code-inline code-inline_theme_light\">calls</code> table (data on calls):</div><ul><li><em>id</em> — unique call identifier</li><li><em>call_date</em> — call date</li><li><em>duration</em> — call duration in minutes</li><li><em>user_id</em> — the identifier of the user making a call</li></ul><div class=\"paragraph\">The <code class=\"code-inline code-inline_theme_light\">messages</code> table (data on SMS):</div><ul><li><em>id</em> — unique SMS identifier</li><li><em>message_date</em> — SMS date</li><li><em>user_id</em> — the identifier of the user sending an SMS</li></ul><div class=\"paragraph\">The <code class=\"code-inline code-inline_theme_light\">internet</code> table (data on web sessions):</div><ul><li><em>id</em> — unique session id</li><li><em>mb_used</em> —  the volume of web traffic spent during a session (in megabytes)</li><li><em>session_date</em> — web session date</li><li><em>user_id</em> — user identifier</li></ul><div class=\"paragraph\">The <code class=\"code-inline code-inline_theme_light\">tariffs</code> table (data on the plans):</div><ul><li><em>tariff_name</em> — calling plan name</li><li><em>rub_monthly_fee</em> — monthly charge in rubles</li><li><em>minutes_included</em> — monthly minutes within package limits</li><li><em>messages_included</em> — monthly SMS within package limits</li><li><em>mb_per_month_included</em> — web traffic volume within package limits (in megabytes)</li><li><em>rub_per_minute</em> — the price per minute after exceeding the package limits (e.g., if the package included 100 minutes, the 101st minute will be charged)</li><li><em>rub_per_message</em> — the price per SMS after exceeding the package limits</li><li><em>rub_per_gb</em> — the price per extra gigabyte of web traffic after exceeding the package limits (1 GB = 1024 megabytes)</li></ul></div>"
      ]
    },
    {
      "cell_type": "code",
      "metadata": {
        "ExecuteTime": {
          "end_time": "2020-04-22T14:21:20.391239Z",
          "start_time": "2020-04-22T14:21:20.382145Z"
        },
        "id": "MwJiSZo7ScBM",
        "colab_type": "code",
        "colab": {}
      },
      "source": [
        "host=\"https://code.s3.yandex.net/\""
      ],
      "execution_count": 0,
      "outputs": []
    },
    {
      "cell_type": "code",
      "metadata": {
        "ExecuteTime": {
          "start_time": "2020-04-22T14:24:22.813Z"
        },
        "id": "Lcl4PYoTScBQ",
        "colab_type": "code",
        "colab": {}
      },
      "source": [
        "megaline_calls = pd.read_csv(host+\"datasets/megaline_calls.csv\")\n",
        "megaline_internet = pd.read_csv(host+\"datasets/megaline_internet.csv\")\n",
        "megaline_messages = pd.read_csv(host+\"datasets/megaline_messages.csv\")\n",
        "megaline_tariffs = pd.read_csv(host+\"datasets/megaline_tariffs.csv\")\n",
        "megaline_users = pd.read_csv(host+\"datasets/megaline_users.csv\")"
      ],
      "execution_count": 0,
      "outputs": []
    },
    {
      "cell_type": "code",
      "metadata": {
        "id": "tsoYclyKScBW",
        "colab_type": "code",
        "colab": {}
      },
      "source": [
        "megaline_datasets = {\"megaline_calls\":megaline_calls, \"megaline_internet\":megaline_internet, \"megaline_messages\":megaline_messages, \"megaline_tariffs\":megaline_tariffs, \"megaline_users\":megaline_users}"
      ],
      "execution_count": 0,
      "outputs": []
    },
    {
      "cell_type": "code",
      "metadata": {
        "id": "tKaTDgM5ScBa",
        "colab_type": "code",
        "colab": {
          "base_uri": "https://localhost:8080/",
          "height": 34
        },
        "outputId": "dea18b43-d2ac-427d-e831-1e58508c894c"
      },
      "source": [
        "for name, ds in megaline_datasets.items():\n",
        "    f\"{name} {ds.shape}\""
      ],
      "execution_count": 11,
      "outputs": [
        {
          "output_type": "execute_result",
          "data": {
            "text/plain": [
              "'megaline_calls (137735, 4)'"
            ]
          },
          "metadata": {
            "tags": []
          },
          "execution_count": 11
        },
        {
          "output_type": "execute_result",
          "data": {
            "text/plain": [
              "'megaline_internet (104825, 4)'"
            ]
          },
          "metadata": {
            "tags": []
          },
          "execution_count": 11
        },
        {
          "output_type": "execute_result",
          "data": {
            "text/plain": [
              "'megaline_messages (76051, 3)'"
            ]
          },
          "metadata": {
            "tags": []
          },
          "execution_count": 11
        },
        {
          "output_type": "execute_result",
          "data": {
            "text/plain": [
              "'megaline_tariffs (2, 8)'"
            ]
          },
          "metadata": {
            "tags": []
          },
          "execution_count": 11
        },
        {
          "output_type": "execute_result",
          "data": {
            "text/plain": [
              "'megaline_users (500, 8)'"
            ]
          },
          "metadata": {
            "tags": []
          },
          "execution_count": 11
        }
      ]
    },
    {
      "cell_type": "code",
      "metadata": {
        "id": "9zYcSd6STSnc",
        "colab_type": "code",
        "colab": {
          "base_uri": "https://localhost:8080/",
          "height": 1000
        },
        "outputId": "9a27aa72-8cf5-4939-c6fe-b33832cba24b"
      },
      "source": [
        "for name, ds in megaline_datasets.items():\n",
        "    f\"{name}\"\n",
        "    ds.info()"
      ],
      "execution_count": 12,
      "outputs": [
        {
          "output_type": "execute_result",
          "data": {
            "text/plain": [
              "'megaline_calls'"
            ]
          },
          "metadata": {
            "tags": []
          },
          "execution_count": 12
        },
        {
          "output_type": "stream",
          "text": [
            "<class 'pandas.core.frame.DataFrame'>\n",
            "RangeIndex: 137735 entries, 0 to 137734\n",
            "Data columns (total 4 columns):\n",
            " #   Column     Non-Null Count   Dtype  \n",
            "---  ------     --------------   -----  \n",
            " 0   id         137735 non-null  object \n",
            " 1   user_id    137735 non-null  int64  \n",
            " 2   call_date  137735 non-null  object \n",
            " 3   duration   137735 non-null  float64\n",
            "dtypes: float64(1), int64(1), object(2)\n",
            "memory usage: 4.2+ MB\n"
          ],
          "name": "stdout"
        },
        {
          "output_type": "execute_result",
          "data": {
            "text/plain": [
              "'megaline_internet'"
            ]
          },
          "metadata": {
            "tags": []
          },
          "execution_count": 12
        },
        {
          "output_type": "stream",
          "text": [
            "<class 'pandas.core.frame.DataFrame'>\n",
            "RangeIndex: 104825 entries, 0 to 104824\n",
            "Data columns (total 4 columns):\n",
            " #   Column        Non-Null Count   Dtype  \n",
            "---  ------        --------------   -----  \n",
            " 0   id            104825 non-null  object \n",
            " 1   user_id       104825 non-null  int64  \n",
            " 2   session_date  104825 non-null  object \n",
            " 3   mb_used       104825 non-null  float64\n",
            "dtypes: float64(1), int64(1), object(2)\n",
            "memory usage: 3.2+ MB\n"
          ],
          "name": "stdout"
        },
        {
          "output_type": "execute_result",
          "data": {
            "text/plain": [
              "'megaline_messages'"
            ]
          },
          "metadata": {
            "tags": []
          },
          "execution_count": 12
        },
        {
          "output_type": "stream",
          "text": [
            "<class 'pandas.core.frame.DataFrame'>\n",
            "RangeIndex: 76051 entries, 0 to 76050\n",
            "Data columns (total 3 columns):\n",
            " #   Column        Non-Null Count  Dtype \n",
            "---  ------        --------------  ----- \n",
            " 0   id            76051 non-null  object\n",
            " 1   user_id       76051 non-null  int64 \n",
            " 2   message_date  76051 non-null  object\n",
            "dtypes: int64(1), object(2)\n",
            "memory usage: 1.7+ MB\n"
          ],
          "name": "stdout"
        },
        {
          "output_type": "execute_result",
          "data": {
            "text/plain": [
              "'megaline_tariffs'"
            ]
          },
          "metadata": {
            "tags": []
          },
          "execution_count": 12
        },
        {
          "output_type": "stream",
          "text": [
            "<class 'pandas.core.frame.DataFrame'>\n",
            "RangeIndex: 2 entries, 0 to 1\n",
            "Data columns (total 8 columns):\n",
            " #   Column                 Non-Null Count  Dtype  \n",
            "---  ------                 --------------  -----  \n",
            " 0   messages_included      2 non-null      int64  \n",
            " 1   mb_per_month_included  2 non-null      int64  \n",
            " 2   minutes_included       2 non-null      int64  \n",
            " 3   usd_monthly_pay        2 non-null      int64  \n",
            " 4   usd_per_gb             2 non-null      int64  \n",
            " 5   usd_per_message        2 non-null      float64\n",
            " 6   usd_per_minute         2 non-null      float64\n",
            " 7   tariff_name            2 non-null      object \n",
            "dtypes: float64(2), int64(5), object(1)\n",
            "memory usage: 256.0+ bytes\n"
          ],
          "name": "stdout"
        },
        {
          "output_type": "execute_result",
          "data": {
            "text/plain": [
              "'megaline_users'"
            ]
          },
          "metadata": {
            "tags": []
          },
          "execution_count": 12
        },
        {
          "output_type": "stream",
          "text": [
            "<class 'pandas.core.frame.DataFrame'>\n",
            "RangeIndex: 500 entries, 0 to 499\n",
            "Data columns (total 8 columns):\n",
            " #   Column      Non-Null Count  Dtype \n",
            "---  ------      --------------  ----- \n",
            " 0   user_id     500 non-null    int64 \n",
            " 1   first_name  500 non-null    object\n",
            " 2   last_name   500 non-null    object\n",
            " 3   age         500 non-null    int64 \n",
            " 4   city        500 non-null    object\n",
            " 5   reg_date    500 non-null    object\n",
            " 6   tariff      500 non-null    object\n",
            " 7   churn_date  34 non-null     object\n",
            "dtypes: int64(2), object(6)\n",
            "memory usage: 31.4+ KB\n"
          ],
          "name": "stdout"
        }
      ]
    },
    {
      "cell_type": "markdown",
      "metadata": {
        "id": "lyzXdsuGScBd",
        "colab_type": "text"
      },
      "source": [
        "# Prepare the data"
      ]
    },
    {
      "cell_type": "markdown",
      "metadata": {
        "id": "DD8s_VN57YNg",
        "colab_type": "text"
      },
      "source": [
        "<ul><li>Convert the data to the necessary types;</li><li>Find and remove the errors in the data.</li></ul><div class=\"paragraph\">Explain what errors did you find and how did you remove them. \n",
        "Please note: quite a lot of calls have a duration of 0.0 minutes, a strong hint that there is a problem with the data and needs preprocessing. </div><div class=\"paragraph\">For each user, find:</div><ul><li>the number of calls made and minutes spent per month;</li><li>the number of SMS sent per month;</li><li>the volume of web traffic per month;</li><li>the monthly profit from each of the users (subtract free package limit from the total number of calls, SMS and web traffic; multiply the result by the calling plan value; add monthly charge depending on the calling plan).</li></ul>"
      ]
    },
    {
      "cell_type": "code",
      "metadata": {
        "id": "YqSrwluhScBe",
        "colab_type": "code",
        "colab": {
          "base_uri": "https://localhost:8080/",
          "height": 572
        },
        "outputId": "dea3a5d1-8362-4be5-c6eb-b0c77d74a2c9"
      },
      "source": [
        "for name, ds in megaline_datasets.items():\n",
        "    f\"{name}\"\n",
        "    ds.sample(2)"
      ],
      "execution_count": 22,
      "outputs": [
        {
          "output_type": "execute_result",
          "data": {
            "text/plain": [
              "'megaline_calls'"
            ]
          },
          "metadata": {
            "tags": []
          },
          "execution_count": 22
        },
        {
          "output_type": "execute_result",
          "data": {
            "text/html": [
              "<div>\n",
              "<style scoped>\n",
              "    .dataframe tbody tr th:only-of-type {\n",
              "        vertical-align: middle;\n",
              "    }\n",
              "\n",
              "    .dataframe tbody tr th {\n",
              "        vertical-align: top;\n",
              "    }\n",
              "\n",
              "    .dataframe thead th {\n",
              "        text-align: right;\n",
              "    }\n",
              "</style>\n",
              "<table border=\"1\" class=\"dataframe\">\n",
              "  <thead>\n",
              "    <tr style=\"text-align: right;\">\n",
              "      <th></th>\n",
              "      <th>id</th>\n",
              "      <th>user_id</th>\n",
              "      <th>call_date</th>\n",
              "      <th>duration</th>\n",
              "    </tr>\n",
              "  </thead>\n",
              "  <tbody>\n",
              "    <tr>\n",
              "      <th>128668</th>\n",
              "      <td>1462_81</td>\n",
              "      <td>1462</td>\n",
              "      <td>2018-11-08</td>\n",
              "      <td>2.65</td>\n",
              "    </tr>\n",
              "    <tr>\n",
              "      <th>123766</th>\n",
              "      <td>1436_744</td>\n",
              "      <td>1436</td>\n",
              "      <td>2018-10-06</td>\n",
              "      <td>0.00</td>\n",
              "    </tr>\n",
              "  </tbody>\n",
              "</table>\n",
              "</div>"
            ],
            "text/plain": [
              "              id  user_id   call_date  duration\n",
              "128668   1462_81     1462  2018-11-08      2.65\n",
              "123766  1436_744     1436  2018-10-06      0.00"
            ]
          },
          "metadata": {
            "tags": []
          },
          "execution_count": 22
        },
        {
          "output_type": "execute_result",
          "data": {
            "text/plain": [
              "'megaline_internet'"
            ]
          },
          "metadata": {
            "tags": []
          },
          "execution_count": 22
        },
        {
          "output_type": "execute_result",
          "data": {
            "text/html": [
              "<div>\n",
              "<style scoped>\n",
              "    .dataframe tbody tr th:only-of-type {\n",
              "        vertical-align: middle;\n",
              "    }\n",
              "\n",
              "    .dataframe tbody tr th {\n",
              "        vertical-align: top;\n",
              "    }\n",
              "\n",
              "    .dataframe thead th {\n",
              "        text-align: right;\n",
              "    }\n",
              "</style>\n",
              "<table border=\"1\" class=\"dataframe\">\n",
              "  <thead>\n",
              "    <tr style=\"text-align: right;\">\n",
              "      <th></th>\n",
              "      <th>id</th>\n",
              "      <th>user_id</th>\n",
              "      <th>session_date</th>\n",
              "      <th>mb_used</th>\n",
              "    </tr>\n",
              "  </thead>\n",
              "  <tbody>\n",
              "    <tr>\n",
              "      <th>31728</th>\n",
              "      <td>1144_469</td>\n",
              "      <td>1144</td>\n",
              "      <td>2018-05-24</td>\n",
              "      <td>475.61</td>\n",
              "    </tr>\n",
              "    <tr>\n",
              "      <th>78963</th>\n",
              "      <td>1368_132</td>\n",
              "      <td>1368</td>\n",
              "      <td>2018-09-02</td>\n",
              "      <td>97.99</td>\n",
              "    </tr>\n",
              "  </tbody>\n",
              "</table>\n",
              "</div>"
            ],
            "text/plain": [
              "             id  user_id session_date  mb_used\n",
              "31728  1144_469     1144   2018-05-24   475.61\n",
              "78963  1368_132     1368   2018-09-02    97.99"
            ]
          },
          "metadata": {
            "tags": []
          },
          "execution_count": 22
        },
        {
          "output_type": "execute_result",
          "data": {
            "text/plain": [
              "'megaline_messages'"
            ]
          },
          "metadata": {
            "tags": []
          },
          "execution_count": 22
        },
        {
          "output_type": "execute_result",
          "data": {
            "text/html": [
              "<div>\n",
              "<style scoped>\n",
              "    .dataframe tbody tr th:only-of-type {\n",
              "        vertical-align: middle;\n",
              "    }\n",
              "\n",
              "    .dataframe tbody tr th {\n",
              "        vertical-align: top;\n",
              "    }\n",
              "\n",
              "    .dataframe thead th {\n",
              "        text-align: right;\n",
              "    }\n",
              "</style>\n",
              "<table border=\"1\" class=\"dataframe\">\n",
              "  <thead>\n",
              "    <tr style=\"text-align: right;\">\n",
              "      <th></th>\n",
              "      <th>id</th>\n",
              "      <th>user_id</th>\n",
              "      <th>message_date</th>\n",
              "    </tr>\n",
              "  </thead>\n",
              "  <tbody>\n",
              "    <tr>\n",
              "      <th>13165</th>\n",
              "      <td>1088_93</td>\n",
              "      <td>1088</td>\n",
              "      <td>2018-11-03</td>\n",
              "    </tr>\n",
              "    <tr>\n",
              "      <th>32644</th>\n",
              "      <td>1203_289</td>\n",
              "      <td>1203</td>\n",
              "      <td>2018-04-07</td>\n",
              "    </tr>\n",
              "  </tbody>\n",
              "</table>\n",
              "</div>"
            ],
            "text/plain": [
              "             id  user_id message_date\n",
              "13165   1088_93     1088   2018-11-03\n",
              "32644  1203_289     1203   2018-04-07"
            ]
          },
          "metadata": {
            "tags": []
          },
          "execution_count": 22
        },
        {
          "output_type": "execute_result",
          "data": {
            "text/plain": [
              "'megaline_tariffs'"
            ]
          },
          "metadata": {
            "tags": []
          },
          "execution_count": 22
        },
        {
          "output_type": "execute_result",
          "data": {
            "text/html": [
              "<div>\n",
              "<style scoped>\n",
              "    .dataframe tbody tr th:only-of-type {\n",
              "        vertical-align: middle;\n",
              "    }\n",
              "\n",
              "    .dataframe tbody tr th {\n",
              "        vertical-align: top;\n",
              "    }\n",
              "\n",
              "    .dataframe thead th {\n",
              "        text-align: right;\n",
              "    }\n",
              "</style>\n",
              "<table border=\"1\" class=\"dataframe\">\n",
              "  <thead>\n",
              "    <tr style=\"text-align: right;\">\n",
              "      <th></th>\n",
              "      <th>messages_included</th>\n",
              "      <th>mb_per_month_included</th>\n",
              "      <th>minutes_included</th>\n",
              "      <th>usd_monthly_pay</th>\n",
              "      <th>usd_per_gb</th>\n",
              "      <th>usd_per_message</th>\n",
              "      <th>usd_per_minute</th>\n",
              "      <th>tariff_name</th>\n",
              "    </tr>\n",
              "  </thead>\n",
              "  <tbody>\n",
              "    <tr>\n",
              "      <th>1</th>\n",
              "      <td>1000</td>\n",
              "      <td>30720</td>\n",
              "      <td>3000</td>\n",
              "      <td>70</td>\n",
              "      <td>7</td>\n",
              "      <td>0.01</td>\n",
              "      <td>0.01</td>\n",
              "      <td>ultimate</td>\n",
              "    </tr>\n",
              "    <tr>\n",
              "      <th>0</th>\n",
              "      <td>50</td>\n",
              "      <td>15360</td>\n",
              "      <td>500</td>\n",
              "      <td>20</td>\n",
              "      <td>10</td>\n",
              "      <td>0.03</td>\n",
              "      <td>0.03</td>\n",
              "      <td>surf</td>\n",
              "    </tr>\n",
              "  </tbody>\n",
              "</table>\n",
              "</div>"
            ],
            "text/plain": [
              "   messages_included  mb_per_month_included  ...  usd_per_minute  tariff_name\n",
              "1               1000                  30720  ...            0.01     ultimate\n",
              "0                 50                  15360  ...            0.03         surf\n",
              "\n",
              "[2 rows x 8 columns]"
            ]
          },
          "metadata": {
            "tags": []
          },
          "execution_count": 22
        },
        {
          "output_type": "execute_result",
          "data": {
            "text/plain": [
              "'megaline_users'"
            ]
          },
          "metadata": {
            "tags": []
          },
          "execution_count": 22
        },
        {
          "output_type": "execute_result",
          "data": {
            "text/html": [
              "<div>\n",
              "<style scoped>\n",
              "    .dataframe tbody tr th:only-of-type {\n",
              "        vertical-align: middle;\n",
              "    }\n",
              "\n",
              "    .dataframe tbody tr th {\n",
              "        vertical-align: top;\n",
              "    }\n",
              "\n",
              "    .dataframe thead th {\n",
              "        text-align: right;\n",
              "    }\n",
              "</style>\n",
              "<table border=\"1\" class=\"dataframe\">\n",
              "  <thead>\n",
              "    <tr style=\"text-align: right;\">\n",
              "      <th></th>\n",
              "      <th>user_id</th>\n",
              "      <th>first_name</th>\n",
              "      <th>last_name</th>\n",
              "      <th>age</th>\n",
              "      <th>city</th>\n",
              "      <th>reg_date</th>\n",
              "      <th>tariff</th>\n",
              "      <th>churn_date</th>\n",
              "    </tr>\n",
              "  </thead>\n",
              "  <tbody>\n",
              "    <tr>\n",
              "      <th>86</th>\n",
              "      <td>1086</td>\n",
              "      <td>Adena</td>\n",
              "      <td>Macias</td>\n",
              "      <td>36</td>\n",
              "      <td>New York-Newark-Jersey City, NY-NJ-PA MSA</td>\n",
              "      <td>2018-01-13</td>\n",
              "      <td>ultimate</td>\n",
              "      <td>NaN</td>\n",
              "    </tr>\n",
              "    <tr>\n",
              "      <th>271</th>\n",
              "      <td>1271</td>\n",
              "      <td>Darrin</td>\n",
              "      <td>Rose</td>\n",
              "      <td>48</td>\n",
              "      <td>New York-Newark-Jersey City, NY-NJ-PA MSA</td>\n",
              "      <td>2018-06-24</td>\n",
              "      <td>surf</td>\n",
              "      <td>NaN</td>\n",
              "    </tr>\n",
              "  </tbody>\n",
              "</table>\n",
              "</div>"
            ],
            "text/plain": [
              "     user_id first_name last_name  ...    reg_date    tariff churn_date\n",
              "86      1086      Adena    Macias  ...  2018-01-13  ultimate        NaN\n",
              "271     1271     Darrin      Rose  ...  2018-06-24      surf        NaN\n",
              "\n",
              "[2 rows x 8 columns]"
            ]
          },
          "metadata": {
            "tags": []
          },
          "execution_count": 22
        }
      ]
    },
    {
      "cell_type": "code",
      "metadata": {
        "id": "VFnduuy_V-AV",
        "colab_type": "code",
        "colab": {}
      },
      "source": [
        "megaline_calls[\"call_date\"] = pd.to_datetime(megaline_calls[\"call_date\"], format='%Y-%m-%d')"
      ],
      "execution_count": 0,
      "outputs": []
    },
    {
      "cell_type": "code",
      "metadata": {
        "id": "R9znaB3XWPO2",
        "colab_type": "code",
        "colab": {}
      },
      "source": [
        "megaline_internet[\"session_date\"] = pd.to_datetime(megaline_internet[\"session_date\"], format='%Y-%m-%d')"
      ],
      "execution_count": 0,
      "outputs": []
    },
    {
      "cell_type": "code",
      "metadata": {
        "id": "qjJBwB8eWXzk",
        "colab_type": "code",
        "colab": {}
      },
      "source": [
        "megaline_messages[\"message_date\"] = pd.to_datetime(megaline_messages[\"message_date\"], format='%Y-%m-%d')"
      ],
      "execution_count": 0,
      "outputs": []
    },
    {
      "cell_type": "code",
      "metadata": {
        "id": "uc0R9txnWggR",
        "colab_type": "code",
        "colab": {}
      },
      "source": [
        "megaline_users[\"reg_date\"] = pd.to_datetime(megaline_users[\"reg_date\"], format='%Y-%m-%d')"
      ],
      "execution_count": 0,
      "outputs": []
    },
    {
      "cell_type": "code",
      "metadata": {
        "id": "HH_cU16zgQYq",
        "colab_type": "code",
        "colab": {}
      },
      "source": [
        "megaline_users[\"churn_date\"] = pd.to_datetime(megaline_users[\"churn_date\"], format='%Y-%m-%d')"
      ],
      "execution_count": 0,
      "outputs": []
    },
    {
      "cell_type": "code",
      "metadata": {
        "id": "hoCXbivuScBn",
        "colab_type": "code",
        "colab": {}
      },
      "source": [
        "def missing_values(df):\n",
        "  df_nulls=pd.concat([df.dtypes, df.isna().sum(), df.isna().sum()/len(df)], axis=1)\n",
        "  df_nulls.columns = [\"type\",\"count\",\"missing_ratio\"]\n",
        "  df_nulls=df_nulls[df_nulls[\"count\"]>0]\n",
        "  df_nulls.sort_values(by=\"missing_ratio\", ascending=False)\n",
        "  return df_nulls"
      ],
      "execution_count": 0,
      "outputs": []
    },
    {
      "cell_type": "code",
      "metadata": {
        "id": "fO4B7OjNUMnV",
        "colab_type": "code",
        "colab": {
          "base_uri": "https://localhost:8080/",
          "height": 293
        },
        "outputId": "29995188-9cbe-48ae-d512-e5d516338220"
      },
      "source": [
        "for name, ds in megaline_datasets.items():\n",
        "  print(name)\n",
        "  missing_values(ds)"
      ],
      "execution_count": 16,
      "outputs": [
        {
          "output_type": "stream",
          "text": [
            "megaline_calls\n"
          ],
          "name": "stdout"
        },
        {
          "output_type": "execute_result",
          "data": {
            "text/html": [
              "<div>\n",
              "<style scoped>\n",
              "    .dataframe tbody tr th:only-of-type {\n",
              "        vertical-align: middle;\n",
              "    }\n",
              "\n",
              "    .dataframe tbody tr th {\n",
              "        vertical-align: top;\n",
              "    }\n",
              "\n",
              "    .dataframe thead th {\n",
              "        text-align: right;\n",
              "    }\n",
              "</style>\n",
              "<table border=\"1\" class=\"dataframe\">\n",
              "  <thead>\n",
              "    <tr style=\"text-align: right;\">\n",
              "      <th></th>\n",
              "      <th>type</th>\n",
              "      <th>count</th>\n",
              "      <th>missing_ratio</th>\n",
              "    </tr>\n",
              "  </thead>\n",
              "  <tbody>\n",
              "  </tbody>\n",
              "</table>\n",
              "</div>"
            ],
            "text/plain": [
              "Empty DataFrame\n",
              "Columns: [type, count, missing_ratio]\n",
              "Index: []"
            ]
          },
          "metadata": {
            "tags": []
          },
          "execution_count": 16
        },
        {
          "output_type": "stream",
          "text": [
            "megaline_internet\n"
          ],
          "name": "stdout"
        },
        {
          "output_type": "execute_result",
          "data": {
            "text/html": [
              "<div>\n",
              "<style scoped>\n",
              "    .dataframe tbody tr th:only-of-type {\n",
              "        vertical-align: middle;\n",
              "    }\n",
              "\n",
              "    .dataframe tbody tr th {\n",
              "        vertical-align: top;\n",
              "    }\n",
              "\n",
              "    .dataframe thead th {\n",
              "        text-align: right;\n",
              "    }\n",
              "</style>\n",
              "<table border=\"1\" class=\"dataframe\">\n",
              "  <thead>\n",
              "    <tr style=\"text-align: right;\">\n",
              "      <th></th>\n",
              "      <th>type</th>\n",
              "      <th>count</th>\n",
              "      <th>missing_ratio</th>\n",
              "    </tr>\n",
              "  </thead>\n",
              "  <tbody>\n",
              "  </tbody>\n",
              "</table>\n",
              "</div>"
            ],
            "text/plain": [
              "Empty DataFrame\n",
              "Columns: [type, count, missing_ratio]\n",
              "Index: []"
            ]
          },
          "metadata": {
            "tags": []
          },
          "execution_count": 16
        },
        {
          "output_type": "stream",
          "text": [
            "megaline_messages\n"
          ],
          "name": "stdout"
        },
        {
          "output_type": "execute_result",
          "data": {
            "text/html": [
              "<div>\n",
              "<style scoped>\n",
              "    .dataframe tbody tr th:only-of-type {\n",
              "        vertical-align: middle;\n",
              "    }\n",
              "\n",
              "    .dataframe tbody tr th {\n",
              "        vertical-align: top;\n",
              "    }\n",
              "\n",
              "    .dataframe thead th {\n",
              "        text-align: right;\n",
              "    }\n",
              "</style>\n",
              "<table border=\"1\" class=\"dataframe\">\n",
              "  <thead>\n",
              "    <tr style=\"text-align: right;\">\n",
              "      <th></th>\n",
              "      <th>type</th>\n",
              "      <th>count</th>\n",
              "      <th>missing_ratio</th>\n",
              "    </tr>\n",
              "  </thead>\n",
              "  <tbody>\n",
              "  </tbody>\n",
              "</table>\n",
              "</div>"
            ],
            "text/plain": [
              "Empty DataFrame\n",
              "Columns: [type, count, missing_ratio]\n",
              "Index: []"
            ]
          },
          "metadata": {
            "tags": []
          },
          "execution_count": 16
        },
        {
          "output_type": "stream",
          "text": [
            "megaline_tariffs\n"
          ],
          "name": "stdout"
        },
        {
          "output_type": "execute_result",
          "data": {
            "text/html": [
              "<div>\n",
              "<style scoped>\n",
              "    .dataframe tbody tr th:only-of-type {\n",
              "        vertical-align: middle;\n",
              "    }\n",
              "\n",
              "    .dataframe tbody tr th {\n",
              "        vertical-align: top;\n",
              "    }\n",
              "\n",
              "    .dataframe thead th {\n",
              "        text-align: right;\n",
              "    }\n",
              "</style>\n",
              "<table border=\"1\" class=\"dataframe\">\n",
              "  <thead>\n",
              "    <tr style=\"text-align: right;\">\n",
              "      <th></th>\n",
              "      <th>type</th>\n",
              "      <th>count</th>\n",
              "      <th>missing_ratio</th>\n",
              "    </tr>\n",
              "  </thead>\n",
              "  <tbody>\n",
              "  </tbody>\n",
              "</table>\n",
              "</div>"
            ],
            "text/plain": [
              "Empty DataFrame\n",
              "Columns: [type, count, missing_ratio]\n",
              "Index: []"
            ]
          },
          "metadata": {
            "tags": []
          },
          "execution_count": 16
        },
        {
          "output_type": "stream",
          "text": [
            "megaline_users\n"
          ],
          "name": "stdout"
        },
        {
          "output_type": "execute_result",
          "data": {
            "text/html": [
              "<div>\n",
              "<style scoped>\n",
              "    .dataframe tbody tr th:only-of-type {\n",
              "        vertical-align: middle;\n",
              "    }\n",
              "\n",
              "    .dataframe tbody tr th {\n",
              "        vertical-align: top;\n",
              "    }\n",
              "\n",
              "    .dataframe thead th {\n",
              "        text-align: right;\n",
              "    }\n",
              "</style>\n",
              "<table border=\"1\" class=\"dataframe\">\n",
              "  <thead>\n",
              "    <tr style=\"text-align: right;\">\n",
              "      <th></th>\n",
              "      <th>type</th>\n",
              "      <th>count</th>\n",
              "      <th>missing_ratio</th>\n",
              "    </tr>\n",
              "  </thead>\n",
              "  <tbody>\n",
              "    <tr>\n",
              "      <th>churn_date</th>\n",
              "      <td>object</td>\n",
              "      <td>466</td>\n",
              "      <td>0.932</td>\n",
              "    </tr>\n",
              "  </tbody>\n",
              "</table>\n",
              "</div>"
            ],
            "text/plain": [
              "              type  count  missing_ratio\n",
              "churn_date  object    466          0.932"
            ]
          },
          "metadata": {
            "tags": []
          },
          "execution_count": 16
        }
      ]
    },
    {
      "cell_type": "markdown",
      "metadata": {
        "id": "UkxBTT2HebvM",
        "colab_type": "text"
      },
      "source": [
        "churn_date — the date of use discontinue (if the value is missed, the calling plan was used at the moment of data extraction)\n"
      ]
    },
    {
      "cell_type": "code",
      "metadata": {
        "id": "Lmix4ABdfUQC",
        "colab_type": "code",
        "colab": {
          "base_uri": "https://localhost:8080/",
          "height": 68
        },
        "outputId": "d48af6b8-7278-4903-f984-70c6b999ab4e"
      },
      "source": [
        "megaline_users.columns"
      ],
      "execution_count": 36,
      "outputs": [
        {
          "output_type": "execute_result",
          "data": {
            "text/plain": [
              "Index(['user_id', 'first_name', 'last_name', 'age', 'city', 'reg_date',\n",
              "       'tariff', 'churn_date'],\n",
              "      dtype='object')"
            ]
          },
          "metadata": {
            "tags": []
          },
          "execution_count": 36
        }
      ]
    },
    {
      "cell_type": "code",
      "metadata": {
        "id": "zFAA_eXlWp9F",
        "colab_type": "code",
        "colab": {}
      },
      "source": [
        "megaline_users.loc[megaline_users[\"churn_date\"].isna(), \"churn_date\"] = pd.datetime.now().date()"
      ],
      "execution_count": 0,
      "outputs": []
    },
    {
      "cell_type": "code",
      "metadata": {
        "id": "MjSJAcy2gfzj",
        "colab_type": "code",
        "colab": {}
      },
      "source": [
        "megaline_users[\"churn_date\"] = pd.to_datetime(megaline_users[\"churn_date\"], format='%Y-%m-%d')"
      ],
      "execution_count": 0,
      "outputs": []
    },
    {
      "cell_type": "code",
      "metadata": {
        "id": "1XJblS_9hthA",
        "colab_type": "code",
        "colab": {}
      },
      "source": [
        ""
      ],
      "execution_count": 0,
      "outputs": []
    },
    {
      "cell_type": "code",
      "metadata": {
        "id": "dHqU9y12fsGh",
        "colab_type": "code",
        "colab": {}
      },
      "source": [
        "megaline_users[\"used_days\"] = (megaline_users[\"churn_date\"]-megaline_users[\"reg_date\"]).dt.days"
      ],
      "execution_count": 0,
      "outputs": []
    },
    {
      "cell_type": "code",
      "metadata": {
        "id": "Z85gamEQgunr",
        "colab_type": "code",
        "colab": {}
      },
      "source": [
        "megaline_users = megaline_users.drop([\"churn_date\"], axis=1)"
      ],
      "execution_count": 0,
      "outputs": []
    },
    {
      "cell_type": "markdown",
      "metadata": {
        "id": "cKVWuMIdhzTX",
        "colab_type": "text"
      },
      "source": [
        ""
      ]
    },
    {
      "cell_type": "code",
      "metadata": {
        "id": "H7Xd8HdNScBq",
        "colab_type": "code",
        "colab": {}
      },
      "source": [
        "def describe_full(df):\n",
        "    data_describe = df.describe().T\n",
        "    df_numeric=df._get_numeric_data()\n",
        "    dtype_df=df_numeric.dtypes\n",
        "    data_describe['dtypes']=dtype_df\n",
        "    data_null = df_numeric.isnull().sum()/len(df) * 100\n",
        "    data_describe['Missing %']=data_null\n",
        "    Cardinality=df_numeric.apply(pd.Series.nunique)\n",
        "    data_describe['Cardinality']=Cardinality\n",
        "    df_skew=df_numeric.skew(axis = 0, skipna = True) \n",
        "    data_describe['Skew']=df_skew\n",
        "    return data_describe"
      ],
      "execution_count": 0,
      "outputs": []
    },
    {
      "cell_type": "code",
      "metadata": {
        "id": "vJ8BtTWNUw9-",
        "colab_type": "code",
        "colab": {
          "base_uri": "https://localhost:8080/",
          "height": 696
        },
        "outputId": "6aea4246-b94a-48c8-9802-f935c8f90d06"
      },
      "source": [
        "for name, ds in megaline_datasets.items():\n",
        "  print(name)\n",
        "  describe_full(ds)"
      ],
      "execution_count": 20,
      "outputs": [
        {
          "output_type": "stream",
          "text": [
            "megaline_calls\n"
          ],
          "name": "stdout"
        },
        {
          "output_type": "execute_result",
          "data": {
            "text/html": [
              "<div>\n",
              "<style scoped>\n",
              "    .dataframe tbody tr th:only-of-type {\n",
              "        vertical-align: middle;\n",
              "    }\n",
              "\n",
              "    .dataframe tbody tr th {\n",
              "        vertical-align: top;\n",
              "    }\n",
              "\n",
              "    .dataframe thead th {\n",
              "        text-align: right;\n",
              "    }\n",
              "</style>\n",
              "<table border=\"1\" class=\"dataframe\">\n",
              "  <thead>\n",
              "    <tr style=\"text-align: right;\">\n",
              "      <th></th>\n",
              "      <th>count</th>\n",
              "      <th>mean</th>\n",
              "      <th>std</th>\n",
              "      <th>min</th>\n",
              "      <th>25%</th>\n",
              "      <th>50%</th>\n",
              "      <th>75%</th>\n",
              "      <th>max</th>\n",
              "      <th>dtypes</th>\n",
              "      <th>Missing %</th>\n",
              "      <th>Cardinality</th>\n",
              "      <th>Skew</th>\n",
              "    </tr>\n",
              "  </thead>\n",
              "  <tbody>\n",
              "    <tr>\n",
              "      <th>user_id</th>\n",
              "      <td>137735.0</td>\n",
              "      <td>1247.658046</td>\n",
              "      <td>139.416268</td>\n",
              "      <td>1000.0</td>\n",
              "      <td>1128.00</td>\n",
              "      <td>1247.00</td>\n",
              "      <td>1365.00</td>\n",
              "      <td>1499.0</td>\n",
              "      <td>int64</td>\n",
              "      <td>0.0</td>\n",
              "      <td>481</td>\n",
              "      <td>0.010325</td>\n",
              "    </tr>\n",
              "    <tr>\n",
              "      <th>duration</th>\n",
              "      <td>137735.0</td>\n",
              "      <td>6.745927</td>\n",
              "      <td>5.839241</td>\n",
              "      <td>0.0</td>\n",
              "      <td>1.29</td>\n",
              "      <td>5.98</td>\n",
              "      <td>10.69</td>\n",
              "      <td>37.6</td>\n",
              "      <td>float64</td>\n",
              "      <td>0.0</td>\n",
              "      <td>2802</td>\n",
              "      <td>0.693502</td>\n",
              "    </tr>\n",
              "  </tbody>\n",
              "</table>\n",
              "</div>"
            ],
            "text/plain": [
              "             count         mean         std  ...  Missing %  Cardinality      Skew\n",
              "user_id   137735.0  1247.658046  139.416268  ...        0.0          481  0.010325\n",
              "duration  137735.0     6.745927    5.839241  ...        0.0         2802  0.693502\n",
              "\n",
              "[2 rows x 12 columns]"
            ]
          },
          "metadata": {
            "tags": []
          },
          "execution_count": 20
        },
        {
          "output_type": "stream",
          "text": [
            "megaline_internet\n"
          ],
          "name": "stdout"
        },
        {
          "output_type": "execute_result",
          "data": {
            "text/html": [
              "<div>\n",
              "<style scoped>\n",
              "    .dataframe tbody tr th:only-of-type {\n",
              "        vertical-align: middle;\n",
              "    }\n",
              "\n",
              "    .dataframe tbody tr th {\n",
              "        vertical-align: top;\n",
              "    }\n",
              "\n",
              "    .dataframe thead th {\n",
              "        text-align: right;\n",
              "    }\n",
              "</style>\n",
              "<table border=\"1\" class=\"dataframe\">\n",
              "  <thead>\n",
              "    <tr style=\"text-align: right;\">\n",
              "      <th></th>\n",
              "      <th>count</th>\n",
              "      <th>mean</th>\n",
              "      <th>std</th>\n",
              "      <th>min</th>\n",
              "      <th>25%</th>\n",
              "      <th>50%</th>\n",
              "      <th>75%</th>\n",
              "      <th>max</th>\n",
              "      <th>dtypes</th>\n",
              "      <th>Missing %</th>\n",
              "      <th>Cardinality</th>\n",
              "      <th>Skew</th>\n",
              "    </tr>\n",
              "  </thead>\n",
              "  <tbody>\n",
              "    <tr>\n",
              "      <th>user_id</th>\n",
              "      <td>104825.0</td>\n",
              "      <td>1242.496361</td>\n",
              "      <td>142.053913</td>\n",
              "      <td>1000.0</td>\n",
              "      <td>1122.00</td>\n",
              "      <td>1236.00</td>\n",
              "      <td>1367.00</td>\n",
              "      <td>1499.00</td>\n",
              "      <td>int64</td>\n",
              "      <td>0.0</td>\n",
              "      <td>489</td>\n",
              "      <td>0.080268</td>\n",
              "    </tr>\n",
              "    <tr>\n",
              "      <th>mb_used</th>\n",
              "      <td>104825.0</td>\n",
              "      <td>366.713701</td>\n",
              "      <td>277.170542</td>\n",
              "      <td>0.0</td>\n",
              "      <td>136.08</td>\n",
              "      <td>343.98</td>\n",
              "      <td>554.61</td>\n",
              "      <td>1693.47</td>\n",
              "      <td>float64</td>\n",
              "      <td>0.0</td>\n",
              "      <td>57624</td>\n",
              "      <td>0.532269</td>\n",
              "    </tr>\n",
              "  </tbody>\n",
              "</table>\n",
              "</div>"
            ],
            "text/plain": [
              "            count         mean         std  ...  Missing %  Cardinality      Skew\n",
              "user_id  104825.0  1242.496361  142.053913  ...        0.0          489  0.080268\n",
              "mb_used  104825.0   366.713701  277.170542  ...        0.0        57624  0.532269\n",
              "\n",
              "[2 rows x 12 columns]"
            ]
          },
          "metadata": {
            "tags": []
          },
          "execution_count": 20
        },
        {
          "output_type": "stream",
          "text": [
            "megaline_messages\n"
          ],
          "name": "stdout"
        },
        {
          "output_type": "execute_result",
          "data": {
            "text/html": [
              "<div>\n",
              "<style scoped>\n",
              "    .dataframe tbody tr th:only-of-type {\n",
              "        vertical-align: middle;\n",
              "    }\n",
              "\n",
              "    .dataframe tbody tr th {\n",
              "        vertical-align: top;\n",
              "    }\n",
              "\n",
              "    .dataframe thead th {\n",
              "        text-align: right;\n",
              "    }\n",
              "</style>\n",
              "<table border=\"1\" class=\"dataframe\">\n",
              "  <thead>\n",
              "    <tr style=\"text-align: right;\">\n",
              "      <th></th>\n",
              "      <th>count</th>\n",
              "      <th>mean</th>\n",
              "      <th>std</th>\n",
              "      <th>min</th>\n",
              "      <th>25%</th>\n",
              "      <th>50%</th>\n",
              "      <th>75%</th>\n",
              "      <th>max</th>\n",
              "      <th>dtypes</th>\n",
              "      <th>Missing %</th>\n",
              "      <th>Cardinality</th>\n",
              "      <th>Skew</th>\n",
              "    </tr>\n",
              "  </thead>\n",
              "  <tbody>\n",
              "    <tr>\n",
              "      <th>user_id</th>\n",
              "      <td>76051.0</td>\n",
              "      <td>1245.972768</td>\n",
              "      <td>139.843635</td>\n",
              "      <td>1000.0</td>\n",
              "      <td>1123.0</td>\n",
              "      <td>1251.0</td>\n",
              "      <td>1362.0</td>\n",
              "      <td>1497.0</td>\n",
              "      <td>int64</td>\n",
              "      <td>0.0</td>\n",
              "      <td>402</td>\n",
              "      <td>0.042754</td>\n",
              "    </tr>\n",
              "  </tbody>\n",
              "</table>\n",
              "</div>"
            ],
            "text/plain": [
              "           count         mean         std  ...  Missing %  Cardinality      Skew\n",
              "user_id  76051.0  1245.972768  139.843635  ...        0.0          402  0.042754\n",
              "\n",
              "[1 rows x 12 columns]"
            ]
          },
          "metadata": {
            "tags": []
          },
          "execution_count": 20
        },
        {
          "output_type": "stream",
          "text": [
            "megaline_tariffs\n"
          ],
          "name": "stdout"
        },
        {
          "output_type": "execute_result",
          "data": {
            "text/html": [
              "<div>\n",
              "<style scoped>\n",
              "    .dataframe tbody tr th:only-of-type {\n",
              "        vertical-align: middle;\n",
              "    }\n",
              "\n",
              "    .dataframe tbody tr th {\n",
              "        vertical-align: top;\n",
              "    }\n",
              "\n",
              "    .dataframe thead th {\n",
              "        text-align: right;\n",
              "    }\n",
              "</style>\n",
              "<table border=\"1\" class=\"dataframe\">\n",
              "  <thead>\n",
              "    <tr style=\"text-align: right;\">\n",
              "      <th></th>\n",
              "      <th>count</th>\n",
              "      <th>mean</th>\n",
              "      <th>std</th>\n",
              "      <th>min</th>\n",
              "      <th>25%</th>\n",
              "      <th>50%</th>\n",
              "      <th>75%</th>\n",
              "      <th>max</th>\n",
              "      <th>dtypes</th>\n",
              "      <th>Missing %</th>\n",
              "      <th>Cardinality</th>\n",
              "      <th>Skew</th>\n",
              "    </tr>\n",
              "  </thead>\n",
              "  <tbody>\n",
              "    <tr>\n",
              "      <th>messages_included</th>\n",
              "      <td>2.0</td>\n",
              "      <td>525.00</td>\n",
              "      <td>671.751442</td>\n",
              "      <td>50.00</td>\n",
              "      <td>287.500</td>\n",
              "      <td>525.00</td>\n",
              "      <td>762.500</td>\n",
              "      <td>1000.00</td>\n",
              "      <td>int64</td>\n",
              "      <td>0.0</td>\n",
              "      <td>2</td>\n",
              "      <td>NaN</td>\n",
              "    </tr>\n",
              "    <tr>\n",
              "      <th>mb_per_month_included</th>\n",
              "      <td>2.0</td>\n",
              "      <td>23040.00</td>\n",
              "      <td>10861.160159</td>\n",
              "      <td>15360.00</td>\n",
              "      <td>19200.000</td>\n",
              "      <td>23040.00</td>\n",
              "      <td>26880.000</td>\n",
              "      <td>30720.00</td>\n",
              "      <td>int64</td>\n",
              "      <td>0.0</td>\n",
              "      <td>2</td>\n",
              "      <td>NaN</td>\n",
              "    </tr>\n",
              "    <tr>\n",
              "      <th>minutes_included</th>\n",
              "      <td>2.0</td>\n",
              "      <td>1750.00</td>\n",
              "      <td>1767.766953</td>\n",
              "      <td>500.00</td>\n",
              "      <td>1125.000</td>\n",
              "      <td>1750.00</td>\n",
              "      <td>2375.000</td>\n",
              "      <td>3000.00</td>\n",
              "      <td>int64</td>\n",
              "      <td>0.0</td>\n",
              "      <td>2</td>\n",
              "      <td>NaN</td>\n",
              "    </tr>\n",
              "    <tr>\n",
              "      <th>usd_monthly_pay</th>\n",
              "      <td>2.0</td>\n",
              "      <td>45.00</td>\n",
              "      <td>35.355339</td>\n",
              "      <td>20.00</td>\n",
              "      <td>32.500</td>\n",
              "      <td>45.00</td>\n",
              "      <td>57.500</td>\n",
              "      <td>70.00</td>\n",
              "      <td>int64</td>\n",
              "      <td>0.0</td>\n",
              "      <td>2</td>\n",
              "      <td>NaN</td>\n",
              "    </tr>\n",
              "    <tr>\n",
              "      <th>usd_per_gb</th>\n",
              "      <td>2.0</td>\n",
              "      <td>8.50</td>\n",
              "      <td>2.121320</td>\n",
              "      <td>7.00</td>\n",
              "      <td>7.750</td>\n",
              "      <td>8.50</td>\n",
              "      <td>9.250</td>\n",
              "      <td>10.00</td>\n",
              "      <td>int64</td>\n",
              "      <td>0.0</td>\n",
              "      <td>2</td>\n",
              "      <td>NaN</td>\n",
              "    </tr>\n",
              "    <tr>\n",
              "      <th>usd_per_message</th>\n",
              "      <td>2.0</td>\n",
              "      <td>0.02</td>\n",
              "      <td>0.014142</td>\n",
              "      <td>0.01</td>\n",
              "      <td>0.015</td>\n",
              "      <td>0.02</td>\n",
              "      <td>0.025</td>\n",
              "      <td>0.03</td>\n",
              "      <td>float64</td>\n",
              "      <td>0.0</td>\n",
              "      <td>2</td>\n",
              "      <td>NaN</td>\n",
              "    </tr>\n",
              "    <tr>\n",
              "      <th>usd_per_minute</th>\n",
              "      <td>2.0</td>\n",
              "      <td>0.02</td>\n",
              "      <td>0.014142</td>\n",
              "      <td>0.01</td>\n",
              "      <td>0.015</td>\n",
              "      <td>0.02</td>\n",
              "      <td>0.025</td>\n",
              "      <td>0.03</td>\n",
              "      <td>float64</td>\n",
              "      <td>0.0</td>\n",
              "      <td>2</td>\n",
              "      <td>NaN</td>\n",
              "    </tr>\n",
              "  </tbody>\n",
              "</table>\n",
              "</div>"
            ],
            "text/plain": [
              "                       count      mean  ...  Cardinality  Skew\n",
              "messages_included        2.0    525.00  ...            2   NaN\n",
              "mb_per_month_included    2.0  23040.00  ...            2   NaN\n",
              "minutes_included         2.0   1750.00  ...            2   NaN\n",
              "usd_monthly_pay          2.0     45.00  ...            2   NaN\n",
              "usd_per_gb               2.0      8.50  ...            2   NaN\n",
              "usd_per_message          2.0      0.02  ...            2   NaN\n",
              "usd_per_minute           2.0      0.02  ...            2   NaN\n",
              "\n",
              "[7 rows x 12 columns]"
            ]
          },
          "metadata": {
            "tags": []
          },
          "execution_count": 20
        },
        {
          "output_type": "stream",
          "text": [
            "megaline_users\n"
          ],
          "name": "stdout"
        },
        {
          "output_type": "execute_result",
          "data": {
            "text/html": [
              "<div>\n",
              "<style scoped>\n",
              "    .dataframe tbody tr th:only-of-type {\n",
              "        vertical-align: middle;\n",
              "    }\n",
              "\n",
              "    .dataframe tbody tr th {\n",
              "        vertical-align: top;\n",
              "    }\n",
              "\n",
              "    .dataframe thead th {\n",
              "        text-align: right;\n",
              "    }\n",
              "</style>\n",
              "<table border=\"1\" class=\"dataframe\">\n",
              "  <thead>\n",
              "    <tr style=\"text-align: right;\">\n",
              "      <th></th>\n",
              "      <th>count</th>\n",
              "      <th>mean</th>\n",
              "      <th>std</th>\n",
              "      <th>min</th>\n",
              "      <th>25%</th>\n",
              "      <th>50%</th>\n",
              "      <th>75%</th>\n",
              "      <th>max</th>\n",
              "      <th>dtypes</th>\n",
              "      <th>Missing %</th>\n",
              "      <th>Cardinality</th>\n",
              "      <th>Skew</th>\n",
              "    </tr>\n",
              "  </thead>\n",
              "  <tbody>\n",
              "    <tr>\n",
              "      <th>user_id</th>\n",
              "      <td>500.0</td>\n",
              "      <td>1249.500</td>\n",
              "      <td>144.481833</td>\n",
              "      <td>1000.0</td>\n",
              "      <td>1124.75</td>\n",
              "      <td>1249.5</td>\n",
              "      <td>1374.25</td>\n",
              "      <td>1499.0</td>\n",
              "      <td>int64</td>\n",
              "      <td>0.0</td>\n",
              "      <td>500</td>\n",
              "      <td>0.000000</td>\n",
              "    </tr>\n",
              "    <tr>\n",
              "      <th>age</th>\n",
              "      <td>500.0</td>\n",
              "      <td>45.486</td>\n",
              "      <td>16.972269</td>\n",
              "      <td>18.0</td>\n",
              "      <td>30.00</td>\n",
              "      <td>46.0</td>\n",
              "      <td>61.00</td>\n",
              "      <td>75.0</td>\n",
              "      <td>int64</td>\n",
              "      <td>0.0</td>\n",
              "      <td>58</td>\n",
              "      <td>0.040081</td>\n",
              "    </tr>\n",
              "  </tbody>\n",
              "</table>\n",
              "</div>"
            ],
            "text/plain": [
              "         count      mean         std  ...  Missing %  Cardinality      Skew\n",
              "user_id  500.0  1249.500  144.481833  ...        0.0          500  0.000000\n",
              "age      500.0    45.486   16.972269  ...        0.0           58  0.040081\n",
              "\n",
              "[2 rows x 12 columns]"
            ]
          },
          "metadata": {
            "tags": []
          },
          "execution_count": 20
        }
      ]
    },
    {
      "cell_type": "markdown",
      "metadata": {
        "id": "tMrwii-pihsa",
        "colab_type": "text"
      },
      "source": [
        "We have denormalized table, let's build table that could neatly fit for ours purpose"
      ]
    },
    {
      "cell_type": "code",
      "metadata": {
        "id": "GOhJ9eeQh17s",
        "colab_type": "code",
        "colab": {}
      },
      "source": [
        "megaline_users_messages = megaline_users.merge(megaline_messages).rename({\"message_id\":\"id\"}, axis=1)"
      ],
      "execution_count": 0,
      "outputs": []
    },
    {
      "cell_type": "code",
      "metadata": {
        "id": "L8RgQLhviSO-",
        "colab_type": "code",
        "colab": {}
      },
      "source": [
        "megaline_users_internet = megaline_users.merge(megaline_internet).rename({\"session_id\":\"id\"}, axis=1)"
      ],
      "execution_count": 0,
      "outputs": []
    },
    {
      "cell_type": "code",
      "metadata": {
        "id": "mTYL6XhPjouF",
        "colab_type": "code",
        "colab": {}
      },
      "source": [
        "megaline_users_call = megaline_users.merge(megaline_calls).rename({\"call_id\":\"id\"}, axis=1)"
      ],
      "execution_count": 0,
      "outputs": []
    },
    {
      "cell_type": "code",
      "metadata": {
        "id": "O-cEGSK9kgXd",
        "colab_type": "code",
        "colab": {}
      },
      "source": [
        "megaline_users_messages['message_month'] = megaline_users_messages['message_date'].dt.month"
      ],
      "execution_count": 0,
      "outputs": []
    },
    {
      "cell_type": "code",
      "metadata": {
        "id": "BiNPP3a_lF72",
        "colab_type": "code",
        "colab": {}
      },
      "source": [
        "megaline_users_internet['session_month'] = megaline_users_internet['session_date'].dt.month"
      ],
      "execution_count": 0,
      "outputs": []
    },
    {
      "cell_type": "code",
      "metadata": {
        "id": "YcwFRKowlL-I",
        "colab_type": "code",
        "colab": {}
      },
      "source": [
        "megaline_users_call['call_month'] = megaline_users_call['call_date'].dt.month"
      ],
      "execution_count": 0,
      "outputs": []
    },
    {
      "cell_type": "code",
      "metadata": {
        "id": "jH9LoO4AlXOC",
        "colab_type": "code",
        "colab": {
          "base_uri": "https://localhost:8080/",
          "height": 340
        },
        "outputId": "c61ba029-7961-42b1-ac09-916062e1c03f"
      },
      "source": [
        "megaline_users_internet.info()"
      ],
      "execution_count": 76,
      "outputs": [
        {
          "output_type": "stream",
          "text": [
            "<class 'pandas.core.frame.DataFrame'>\n",
            "Int64Index: 104825 entries, 0 to 104824\n",
            "Data columns (total 12 columns):\n",
            " #   Column         Non-Null Count   Dtype         \n",
            "---  ------         --------------   -----         \n",
            " 0   user_id        104825 non-null  int64         \n",
            " 1   first_name     104825 non-null  object        \n",
            " 2   last_name      104825 non-null  object        \n",
            " 3   age            104825 non-null  int64         \n",
            " 4   city           104825 non-null  object        \n",
            " 5   reg_date       104825 non-null  datetime64[ns]\n",
            " 6   tariff         104825 non-null  object        \n",
            " 7   used_days      104825 non-null  int64         \n",
            " 8   id             104825 non-null  object        \n",
            " 9   session_date   104825 non-null  datetime64[ns]\n",
            " 10  mb_used        104825 non-null  float64       \n",
            " 11  session_month  104825 non-null  int64         \n",
            "dtypes: datetime64[ns](2), float64(1), int64(4), object(5)\n",
            "memory usage: 10.4+ MB\n"
          ],
          "name": "stdout"
        }
      ]
    },
    {
      "cell_type": "code",
      "metadata": {
        "id": "1GPYrHwllcdG",
        "colab_type": "code",
        "colab": {
          "base_uri": "https://localhost:8080/",
          "height": 34
        },
        "outputId": "250c5767-71e6-4556-c3f9-a69d49683774"
      },
      "source": [
        "len(megaline_users_internet[\"id\"].unique()) == len(megaline_users_internet[\"id\"].str.replace(\"_\", \"\").astype(int).unique())"
      ],
      "execution_count": 79,
      "outputs": [
        {
          "output_type": "execute_result",
          "data": {
            "text/plain": [
              "True"
            ]
          },
          "metadata": {
            "tags": []
          },
          "execution_count": 79
        }
      ]
    },
    {
      "cell_type": "code",
      "metadata": {
        "id": "hAwVSAcVluhw",
        "colab_type": "code",
        "colab": {}
      },
      "source": [
        "megaline_users_internet[\"id\"] = megaline_users_internet[\"id\"].str.replace(\"_\", \"\").astype(int)"
      ],
      "execution_count": 0,
      "outputs": []
    },
    {
      "cell_type": "code",
      "metadata": {
        "id": "Pm_a4SlFl9mH",
        "colab_type": "code",
        "colab": {}
      },
      "source": [
        "map_tariff = {'ultimate':0, 'surf':1}"
      ],
      "execution_count": 0,
      "outputs": []
    },
    {
      "cell_type": "code",
      "metadata": {
        "id": "ho6LXCXElyuX",
        "colab_type": "code",
        "colab": {}
      },
      "source": [
        "megaline_users_internet.tariff = (megaline_users_internet.tariff == 'surf').astype(int)"
      ],
      "execution_count": 0,
      "outputs": []
    },
    {
      "cell_type": "code",
      "metadata": {
        "id": "80R3JezLmZvK",
        "colab_type": "code",
        "colab": {
          "base_uri": "https://localhost:8080/",
          "height": 340
        },
        "outputId": "f3331f6d-1c98-493f-bc4b-39593feb5ae9"
      },
      "source": [
        "megaline_users_call.info()"
      ],
      "execution_count": 89,
      "outputs": [
        {
          "output_type": "stream",
          "text": [
            "<class 'pandas.core.frame.DataFrame'>\n",
            "Int64Index: 137735 entries, 0 to 137734\n",
            "Data columns (total 12 columns):\n",
            " #   Column      Non-Null Count   Dtype         \n",
            "---  ------      --------------   -----         \n",
            " 0   user_id     137735 non-null  int64         \n",
            " 1   first_name  137735 non-null  object        \n",
            " 2   last_name   137735 non-null  object        \n",
            " 3   age         137735 non-null  int64         \n",
            " 4   city        137735 non-null  object        \n",
            " 5   reg_date    137735 non-null  datetime64[ns]\n",
            " 6   tariff      137735 non-null  object        \n",
            " 7   used_days   137735 non-null  int64         \n",
            " 8   id          137735 non-null  object        \n",
            " 9   call_date   137735 non-null  datetime64[ns]\n",
            " 10  duration    137735 non-null  float64       \n",
            " 11  call_month  137735 non-null  int64         \n",
            "dtypes: datetime64[ns](2), float64(1), int64(4), object(5)\n",
            "memory usage: 13.7+ MB\n"
          ],
          "name": "stdout"
        }
      ]
    },
    {
      "cell_type": "code",
      "metadata": {
        "id": "waHTNrgNnDyX",
        "colab_type": "code",
        "colab": {
          "base_uri": "https://localhost:8080/",
          "height": 34
        },
        "outputId": "7d063d4f-503e-4644-83ee-25b4a6233451"
      },
      "source": [
        "len(megaline_users_call[\"id\"].unique()) == len(megaline_users_call[\"id\"].str.replace(\"_\", \"\").astype(int).unique())"
      ],
      "execution_count": 90,
      "outputs": [
        {
          "output_type": "execute_result",
          "data": {
            "text/plain": [
              "True"
            ]
          },
          "metadata": {
            "tags": []
          },
          "execution_count": 90
        }
      ]
    },
    {
      "cell_type": "code",
      "metadata": {
        "id": "atWLbcLjnGV8",
        "colab_type": "code",
        "colab": {}
      },
      "source": [
        "megaline_users_call[\"id\"] = megaline_users_call[\"id\"].str.replace(\"_\", \"\").astype(int)"
      ],
      "execution_count": 0,
      "outputs": []
    },
    {
      "cell_type": "code",
      "metadata": {
        "id": "g6Dp7PHInJpD",
        "colab_type": "code",
        "colab": {}
      },
      "source": [
        "megaline_users_call.tariff = (megaline_users_call.tariff == 'surf').astype(int)"
      ],
      "execution_count": 0,
      "outputs": []
    },
    {
      "cell_type": "code",
      "metadata": {
        "id": "IBGA4ujtnVvW",
        "colab_type": "code",
        "colab": {
          "base_uri": "https://localhost:8080/",
          "height": 323
        },
        "outputId": "abd75781-85d5-4d81-b42f-1540cfd5a002"
      },
      "source": [
        "megaline_users_messages.info()"
      ],
      "execution_count": 94,
      "outputs": [
        {
          "output_type": "stream",
          "text": [
            "<class 'pandas.core.frame.DataFrame'>\n",
            "Int64Index: 76051 entries, 0 to 76050\n",
            "Data columns (total 11 columns):\n",
            " #   Column         Non-Null Count  Dtype         \n",
            "---  ------         --------------  -----         \n",
            " 0   user_id        76051 non-null  int64         \n",
            " 1   first_name     76051 non-null  object        \n",
            " 2   last_name      76051 non-null  object        \n",
            " 3   age            76051 non-null  int64         \n",
            " 4   city           76051 non-null  object        \n",
            " 5   reg_date       76051 non-null  datetime64[ns]\n",
            " 6   tariff         76051 non-null  object        \n",
            " 7   used_days      76051 non-null  int64         \n",
            " 8   id             76051 non-null  object        \n",
            " 9   message_date   76051 non-null  datetime64[ns]\n",
            " 10  message_month  76051 non-null  int64         \n",
            "dtypes: datetime64[ns](2), int64(4), object(5)\n",
            "memory usage: 7.0+ MB\n"
          ],
          "name": "stdout"
        }
      ]
    },
    {
      "cell_type": "code",
      "metadata": {
        "id": "pvqOcl8InaZo",
        "colab_type": "code",
        "colab": {
          "base_uri": "https://localhost:8080/",
          "height": 34
        },
        "outputId": "09f593cb-1967-4df1-a751-560677a8c400"
      },
      "source": [
        "len(megaline_users_messages[\"id\"].unique()) == len(megaline_users_messages[\"id\"].str.replace(\"_\", \"\").astype(int).unique())"
      ],
      "execution_count": 95,
      "outputs": [
        {
          "output_type": "execute_result",
          "data": {
            "text/plain": [
              "True"
            ]
          },
          "metadata": {
            "tags": []
          },
          "execution_count": 95
        }
      ]
    },
    {
      "cell_type": "code",
      "metadata": {
        "id": "dF-suj-yneLo",
        "colab_type": "code",
        "colab": {}
      },
      "source": [
        "megaline_users_messages[\"id\"] = megaline_users_messages[\"id\"].str.replace(\"_\", \"\").astype(int)"
      ],
      "execution_count": 0,
      "outputs": []
    },
    {
      "cell_type": "code",
      "metadata": {
        "id": "ItDChMkWnhJc",
        "colab_type": "code",
        "colab": {}
      },
      "source": [
        "megaline_users_messages.tariff = (megaline_users_messages.tariff == 'surf').astype(int)"
      ],
      "execution_count": 0,
      "outputs": []
    },
    {
      "cell_type": "code",
      "metadata": {
        "id": "yuYsd1KWxW-O",
        "colab_type": "code",
        "colab": {}
      },
      "source": [
        "megaline_users.tariff = (megaline_users.tariff == 'surf').astype(int)"
      ],
      "execution_count": 0,
      "outputs": []
    },
    {
      "cell_type": "code",
      "metadata": {
        "id": "P6gZhi4tn0Ws",
        "colab_type": "code",
        "colab": {}
      },
      "source": [
        "megaline_datasets = {\"megaline_users_messages\":megaline_users_messages, \"megaline_users_call\":megaline_users_call, \"megaline_users_internet\":megaline_users_internet}"
      ],
      "execution_count": 0,
      "outputs": []
    },
    {
      "cell_type": "code",
      "metadata": {
        "id": "7JPOIWPvnxyS",
        "colab_type": "code",
        "colab": {
          "base_uri": "https://localhost:8080/",
          "height": 119
        },
        "outputId": "98196e2d-592a-4c39-de5a-529905a1f32d"
      },
      "source": [
        "for name, ds in megaline_datasets.items():\n",
        "  print(name)\n",
        "  print(ds.duplicated().sum())"
      ],
      "execution_count": 99,
      "outputs": [
        {
          "output_type": "stream",
          "text": [
            "megaline_users_messages\n",
            "0\n",
            "megaline_users_call\n",
            "0\n",
            "megaline_users_internet\n",
            "0\n"
          ],
          "name": "stdout"
        }
      ]
    },
    {
      "cell_type": "code",
      "metadata": {
        "id": "IU_4_s7SsJPA",
        "colab_type": "code",
        "colab": {
          "base_uri": "https://localhost:8080/",
          "height": 111
        },
        "outputId": "16eb244a-2b13-45e4-bde4-4206417f8125"
      },
      "source": [
        "megaline_users_call_pivot = pd.DataFrame(megaline_users_call.pivot_table(index=['user_id', 'call_month'], values='duration', aggfunc=['count', 'sum'])).reset_index(drop=False)\n",
        "megaline_users_call_pivot.columns = ['user_id', 'call_month', 'count_calls', 'total_duration']\n",
        "megaline_users_call_pivot.sample(2)"
      ],
      "execution_count": 153,
      "outputs": [
        {
          "output_type": "execute_result",
          "data": {
            "text/html": [
              "<div>\n",
              "<style scoped>\n",
              "    .dataframe tbody tr th:only-of-type {\n",
              "        vertical-align: middle;\n",
              "    }\n",
              "\n",
              "    .dataframe tbody tr th {\n",
              "        vertical-align: top;\n",
              "    }\n",
              "\n",
              "    .dataframe thead th {\n",
              "        text-align: right;\n",
              "    }\n",
              "</style>\n",
              "<table border=\"1\" class=\"dataframe\">\n",
              "  <thead>\n",
              "    <tr style=\"text-align: right;\">\n",
              "      <th></th>\n",
              "      <th>user_id</th>\n",
              "      <th>call_month</th>\n",
              "      <th>count_calls</th>\n",
              "      <th>total_duration</th>\n",
              "    </tr>\n",
              "  </thead>\n",
              "  <tbody>\n",
              "    <tr>\n",
              "      <th>1319</th>\n",
              "      <td>1291</td>\n",
              "      <td>5</td>\n",
              "      <td>79</td>\n",
              "      <td>529.04</td>\n",
              "    </tr>\n",
              "    <tr>\n",
              "      <th>335</th>\n",
              "      <td>1072</td>\n",
              "      <td>9</td>\n",
              "      <td>82</td>\n",
              "      <td>544.75</td>\n",
              "    </tr>\n",
              "  </tbody>\n",
              "</table>\n",
              "</div>"
            ],
            "text/plain": [
              "      user_id  call_month  count_calls  total_duration\n",
              "1319     1291           5           79          529.04\n",
              "335      1072           9           82          544.75"
            ]
          },
          "metadata": {
            "tags": []
          },
          "execution_count": 153
        }
      ]
    },
    {
      "cell_type": "code",
      "metadata": {
        "id": "8P_yHBTavRSp",
        "colab_type": "code",
        "colab": {
          "base_uri": "https://localhost:8080/",
          "height": 111
        },
        "outputId": "e055eee0-10e6-4665-bf0d-8cdc123a0c72"
      },
      "source": [
        "megaline_users_messages_pivot = pd.DataFrame(megaline_users_messages.pivot_table(index=['user_id', 'message_month'], values='id', aggfunc=['count'])).reset_index(drop=False)\n",
        "megaline_users_messages_pivot.columns = ['user_id', 'msg_month', 'count_msg']\n",
        "megaline_users_messages_pivot.sample(2)"
      ],
      "execution_count": 152,
      "outputs": [
        {
          "output_type": "execute_result",
          "data": {
            "text/html": [
              "<div>\n",
              "<style scoped>\n",
              "    .dataframe tbody tr th:only-of-type {\n",
              "        vertical-align: middle;\n",
              "    }\n",
              "\n",
              "    .dataframe tbody tr th {\n",
              "        vertical-align: top;\n",
              "    }\n",
              "\n",
              "    .dataframe thead th {\n",
              "        text-align: right;\n",
              "    }\n",
              "</style>\n",
              "<table border=\"1\" class=\"dataframe\">\n",
              "  <thead>\n",
              "    <tr style=\"text-align: right;\">\n",
              "      <th></th>\n",
              "      <th>user_id</th>\n",
              "      <th>msg_month</th>\n",
              "      <th>count_msg</th>\n",
              "    </tr>\n",
              "  </thead>\n",
              "  <tbody>\n",
              "    <tr>\n",
              "      <th>645</th>\n",
              "      <td>1174</td>\n",
              "      <td>10</td>\n",
              "      <td>79</td>\n",
              "    </tr>\n",
              "    <tr>\n",
              "      <th>788</th>\n",
              "      <td>1211</td>\n",
              "      <td>8</td>\n",
              "      <td>64</td>\n",
              "    </tr>\n",
              "  </tbody>\n",
              "</table>\n",
              "</div>"
            ],
            "text/plain": [
              "     user_id  msg_month  count_msg\n",
              "645     1174         10         79\n",
              "788     1211          8         64"
            ]
          },
          "metadata": {
            "tags": []
          },
          "execution_count": 152
        }
      ]
    },
    {
      "cell_type": "code",
      "metadata": {
        "id": "HUUeGbMisXHs",
        "colab_type": "code",
        "colab": {
          "base_uri": "https://localhost:8080/",
          "height": 111
        },
        "outputId": "1eafa7cd-8cf2-43e8-bf3c-96dd659505e4"
      },
      "source": [
        "megaline_users_internet_pivot = pd.DataFrame(megaline_users_internet.pivot_table(index=['user_id', 'session_month'], values='mb_used', aggfunc='sum')).reset_index(drop=False)\n",
        "megaline_users_internet_pivot.columns = ['user_id', 'session_month', 'total_mb']\n",
        "megaline_users_internet_pivot.sample(2)"
      ],
      "execution_count": 149,
      "outputs": [
        {
          "output_type": "execute_result",
          "data": {
            "text/html": [
              "<div>\n",
              "<style scoped>\n",
              "    .dataframe tbody tr th:only-of-type {\n",
              "        vertical-align: middle;\n",
              "    }\n",
              "\n",
              "    .dataframe tbody tr th {\n",
              "        vertical-align: top;\n",
              "    }\n",
              "\n",
              "    .dataframe thead th {\n",
              "        text-align: right;\n",
              "    }\n",
              "</style>\n",
              "<table border=\"1\" class=\"dataframe\">\n",
              "  <thead>\n",
              "    <tr style=\"text-align: right;\">\n",
              "      <th></th>\n",
              "      <th>user_id</th>\n",
              "      <th>session_month</th>\n",
              "      <th>total_mb</th>\n",
              "    </tr>\n",
              "  </thead>\n",
              "  <tbody>\n",
              "    <tr>\n",
              "      <th>945</th>\n",
              "      <td>1196</td>\n",
              "      <td>8</td>\n",
              "      <td>30549.10</td>\n",
              "    </tr>\n",
              "    <tr>\n",
              "      <th>350</th>\n",
              "      <td>1075</td>\n",
              "      <td>9</td>\n",
              "      <td>10018.48</td>\n",
              "    </tr>\n",
              "  </tbody>\n",
              "</table>\n",
              "</div>"
            ],
            "text/plain": [
              "     user_id  session_month  total_mb\n",
              "945     1196              8  30549.10\n",
              "350     1075              9  10018.48"
            ]
          },
          "metadata": {
            "tags": []
          },
          "execution_count": 149
        }
      ]
    },
    {
      "cell_type": "code",
      "metadata": {
        "id": "VqSMcpVmrcAy",
        "colab_type": "code",
        "colab": {}
      },
      "source": [
        "megaline_agg_df = (megaline_users\n",
        "  .join(megaline_users_call_pivot.groupby('user_id')[['total_duration', 'count_calls']].sum(), on='user_id')\n",
        "  .join(megaline_users_internet_pivot.groupby('user_id')['total_mb'].sum(), on='user_id')\n",
        "  .join(megaline_users_messages_pivot.groupby('user_id')['count_msg'].sum(), on='user_id'))"
      ],
      "execution_count": 0,
      "outputs": []
    },
    {
      "cell_type": "code",
      "metadata": {
        "id": "390sX6id0LQo",
        "colab_type": "code",
        "colab": {}
      },
      "source": [
        "#kx+b=y, 500 when tariff is 1 and  3000 when is 0, we have -2500x+3000\n",
        "megaline_agg_df['duration_left'] = megaline_agg_df[\"total_duration\"] - (-2500*megaline_agg_df[\"tariff\"] + 3000)"
      ],
      "execution_count": 0,
      "outputs": []
    },
    {
      "cell_type": "code",
      "metadata": {
        "id": "zQer2-jyy8ih",
        "colab_type": "code",
        "colab": {}
      },
      "source": [
        "def calc_call_profit(r):\n",
        "    duration = r['duration_left']\n",
        "    tariff = 0.03 if r['tariff'] else 0.01\n",
        "    return duration*tariff"
      ],
      "execution_count": 0,
      "outputs": []
    },
    {
      "cell_type": "code",
      "metadata": {
        "id": "QOap2PaE0HhS",
        "colab_type": "code",
        "colab": {}
      },
      "source": [
        "megaline_agg_df['profit_call'] = megaline_agg_df.apply(calc_call_profit, axis=1)"
      ],
      "execution_count": 0,
      "outputs": []
    },
    {
      "cell_type": "code",
      "metadata": {
        "id": "k_tJafnU4nFw",
        "colab_type": "code",
        "colab": {}
      },
      "source": [
        "megaline_agg_df['mb_left'] = megaline_agg_df[\"total_mb\"] - (-15*1024*megaline_agg_df[\"tariff\"]+30*1024)"
      ],
      "execution_count": 0,
      "outputs": []
    },
    {
      "cell_type": "code",
      "metadata": {
        "id": "e9xDho0OzAC8",
        "colab_type": "code",
        "colab": {}
      },
      "source": [
        "def calc_internet_profit(r):\n",
        "    internet = r['total_mb']/1024\n",
        "    tariff = 10 if r['tariff'] else 7\n",
        "    return internet*tariff"
      ],
      "execution_count": 0,
      "outputs": []
    },
    {
      "cell_type": "code",
      "metadata": {
        "id": "I8S2lMd-5Iih",
        "colab_type": "code",
        "colab": {}
      },
      "source": [
        "megaline_agg_df['profit_internet'] = megaline_agg_df.apply(calc_internet_profit, axis=1)"
      ],
      "execution_count": 0,
      "outputs": []
    },
    {
      "cell_type": "code",
      "metadata": {
        "id": "wA0xE_6x5gg9",
        "colab_type": "code",
        "colab": {}
      },
      "source": [
        "megaline_agg_df['msg_left'] = megaline_agg_df[\"count_msg\"] - (-950*megaline_agg_df[\"tariff\"] + 1000)"
      ],
      "execution_count": 0,
      "outputs": []
    },
    {
      "cell_type": "code",
      "metadata": {
        "id": "yHOC-NNs5fWM",
        "colab_type": "code",
        "colab": {}
      },
      "source": [
        "def calc_msg_profit(r):\n",
        "    msg = r['msg_left']\n",
        "    tariff = 0.03 if r['tariff'] else 0.01\n",
        "    return msg*tariff"
      ],
      "execution_count": 0,
      "outputs": []
    },
    {
      "cell_type": "code",
      "metadata": {
        "id": "jUgRLeBo6TJW",
        "colab_type": "code",
        "colab": {}
      },
      "source": [
        "megaline_agg_df['profit_msg'] = megaline_agg_df.apply(calc_msg_profit, axis=1)"
      ],
      "execution_count": 0,
      "outputs": []
    },
    {
      "cell_type": "code",
      "metadata": {
        "id": "BeaY4v1j-FPv",
        "colab_type": "code",
        "colab": {}
      },
      "source": [
        "months = 12"
      ],
      "execution_count": 0,
      "outputs": []
    },
    {
      "cell_type": "code",
      "metadata": {
        "id": "Mga0NFbtNcwb",
        "colab_type": "code",
        "colab": {}
      },
      "source": [
        "megaline_agg_df['profit_total'] = (megaline_agg_df['profit_internet'] + megaline_agg_df['profit_call'] + megaline_agg_df['profit_msg']) +(-50*megaline_agg_df[\"tariff\"]+70)"
      ],
      "execution_count": 0,
      "outputs": []
    },
    {
      "cell_type": "code",
      "metadata": {
        "id": "jFZLJDaV9oTQ",
        "colab_type": "code",
        "colab": {}
      },
      "source": [
        "megaline_agg_df['duration_per_month'] = megaline_agg_df['total_duration'] / months\n",
        "megaline_agg_df['calls_month'] = megaline_agg_df['count_calls'] / months\n",
        "megaline_agg_df['internet_mb_per_month'] = megaline_agg_df['total_mb'] / months\n",
        "megaline_agg_df['msg_per_month'] = megaline_agg_df['count_msg'] / months"
      ],
      "execution_count": 0,
      "outputs": []
    },
    {
      "cell_type": "code",
      "metadata": {
        "id": "kOUrWFcBOLLL",
        "colab_type": "code",
        "colab": {}
      },
      "source": [
        "megaline_agg_df['profit_per_month'] = megaline_agg_df['profit_total'] / months"
      ],
      "execution_count": 0,
      "outputs": []
    },
    {
      "cell_type": "markdown",
      "metadata": {
        "id": "F55iAc8I-ezq",
        "colab_type": "text"
      },
      "source": [
        "### Summary"
      ]
    },
    {
      "cell_type": "markdown",
      "metadata": {
        "id": "u2S6NzPK-p4A",
        "colab_type": "text"
      },
      "source": [
        "We had really low missed data, - only churn_date, but it's logically correct, cause on the extraction date users still use services. created new feature - used days, - count of days\n",
        "in duration of that users used to services and column churn_date was dropped. Also datetimes columns was converted to demanded format. \n",
        "Also features were created for representing the month usage of services."
      ]
    },
    {
      "cell_type": "markdown",
      "metadata": {
        "id": "L3Gwpm5FScBm",
        "colab_type": "text"
      },
      "source": [
        "# Analyse the data"
      ]
    },
    {
      "cell_type": "markdown",
      "metadata": {
        "id": "we989hL-8hBH",
        "colab_type": "text"
      },
      "source": [
        "<div class=\"paragraph\">Describe the clients' behavior. For the users of each of the plans, find the number of minutes and SMS and the volume of web traffic they require per month. Calculate the mean, variance and standard deviation. Plot histograms. Describe the distributions. </div>"
      ]
    },
    {
      "cell_type": "code",
      "metadata": {
        "id": "JFDTgYHmHZZ2",
        "colab_type": "code",
        "colab": {}
      },
      "source": [
        "metrics = {'calls_month':'call per month usage', 'internet_mb_per_month':'internet per month usage, mb', 'msg_per_month':'messages per month usage'}"
      ],
      "execution_count": 0,
      "outputs": []
    },
    {
      "cell_type": "code",
      "metadata": {
        "id": "1NUIxF2WH1oa",
        "colab_type": "code",
        "colab": {}
      },
      "source": [
        "def generate_plots(df, metrics=metrics):\n",
        "   ultimate = df[df[\"tariff\"]==0]\n",
        "   surf = df[df[\"tariff\"]==1]\n",
        "   for col, title in metrics.items():\n",
        "     plt.hist(ultimate[col], alpha=0.5, label=f'ultimate {col}')\n",
        "     plt.hist(surf[col], alpha=0.5, label=f'surf {col}')\n",
        "     plt.legend(loc='upper right')\n",
        "     plt.show()"
      ],
      "execution_count": 0,
      "outputs": []
    },
    {
      "cell_type": "code",
      "metadata": {
        "id": "cPdRtqZkIH4v",
        "colab_type": "code",
        "colab": {
          "base_uri": "https://localhost:8080/",
          "height": 761
        },
        "outputId": "e4fdb4c5-6d91-42df-9ad8-6e6e872c9671"
      },
      "source": [
        "generate_plots(megaline_agg_df)"
      ],
      "execution_count": 233,
      "outputs": [
        {
          "output_type": "display_data",
          "data": {
            "image/png": "[encoded data removed]",
            "text/plain": [
              "<Figure size 432x288 with 1 Axes>"
            ]
          },
          "metadata": {
            "tags": [],
            "needs_background": "light"
          }
        },
        {
          "output_type": "display_data",
          "data": {
            "image/png": "[encoded data removed]",
            "text/plain": [
              "<Figure size 432x288 with 1 Axes>"
            ]
          },
          "metadata": {
            "tags": [],
            "needs_background": "light"
          }
        },
        {
          "output_type": "display_data",
          "data": {
            "image/png": "[encoded data removed]",
            "text/plain": [
              "<Figure size 432x288 with 1 Axes>"
            ]
          },
          "metadata": {
            "tags": [],
            "needs_background": "light"
          }
        }
      ]
    },
    {
      "cell_type": "code",
      "metadata": {
        "id": "ubCWpcwt61iz",
        "colab_type": "code",
        "colab": {}
      },
      "source": [
        "def generate_report(df, tariff_repr, metrics=metrics):\n",
        "   print(f\"{tariff_repr}\") \n",
        "   tariff = 0 if tariff_repr == \"ultimate\" else 1\n",
        "   dfq = df[df[\"tariff\"]==tariff]\n",
        "   funcs = {'average':np.mean, 'variance':np.var, 'std':np.std}\n",
        "   for col, title in metrics.items():\n",
        "     for method_name, func in funcs.items():\n",
        "         print(f'{method_name} {title}: {func(dfq[col]):.2f}')\n"
      ],
      "execution_count": 0,
      "outputs": []
    },
    {
      "cell_type": "markdown",
      "metadata": {
        "id": "NkGqFtN4Xdyh",
        "colab_type": "text"
      },
      "source": [
        "### Summary"
      ]
    },
    {
      "cell_type": "code",
      "metadata": {
        "id": "K4pj2gB8Gl3f",
        "colab_type": "code",
        "colab": {
          "base_uri": "https://localhost:8080/",
          "height": 187
        },
        "outputId": "9ac990a3-cd7e-43f7-92ab-5c4909e07f4e"
      },
      "source": [
        "generate_report(megaline_agg_df, 'ultimate')"
      ],
      "execution_count": 194,
      "outputs": [
        {
          "output_type": "stream",
          "text": [
            "ultimate\n",
            "average call per month usage: 23.47\n",
            "variance call per month usage: 392.62\n",
            "std call per month usage: 19.81\n",
            "average internet per month usage, mb: 6578.87\n",
            "variance internet per month usage, mb: 30559701.79\n",
            "std internet per month usage, mb: 5528.08\n",
            "average messages per month usage: 17.07\n",
            "variance messages per month usage: 279.27\n",
            "std messages per month usage: 16.71\n"
          ],
          "name": "stdout"
        }
      ]
    },
    {
      "cell_type": "code",
      "metadata": {
        "id": "9JfPI4jFnpET",
        "colab_type": "code",
        "colab": {
          "base_uri": "https://localhost:8080/",
          "height": 187
        },
        "outputId": "3a6281bd-51e8-44d4-cf4a-c236ee780c9c"
      },
      "source": [
        "generate_report(megaline_agg_df, 'surf')"
      ],
      "execution_count": 195,
      "outputs": [
        {
          "output_type": "stream",
          "text": [
            "surf\n",
            "average call per month usage: 24.05\n",
            "variance call per month usage: 393.28\n",
            "std call per month usage: 19.83\n",
            "average internet per month usage, mb: 6537.70\n",
            "variance internet per month usage, mb: 24710213.62\n",
            "std internet per month usage, mb: 4970.94\n",
            "average messages per month usage: 15.13\n",
            "variance messages per month usage: 243.26\n",
            "std messages per month usage: 15.60\n"
          ],
          "name": "stdout"
        }
      ]
    },
    {
      "cell_type": "markdown",
      "metadata": {
        "id": "76SvC9TBScBt",
        "colab_type": "text"
      },
      "source": [
        "# Test the hypotheses"
      ]
    },
    {
      "cell_type": "markdown",
      "metadata": {
        "id": "miEppUgF8rXV",
        "colab_type": "text"
      },
      "source": [
        "<ul><li>the average profit from the users of Ultimate and Surf calling plans is different;</li><li>the average profit from the users in NY-NJ area is different from that of the users from other regions.</li></ul><div class=\"paragraph\">Assign the threshold <em>alpha</em> value independently. </div><div class=\"paragraph\">Explain:</div><ul><li>how you formulated the null and alternative hypotheses;</li><li>what criterion you used for testing the hypotheses and why.</li></ul>"
      ]
    },
    {
      "cell_type": "markdown",
      "metadata": {
        "id": "3PXK3R3rM_tP",
        "colab_type": "text"
      },
      "source": [
        "##### Hypotheses is avg profit of two plans are not different (the null hypothesis that Var(X) == Var(Y))\n",
        "We will use F-test\n",
        "\n"
      ]
    },
    {
      "cell_type": "code",
      "metadata": {
        "id": "77HVLHC9NLYM",
        "colab_type": "code",
        "colab": {
          "base_uri": "https://localhost:8080/",
          "height": 136
        },
        "outputId": "263e1eab-a1b1-493b-906b-4be7111b56b2"
      },
      "source": [
        "megaline_agg_df.columns"
      ],
      "execution_count": 239,
      "outputs": [
        {
          "output_type": "execute_result",
          "data": {
            "text/plain": [
              "Index(['user_id', 'first_name', 'last_name', 'age', 'city', 'reg_date',\n",
              "       'tariff', 'used_days', 'total_duration', 'count_calls', 'total_mb',\n",
              "       'count_msg', 'duration_left', 'profit_call', 'mb_left',\n",
              "       'profit_internet', 'msg_left', 'profit_msg', 'duration_per_month',\n",
              "       'calls_month', 'internet_mb_per_month', 'msg_per_month', 'profit_total',\n",
              "       'profit_per_month'],\n",
              "      dtype='object')"
            ]
          },
          "metadata": {
            "tags": []
          },
          "execution_count": 239
        }
      ]
    },
    {
      "cell_type": "code",
      "metadata": {
        "id": "pKvtCHC5P9Pj",
        "colab_type": "code",
        "colab": {}
      },
      "source": [
        "ultimate = megaline_agg_df[megaline_agg_df[\"tariff\"] == 0]['profit_per_month'].dropna()\n",
        "surf = megaline_agg_df[megaline_agg_df[\"tariff\"] == 1]['profit_per_month'].dropna()"
      ],
      "execution_count": 0,
      "outputs": []
    },
    {
      "cell_type": "code",
      "metadata": {
        "id": "ywoCQ_riScBu",
        "colab_type": "code",
        "colab": {}
      },
      "source": [
        "def check_f_test(X,Y):\n",
        "  F = np.var(X) / np.var(Y)\n",
        "  p_value = f_test.cdf(F, len(X)-1, len(Y)-1)\n",
        "  return p_value > .05"
      ],
      "execution_count": 0,
      "outputs": []
    },
    {
      "cell_type": "code",
      "metadata": {
        "id": "anj5tyh0QtNl",
        "colab_type": "code",
        "colab": {
          "base_uri": "https://localhost:8080/",
          "height": 34
        },
        "outputId": "7b1d7c64-a473-43b2-d98a-b9a0e2b0986b"
      },
      "source": [
        "if check_f_test(ultimate, surf):\n",
        "    print('could not reject the null hypothesis, therefore that Var(ultimate) == Var(surf)')\n",
        "else:\n",
        "    print('There is significance to reject the null hypothesis, therefore Var(ultimate) != Var(surf)')"
      ],
      "execution_count": 270,
      "outputs": [
        {
          "output_type": "stream",
          "text": [
            "There is significance to reject the null hypothesis, therefore Var(ultimate) != Var(surf)\n"
          ],
          "name": "stdout"
        }
      ]
    },
    {
      "cell_type": "code",
      "metadata": {
        "id": "wrPkBXPrU4tm",
        "colab_type": "code",
        "colab": {
          "base_uri": "https://localhost:8080/",
          "height": 51
        },
        "outputId": "3b8fbd8c-b112-455d-b986-ea51c9969b9f"
      },
      "source": [
        "results = stats.ttest_ind(ultimate, surf, equal_var=True)\n",
        "print(results.pvalue)\n",
        "if results.pvalue < .05:\n",
        "      print('reject the null hypothesis, therefore the average profits for plans are different')\n",
        "else:\n",
        "      print('Fail in rejecting of the null hypothesis, therefore the average profits for plans are the same')"
      ],
      "execution_count": 272,
      "outputs": [
        {
          "output_type": "stream",
          "text": [
            "0.00015199606573599\n",
            "reject the null hypothesis, therefore the average profits for plans are different\n"
          ],
          "name": "stdout"
        }
      ]
    },
    {
      "cell_type": "code",
      "metadata": {
        "id": "dz-XGM2EScBz",
        "colab_type": "code",
        "colab": {
          "base_uri": "https://localhost:8080/",
          "height": 918
        },
        "outputId": "8afcb9af-7fbb-4793-f39b-e2890adfddde"
      },
      "source": [
        "megaline_agg_df[\"city\"].unique()\n",
        "# \"NY-NJ\""
      ],
      "execution_count": 253,
      "outputs": [
        {
          "output_type": "execute_result",
          "data": {
            "text/plain": [
              "array(['Atlanta-Sandy Springs-Roswell, GA MSA',\n",
              "       'Seattle-Tacoma-Bellevue, WA MSA',\n",
              "       'Las Vegas-Henderson-Paradise, NV MSA', 'Tulsa, OK MSA',\n",
              "       'Dallas-Fort Worth-Arlington, TX MSA',\n",
              "       'San Francisco-Oakland-Berkeley, CA MSA',\n",
              "       'Grand Rapids-Kentwood, MI MSA',\n",
              "       'Orlando-Kissimmee-Sanford, FL MSA',\n",
              "       'San Jose-Sunnyvale-Santa Clara, CA MSA',\n",
              "       'Cleveland-Elyria, OH MSA',\n",
              "       'Chicago-Naperville-Elgin, IL-IN-WI MSA', 'Knoxville, TN MSA',\n",
              "       'New York-Newark-Jersey City, NY-NJ-PA MSA', 'Pittsburgh, PA MSA',\n",
              "       'Fresno, CA MSA',\n",
              "       'Washington-Arlington-Alexandria, DC-VA-MD-WV MSA',\n",
              "       'Indianapolis-Carmel-Anderson, IN MSA', 'Jacksonville, FL MSA',\n",
              "       'Los Angeles-Long Beach-Anaheim, CA MSA',\n",
              "       'Omaha-Council Bluffs, NE-IA MSA',\n",
              "       'Houston-The Woodlands-Sugar Land, TX MSA',\n",
              "       'Philadelphia-Camden-Wilmington, PA-NJ-DE-MD MSA',\n",
              "       'Tampa-St. Petersburg-Clearwater, FL MSA',\n",
              "       'Birmingham-Hoover, AL MSA', 'Oklahoma City, OK MSA',\n",
              "       'Charlotte-Concord-Gastonia, NC-SC MSA',\n",
              "       'Denver-Aurora-Lakewood, CO MSA',\n",
              "       'Nashville-Davidson–Murfreesboro–Franklin, TN MSA',\n",
              "       'Columbus, OH MSA', 'Albuquerque, NM MSA',\n",
              "       'Boston-Cambridge-Newton, MA-NH MSA',\n",
              "       'Miami-Fort Lauderdale-West Palm Beach, FL MSA',\n",
              "       'San Diego-Chula Vista-Carlsbad, CA MSA',\n",
              "       'Phoenix-Mesa-Chandler, AZ MSA',\n",
              "       'Portland-Vancouver-Hillsboro, OR-WA MSA',\n",
              "       'Cincinnati, OH-KY-IN MSA', 'Columbia, SC MSA',\n",
              "       'San Antonio-New Braunfels, TX MSA', 'Buffalo-Cheektowaga, NY MSA',\n",
              "       'Memphis, TN-MS-AR MSA',\n",
              "       'Riverside-San Bernardino-Ontario, CA MSA',\n",
              "       'Louisville/Jefferson County, KY-IN MSA',\n",
              "       'Albany-Schenectady-Troy, NY MSA', 'Providence-Warwick, RI-MA MSA',\n",
              "       'Salt Lake City, UT MSA', 'Urban Honolulu, HI MSA',\n",
              "       'El Paso, TX MSA', 'New Haven-Milford, CT MSA',\n",
              "       'North Port-Sarasota-Bradenton, FL MSA', 'Baton Rouge, LA MSA',\n",
              "       'New Orleans-Metairie, LA MSA',\n",
              "       'Bridgeport-Stamford-Norwalk, CT MSA',\n",
              "       'Virginia Beach-Norfolk-Newport News, VA-NC MSA',\n",
              "       'Baltimore-Columbia-Towson, MD MSA', 'Milwaukee-Waukesha, WI MSA',\n",
              "       'Oxnard-Thousand Oaks-Ventura, CA MSA',\n",
              "       'Sacramento–Roseville–Folsom, CA MSA',\n",
              "       'Austin-Round Rock-Georgetown, TX MSA', 'Richmond, VA MSA',\n",
              "       'St. Louis, MO-IL MSA',\n",
              "       'Minneapolis-St. Paul-Bloomington, MN-WI MSA',\n",
              "       'Dayton-Kettering, OH MSA', 'Bakersfield, CA MSA',\n",
              "       'Detroit-Warren-Dearborn, MI MSA', 'Kansas City, MO-KS MSA',\n",
              "       'Charleston-North Charleston, SC MSA', 'Rochester, NY MSA',\n",
              "       'Raleigh-Cary, NC MSA', 'Colorado Springs, CO MSA',\n",
              "       'Greensboro-High Point, NC MSA', 'Tucson, AZ MSA',\n",
              "       'Stockton, CA MSA', 'Cape Coral-Fort Myers, FL MSA'], dtype=object)"
            ]
          },
          "metadata": {
            "tags": []
          },
          "execution_count": 253
        }
      ]
    },
    {
      "cell_type": "code",
      "metadata": {
        "id": "mVasiC_bTGSb",
        "colab_type": "code",
        "colab": {}
      },
      "source": [
        "megaline_agg_df[\"is_NY\"] = megaline_agg_df[\"city\"].str.contains(\"NY-NJ\")"
      ],
      "execution_count": 0,
      "outputs": []
    },
    {
      "cell_type": "code",
      "metadata": {
        "id": "2K-2iAHnTfqs",
        "colab_type": "code",
        "colab": {}
      },
      "source": [
        "NY = megaline_agg_df[megaline_agg_df[\"is_NY\"]]['profit_per_month'].dropna()\n",
        "not_NY = NY = megaline_agg_df[~megaline_agg_df[\"is_NY\"]]['profit_per_month'].dropna()"
      ],
      "execution_count": 0,
      "outputs": []
    },
    {
      "cell_type": "code",
      "metadata": {
        "id": "8Q5l8d1tT4Rv",
        "colab_type": "code",
        "colab": {
          "base_uri": "https://localhost:8080/",
          "height": 34
        },
        "outputId": "5635cdca-fbc9-4956-9a46-6ac7c8608d0e"
      },
      "source": [
        "if check_f_test(NY, not_NY):\n",
        "    print('could not reject the null hypothesis, therefore that Var(ultimate) == Var(surf)')\n",
        "else:\n",
        "    print('There is significance to reject the null hypothesis, therefore Var(ultimate) != Var(surf)')   "
      ],
      "execution_count": 259,
      "outputs": [
        {
          "output_type": "stream",
          "text": [
            "could not reject the null hypothesis, therefore that Var(ultimate) == Var(surf)\n"
          ],
          "name": "stdout"
        }
      ]
    },
    {
      "cell_type": "code",
      "metadata": {
        "id": "obb0LYiNUTVx",
        "colab_type": "code",
        "colab": {
          "base_uri": "https://localhost:8080/",
          "height": 34
        },
        "outputId": "bdc88e40-a33d-41bb-e734-6be00fa80f2a"
      },
      "source": [
        "results = stats.ttest_ind(NY, not_NY, equal_var=True)\n",
        "if results.pvalue < .05:\n",
        "      print('reject the null hypothesis, therefore the average profits for plans are different')\n",
        "else:\n",
        "      print('Fail in rejecting of the null hypothesis, therefore the average profits for plans are the same')"
      ],
      "execution_count": 262,
      "outputs": [
        {
          "output_type": "stream",
          "text": [
            "Fail in rejecting of the null hypothesis, therefore the average profits for plans are the same\n"
          ],
          "name": "stdout"
        }
      ]
    },
    {
      "cell_type": "markdown",
      "metadata": {
        "id": "boXC-nfPScB3",
        "colab_type": "text"
      },
      "source": [
        "# Write an overall conclusion"
      ]
    },
    {
      "cell_type": "markdown",
      "metadata": {
        "id": "rA7BjZSn81bv",
        "colab_type": "text"
      },
      "source": [
        "<div class=\"paragraph\"><strong>Format:</strong> Complete the task in <em>Jupyter Notebook</em>. Insert the programming code in <em>code</em> cells and text explanations in <em>markdown</em> cells then apply formatting and headings.</div>"
      ]
    },
    {
      "cell_type": "code",
      "metadata": {
        "id": "c_TABgTT80iw",
        "colab_type": "code",
        "colab": {}
      },
      "source": [
        "We checked ultimate and surf plans\n",
        "Checked data, some statistics, also dists for some total features were checked\n",
        "Also were checked  null hypotesis: average profit of the ultimate plan and the surf plan is the same, (significance level is 0.05)\n",
        "The same check we did for NY-NJ clients and other regions\n"
      ],
      "execution_count": 0,
      "outputs": []
    },
    {
      "cell_type": "code",
      "metadata": {
        "id": "aJ5zcEZPScB4",
        "colab_type": "code",
        "colab": {}
      },
      "source": [
        ""
      ],
      "execution_count": 0,
      "outputs": []
    },
    {
      "cell_type": "code",
      "metadata": {
        "id": "r_ObOn0yScB7",
        "colab_type": "code",
        "colab": {}
      },
      "source": [
        ""
      ],
      "execution_count": 0,
      "outputs": []
    }
  ]
}