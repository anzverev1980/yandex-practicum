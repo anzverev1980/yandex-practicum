{
  "nbformat": 4,
  "nbformat_minor": 0,
  "metadata": {
    "colab": {
      "name": "sprint_4.ipynb",
      "provenance": [],
      "collapsed_sections": []
    },
    "kernelspec": {
      "display_name": "Python 3",
      "language": "python",
      "name": "python3"
    },
    "language_info": {
      "codemirror_mode": {
        "name": "ipython",
        "version": 3
      },
      "file_extension": ".py",
      "mimetype": "text/x-python",
      "name": "python",
      "nbconvert_exporter": "python",
      "pygments_lexer": "ipython3",
      "version": "3.7.4"
    },
    "toc": {
      "base_numbering": 1,
      "nav_menu": {},
      "number_sections": true,
      "sideBar": true,
      "skip_h1_title": false,
      "title_cell": "Table of Contents",
      "title_sidebar": "Contents",
      "toc_cell": false,
      "toc_position": {},
      "toc_section_display": true,
      "toc_window_display": false
    }
  },
  "cells": [
    {
      "cell_type": "markdown",
      "metadata": {
        "id": "Jgu-Leqi592l",
        "colab_type": "text"
      },
      "source": [
        "## Review (3)\n",
        "\n",
        "Now everything is cool, so I'm just accepting your project. Good luck with future learning.\n",
        "\n",
        "---"
      ]
    },
    {
      "cell_type": "markdown",
      "metadata": {
        "id": "U1y1ensg592m",
        "colab_type": "text"
      },
      "source": [
        "## Review (2)\n",
        "\n",
        "Two of three issues are closed, but we still need to work with rounding of minutes and traffic. You did it in fair way :) but mobile operators prefer to round everything up :). I left you a comment inside the notebook with some extra explanation.\n",
        "\n",
        "---"
      ]
    },
    {
      "cell_type": "markdown",
      "metadata": {
        "id": "kcniIGLr592n",
        "colab_type": "text"
      },
      "source": [
        "## Review\n",
        "\n",
        "Hi Vladimir. My name is Soslan. I'm reviewing your work. I've added all my comments to new cells with the title \"Review\". My apologies for the delay in the review. We will be faster next time :)\n",
        "\n",
        "```diff\n",
        "+ If you did something great I'm using green color for my comment\n",
        "- If the topic requires some extra work so I can accept it then the color will be red.\n",
        "```\n",
        "\n",
        "You did most of the work. Your code is very good quality and works correctly. But you need a bit more work with textual content and conclusions. Can you please look through my comments and work with them so I could accept your work. Good luck."
      ]
    },
    {
      "cell_type": "code",
      "metadata": {
        "ExecuteTime": {
          "start_time": "2020-04-22T14:25:32.313Z"
        },
        "colab_type": "code",
        "id": "zV4eZtqeScBC",
        "colab": {}
      },
      "source": [
        "import pandas as pd\n",
        "import numpy as np\n",
        "import matplotlib.pyplot as plt\n",
        "import seaborn as sns\n",
        "%matplotlib inline\n",
        "from IPython.core.interactiveshell import InteractiveShell\n",
        "import re\n",
        "from scipy import stats as stats\n",
        "from scipy.stats import f as f_test\n",
        "InteractiveShell.ast_node_interactivity = 'all'\n",
        "import warnings\n",
        "warnings.filterwarnings('ignore')"
      ],
      "execution_count": 0,
      "outputs": []
    },
    {
      "cell_type": "markdown",
      "metadata": {
        "colab_type": "text",
        "id": "lfoBooa3ScBJ"
      },
      "source": [
        "# Open the data file and study the general information"
      ]
    },
    {
      "cell_type": "markdown",
      "metadata": {
        "colab_type": "text",
        "id": "RSpTQ4kYScBK"
      },
      "source": [
        "<div class=\"paragraph\">You work as an analyst for \"Megaline\", a state mobile operator. The company offers its clients two prepaid plans, Surf and Ultimate. The commercial department would like to know which of the plans is more profitable in order to adjust the advertising budget. </div><div class=\"paragraph\">You are going to carry out a preliminary analysis of the plans based on a relatively small client selection. You'll have the data on 500 \"Megaline\" clients, specifically, who the clients are, where they are from, which plan they use, the number of calls made and SMS they sent in 2018. You have to analyse clients' behavior and work out the most profitable prepaid plan. </div><h3>Prepaid plans description</h3><div class=\"paragraph\"><strong>Surf</strong></div>\n",
        "\n",
        "<ol start=\"1\"><li>Monthly charge: \\$20</li><li>500 monthly minutes, 50 SMS and 15 GB of web traffic</li><li>After exceeding the package limits:\n",
        " 1. 1 minute: 3 cents (\"Megaline\" always rounds up the minute and megabyte values. If the call lasted just one second, it will be counted as one minute);\n",
        " 2. SMS: 3 cents;\n",
        " 3. 1 GB of web traffic: \\$10.</li></ol><div class=\"paragraph\"><strong>Ultimate</strong></div><ol start=\"1\"><li>Monthly charge: $70</li><li>3000 monthly minutes, 1000 SMS and 30 GB of web traffic</li><li>After exceeding the package limits:\n",
        " 1. 1 minute: 1 cent;\n",
        " 2. SMS: 1 cent;\n",
        " 3. 1 GB of web traffic: \\$7.</li></ol>"
      ]
    },
    {
      "cell_type": "markdown",
      "metadata": {
        "colab_type": "text",
        "id": "ACd-BLdKScBL"
      },
      "source": [
        "\n",
        "<div class=\"markdown markdown_size_normal markdown_type_theory\"><h2><strong>Project description</strong></h2><h3>Data description</h3><div class=\"paragraph\">The <code class=\"code-inline code-inline_theme_light\">users</code> table (data on users):</div><ul><li><em>user_id</em> — unique user identifier</li><li><em>first_name</em> — user's name</li><li><em>last_name</em> — user's last name</li><li><em>age</em> — user's age (years)</li><li><em>reg_date</em> — subscription date (dd, mm, yy)</li><li><em>churn_date</em> — the date of use discontinue (if the value is missed, the calling plan was used at the moment of data extraction)</li><li><em>city</em> — user's city of residence</li><li><em>tarif</em> — calling plan name</li></ul><div class=\"paragraph\">The <code class=\"code-inline code-inline_theme_light\">calls</code> table (data on calls):</div><ul><li><em>id</em> — unique call identifier</li><li><em>call_date</em> — call date</li><li><em>duration</em> — call duration in minutes</li><li><em>user_id</em> — the identifier of the user making a call</li></ul><div class=\"paragraph\">The <code class=\"code-inline code-inline_theme_light\">messages</code> table (data on SMS):</div><ul><li><em>id</em> — unique SMS identifier</li><li><em>message_date</em> — SMS date</li><li><em>user_id</em> — the identifier of the user sending an SMS</li></ul><div class=\"paragraph\">The <code class=\"code-inline code-inline_theme_light\">internet</code> table (data on web sessions):</div><ul><li><em>id</em> — unique session id</li><li><em>mb_used</em> —  the volume of web traffic spent during a session (in megabytes)</li><li><em>session_date</em> — web session date</li><li><em>user_id</em> — user identifier</li></ul><div class=\"paragraph\">The <code class=\"code-inline code-inline_theme_light\">tariffs</code> table (data on the plans):</div><ul><li><em>tariff_name</em> — calling plan name</li><li><em>rub_monthly_fee</em> — monthly charge in rubles</li><li><em>minutes_included</em> — monthly minutes within package limits</li><li><em>messages_included</em> — monthly SMS within package limits</li><li><em>mb_per_month_included</em> — web traffic volume within package limits (in megabytes)</li><li><em>rub_per_minute</em> — the price per minute after exceeding the package limits (e.g., if the package included 100 minutes, the 101st minute will be charged)</li><li><em>rub_per_message</em> — the price per SMS after exceeding the package limits</li><li><em>rub_per_gb</em> — the price per extra gigabyte of web traffic after exceeding the package limits (1 GB = 1024 megabytes)</li></ul></div>"
      ]
    },
    {
      "cell_type": "code",
      "metadata": {
        "ExecuteTime": {
          "end_time": "2020-04-22T14:21:20.391239Z",
          "start_time": "2020-04-22T14:21:20.382145Z"
        },
        "colab_type": "code",
        "id": "MwJiSZo7ScBM",
        "colab": {}
      },
      "source": [
        "host=\"https://code.s3.yandex.net/\""
      ],
      "execution_count": 0,
      "outputs": []
    },
    {
      "cell_type": "code",
      "metadata": {
        "ExecuteTime": {
          "start_time": "2020-04-22T14:24:22.813Z"
        },
        "colab_type": "code",
        "id": "Lcl4PYoTScBQ",
        "colab": {}
      },
      "source": [
        "megaline_calls = pd.read_csv(host+\"datasets/megaline_calls.csv\")\n",
        "megaline_internet = pd.read_csv(host+\"datasets/megaline_internet.csv\")\n",
        "megaline_messages = pd.read_csv(host+\"datasets/megaline_messages.csv\")\n",
        "megaline_tariffs = pd.read_csv(host+\"datasets/megaline_tariffs.csv\")\n",
        "megaline_users = pd.read_csv(host+\"datasets/megaline_users.csv\")"
      ],
      "execution_count": 0,
      "outputs": []
    },
    {
      "cell_type": "code",
      "metadata": {
        "colab_type": "code",
        "id": "tsoYclyKScBW",
        "colab": {}
      },
      "source": [
        "megaline_datasets = {\"megaline_calls\":megaline_calls, \"megaline_internet\":megaline_internet, \"megaline_messages\":megaline_messages, \"megaline_tariffs\":megaline_tariffs, \"megaline_users\":megaline_users}"
      ],
      "execution_count": 0,
      "outputs": []
    },
    {
      "cell_type": "code",
      "metadata": {
        "colab_type": "code",
        "id": "tKaTDgM5ScBa",
        "outputId": "dea18b43-d2ac-427d-e831-1e58508c894c",
        "colab": {
          "base_uri": "https://localhost:8080/",
          "height": 34
        }
      },
      "source": [
        "for name, ds in megaline_datasets.items():\n",
        "    f\"{name} {ds.shape}\""
      ],
      "execution_count": 0,
      "outputs": [
        {
          "output_type": "execute_result",
          "data": {
            "text/plain": [
              "'megaline_calls (137735, 4)'"
            ]
          },
          "metadata": {
            "tags": []
          },
          "execution_count": 158
        },
        {
          "output_type": "execute_result",
          "data": {
            "text/plain": [
              "'megaline_internet (104825, 4)'"
            ]
          },
          "metadata": {
            "tags": []
          },
          "execution_count": 158
        },
        {
          "output_type": "execute_result",
          "data": {
            "text/plain": [
              "'megaline_messages (76051, 3)'"
            ]
          },
          "metadata": {
            "tags": []
          },
          "execution_count": 158
        },
        {
          "output_type": "execute_result",
          "data": {
            "text/plain": [
              "'megaline_tariffs (2, 8)'"
            ]
          },
          "metadata": {
            "tags": []
          },
          "execution_count": 158
        },
        {
          "output_type": "execute_result",
          "data": {
            "text/plain": [
              "'megaline_users (500, 8)'"
            ]
          },
          "metadata": {
            "tags": []
          },
          "execution_count": 158
        }
      ]
    },
    {
      "cell_type": "code",
      "metadata": {
        "colab_type": "code",
        "id": "9zYcSd6STSnc",
        "outputId": "9a27aa72-8cf5-4939-c6fe-b33832cba24b",
        "colab": {
          "base_uri": "https://localhost:8080/",
          "height": 1000
        }
      },
      "source": [
        "for name, ds in megaline_datasets.items():\n",
        "    f\"{name}\"\n",
        "    ds.info()"
      ],
      "execution_count": 0,
      "outputs": [
        {
          "output_type": "execute_result",
          "data": {
            "text/plain": [
              "'megaline_calls'"
            ]
          },
          "metadata": {
            "tags": []
          },
          "execution_count": 159
        },
        {
          "output_type": "stream",
          "text": [
            "<class 'pandas.core.frame.DataFrame'>\n",
            "RangeIndex: 137735 entries, 0 to 137734\n",
            "Data columns (total 4 columns):\n",
            "id           137735 non-null object\n",
            "user_id      137735 non-null int64\n",
            "call_date    137735 non-null object\n",
            "duration     137735 non-null float64\n",
            "dtypes: float64(1), int64(1), object(2)\n",
            "memory usage: 4.2+ MB\n"
          ],
          "name": "stdout"
        },
        {
          "output_type": "execute_result",
          "data": {
            "text/plain": [
              "'megaline_internet'"
            ]
          },
          "metadata": {
            "tags": []
          },
          "execution_count": 159
        },
        {
          "output_type": "stream",
          "text": [
            "<class 'pandas.core.frame.DataFrame'>\n",
            "RangeIndex: 104825 entries, 0 to 104824\n",
            "Data columns (total 4 columns):\n",
            "id              104825 non-null object\n",
            "user_id         104825 non-null int64\n",
            "session_date    104825 non-null object\n",
            "mb_used         104825 non-null float64\n",
            "dtypes: float64(1), int64(1), object(2)\n",
            "memory usage: 3.2+ MB\n"
          ],
          "name": "stdout"
        },
        {
          "output_type": "execute_result",
          "data": {
            "text/plain": [
              "'megaline_messages'"
            ]
          },
          "metadata": {
            "tags": []
          },
          "execution_count": 159
        },
        {
          "output_type": "stream",
          "text": [
            "<class 'pandas.core.frame.DataFrame'>\n",
            "RangeIndex: 76051 entries, 0 to 76050\n",
            "Data columns (total 3 columns):\n",
            "id              76051 non-null object\n",
            "user_id         76051 non-null int64\n",
            "message_date    76051 non-null object\n",
            "dtypes: int64(1), object(2)\n",
            "memory usage: 1.7+ MB\n"
          ],
          "name": "stdout"
        },
        {
          "output_type": "execute_result",
          "data": {
            "text/plain": [
              "'megaline_tariffs'"
            ]
          },
          "metadata": {
            "tags": []
          },
          "execution_count": 159
        },
        {
          "output_type": "stream",
          "text": [
            "<class 'pandas.core.frame.DataFrame'>\n",
            "RangeIndex: 2 entries, 0 to 1\n",
            "Data columns (total 8 columns):\n",
            "messages_included        2 non-null int64\n",
            "mb_per_month_included    2 non-null int64\n",
            "minutes_included         2 non-null int64\n",
            "usd_monthly_pay          2 non-null int64\n",
            "usd_per_gb               2 non-null int64\n",
            "usd_per_message          2 non-null float64\n",
            "usd_per_minute           2 non-null float64\n",
            "tariff_name              2 non-null object\n",
            "dtypes: float64(2), int64(5), object(1)\n",
            "memory usage: 256.0+ bytes\n"
          ],
          "name": "stdout"
        },
        {
          "output_type": "execute_result",
          "data": {
            "text/plain": [
              "'megaline_users'"
            ]
          },
          "metadata": {
            "tags": []
          },
          "execution_count": 159
        },
        {
          "output_type": "stream",
          "text": [
            "<class 'pandas.core.frame.DataFrame'>\n",
            "RangeIndex: 500 entries, 0 to 499\n",
            "Data columns (total 8 columns):\n",
            "user_id       500 non-null int64\n",
            "first_name    500 non-null object\n",
            "last_name     500 non-null object\n",
            "age           500 non-null int64\n",
            "city          500 non-null object\n",
            "reg_date      500 non-null object\n",
            "tariff        500 non-null object\n",
            "churn_date    34 non-null object\n",
            "dtypes: int64(2), object(6)\n",
            "memory usage: 31.4+ KB\n"
          ],
          "name": "stdout"
        }
      ]
    },
    {
      "cell_type": "markdown",
      "metadata": {
        "colab_type": "text",
        "id": "lyzXdsuGScBd"
      },
      "source": [
        "# Prepare the data"
      ]
    },
    {
      "cell_type": "markdown",
      "metadata": {
        "colab_type": "text",
        "id": "DD8s_VN57YNg"
      },
      "source": [
        "<ul><li>Convert the data to the necessary types;</li><li>Find and remove the errors in the data.</li></ul><div class=\"paragraph\">Explain what errors did you find and how did you remove them. \n",
        "Please note: quite a lot of calls have a duration of 0.0 minutes, a strong hint that there is a problem with the data and needs preprocessing. </div><div class=\"paragraph\">For each user, find:</div><ul><li>the number of calls made and minutes spent per month;</li><li>the number of SMS sent per month;</li><li>the volume of web traffic per month;</li><li>the monthly profit from each of the users (subtract free package limit from the total number of calls, SMS and web traffic; multiply the result by the calling plan value; add monthly charge depending on the calling plan).</li></ul>"
      ]
    },
    {
      "cell_type": "code",
      "metadata": {
        "colab_type": "code",
        "id": "YqSrwluhScBe",
        "outputId": "dea3a5d1-8362-4be5-c6eb-b0c77d74a2c9",
        "colab": {
          "base_uri": "https://localhost:8080/",
          "height": 572
        }
      },
      "source": [
        "for name, ds in megaline_datasets.items():\n",
        "    f\"{name}\"\n",
        "    ds.sample(2)"
      ],
      "execution_count": 0,
      "outputs": [
        {
          "output_type": "execute_result",
          "data": {
            "text/plain": [
              "'megaline_calls'"
            ]
          },
          "metadata": {
            "tags": []
          },
          "execution_count": 160
        },
        {
          "output_type": "execute_result",
          "data": {
            "text/html": [
              "<div>\n",
              "<style scoped>\n",
              "    .dataframe tbody tr th:only-of-type {\n",
              "        vertical-align: middle;\n",
              "    }\n",
              "\n",
              "    .dataframe tbody tr th {\n",
              "        vertical-align: top;\n",
              "    }\n",
              "\n",
              "    .dataframe thead th {\n",
              "        text-align: right;\n",
              "    }\n",
              "</style>\n",
              "<table border=\"1\" class=\"dataframe\">\n",
              "  <thead>\n",
              "    <tr style=\"text-align: right;\">\n",
              "      <th></th>\n",
              "      <th>id</th>\n",
              "      <th>user_id</th>\n",
              "      <th>call_date</th>\n",
              "      <th>duration</th>\n",
              "    </tr>\n",
              "  </thead>\n",
              "  <tbody>\n",
              "    <tr>\n",
              "      <td>47141</td>\n",
              "      <td>1171_172</td>\n",
              "      <td>1171</td>\n",
              "      <td>2018-11-22</td>\n",
              "      <td>13.03</td>\n",
              "    </tr>\n",
              "    <tr>\n",
              "      <td>39758</td>\n",
              "      <td>1147_545</td>\n",
              "      <td>1147</td>\n",
              "      <td>2018-12-27</td>\n",
              "      <td>7.86</td>\n",
              "    </tr>\n",
              "  </tbody>\n",
              "</table>\n",
              "</div>"
            ],
            "text/plain": [
              "             id  user_id   call_date  duration\n",
              "47141  1171_172     1171  2018-11-22     13.03\n",
              "39758  1147_545     1147  2018-12-27      7.86"
            ]
          },
          "metadata": {
            "tags": []
          },
          "execution_count": 160
        },
        {
          "output_type": "execute_result",
          "data": {
            "text/plain": [
              "'megaline_internet'"
            ]
          },
          "metadata": {
            "tags": []
          },
          "execution_count": 160
        },
        {
          "output_type": "execute_result",
          "data": {
            "text/html": [
              "<div>\n",
              "<style scoped>\n",
              "    .dataframe tbody tr th:only-of-type {\n",
              "        vertical-align: middle;\n",
              "    }\n",
              "\n",
              "    .dataframe tbody tr th {\n",
              "        vertical-align: top;\n",
              "    }\n",
              "\n",
              "    .dataframe thead th {\n",
              "        text-align: right;\n",
              "    }\n",
              "</style>\n",
              "<table border=\"1\" class=\"dataframe\">\n",
              "  <thead>\n",
              "    <tr style=\"text-align: right;\">\n",
              "      <th></th>\n",
              "      <th>id</th>\n",
              "      <th>user_id</th>\n",
              "      <th>session_date</th>\n",
              "      <th>mb_used</th>\n",
              "    </tr>\n",
              "  </thead>\n",
              "  <tbody>\n",
              "    <tr>\n",
              "      <td>81444</td>\n",
              "      <td>1381_123</td>\n",
              "      <td>1381</td>\n",
              "      <td>2018-11-02</td>\n",
              "      <td>529.58</td>\n",
              "    </tr>\n",
              "    <tr>\n",
              "      <td>70094</td>\n",
              "      <td>1328_53</td>\n",
              "      <td>1328</td>\n",
              "      <td>2018-08-14</td>\n",
              "      <td>307.07</td>\n",
              "    </tr>\n",
              "  </tbody>\n",
              "</table>\n",
              "</div>"
            ],
            "text/plain": [
              "             id  user_id session_date  mb_used\n",
              "81444  1381_123     1381   2018-11-02   529.58\n",
              "70094   1328_53     1328   2018-08-14   307.07"
            ]
          },
          "metadata": {
            "tags": []
          },
          "execution_count": 160
        },
        {
          "output_type": "execute_result",
          "data": {
            "text/plain": [
              "'megaline_messages'"
            ]
          },
          "metadata": {
            "tags": []
          },
          "execution_count": 160
        },
        {
          "output_type": "execute_result",
          "data": {
            "text/html": [
              "<div>\n",
              "<style scoped>\n",
              "    .dataframe tbody tr th:only-of-type {\n",
              "        vertical-align: middle;\n",
              "    }\n",
              "\n",
              "    .dataframe tbody tr th {\n",
              "        vertical-align: top;\n",
              "    }\n",
              "\n",
              "    .dataframe thead th {\n",
              "        text-align: right;\n",
              "    }\n",
              "</style>\n",
              "<table border=\"1\" class=\"dataframe\">\n",
              "  <thead>\n",
              "    <tr style=\"text-align: right;\">\n",
              "      <th></th>\n",
              "      <th>id</th>\n",
              "      <th>user_id</th>\n",
              "      <th>message_date</th>\n",
              "    </tr>\n",
              "  </thead>\n",
              "  <tbody>\n",
              "    <tr>\n",
              "      <td>36240</td>\n",
              "      <td>1241_44</td>\n",
              "      <td>1241</td>\n",
              "      <td>2018-12-28</td>\n",
              "    </tr>\n",
              "    <tr>\n",
              "      <td>36440</td>\n",
              "      <td>1242_112</td>\n",
              "      <td>1242</td>\n",
              "      <td>2018-12-18</td>\n",
              "    </tr>\n",
              "  </tbody>\n",
              "</table>\n",
              "</div>"
            ],
            "text/plain": [
              "             id  user_id message_date\n",
              "36240   1241_44     1241   2018-12-28\n",
              "36440  1242_112     1242   2018-12-18"
            ]
          },
          "metadata": {
            "tags": []
          },
          "execution_count": 160
        },
        {
          "output_type": "execute_result",
          "data": {
            "text/plain": [
              "'megaline_tariffs'"
            ]
          },
          "metadata": {
            "tags": []
          },
          "execution_count": 160
        },
        {
          "output_type": "execute_result",
          "data": {
            "text/html": [
              "<div>\n",
              "<style scoped>\n",
              "    .dataframe tbody tr th:only-of-type {\n",
              "        vertical-align: middle;\n",
              "    }\n",
              "\n",
              "    .dataframe tbody tr th {\n",
              "        vertical-align: top;\n",
              "    }\n",
              "\n",
              "    .dataframe thead th {\n",
              "        text-align: right;\n",
              "    }\n",
              "</style>\n",
              "<table border=\"1\" class=\"dataframe\">\n",
              "  <thead>\n",
              "    <tr style=\"text-align: right;\">\n",
              "      <th></th>\n",
              "      <th>messages_included</th>\n",
              "      <th>mb_per_month_included</th>\n",
              "      <th>minutes_included</th>\n",
              "      <th>usd_monthly_pay</th>\n",
              "      <th>usd_per_gb</th>\n",
              "      <th>usd_per_message</th>\n",
              "      <th>usd_per_minute</th>\n",
              "      <th>tariff_name</th>\n",
              "    </tr>\n",
              "  </thead>\n",
              "  <tbody>\n",
              "    <tr>\n",
              "      <td>0</td>\n",
              "      <td>50</td>\n",
              "      <td>15360</td>\n",
              "      <td>500</td>\n",
              "      <td>20</td>\n",
              "      <td>10</td>\n",
              "      <td>0.03</td>\n",
              "      <td>0.03</td>\n",
              "      <td>surf</td>\n",
              "    </tr>\n",
              "    <tr>\n",
              "      <td>1</td>\n",
              "      <td>1000</td>\n",
              "      <td>30720</td>\n",
              "      <td>3000</td>\n",
              "      <td>70</td>\n",
              "      <td>7</td>\n",
              "      <td>0.01</td>\n",
              "      <td>0.01</td>\n",
              "      <td>ultimate</td>\n",
              "    </tr>\n",
              "  </tbody>\n",
              "</table>\n",
              "</div>"
            ],
            "text/plain": [
              "   messages_included  mb_per_month_included  minutes_included  \\\n",
              "0                 50                  15360               500   \n",
              "1               1000                  30720              3000   \n",
              "\n",
              "   usd_monthly_pay  usd_per_gb  usd_per_message  usd_per_minute tariff_name  \n",
              "0               20          10             0.03            0.03        surf  \n",
              "1               70           7             0.01            0.01    ultimate  "
            ]
          },
          "metadata": {
            "tags": []
          },
          "execution_count": 160
        },
        {
          "output_type": "execute_result",
          "data": {
            "text/plain": [
              "'megaline_users'"
            ]
          },
          "metadata": {
            "tags": []
          },
          "execution_count": 160
        },
        {
          "output_type": "execute_result",
          "data": {
            "text/html": [
              "<div>\n",
              "<style scoped>\n",
              "    .dataframe tbody tr th:only-of-type {\n",
              "        vertical-align: middle;\n",
              "    }\n",
              "\n",
              "    .dataframe tbody tr th {\n",
              "        vertical-align: top;\n",
              "    }\n",
              "\n",
              "    .dataframe thead th {\n",
              "        text-align: right;\n",
              "    }\n",
              "</style>\n",
              "<table border=\"1\" class=\"dataframe\">\n",
              "  <thead>\n",
              "    <tr style=\"text-align: right;\">\n",
              "      <th></th>\n",
              "      <th>user_id</th>\n",
              "      <th>first_name</th>\n",
              "      <th>last_name</th>\n",
              "      <th>age</th>\n",
              "      <th>city</th>\n",
              "      <th>reg_date</th>\n",
              "      <th>tariff</th>\n",
              "      <th>churn_date</th>\n",
              "    </tr>\n",
              "  </thead>\n",
              "  <tbody>\n",
              "    <tr>\n",
              "      <td>215</td>\n",
              "      <td>1215</td>\n",
              "      <td>Adelle</td>\n",
              "      <td>Knapp</td>\n",
              "      <td>70</td>\n",
              "      <td>New York-Newark-Jersey City, NY-NJ-PA MSA</td>\n",
              "      <td>2018-07-01</td>\n",
              "      <td>surf</td>\n",
              "      <td>NaN</td>\n",
              "    </tr>\n",
              "    <tr>\n",
              "      <td>94</td>\n",
              "      <td>1094</td>\n",
              "      <td>Walter</td>\n",
              "      <td>Petersen</td>\n",
              "      <td>54</td>\n",
              "      <td>Los Angeles-Long Beach-Anaheim, CA MSA</td>\n",
              "      <td>2018-10-30</td>\n",
              "      <td>surf</td>\n",
              "      <td>2018-12-12</td>\n",
              "    </tr>\n",
              "  </tbody>\n",
              "</table>\n",
              "</div>"
            ],
            "text/plain": [
              "     user_id first_name last_name  age  \\\n",
              "215     1215     Adelle     Knapp   70   \n",
              "94      1094     Walter  Petersen   54   \n",
              "\n",
              "                                          city    reg_date tariff  churn_date  \n",
              "215  New York-Newark-Jersey City, NY-NJ-PA MSA  2018-07-01   surf         NaN  \n",
              "94      Los Angeles-Long Beach-Anaheim, CA MSA  2018-10-30   surf  2018-12-12  "
            ]
          },
          "metadata": {
            "tags": []
          },
          "execution_count": 160
        }
      ]
    },
    {
      "cell_type": "markdown",
      "metadata": {
        "id": "FfboeHPi5928",
        "colab_type": "text"
      },
      "source": [
        "As we some columns have object(str) type.Let's fix it, convert them"
      ]
    },
    {
      "cell_type": "code",
      "metadata": {
        "colab_type": "code",
        "id": "VFnduuy_V-AV",
        "colab": {}
      },
      "source": [
        "megaline_calls[\"call_date\"] = pd.to_datetime(megaline_calls[\"call_date\"], format='%Y-%m-%d')"
      ],
      "execution_count": 0,
      "outputs": []
    },
    {
      "cell_type": "code",
      "metadata": {
        "colab_type": "code",
        "id": "R9znaB3XWPO2",
        "colab": {}
      },
      "source": [
        "megaline_internet[\"session_date\"] = pd.to_datetime(megaline_internet[\"session_date\"], format='%Y-%m-%d')"
      ],
      "execution_count": 0,
      "outputs": []
    },
    {
      "cell_type": "code",
      "metadata": {
        "colab_type": "code",
        "id": "qjJBwB8eWXzk",
        "colab": {}
      },
      "source": [
        "megaline_messages[\"message_date\"] = pd.to_datetime(megaline_messages[\"message_date\"], format='%Y-%m-%d')"
      ],
      "execution_count": 0,
      "outputs": []
    },
    {
      "cell_type": "code",
      "metadata": {
        "colab_type": "code",
        "id": "uc0R9txnWggR",
        "colab": {}
      },
      "source": [
        "megaline_users[\"reg_date\"] = pd.to_datetime(megaline_users[\"reg_date\"], format='%Y-%m-%d')"
      ],
      "execution_count": 0,
      "outputs": []
    },
    {
      "cell_type": "code",
      "metadata": {
        "colab_type": "code",
        "id": "HH_cU16zgQYq",
        "colab": {}
      },
      "source": [
        "megaline_users[\"churn_date\"] = pd.to_datetime(megaline_users[\"churn_date\"], format='%Y-%m-%d')"
      ],
      "execution_count": 0,
      "outputs": []
    },
    {
      "cell_type": "code",
      "metadata": {
        "colab_type": "code",
        "id": "hoCXbivuScBn",
        "colab": {}
      },
      "source": [
        "def missing_values(df):\n",
        "  df_nulls=pd.concat([df.dtypes, df.isna().sum(), df.isna().sum()/len(df)], axis=1)\n",
        "  df_nulls.columns = [\"type\",\"count\",\"missing_ratio\"]\n",
        "  df_nulls=df_nulls[df_nulls[\"count\"]>0]\n",
        "  df_nulls.sort_values(by=\"missing_ratio\", ascending=False)\n",
        "  return df_nulls"
      ],
      "execution_count": 0,
      "outputs": []
    },
    {
      "cell_type": "markdown",
      "metadata": {
        "id": "QTiF2FQ2593J",
        "colab_type": "text"
      },
      "source": [
        "Let's check missing ratio of data in our datasets"
      ]
    },
    {
      "cell_type": "code",
      "metadata": {
        "colab_type": "code",
        "id": "fO4B7OjNUMnV",
        "outputId": "29995188-9cbe-48ae-d512-e5d516338220",
        "colab": {
          "base_uri": "https://localhost:8080/",
          "height": 293
        }
      },
      "source": [
        "for name, ds in megaline_datasets.items():\n",
        "  print(name)\n",
        "  missing_values(ds)"
      ],
      "execution_count": 0,
      "outputs": [
        {
          "output_type": "stream",
          "text": [
            "megaline_calls\n"
          ],
          "name": "stdout"
        },
        {
          "output_type": "execute_result",
          "data": {
            "text/html": [
              "<div>\n",
              "<style scoped>\n",
              "    .dataframe tbody tr th:only-of-type {\n",
              "        vertical-align: middle;\n",
              "    }\n",
              "\n",
              "    .dataframe tbody tr th {\n",
              "        vertical-align: top;\n",
              "    }\n",
              "\n",
              "    .dataframe thead th {\n",
              "        text-align: right;\n",
              "    }\n",
              "</style>\n",
              "<table border=\"1\" class=\"dataframe\">\n",
              "  <thead>\n",
              "    <tr style=\"text-align: right;\">\n",
              "      <th></th>\n",
              "      <th>type</th>\n",
              "      <th>count</th>\n",
              "      <th>missing_ratio</th>\n",
              "    </tr>\n",
              "  </thead>\n",
              "  <tbody>\n",
              "  </tbody>\n",
              "</table>\n",
              "</div>"
            ],
            "text/plain": [
              "Empty DataFrame\n",
              "Columns: [type, count, missing_ratio]\n",
              "Index: []"
            ]
          },
          "metadata": {
            "tags": []
          },
          "execution_count": 167
        },
        {
          "output_type": "stream",
          "text": [
            "megaline_internet\n"
          ],
          "name": "stdout"
        },
        {
          "output_type": "execute_result",
          "data": {
            "text/html": [
              "<div>\n",
              "<style scoped>\n",
              "    .dataframe tbody tr th:only-of-type {\n",
              "        vertical-align: middle;\n",
              "    }\n",
              "\n",
              "    .dataframe tbody tr th {\n",
              "        vertical-align: top;\n",
              "    }\n",
              "\n",
              "    .dataframe thead th {\n",
              "        text-align: right;\n",
              "    }\n",
              "</style>\n",
              "<table border=\"1\" class=\"dataframe\">\n",
              "  <thead>\n",
              "    <tr style=\"text-align: right;\">\n",
              "      <th></th>\n",
              "      <th>type</th>\n",
              "      <th>count</th>\n",
              "      <th>missing_ratio</th>\n",
              "    </tr>\n",
              "  </thead>\n",
              "  <tbody>\n",
              "  </tbody>\n",
              "</table>\n",
              "</div>"
            ],
            "text/plain": [
              "Empty DataFrame\n",
              "Columns: [type, count, missing_ratio]\n",
              "Index: []"
            ]
          },
          "metadata": {
            "tags": []
          },
          "execution_count": 167
        },
        {
          "output_type": "stream",
          "text": [
            "megaline_messages\n"
          ],
          "name": "stdout"
        },
        {
          "output_type": "execute_result",
          "data": {
            "text/html": [
              "<div>\n",
              "<style scoped>\n",
              "    .dataframe tbody tr th:only-of-type {\n",
              "        vertical-align: middle;\n",
              "    }\n",
              "\n",
              "    .dataframe tbody tr th {\n",
              "        vertical-align: top;\n",
              "    }\n",
              "\n",
              "    .dataframe thead th {\n",
              "        text-align: right;\n",
              "    }\n",
              "</style>\n",
              "<table border=\"1\" class=\"dataframe\">\n",
              "  <thead>\n",
              "    <tr style=\"text-align: right;\">\n",
              "      <th></th>\n",
              "      <th>type</th>\n",
              "      <th>count</th>\n",
              "      <th>missing_ratio</th>\n",
              "    </tr>\n",
              "  </thead>\n",
              "  <tbody>\n",
              "  </tbody>\n",
              "</table>\n",
              "</div>"
            ],
            "text/plain": [
              "Empty DataFrame\n",
              "Columns: [type, count, missing_ratio]\n",
              "Index: []"
            ]
          },
          "metadata": {
            "tags": []
          },
          "execution_count": 167
        },
        {
          "output_type": "stream",
          "text": [
            "megaline_tariffs\n"
          ],
          "name": "stdout"
        },
        {
          "output_type": "execute_result",
          "data": {
            "text/html": [
              "<div>\n",
              "<style scoped>\n",
              "    .dataframe tbody tr th:only-of-type {\n",
              "        vertical-align: middle;\n",
              "    }\n",
              "\n",
              "    .dataframe tbody tr th {\n",
              "        vertical-align: top;\n",
              "    }\n",
              "\n",
              "    .dataframe thead th {\n",
              "        text-align: right;\n",
              "    }\n",
              "</style>\n",
              "<table border=\"1\" class=\"dataframe\">\n",
              "  <thead>\n",
              "    <tr style=\"text-align: right;\">\n",
              "      <th></th>\n",
              "      <th>type</th>\n",
              "      <th>count</th>\n",
              "      <th>missing_ratio</th>\n",
              "    </tr>\n",
              "  </thead>\n",
              "  <tbody>\n",
              "  </tbody>\n",
              "</table>\n",
              "</div>"
            ],
            "text/plain": [
              "Empty DataFrame\n",
              "Columns: [type, count, missing_ratio]\n",
              "Index: []"
            ]
          },
          "metadata": {
            "tags": []
          },
          "execution_count": 167
        },
        {
          "output_type": "stream",
          "text": [
            "megaline_users\n"
          ],
          "name": "stdout"
        },
        {
          "output_type": "execute_result",
          "data": {
            "text/html": [
              "<div>\n",
              "<style scoped>\n",
              "    .dataframe tbody tr th:only-of-type {\n",
              "        vertical-align: middle;\n",
              "    }\n",
              "\n",
              "    .dataframe tbody tr th {\n",
              "        vertical-align: top;\n",
              "    }\n",
              "\n",
              "    .dataframe thead th {\n",
              "        text-align: right;\n",
              "    }\n",
              "</style>\n",
              "<table border=\"1\" class=\"dataframe\">\n",
              "  <thead>\n",
              "    <tr style=\"text-align: right;\">\n",
              "      <th></th>\n",
              "      <th>type</th>\n",
              "      <th>count</th>\n",
              "      <th>missing_ratio</th>\n",
              "    </tr>\n",
              "  </thead>\n",
              "  <tbody>\n",
              "    <tr>\n",
              "      <td>churn_date</td>\n",
              "      <td>datetime64[ns]</td>\n",
              "      <td>466</td>\n",
              "      <td>0.932</td>\n",
              "    </tr>\n",
              "  </tbody>\n",
              "</table>\n",
              "</div>"
            ],
            "text/plain": [
              "                      type  count  missing_ratio\n",
              "churn_date  datetime64[ns]    466          0.932"
            ]
          },
          "metadata": {
            "tags": []
          },
          "execution_count": 167
        }
      ]
    },
    {
      "cell_type": "markdown",
      "metadata": {
        "colab_type": "text",
        "id": "UkxBTT2HebvM"
      },
      "source": [
        "churn_date — the date of use discontinue (if the value is missed, the calling plan was used at the moment of data extraction)\n"
      ]
    },
    {
      "cell_type": "code",
      "metadata": {
        "colab_type": "code",
        "id": "Lmix4ABdfUQC",
        "outputId": "d48af6b8-7278-4903-f984-70c6b999ab4e",
        "colab": {
          "base_uri": "https://localhost:8080/",
          "height": 68
        }
      },
      "source": [
        "megaline_users.columns"
      ],
      "execution_count": 0,
      "outputs": [
        {
          "output_type": "execute_result",
          "data": {
            "text/plain": [
              "Index(['user_id', 'first_name', 'last_name', 'age', 'city', 'reg_date',\n",
              "       'tariff', 'churn_date'],\n",
              "      dtype='object')"
            ]
          },
          "metadata": {
            "tags": []
          },
          "execution_count": 120
        }
      ]
    },
    {
      "cell_type": "code",
      "metadata": {
        "colab_type": "code",
        "id": "zFAA_eXlWp9F",
        "colab": {}
      },
      "source": [
        "megaline_users.loc[megaline_users[\"churn_date\"].isna(), \"churn_date\"] = pd.datetime.now().date()"
      ],
      "execution_count": 0,
      "outputs": []
    },
    {
      "cell_type": "code",
      "metadata": {
        "colab_type": "code",
        "id": "MjSJAcy2gfzj",
        "colab": {}
      },
      "source": [
        "megaline_users[\"churn_date\"] = pd.to_datetime(megaline_users[\"churn_date\"], format='%Y-%m-%d')"
      ],
      "execution_count": 0,
      "outputs": []
    },
    {
      "cell_type": "code",
      "metadata": {
        "colab_type": "code",
        "id": "dHqU9y12fsGh",
        "colab": {}
      },
      "source": [
        "megaline_users[\"used_days\"] = (megaline_users[\"churn_date\"]-megaline_users[\"reg_date\"]).dt.days"
      ],
      "execution_count": 0,
      "outputs": []
    },
    {
      "cell_type": "code",
      "metadata": {
        "colab_type": "code",
        "id": "Z85gamEQgunr",
        "colab": {}
      },
      "source": [
        "megaline_users = megaline_users.drop([\"churn_date\"], axis=1)"
      ],
      "execution_count": 0,
      "outputs": []
    },
    {
      "cell_type": "code",
      "metadata": {
        "colab_type": "code",
        "id": "H7Xd8HdNScBq",
        "colab": {}
      },
      "source": [
        "def describe_full(df):\n",
        "    data_describe = df.describe().T\n",
        "    df_numeric=df._get_numeric_data()\n",
        "    dtype_df=df_numeric.dtypes\n",
        "    data_describe['dtypes']=dtype_df\n",
        "    data_null = df_numeric.isnull().sum()/len(df) * 100\n",
        "    data_describe['Missing %']=data_null\n",
        "    Cardinality=df_numeric.apply(pd.Series.nunique)\n",
        "    data_describe['Cardinality']=Cardinality\n",
        "    df_skew=df_numeric.skew(axis = 0, skipna = True) \n",
        "    data_describe['Skew']=df_skew\n",
        "    return data_describe"
      ],
      "execution_count": 0,
      "outputs": []
    },
    {
      "cell_type": "code",
      "metadata": {
        "colab_type": "code",
        "id": "vJ8BtTWNUw9-",
        "outputId": "6aea4246-b94a-48c8-9802-f935c8f90d06",
        "colab": {
          "base_uri": "https://localhost:8080/",
          "height": 696
        }
      },
      "source": [
        "for name, ds in megaline_datasets.items():\n",
        "  print(name)\n",
        "  describe_full(ds)"
      ],
      "execution_count": 0,
      "outputs": [
        {
          "output_type": "stream",
          "text": [
            "megaline_calls\n"
          ],
          "name": "stdout"
        },
        {
          "output_type": "execute_result",
          "data": {
            "text/html": [
              "<div>\n",
              "<style scoped>\n",
              "    .dataframe tbody tr th:only-of-type {\n",
              "        vertical-align: middle;\n",
              "    }\n",
              "\n",
              "    .dataframe tbody tr th {\n",
              "        vertical-align: top;\n",
              "    }\n",
              "\n",
              "    .dataframe thead th {\n",
              "        text-align: right;\n",
              "    }\n",
              "</style>\n",
              "<table border=\"1\" class=\"dataframe\">\n",
              "  <thead>\n",
              "    <tr style=\"text-align: right;\">\n",
              "      <th></th>\n",
              "      <th>count</th>\n",
              "      <th>mean</th>\n",
              "      <th>std</th>\n",
              "      <th>min</th>\n",
              "      <th>25%</th>\n",
              "      <th>50%</th>\n",
              "      <th>75%</th>\n",
              "      <th>max</th>\n",
              "      <th>dtypes</th>\n",
              "      <th>Missing %</th>\n",
              "      <th>Cardinality</th>\n",
              "      <th>Skew</th>\n",
              "    </tr>\n",
              "  </thead>\n",
              "  <tbody>\n",
              "    <tr>\n",
              "      <td>user_id</td>\n",
              "      <td>137735.0</td>\n",
              "      <td>1247.658046</td>\n",
              "      <td>139.416268</td>\n",
              "      <td>1000.0</td>\n",
              "      <td>1128.00</td>\n",
              "      <td>1247.00</td>\n",
              "      <td>1365.00</td>\n",
              "      <td>1499.0</td>\n",
              "      <td>int64</td>\n",
              "      <td>0.0</td>\n",
              "      <td>481</td>\n",
              "      <td>0.010325</td>\n",
              "    </tr>\n",
              "    <tr>\n",
              "      <td>duration</td>\n",
              "      <td>137735.0</td>\n",
              "      <td>6.745927</td>\n",
              "      <td>5.839241</td>\n",
              "      <td>0.0</td>\n",
              "      <td>1.29</td>\n",
              "      <td>5.98</td>\n",
              "      <td>10.69</td>\n",
              "      <td>37.6</td>\n",
              "      <td>float64</td>\n",
              "      <td>0.0</td>\n",
              "      <td>2802</td>\n",
              "      <td>0.693502</td>\n",
              "    </tr>\n",
              "  </tbody>\n",
              "</table>\n",
              "</div>"
            ],
            "text/plain": [
              "             count         mean         std     min      25%      50%  \\\n",
              "user_id   137735.0  1247.658046  139.416268  1000.0  1128.00  1247.00   \n",
              "duration  137735.0     6.745927    5.839241     0.0     1.29     5.98   \n",
              "\n",
              "              75%     max   dtypes  Missing %  Cardinality      Skew  \n",
              "user_id   1365.00  1499.0    int64        0.0          481  0.010325  \n",
              "duration    10.69    37.6  float64        0.0         2802  0.693502  "
            ]
          },
          "metadata": {
            "tags": []
          },
          "execution_count": 173
        },
        {
          "output_type": "stream",
          "text": [
            "megaline_internet\n"
          ],
          "name": "stdout"
        },
        {
          "output_type": "execute_result",
          "data": {
            "text/html": [
              "<div>\n",
              "<style scoped>\n",
              "    .dataframe tbody tr th:only-of-type {\n",
              "        vertical-align: middle;\n",
              "    }\n",
              "\n",
              "    .dataframe tbody tr th {\n",
              "        vertical-align: top;\n",
              "    }\n",
              "\n",
              "    .dataframe thead th {\n",
              "        text-align: right;\n",
              "    }\n",
              "</style>\n",
              "<table border=\"1\" class=\"dataframe\">\n",
              "  <thead>\n",
              "    <tr style=\"text-align: right;\">\n",
              "      <th></th>\n",
              "      <th>count</th>\n",
              "      <th>mean</th>\n",
              "      <th>std</th>\n",
              "      <th>min</th>\n",
              "      <th>25%</th>\n",
              "      <th>50%</th>\n",
              "      <th>75%</th>\n",
              "      <th>max</th>\n",
              "      <th>dtypes</th>\n",
              "      <th>Missing %</th>\n",
              "      <th>Cardinality</th>\n",
              "      <th>Skew</th>\n",
              "    </tr>\n",
              "  </thead>\n",
              "  <tbody>\n",
              "    <tr>\n",
              "      <td>user_id</td>\n",
              "      <td>104825.0</td>\n",
              "      <td>1242.496361</td>\n",
              "      <td>142.053913</td>\n",
              "      <td>1000.0</td>\n",
              "      <td>1122.00</td>\n",
              "      <td>1236.00</td>\n",
              "      <td>1367.00</td>\n",
              "      <td>1499.00</td>\n",
              "      <td>int64</td>\n",
              "      <td>0.0</td>\n",
              "      <td>489</td>\n",
              "      <td>0.080268</td>\n",
              "    </tr>\n",
              "    <tr>\n",
              "      <td>mb_used</td>\n",
              "      <td>104825.0</td>\n",
              "      <td>366.713701</td>\n",
              "      <td>277.170542</td>\n",
              "      <td>0.0</td>\n",
              "      <td>136.08</td>\n",
              "      <td>343.98</td>\n",
              "      <td>554.61</td>\n",
              "      <td>1693.47</td>\n",
              "      <td>float64</td>\n",
              "      <td>0.0</td>\n",
              "      <td>57624</td>\n",
              "      <td>0.532269</td>\n",
              "    </tr>\n",
              "  </tbody>\n",
              "</table>\n",
              "</div>"
            ],
            "text/plain": [
              "            count         mean         std     min      25%      50%      75%  \\\n",
              "user_id  104825.0  1242.496361  142.053913  1000.0  1122.00  1236.00  1367.00   \n",
              "mb_used  104825.0   366.713701  277.170542     0.0   136.08   343.98   554.61   \n",
              "\n",
              "             max   dtypes  Missing %  Cardinality      Skew  \n",
              "user_id  1499.00    int64        0.0          489  0.080268  \n",
              "mb_used  1693.47  float64        0.0        57624  0.532269  "
            ]
          },
          "metadata": {
            "tags": []
          },
          "execution_count": 173
        },
        {
          "output_type": "stream",
          "text": [
            "megaline_messages\n"
          ],
          "name": "stdout"
        },
        {
          "output_type": "execute_result",
          "data": {
            "text/html": [
              "<div>\n",
              "<style scoped>\n",
              "    .dataframe tbody tr th:only-of-type {\n",
              "        vertical-align: middle;\n",
              "    }\n",
              "\n",
              "    .dataframe tbody tr th {\n",
              "        vertical-align: top;\n",
              "    }\n",
              "\n",
              "    .dataframe thead th {\n",
              "        text-align: right;\n",
              "    }\n",
              "</style>\n",
              "<table border=\"1\" class=\"dataframe\">\n",
              "  <thead>\n",
              "    <tr style=\"text-align: right;\">\n",
              "      <th></th>\n",
              "      <th>count</th>\n",
              "      <th>mean</th>\n",
              "      <th>std</th>\n",
              "      <th>min</th>\n",
              "      <th>25%</th>\n",
              "      <th>50%</th>\n",
              "      <th>75%</th>\n",
              "      <th>max</th>\n",
              "      <th>dtypes</th>\n",
              "      <th>Missing %</th>\n",
              "      <th>Cardinality</th>\n",
              "      <th>Skew</th>\n",
              "    </tr>\n",
              "  </thead>\n",
              "  <tbody>\n",
              "    <tr>\n",
              "      <td>user_id</td>\n",
              "      <td>76051.0</td>\n",
              "      <td>1245.972768</td>\n",
              "      <td>139.843635</td>\n",
              "      <td>1000.0</td>\n",
              "      <td>1123.0</td>\n",
              "      <td>1251.0</td>\n",
              "      <td>1362.0</td>\n",
              "      <td>1497.0</td>\n",
              "      <td>int64</td>\n",
              "      <td>0.0</td>\n",
              "      <td>402</td>\n",
              "      <td>0.042754</td>\n",
              "    </tr>\n",
              "  </tbody>\n",
              "</table>\n",
              "</div>"
            ],
            "text/plain": [
              "           count         mean         std     min     25%     50%     75%  \\\n",
              "user_id  76051.0  1245.972768  139.843635  1000.0  1123.0  1251.0  1362.0   \n",
              "\n",
              "            max dtypes  Missing %  Cardinality      Skew  \n",
              "user_id  1497.0  int64        0.0          402  0.042754  "
            ]
          },
          "metadata": {
            "tags": []
          },
          "execution_count": 173
        },
        {
          "output_type": "stream",
          "text": [
            "megaline_tariffs\n"
          ],
          "name": "stdout"
        },
        {
          "output_type": "execute_result",
          "data": {
            "text/html": [
              "<div>\n",
              "<style scoped>\n",
              "    .dataframe tbody tr th:only-of-type {\n",
              "        vertical-align: middle;\n",
              "    }\n",
              "\n",
              "    .dataframe tbody tr th {\n",
              "        vertical-align: top;\n",
              "    }\n",
              "\n",
              "    .dataframe thead th {\n",
              "        text-align: right;\n",
              "    }\n",
              "</style>\n",
              "<table border=\"1\" class=\"dataframe\">\n",
              "  <thead>\n",
              "    <tr style=\"text-align: right;\">\n",
              "      <th></th>\n",
              "      <th>count</th>\n",
              "      <th>mean</th>\n",
              "      <th>std</th>\n",
              "      <th>min</th>\n",
              "      <th>25%</th>\n",
              "      <th>50%</th>\n",
              "      <th>75%</th>\n",
              "      <th>max</th>\n",
              "      <th>dtypes</th>\n",
              "      <th>Missing %</th>\n",
              "      <th>Cardinality</th>\n",
              "      <th>Skew</th>\n",
              "    </tr>\n",
              "  </thead>\n",
              "  <tbody>\n",
              "    <tr>\n",
              "      <td>messages_included</td>\n",
              "      <td>2.0</td>\n",
              "      <td>525.00</td>\n",
              "      <td>671.751442</td>\n",
              "      <td>50.00</td>\n",
              "      <td>287.500</td>\n",
              "      <td>525.00</td>\n",
              "      <td>762.500</td>\n",
              "      <td>1000.00</td>\n",
              "      <td>int64</td>\n",
              "      <td>0.0</td>\n",
              "      <td>2</td>\n",
              "      <td>NaN</td>\n",
              "    </tr>\n",
              "    <tr>\n",
              "      <td>mb_per_month_included</td>\n",
              "      <td>2.0</td>\n",
              "      <td>23040.00</td>\n",
              "      <td>10861.160159</td>\n",
              "      <td>15360.00</td>\n",
              "      <td>19200.000</td>\n",
              "      <td>23040.00</td>\n",
              "      <td>26880.000</td>\n",
              "      <td>30720.00</td>\n",
              "      <td>int64</td>\n",
              "      <td>0.0</td>\n",
              "      <td>2</td>\n",
              "      <td>NaN</td>\n",
              "    </tr>\n",
              "    <tr>\n",
              "      <td>minutes_included</td>\n",
              "      <td>2.0</td>\n",
              "      <td>1750.00</td>\n",
              "      <td>1767.766953</td>\n",
              "      <td>500.00</td>\n",
              "      <td>1125.000</td>\n",
              "      <td>1750.00</td>\n",
              "      <td>2375.000</td>\n",
              "      <td>3000.00</td>\n",
              "      <td>int64</td>\n",
              "      <td>0.0</td>\n",
              "      <td>2</td>\n",
              "      <td>NaN</td>\n",
              "    </tr>\n",
              "    <tr>\n",
              "      <td>usd_monthly_pay</td>\n",
              "      <td>2.0</td>\n",
              "      <td>45.00</td>\n",
              "      <td>35.355339</td>\n",
              "      <td>20.00</td>\n",
              "      <td>32.500</td>\n",
              "      <td>45.00</td>\n",
              "      <td>57.500</td>\n",
              "      <td>70.00</td>\n",
              "      <td>int64</td>\n",
              "      <td>0.0</td>\n",
              "      <td>2</td>\n",
              "      <td>NaN</td>\n",
              "    </tr>\n",
              "    <tr>\n",
              "      <td>usd_per_gb</td>\n",
              "      <td>2.0</td>\n",
              "      <td>8.50</td>\n",
              "      <td>2.121320</td>\n",
              "      <td>7.00</td>\n",
              "      <td>7.750</td>\n",
              "      <td>8.50</td>\n",
              "      <td>9.250</td>\n",
              "      <td>10.00</td>\n",
              "      <td>int64</td>\n",
              "      <td>0.0</td>\n",
              "      <td>2</td>\n",
              "      <td>NaN</td>\n",
              "    </tr>\n",
              "    <tr>\n",
              "      <td>usd_per_message</td>\n",
              "      <td>2.0</td>\n",
              "      <td>0.02</td>\n",
              "      <td>0.014142</td>\n",
              "      <td>0.01</td>\n",
              "      <td>0.015</td>\n",
              "      <td>0.02</td>\n",
              "      <td>0.025</td>\n",
              "      <td>0.03</td>\n",
              "      <td>float64</td>\n",
              "      <td>0.0</td>\n",
              "      <td>2</td>\n",
              "      <td>NaN</td>\n",
              "    </tr>\n",
              "    <tr>\n",
              "      <td>usd_per_minute</td>\n",
              "      <td>2.0</td>\n",
              "      <td>0.02</td>\n",
              "      <td>0.014142</td>\n",
              "      <td>0.01</td>\n",
              "      <td>0.015</td>\n",
              "      <td>0.02</td>\n",
              "      <td>0.025</td>\n",
              "      <td>0.03</td>\n",
              "      <td>float64</td>\n",
              "      <td>0.0</td>\n",
              "      <td>2</td>\n",
              "      <td>NaN</td>\n",
              "    </tr>\n",
              "  </tbody>\n",
              "</table>\n",
              "</div>"
            ],
            "text/plain": [
              "                       count      mean           std       min        25%  \\\n",
              "messages_included        2.0    525.00    671.751442     50.00    287.500   \n",
              "mb_per_month_included    2.0  23040.00  10861.160159  15360.00  19200.000   \n",
              "minutes_included         2.0   1750.00   1767.766953    500.00   1125.000   \n",
              "usd_monthly_pay          2.0     45.00     35.355339     20.00     32.500   \n",
              "usd_per_gb               2.0      8.50      2.121320      7.00      7.750   \n",
              "usd_per_message          2.0      0.02      0.014142      0.01      0.015   \n",
              "usd_per_minute           2.0      0.02      0.014142      0.01      0.015   \n",
              "\n",
              "                            50%        75%       max   dtypes  Missing %  \\\n",
              "messages_included        525.00    762.500   1000.00    int64        0.0   \n",
              "mb_per_month_included  23040.00  26880.000  30720.00    int64        0.0   \n",
              "minutes_included        1750.00   2375.000   3000.00    int64        0.0   \n",
              "usd_monthly_pay           45.00     57.500     70.00    int64        0.0   \n",
              "usd_per_gb                 8.50      9.250     10.00    int64        0.0   \n",
              "usd_per_message            0.02      0.025      0.03  float64        0.0   \n",
              "usd_per_minute             0.02      0.025      0.03  float64        0.0   \n",
              "\n",
              "                       Cardinality  Skew  \n",
              "messages_included                2   NaN  \n",
              "mb_per_month_included            2   NaN  \n",
              "minutes_included                 2   NaN  \n",
              "usd_monthly_pay                  2   NaN  \n",
              "usd_per_gb                       2   NaN  \n",
              "usd_per_message                  2   NaN  \n",
              "usd_per_minute                   2   NaN  "
            ]
          },
          "metadata": {
            "tags": []
          },
          "execution_count": 173
        },
        {
          "output_type": "stream",
          "text": [
            "megaline_users\n"
          ],
          "name": "stdout"
        },
        {
          "output_type": "execute_result",
          "data": {
            "text/html": [
              "<div>\n",
              "<style scoped>\n",
              "    .dataframe tbody tr th:only-of-type {\n",
              "        vertical-align: middle;\n",
              "    }\n",
              "\n",
              "    .dataframe tbody tr th {\n",
              "        vertical-align: top;\n",
              "    }\n",
              "\n",
              "    .dataframe thead th {\n",
              "        text-align: right;\n",
              "    }\n",
              "</style>\n",
              "<table border=\"1\" class=\"dataframe\">\n",
              "  <thead>\n",
              "    <tr style=\"text-align: right;\">\n",
              "      <th></th>\n",
              "      <th>count</th>\n",
              "      <th>mean</th>\n",
              "      <th>std</th>\n",
              "      <th>min</th>\n",
              "      <th>25%</th>\n",
              "      <th>50%</th>\n",
              "      <th>75%</th>\n",
              "      <th>max</th>\n",
              "      <th>dtypes</th>\n",
              "      <th>Missing %</th>\n",
              "      <th>Cardinality</th>\n",
              "      <th>Skew</th>\n",
              "    </tr>\n",
              "  </thead>\n",
              "  <tbody>\n",
              "    <tr>\n",
              "      <td>user_id</td>\n",
              "      <td>500.0</td>\n",
              "      <td>1249.500</td>\n",
              "      <td>144.481833</td>\n",
              "      <td>1000.0</td>\n",
              "      <td>1124.75</td>\n",
              "      <td>1249.5</td>\n",
              "      <td>1374.25</td>\n",
              "      <td>1499.0</td>\n",
              "      <td>int64</td>\n",
              "      <td>0.0</td>\n",
              "      <td>500</td>\n",
              "      <td>0.000000</td>\n",
              "    </tr>\n",
              "    <tr>\n",
              "      <td>age</td>\n",
              "      <td>500.0</td>\n",
              "      <td>45.486</td>\n",
              "      <td>16.972269</td>\n",
              "      <td>18.0</td>\n",
              "      <td>30.00</td>\n",
              "      <td>46.0</td>\n",
              "      <td>61.00</td>\n",
              "      <td>75.0</td>\n",
              "      <td>int64</td>\n",
              "      <td>0.0</td>\n",
              "      <td>58</td>\n",
              "      <td>0.040081</td>\n",
              "    </tr>\n",
              "    <tr>\n",
              "      <td>used_days</td>\n",
              "      <td>500.0</td>\n",
              "      <td>642.588</td>\n",
              "      <td>170.340277</td>\n",
              "      <td>7.0</td>\n",
              "      <td>571.25</td>\n",
              "      <td>672.5</td>\n",
              "      <td>761.00</td>\n",
              "      <td>854.0</td>\n",
              "      <td>int64</td>\n",
              "      <td>0.0</td>\n",
              "      <td>286</td>\n",
              "      <td>-1.677155</td>\n",
              "    </tr>\n",
              "  </tbody>\n",
              "</table>\n",
              "</div>"
            ],
            "text/plain": [
              "           count      mean         std     min      25%     50%      75%  \\\n",
              "user_id    500.0  1249.500  144.481833  1000.0  1124.75  1249.5  1374.25   \n",
              "age        500.0    45.486   16.972269    18.0    30.00    46.0    61.00   \n",
              "used_days  500.0   642.588  170.340277     7.0   571.25   672.5   761.00   \n",
              "\n",
              "              max dtypes  Missing %  Cardinality      Skew  \n",
              "user_id    1499.0  int64        0.0          500  0.000000  \n",
              "age          75.0  int64        0.0           58  0.040081  \n",
              "used_days   854.0  int64        0.0          286 -1.677155  "
            ]
          },
          "metadata": {
            "tags": []
          },
          "execution_count": 173
        }
      ]
    },
    {
      "cell_type": "markdown",
      "metadata": {
        "colab_type": "text",
        "id": "tMrwii-pihsa"
      },
      "source": [
        "We have denormalized table, let's build table that could neatly fit for ours purpose"
      ]
    },
    {
      "cell_type": "code",
      "metadata": {
        "colab_type": "code",
        "id": "GOhJ9eeQh17s",
        "colab": {}
      },
      "source": [
        "megaline_users_messages = megaline_users.merge(megaline_messages).rename({\"message_id\":\"id\"}, axis=1)"
      ],
      "execution_count": 0,
      "outputs": []
    },
    {
      "cell_type": "code",
      "metadata": {
        "colab_type": "code",
        "id": "L8RgQLhviSO-",
        "colab": {}
      },
      "source": [
        "megaline_users_internet = megaline_users.merge(megaline_internet).rename({\"session_id\":\"id\"}, axis=1)"
      ],
      "execution_count": 0,
      "outputs": []
    },
    {
      "cell_type": "code",
      "metadata": {
        "colab_type": "code",
        "id": "mTYL6XhPjouF",
        "colab": {}
      },
      "source": [
        "megaline_users_call = megaline_users.merge(megaline_calls).rename({\"call_id\":\"id\"}, axis=1)"
      ],
      "execution_count": 0,
      "outputs": []
    },
    {
      "cell_type": "code",
      "metadata": {
        "colab_type": "code",
        "id": "O-cEGSK9kgXd",
        "colab": {}
      },
      "source": [
        "megaline_users_messages['message_month'] = megaline_users_messages['message_date'].dt.month"
      ],
      "execution_count": 0,
      "outputs": []
    },
    {
      "cell_type": "code",
      "metadata": {
        "colab_type": "code",
        "id": "BiNPP3a_lF72",
        "colab": {}
      },
      "source": [
        "megaline_users_internet['session_month'] = megaline_users_internet['session_date'].dt.month"
      ],
      "execution_count": 0,
      "outputs": []
    },
    {
      "cell_type": "code",
      "metadata": {
        "colab_type": "code",
        "id": "YcwFRKowlL-I",
        "colab": {}
      },
      "source": [
        "megaline_users_call['call_month'] = megaline_users_call['call_date'].dt.month"
      ],
      "execution_count": 0,
      "outputs": []
    },
    {
      "cell_type": "code",
      "metadata": {
        "colab_type": "code",
        "id": "jH9LoO4AlXOC",
        "outputId": "c61ba029-7961-42b1-ac09-916062e1c03f",
        "colab": {
          "base_uri": "https://localhost:8080/",
          "height": 340
        }
      },
      "source": [
        "megaline_users_internet.info()"
      ],
      "execution_count": 0,
      "outputs": [
        {
          "output_type": "stream",
          "text": [
            "<class 'pandas.core.frame.DataFrame'>\n",
            "Int64Index: 104825 entries, 0 to 104824\n",
            "Data columns (total 12 columns):\n",
            "user_id          104825 non-null int64\n",
            "first_name       104825 non-null object\n",
            "last_name        104825 non-null object\n",
            "age              104825 non-null int64\n",
            "city             104825 non-null object\n",
            "reg_date         104825 non-null datetime64[ns]\n",
            "tariff           104825 non-null object\n",
            "used_days        104825 non-null int64\n",
            "id               104825 non-null object\n",
            "session_date     104825 non-null datetime64[ns]\n",
            "mb_used          104825 non-null float64\n",
            "session_month    104825 non-null int64\n",
            "dtypes: datetime64[ns](2), float64(1), int64(4), object(5)\n",
            "memory usage: 10.4+ MB\n"
          ],
          "name": "stdout"
        }
      ]
    },
    {
      "cell_type": "code",
      "metadata": {
        "id": "lZdYmE__593r",
        "colab_type": "code",
        "colab": {}
      },
      "source": [
        "megaline_users_internet[\"mb_used\"] = megaline_users_internet[\"mb_used\"].apply(np.ceil) "
      ],
      "execution_count": 0,
      "outputs": []
    },
    {
      "cell_type": "code",
      "metadata": {
        "colab_type": "code",
        "id": "1GPYrHwllcdG",
        "outputId": "250c5767-71e6-4556-c3f9-a69d49683774",
        "colab": {
          "base_uri": "https://localhost:8080/",
          "height": 34
        }
      },
      "source": [
        "len(megaline_users_internet[\"id\"].unique()) == len(megaline_users_internet[\"id\"].str.replace(\"_\", \"\").astype(int).unique())"
      ],
      "execution_count": 0,
      "outputs": [
        {
          "output_type": "execute_result",
          "data": {
            "text/plain": [
              "True"
            ]
          },
          "metadata": {
            "tags": []
          },
          "execution_count": 182
        }
      ]
    },
    {
      "cell_type": "code",
      "metadata": {
        "colab_type": "code",
        "id": "hAwVSAcVluhw",
        "colab": {}
      },
      "source": [
        "megaline_users_internet[\"id\"] = megaline_users_internet[\"id\"].str.replace(\"_\", \"\").astype(int)"
      ],
      "execution_count": 0,
      "outputs": []
    },
    {
      "cell_type": "code",
      "metadata": {
        "colab_type": "code",
        "id": "Pm_a4SlFl9mH",
        "colab": {}
      },
      "source": [
        "map_tariff = {'ultimate':0, 'surf':1}"
      ],
      "execution_count": 0,
      "outputs": []
    },
    {
      "cell_type": "code",
      "metadata": {
        "colab_type": "code",
        "id": "ho6LXCXElyuX",
        "colab": {}
      },
      "source": [
        "megaline_users_internet.tariff = (megaline_users_internet.tariff == 'surf').astype(int)"
      ],
      "execution_count": 0,
      "outputs": []
    },
    {
      "cell_type": "code",
      "metadata": {
        "colab_type": "code",
        "id": "80R3JezLmZvK",
        "outputId": "f3331f6d-1c98-493f-bc4b-39593feb5ae9",
        "colab": {
          "base_uri": "https://localhost:8080/",
          "height": 340
        }
      },
      "source": [
        "megaline_users_call.info()"
      ],
      "execution_count": 0,
      "outputs": [
        {
          "output_type": "stream",
          "text": [
            "<class 'pandas.core.frame.DataFrame'>\n",
            "Int64Index: 137735 entries, 0 to 137734\n",
            "Data columns (total 12 columns):\n",
            "user_id       137735 non-null int64\n",
            "first_name    137735 non-null object\n",
            "last_name     137735 non-null object\n",
            "age           137735 non-null int64\n",
            "city          137735 non-null object\n",
            "reg_date      137735 non-null datetime64[ns]\n",
            "tariff        137735 non-null object\n",
            "used_days     137735 non-null int64\n",
            "id            137735 non-null object\n",
            "call_date     137735 non-null datetime64[ns]\n",
            "duration      137735 non-null float64\n",
            "call_month    137735 non-null int64\n",
            "dtypes: datetime64[ns](2), float64(1), int64(4), object(5)\n",
            "memory usage: 13.7+ MB\n"
          ],
          "name": "stdout"
        }
      ]
    },
    {
      "cell_type": "code",
      "metadata": {
        "id": "t1r-LFgs5930",
        "colab_type": "code",
        "colab": {}
      },
      "source": [
        "megaline_users_call[\"duration\"] = megaline_users_call[\"duration\"].apply(np.ceil)"
      ],
      "execution_count": 0,
      "outputs": []
    },
    {
      "cell_type": "code",
      "metadata": {
        "colab_type": "code",
        "id": "waHTNrgNnDyX",
        "outputId": "7d063d4f-503e-4644-83ee-25b4a6233451",
        "colab": {
          "base_uri": "https://localhost:8080/",
          "height": 34
        }
      },
      "source": [
        "len(megaline_users_call[\"id\"].unique()) == len(megaline_users_call[\"id\"].str.replace(\"_\", \"\").astype(int).unique())"
      ],
      "execution_count": 0,
      "outputs": [
        {
          "output_type": "execute_result",
          "data": {
            "text/plain": [
              "True"
            ]
          },
          "metadata": {
            "tags": []
          },
          "execution_count": 188
        }
      ]
    },
    {
      "cell_type": "code",
      "metadata": {
        "colab_type": "code",
        "id": "atWLbcLjnGV8",
        "colab": {}
      },
      "source": [
        "megaline_users_call[\"id\"] = megaline_users_call[\"id\"].str.replace(\"_\", \"\").astype(int)"
      ],
      "execution_count": 0,
      "outputs": []
    },
    {
      "cell_type": "code",
      "metadata": {
        "colab_type": "code",
        "id": "g6Dp7PHInJpD",
        "colab": {}
      },
      "source": [
        "megaline_users_call.tariff = (megaline_users_call.tariff == 'surf').astype(int)"
      ],
      "execution_count": 0,
      "outputs": []
    },
    {
      "cell_type": "code",
      "metadata": {
        "colab_type": "code",
        "id": "IBGA4ujtnVvW",
        "outputId": "abd75781-85d5-4d81-b42f-1540cfd5a002",
        "colab": {
          "base_uri": "https://localhost:8080/",
          "height": 323
        }
      },
      "source": [
        "megaline_users_messages.info()"
      ],
      "execution_count": 0,
      "outputs": [
        {
          "output_type": "stream",
          "text": [
            "<class 'pandas.core.frame.DataFrame'>\n",
            "Int64Index: 76051 entries, 0 to 76050\n",
            "Data columns (total 11 columns):\n",
            "user_id          76051 non-null int64\n",
            "first_name       76051 non-null object\n",
            "last_name        76051 non-null object\n",
            "age              76051 non-null int64\n",
            "city             76051 non-null object\n",
            "reg_date         76051 non-null datetime64[ns]\n",
            "tariff           76051 non-null object\n",
            "used_days        76051 non-null int64\n",
            "id               76051 non-null object\n",
            "message_date     76051 non-null datetime64[ns]\n",
            "message_month    76051 non-null int64\n",
            "dtypes: datetime64[ns](2), int64(4), object(5)\n",
            "memory usage: 7.0+ MB\n"
          ],
          "name": "stdout"
        }
      ]
    },
    {
      "cell_type": "markdown",
      "metadata": {
        "id": "xRcTMKmX593-",
        "colab_type": "text"
      },
      "source": [
        "As we see id has pattern of \"number-number\" , maybe we could convert it to numeric format,  but before it we need\n",
        "to check of validity of removing of \"-\""
      ]
    },
    {
      "cell_type": "code",
      "metadata": {
        "colab_type": "code",
        "id": "pvqOcl8InaZo",
        "outputId": "09f593cb-1967-4df1-a751-560677a8c400",
        "colab": {
          "base_uri": "https://localhost:8080/",
          "height": 34
        }
      },
      "source": [
        "len(megaline_users_messages[\"id\"].unique()) == len(megaline_users_messages[\"id\"].str.replace(\"_\", \"\").astype(int).unique())"
      ],
      "execution_count": 0,
      "outputs": [
        {
          "output_type": "execute_result",
          "data": {
            "text/plain": [
              "True"
            ]
          },
          "metadata": {
            "tags": []
          },
          "execution_count": 192
        }
      ]
    },
    {
      "cell_type": "code",
      "metadata": {
        "colab_type": "code",
        "id": "dF-suj-yneLo",
        "colab": {}
      },
      "source": [
        "megaline_users_messages[\"id\"] = megaline_users_messages[\"id\"].str.replace(\"_\", \"\").astype(int)"
      ],
      "execution_count": 0,
      "outputs": []
    },
    {
      "cell_type": "code",
      "metadata": {
        "colab_type": "code",
        "id": "ItDChMkWnhJc",
        "colab": {}
      },
      "source": [
        "megaline_users_messages.tariff = (megaline_users_messages.tariff == 'surf').astype(int)"
      ],
      "execution_count": 0,
      "outputs": []
    },
    {
      "cell_type": "code",
      "metadata": {
        "colab_type": "code",
        "id": "yuYsd1KWxW-O",
        "colab": {}
      },
      "source": [
        "megaline_users.tariff = (megaline_users.tariff == 'surf').astype(int)"
      ],
      "execution_count": 0,
      "outputs": []
    },
    {
      "cell_type": "code",
      "metadata": {
        "colab_type": "code",
        "id": "P6gZhi4tn0Ws",
        "colab": {}
      },
      "source": [
        "megaline_datasets = {\"megaline_users_messages\":megaline_users_messages, \"megaline_users_call\":megaline_users_call, \"megaline_users_internet\":megaline_users_internet}"
      ],
      "execution_count": 0,
      "outputs": []
    },
    {
      "cell_type": "code",
      "metadata": {
        "colab_type": "code",
        "id": "7JPOIWPvnxyS",
        "outputId": "98196e2d-592a-4c39-de5a-529905a1f32d",
        "colab": {
          "base_uri": "https://localhost:8080/",
          "height": 119
        }
      },
      "source": [
        "for name, ds in megaline_datasets.items():\n",
        "  print(name)\n",
        "  print(ds.duplicated().sum())"
      ],
      "execution_count": 0,
      "outputs": [
        {
          "output_type": "stream",
          "text": [
            "megaline_users_messages\n",
            "0\n",
            "megaline_users_call\n",
            "0\n",
            "megaline_users_internet\n",
            "0\n"
          ],
          "name": "stdout"
        }
      ]
    },
    {
      "cell_type": "code",
      "metadata": {
        "colab_type": "code",
        "id": "IU_4_s7SsJPA",
        "outputId": "16eb244a-2b13-45e4-bde4-4206417f8125",
        "colab": {
          "base_uri": "https://localhost:8080/",
          "height": 111
        }
      },
      "source": [
        "megaline_users_call_pivot = pd.DataFrame(megaline_users_call.pivot_table(index=['user_id', 'call_month'], values='duration', aggfunc=['count', 'sum'])).reset_index(drop=False)\n",
        "megaline_users_call_pivot.columns = ['user_id', 'call_month', 'count_calls', 'total_duration']\n",
        "megaline_users_call_pivot.sample(2)"
      ],
      "execution_count": 0,
      "outputs": [
        {
          "output_type": "execute_result",
          "data": {
            "text/html": [
              "<div>\n",
              "<style scoped>\n",
              "    .dataframe tbody tr th:only-of-type {\n",
              "        vertical-align: middle;\n",
              "    }\n",
              "\n",
              "    .dataframe tbody tr th {\n",
              "        vertical-align: top;\n",
              "    }\n",
              "\n",
              "    .dataframe thead th {\n",
              "        text-align: right;\n",
              "    }\n",
              "</style>\n",
              "<table border=\"1\" class=\"dataframe\">\n",
              "  <thead>\n",
              "    <tr style=\"text-align: right;\">\n",
              "      <th></th>\n",
              "      <th>user_id</th>\n",
              "      <th>call_month</th>\n",
              "      <th>count_calls</th>\n",
              "      <th>total_duration</th>\n",
              "    </tr>\n",
              "  </thead>\n",
              "  <tbody>\n",
              "    <tr>\n",
              "      <td>1690</td>\n",
              "      <td>1369</td>\n",
              "      <td>12</td>\n",
              "      <td>58</td>\n",
              "      <td>386.0</td>\n",
              "    </tr>\n",
              "    <tr>\n",
              "      <td>4</td>\n",
              "      <td>1001</td>\n",
              "      <td>11</td>\n",
              "      <td>64</td>\n",
              "      <td>426.0</td>\n",
              "    </tr>\n",
              "  </tbody>\n",
              "</table>\n",
              "</div>"
            ],
            "text/plain": [
              "      user_id  call_month  count_calls  total_duration\n",
              "1690     1369          12           58           386.0\n",
              "4        1001          11           64           426.0"
            ]
          },
          "metadata": {
            "tags": []
          },
          "execution_count": 198
        }
      ]
    },
    {
      "cell_type": "markdown",
      "metadata": {
        "id": "7OB4tu5D594M",
        "colab_type": "text"
      },
      "source": [
        "As we know Megaline round up duration and internet:"
      ]
    },
    {
      "cell_type": "markdown",
      "metadata": {
        "id": "TKXyGJJD594M",
        "colab_type": "text"
      },
      "source": [
        "## Review (2)\n",
        "\n",
        "```diff\n",
        "- If the tail of number is less then .5 method .round() rounds it to the lower int number and if more or equal then to higher. Here you should always round your numbers to a higher value. So if the customer used 1.3 mb for the session company charges him for 2 mb. Same for minutes. Here method np.ceil could help you.\n",
        "\n",
        "- You are rounding your data after aggregating it by months but should do it by every session or call and only after then round the data.\n",
        "```\n",
        "\n",
        "Here an useful link about how it works: http://www.datasciencemadesimple.com/ceil-floor-dataframe-pandas-python-2/\n",
        "\n",
        "---\n"
      ]
    },
    {
      "cell_type": "markdown",
      "metadata": {
        "id": "ZkiBO8-n594M",
        "colab_type": "text"
      },
      "source": [
        ">Thanks, added round up above, removed it from pivot tables"
      ]
    },
    {
      "cell_type": "code",
      "metadata": {
        "id": "YiEDvPeE594M",
        "colab_type": "code",
        "colab": {},
        "outputId": "f898e66a-9432-405c-db8c-794e46613df5"
      },
      "source": [
        "megaline_users_call_pivot.sample(2)"
      ],
      "execution_count": 0,
      "outputs": [
        {
          "output_type": "execute_result",
          "data": {
            "text/html": [
              "<div>\n",
              "<style scoped>\n",
              "    .dataframe tbody tr th:only-of-type {\n",
              "        vertical-align: middle;\n",
              "    }\n",
              "\n",
              "    .dataframe tbody tr th {\n",
              "        vertical-align: top;\n",
              "    }\n",
              "\n",
              "    .dataframe thead th {\n",
              "        text-align: right;\n",
              "    }\n",
              "</style>\n",
              "<table border=\"1\" class=\"dataframe\">\n",
              "  <thead>\n",
              "    <tr style=\"text-align: right;\">\n",
              "      <th></th>\n",
              "      <th>user_id</th>\n",
              "      <th>call_month</th>\n",
              "      <th>count_calls</th>\n",
              "      <th>total_duration</th>\n",
              "    </tr>\n",
              "  </thead>\n",
              "  <tbody>\n",
              "    <tr>\n",
              "      <td>158</td>\n",
              "      <td>1042</td>\n",
              "      <td>4</td>\n",
              "      <td>44</td>\n",
              "      <td>279.0</td>\n",
              "    </tr>\n",
              "    <tr>\n",
              "      <td>1901</td>\n",
              "      <td>1412</td>\n",
              "      <td>10</td>\n",
              "      <td>142</td>\n",
              "      <td>1020.0</td>\n",
              "    </tr>\n",
              "  </tbody>\n",
              "</table>\n",
              "</div>"
            ],
            "text/plain": [
              "      user_id  call_month  count_calls  total_duration\n",
              "158      1042           4           44           279.0\n",
              "1901     1412          10          142          1020.0"
            ]
          },
          "metadata": {
            "tags": []
          },
          "execution_count": 200
        }
      ]
    },
    {
      "cell_type": "code",
      "metadata": {
        "colab_type": "code",
        "id": "8P_yHBTavRSp",
        "outputId": "e055eee0-10e6-4665-bf0d-8cdc123a0c72",
        "colab": {
          "base_uri": "https://localhost:8080/",
          "height": 111
        }
      },
      "source": [
        "megaline_users_messages_pivot = pd.DataFrame(megaline_users_messages.pivot_table(index=['user_id', 'message_month'], values='id', aggfunc=['count'])).reset_index(drop=False)\n",
        "megaline_users_messages_pivot.columns = ['user_id', 'msg_month', 'count_msg']\n",
        "megaline_users_messages_pivot.sample(2)"
      ],
      "execution_count": 0,
      "outputs": [
        {
          "output_type": "execute_result",
          "data": {
            "text/html": [
              "<div>\n",
              "<style scoped>\n",
              "    .dataframe tbody tr th:only-of-type {\n",
              "        vertical-align: middle;\n",
              "    }\n",
              "\n",
              "    .dataframe tbody tr th {\n",
              "        vertical-align: top;\n",
              "    }\n",
              "\n",
              "    .dataframe thead th {\n",
              "        text-align: right;\n",
              "    }\n",
              "</style>\n",
              "<table border=\"1\" class=\"dataframe\">\n",
              "  <thead>\n",
              "    <tr style=\"text-align: right;\">\n",
              "      <th></th>\n",
              "      <th>user_id</th>\n",
              "      <th>msg_month</th>\n",
              "      <th>count_msg</th>\n",
              "    </tr>\n",
              "  </thead>\n",
              "  <tbody>\n",
              "    <tr>\n",
              "      <td>759</td>\n",
              "      <td>1201</td>\n",
              "      <td>11</td>\n",
              "      <td>8</td>\n",
              "    </tr>\n",
              "    <tr>\n",
              "      <td>1305</td>\n",
              "      <td>1350</td>\n",
              "      <td>12</td>\n",
              "      <td>7</td>\n",
              "    </tr>\n",
              "  </tbody>\n",
              "</table>\n",
              "</div>"
            ],
            "text/plain": [
              "      user_id  msg_month  count_msg\n",
              "759      1201         11          8\n",
              "1305     1350         12          7"
            ]
          },
          "metadata": {
            "tags": []
          },
          "execution_count": 201
        }
      ]
    },
    {
      "cell_type": "code",
      "metadata": {
        "colab_type": "code",
        "id": "HUUeGbMisXHs",
        "outputId": "1eafa7cd-8cf2-43e8-bf3c-96dd659505e4",
        "colab": {
          "base_uri": "https://localhost:8080/",
          "height": 111
        }
      },
      "source": [
        "megaline_users_internet_pivot = pd.DataFrame(megaline_users_internet.pivot_table(index=['user_id', 'session_month'], values='mb_used', aggfunc='sum')).reset_index(drop=False)\n",
        "megaline_users_internet_pivot.columns = ['user_id', 'session_month', 'total_mb']\n",
        "megaline_users_internet_pivot.sample(2)"
      ],
      "execution_count": 0,
      "outputs": [
        {
          "output_type": "execute_result",
          "data": {
            "text/html": [
              "<div>\n",
              "<style scoped>\n",
              "    .dataframe tbody tr th:only-of-type {\n",
              "        vertical-align: middle;\n",
              "    }\n",
              "\n",
              "    .dataframe tbody tr th {\n",
              "        vertical-align: top;\n",
              "    }\n",
              "\n",
              "    .dataframe thead th {\n",
              "        text-align: right;\n",
              "    }\n",
              "</style>\n",
              "<table border=\"1\" class=\"dataframe\">\n",
              "  <thead>\n",
              "    <tr style=\"text-align: right;\">\n",
              "      <th></th>\n",
              "      <th>user_id</th>\n",
              "      <th>session_month</th>\n",
              "      <th>total_mb</th>\n",
              "    </tr>\n",
              "  </thead>\n",
              "  <tbody>\n",
              "    <tr>\n",
              "      <td>387</td>\n",
              "      <td>1081</td>\n",
              "      <td>6</td>\n",
              "      <td>18162.0</td>\n",
              "    </tr>\n",
              "    <tr>\n",
              "      <td>1268</td>\n",
              "      <td>1267</td>\n",
              "      <td>11</td>\n",
              "      <td>1470.0</td>\n",
              "    </tr>\n",
              "  </tbody>\n",
              "</table>\n",
              "</div>"
            ],
            "text/plain": [
              "      user_id  session_month  total_mb\n",
              "387      1081              6   18162.0\n",
              "1268     1267             11    1470.0"
            ]
          },
          "metadata": {
            "tags": []
          },
          "execution_count": 202
        }
      ]
    },
    {
      "cell_type": "code",
      "metadata": {
        "colab_type": "code",
        "id": "VqSMcpVmrcAy",
        "colab": {}
      },
      "source": [
        "megaline_agg_df = (megaline_users\n",
        "  .join(megaline_users_call_pivot.groupby('user_id')[['total_duration', 'count_calls']].sum(), on='user_id')\n",
        "  .join(megaline_users_internet_pivot.groupby('user_id')['total_mb'].sum(), on='user_id')\n",
        "  .join(megaline_users_messages_pivot.groupby('user_id')['count_msg'].sum(), on='user_id'))"
      ],
      "execution_count": 0,
      "outputs": []
    },
    {
      "cell_type": "code",
      "metadata": {
        "colab_type": "code",
        "id": "390sX6id0LQo",
        "colab": {}
      },
      "source": [
        "#kx+b=y, 500 when tariff is 1 and  3000 when is 0, we have -2500x+3000\n",
        "megaline_agg_df['duration_left'] = megaline_agg_df[\"total_duration\"] - (-2500*megaline_agg_df[\"tariff\"] + 3000)"
      ],
      "execution_count": 0,
      "outputs": []
    },
    {
      "cell_type": "code",
      "metadata": {
        "colab_type": "code",
        "id": "zQer2-jyy8ih",
        "colab": {}
      },
      "source": [
        "def calc_call_profit(r):\n",
        "    duration = r['duration_left']\n",
        "    tariff = 0.03 if r['tariff'] else 0.01\n",
        "    return duration*tariff"
      ],
      "execution_count": 0,
      "outputs": []
    },
    {
      "cell_type": "code",
      "metadata": {
        "colab_type": "code",
        "id": "QOap2PaE0HhS",
        "colab": {}
      },
      "source": [
        "megaline_agg_df['profit_call'] = megaline_agg_df.apply(calc_call_profit, axis=1)"
      ],
      "execution_count": 0,
      "outputs": []
    },
    {
      "cell_type": "code",
      "metadata": {
        "colab_type": "code",
        "id": "k_tJafnU4nFw",
        "colab": {}
      },
      "source": [
        "megaline_agg_df['mb_left'] = megaline_agg_df[\"total_mb\"] - (-15*1024*megaline_agg_df[\"tariff\"]+30*1024)"
      ],
      "execution_count": 0,
      "outputs": []
    },
    {
      "cell_type": "code",
      "metadata": {
        "colab_type": "code",
        "id": "e9xDho0OzAC8",
        "colab": {}
      },
      "source": [
        "def calc_internet_profit(r):\n",
        "    internet = r['total_mb']/1024\n",
        "    tariff = 10 if r['tariff'] else 7\n",
        "    return internet*tariff"
      ],
      "execution_count": 0,
      "outputs": []
    },
    {
      "cell_type": "code",
      "metadata": {
        "colab_type": "code",
        "id": "I8S2lMd-5Iih",
        "colab": {}
      },
      "source": [
        "megaline_agg_df['profit_internet'] = megaline_agg_df.apply(calc_internet_profit, axis=1)"
      ],
      "execution_count": 0,
      "outputs": []
    },
    {
      "cell_type": "code",
      "metadata": {
        "colab_type": "code",
        "id": "wA0xE_6x5gg9",
        "colab": {}
      },
      "source": [
        "megaline_agg_df['msg_left'] = megaline_agg_df[\"count_msg\"] - (-950*megaline_agg_df[\"tariff\"] + 1000)"
      ],
      "execution_count": 0,
      "outputs": []
    },
    {
      "cell_type": "code",
      "metadata": {
        "colab_type": "code",
        "id": "yHOC-NNs5fWM",
        "colab": {}
      },
      "source": [
        "def calc_msg_profit(r):\n",
        "    msg = r['msg_left']\n",
        "    tariff = 0.03 if r['tariff'] else 0.01\n",
        "    return msg*tariff"
      ],
      "execution_count": 0,
      "outputs": []
    },
    {
      "cell_type": "code",
      "metadata": {
        "colab_type": "code",
        "id": "jUgRLeBo6TJW",
        "colab": {}
      },
      "source": [
        "megaline_agg_df['profit_msg'] = megaline_agg_df.apply(calc_msg_profit, axis=1)"
      ],
      "execution_count": 0,
      "outputs": []
    },
    {
      "cell_type": "code",
      "metadata": {
        "colab_type": "code",
        "id": "BeaY4v1j-FPv",
        "colab": {}
      },
      "source": [
        "months = 12"
      ],
      "execution_count": 0,
      "outputs": []
    },
    {
      "cell_type": "code",
      "metadata": {
        "colab_type": "code",
        "id": "Mga0NFbtNcwb",
        "colab": {}
      },
      "source": [
        "megaline_agg_df['profit_total'] = (megaline_agg_df['profit_internet'] + megaline_agg_df['profit_call'] + megaline_agg_df['profit_msg']) +(-50*megaline_agg_df[\"tariff\"]+70)"
      ],
      "execution_count": 0,
      "outputs": []
    },
    {
      "cell_type": "code",
      "metadata": {
        "colab_type": "code",
        "id": "jFZLJDaV9oTQ",
        "colab": {}
      },
      "source": [
        "megaline_agg_df['duration_per_month'] = megaline_agg_df['total_duration'] / months\n",
        "megaline_agg_df['calls_month'] = megaline_agg_df['count_calls'] / months\n",
        "megaline_agg_df['internet_mb_per_month'] = megaline_agg_df['total_mb'] / months\n",
        "megaline_agg_df['msg_per_month'] = megaline_agg_df['count_msg'] / months"
      ],
      "execution_count": 0,
      "outputs": []
    },
    {
      "cell_type": "code",
      "metadata": {
        "colab_type": "code",
        "id": "kOUrWFcBOLLL",
        "colab": {}
      },
      "source": [
        "megaline_agg_df['profit_per_month'] = megaline_agg_df['profit_total'] / months"
      ],
      "execution_count": 0,
      "outputs": []
    },
    {
      "cell_type": "code",
      "metadata": {
        "id": "F1nCwOXH594s",
        "colab_type": "code",
        "colab": {},
        "outputId": "c70cff9f-1ec1-428c-d2d0-d70d1d1657fc"
      },
      "source": [
        "megaline_agg_df.fillna(0)"
      ],
      "execution_count": 0,
      "outputs": [
        {
          "output_type": "execute_result",
          "data": {
            "text/html": [
              "<div>\n",
              "<style scoped>\n",
              "    .dataframe tbody tr th:only-of-type {\n",
              "        vertical-align: middle;\n",
              "    }\n",
              "\n",
              "    .dataframe tbody tr th {\n",
              "        vertical-align: top;\n",
              "    }\n",
              "\n",
              "    .dataframe thead th {\n",
              "        text-align: right;\n",
              "    }\n",
              "</style>\n",
              "<table border=\"1\" class=\"dataframe\">\n",
              "  <thead>\n",
              "    <tr style=\"text-align: right;\">\n",
              "      <th></th>\n",
              "      <th>user_id</th>\n",
              "      <th>first_name</th>\n",
              "      <th>last_name</th>\n",
              "      <th>age</th>\n",
              "      <th>city</th>\n",
              "      <th>reg_date</th>\n",
              "      <th>tariff</th>\n",
              "      <th>used_days</th>\n",
              "      <th>total_duration</th>\n",
              "      <th>count_calls</th>\n",
              "      <th>...</th>\n",
              "      <th>mb_left</th>\n",
              "      <th>profit_internet</th>\n",
              "      <th>msg_left</th>\n",
              "      <th>profit_msg</th>\n",
              "      <th>profit_total</th>\n",
              "      <th>duration_per_month</th>\n",
              "      <th>calls_month</th>\n",
              "      <th>internet_mb_per_month</th>\n",
              "      <th>msg_per_month</th>\n",
              "      <th>profit_per_month</th>\n",
              "    </tr>\n",
              "  </thead>\n",
              "  <tbody>\n",
              "    <tr>\n",
              "      <td>0</td>\n",
              "      <td>1000</td>\n",
              "      <td>Anamaria</td>\n",
              "      <td>Bauer</td>\n",
              "      <td>45</td>\n",
              "      <td>Atlanta-Sandy Springs-Roswell, GA MSA</td>\n",
              "      <td>2018-12-24</td>\n",
              "      <td>0</td>\n",
              "      <td>497</td>\n",
              "      <td>124.0</td>\n",
              "      <td>16.0</td>\n",
              "      <td>...</td>\n",
              "      <td>-28817.0</td>\n",
              "      <td>13.008789</td>\n",
              "      <td>-989.0</td>\n",
              "      <td>-9.89</td>\n",
              "      <td>44.358789</td>\n",
              "      <td>10.333333</td>\n",
              "      <td>1.333333</td>\n",
              "      <td>158.583333</td>\n",
              "      <td>0.916667</td>\n",
              "      <td>3.696566</td>\n",
              "    </tr>\n",
              "    <tr>\n",
              "      <td>1</td>\n",
              "      <td>1001</td>\n",
              "      <td>Mickey</td>\n",
              "      <td>Wilkerson</td>\n",
              "      <td>28</td>\n",
              "      <td>Seattle-Tacoma-Bellevue, WA MSA</td>\n",
              "      <td>2018-08-13</td>\n",
              "      <td>1</td>\n",
              "      <td>630</td>\n",
              "      <td>1728.0</td>\n",
              "      <td>261.0</td>\n",
              "      <td>...</td>\n",
              "      <td>65180.0</td>\n",
              "      <td>786.523438</td>\n",
              "      <td>157.0</td>\n",
              "      <td>4.71</td>\n",
              "      <td>848.073438</td>\n",
              "      <td>144.000000</td>\n",
              "      <td>21.750000</td>\n",
              "      <td>6711.666667</td>\n",
              "      <td>17.250000</td>\n",
              "      <td>70.672786</td>\n",
              "    </tr>\n",
              "    <tr>\n",
              "      <td>2</td>\n",
              "      <td>1002</td>\n",
              "      <td>Carlee</td>\n",
              "      <td>Hoffman</td>\n",
              "      <td>36</td>\n",
              "      <td>Las Vegas-Henderson-Paradise, NV MSA</td>\n",
              "      <td>2018-10-21</td>\n",
              "      <td>1</td>\n",
              "      <td>561</td>\n",
              "      <td>829.0</td>\n",
              "      <td>113.0</td>\n",
              "      <td>...</td>\n",
              "      <td>24979.0</td>\n",
              "      <td>393.935547</td>\n",
              "      <td>38.0</td>\n",
              "      <td>1.14</td>\n",
              "      <td>424.945547</td>\n",
              "      <td>69.083333</td>\n",
              "      <td>9.416667</td>\n",
              "      <td>3361.583333</td>\n",
              "      <td>7.333333</td>\n",
              "      <td>35.412129</td>\n",
              "    </tr>\n",
              "    <tr>\n",
              "      <td>3</td>\n",
              "      <td>1003</td>\n",
              "      <td>Reynaldo</td>\n",
              "      <td>Jenkins</td>\n",
              "      <td>52</td>\n",
              "      <td>Tulsa, OK MSA</td>\n",
              "      <td>2018-01-28</td>\n",
              "      <td>1</td>\n",
              "      <td>827</td>\n",
              "      <td>1104.0</td>\n",
              "      <td>149.0</td>\n",
              "      <td>...</td>\n",
              "      <td>11709.0</td>\n",
              "      <td>264.345703</td>\n",
              "      <td>0.0</td>\n",
              "      <td>0.00</td>\n",
              "      <td>302.465703</td>\n",
              "      <td>92.000000</td>\n",
              "      <td>12.416667</td>\n",
              "      <td>2255.750000</td>\n",
              "      <td>4.166667</td>\n",
              "      <td>25.205475</td>\n",
              "    </tr>\n",
              "    <tr>\n",
              "      <td>4</td>\n",
              "      <td>1004</td>\n",
              "      <td>Leonila</td>\n",
              "      <td>Thompson</td>\n",
              "      <td>40</td>\n",
              "      <td>Seattle-Tacoma-Bellevue, WA MSA</td>\n",
              "      <td>2018-05-23</td>\n",
              "      <td>1</td>\n",
              "      <td>712</td>\n",
              "      <td>2772.0</td>\n",
              "      <td>370.0</td>\n",
              "      <td>...</td>\n",
              "      <td>141188.0</td>\n",
              "      <td>1528.789062</td>\n",
              "      <td>127.0</td>\n",
              "      <td>3.81</td>\n",
              "      <td>1620.759063</td>\n",
              "      <td>231.000000</td>\n",
              "      <td>30.833333</td>\n",
              "      <td>13045.666667</td>\n",
              "      <td>14.750000</td>\n",
              "      <td>135.063255</td>\n",
              "    </tr>\n",
              "    <tr>\n",
              "      <td>...</td>\n",
              "      <td>...</td>\n",
              "      <td>...</td>\n",
              "      <td>...</td>\n",
              "      <td>...</td>\n",
              "      <td>...</td>\n",
              "      <td>...</td>\n",
              "      <td>...</td>\n",
              "      <td>...</td>\n",
              "      <td>...</td>\n",
              "      <td>...</td>\n",
              "      <td>...</td>\n",
              "      <td>...</td>\n",
              "      <td>...</td>\n",
              "      <td>...</td>\n",
              "      <td>...</td>\n",
              "      <td>...</td>\n",
              "      <td>...</td>\n",
              "      <td>...</td>\n",
              "      <td>...</td>\n",
              "      <td>...</td>\n",
              "      <td>...</td>\n",
              "    </tr>\n",
              "    <tr>\n",
              "      <td>495</td>\n",
              "      <td>1495</td>\n",
              "      <td>Fidel</td>\n",
              "      <td>Sharpe</td>\n",
              "      <td>67</td>\n",
              "      <td>New York-Newark-Jersey City, NY-NJ-PA MSA</td>\n",
              "      <td>2018-09-04</td>\n",
              "      <td>1</td>\n",
              "      <td>608</td>\n",
              "      <td>1765.0</td>\n",
              "      <td>253.0</td>\n",
              "      <td>...</td>\n",
              "      <td>83650.0</td>\n",
              "      <td>966.894531</td>\n",
              "      <td>0.0</td>\n",
              "      <td>0.00</td>\n",
              "      <td>0.000000</td>\n",
              "      <td>147.083333</td>\n",
              "      <td>21.083333</td>\n",
              "      <td>8250.833333</td>\n",
              "      <td>0.000000</td>\n",
              "      <td>0.000000</td>\n",
              "    </tr>\n",
              "    <tr>\n",
              "      <td>496</td>\n",
              "      <td>1496</td>\n",
              "      <td>Ariel</td>\n",
              "      <td>Shepherd</td>\n",
              "      <td>49</td>\n",
              "      <td>New Orleans-Metairie, LA MSA</td>\n",
              "      <td>2018-02-20</td>\n",
              "      <td>1</td>\n",
              "      <td>804</td>\n",
              "      <td>1455.0</td>\n",
              "      <td>195.0</td>\n",
              "      <td>...</td>\n",
              "      <td>48997.0</td>\n",
              "      <td>628.486328</td>\n",
              "      <td>15.0</td>\n",
              "      <td>0.45</td>\n",
              "      <td>677.586328</td>\n",
              "      <td>121.250000</td>\n",
              "      <td>16.250000</td>\n",
              "      <td>5363.083333</td>\n",
              "      <td>5.416667</td>\n",
              "      <td>56.465527</td>\n",
              "    </tr>\n",
              "    <tr>\n",
              "      <td>497</td>\n",
              "      <td>1497</td>\n",
              "      <td>Donte</td>\n",
              "      <td>Barrera</td>\n",
              "      <td>49</td>\n",
              "      <td>Los Angeles-Long Beach-Anaheim, CA MSA</td>\n",
              "      <td>2018-12-10</td>\n",
              "      <td>0</td>\n",
              "      <td>511</td>\n",
              "      <td>300.0</td>\n",
              "      <td>54.0</td>\n",
              "      <td>...</td>\n",
              "      <td>-19600.0</td>\n",
              "      <td>76.015625</td>\n",
              "      <td>-950.0</td>\n",
              "      <td>-9.50</td>\n",
              "      <td>109.515625</td>\n",
              "      <td>25.000000</td>\n",
              "      <td>4.500000</td>\n",
              "      <td>926.666667</td>\n",
              "      <td>4.166667</td>\n",
              "      <td>9.126302</td>\n",
              "    </tr>\n",
              "    <tr>\n",
              "      <td>498</td>\n",
              "      <td>1498</td>\n",
              "      <td>Scot</td>\n",
              "      <td>Williamson</td>\n",
              "      <td>51</td>\n",
              "      <td>New York-Newark-Jersey City, NY-NJ-PA MSA</td>\n",
              "      <td>2018-02-04</td>\n",
              "      <td>1</td>\n",
              "      <td>820</td>\n",
              "      <td>3211.0</td>\n",
              "      <td>451.0</td>\n",
              "      <td>...</td>\n",
              "      <td>212438.0</td>\n",
              "      <td>2224.589844</td>\n",
              "      <td>0.0</td>\n",
              "      <td>0.00</td>\n",
              "      <td>0.000000</td>\n",
              "      <td>267.583333</td>\n",
              "      <td>37.583333</td>\n",
              "      <td>18983.166667</td>\n",
              "      <td>0.000000</td>\n",
              "      <td>0.000000</td>\n",
              "    </tr>\n",
              "    <tr>\n",
              "      <td>499</td>\n",
              "      <td>1499</td>\n",
              "      <td>Shena</td>\n",
              "      <td>Dickson</td>\n",
              "      <td>37</td>\n",
              "      <td>Orlando-Kissimmee-Sanford, FL MSA</td>\n",
              "      <td>2018-05-06</td>\n",
              "      <td>1</td>\n",
              "      <td>729</td>\n",
              "      <td>1535.0</td>\n",
              "      <td>204.0</td>\n",
              "      <td>...</td>\n",
              "      <td>56084.0</td>\n",
              "      <td>697.695312</td>\n",
              "      <td>0.0</td>\n",
              "      <td>0.00</td>\n",
              "      <td>0.000000</td>\n",
              "      <td>127.916667</td>\n",
              "      <td>17.000000</td>\n",
              "      <td>5953.666667</td>\n",
              "      <td>0.000000</td>\n",
              "      <td>0.000000</td>\n",
              "    </tr>\n",
              "  </tbody>\n",
              "</table>\n",
              "<p>500 rows × 24 columns</p>\n",
              "</div>"
            ],
            "text/plain": [
              "     user_id first_name   last_name  age  \\\n",
              "0       1000   Anamaria       Bauer   45   \n",
              "1       1001     Mickey   Wilkerson   28   \n",
              "2       1002     Carlee     Hoffman   36   \n",
              "3       1003   Reynaldo     Jenkins   52   \n",
              "4       1004    Leonila    Thompson   40   \n",
              "..       ...        ...         ...  ...   \n",
              "495     1495      Fidel      Sharpe   67   \n",
              "496     1496      Ariel    Shepherd   49   \n",
              "497     1497      Donte     Barrera   49   \n",
              "498     1498       Scot  Williamson   51   \n",
              "499     1499      Shena     Dickson   37   \n",
              "\n",
              "                                          city   reg_date  tariff  used_days  \\\n",
              "0        Atlanta-Sandy Springs-Roswell, GA MSA 2018-12-24       0        497   \n",
              "1              Seattle-Tacoma-Bellevue, WA MSA 2018-08-13       1        630   \n",
              "2         Las Vegas-Henderson-Paradise, NV MSA 2018-10-21       1        561   \n",
              "3                                Tulsa, OK MSA 2018-01-28       1        827   \n",
              "4              Seattle-Tacoma-Bellevue, WA MSA 2018-05-23       1        712   \n",
              "..                                         ...        ...     ...        ...   \n",
              "495  New York-Newark-Jersey City, NY-NJ-PA MSA 2018-09-04       1        608   \n",
              "496               New Orleans-Metairie, LA MSA 2018-02-20       1        804   \n",
              "497     Los Angeles-Long Beach-Anaheim, CA MSA 2018-12-10       0        511   \n",
              "498  New York-Newark-Jersey City, NY-NJ-PA MSA 2018-02-04       1        820   \n",
              "499          Orlando-Kissimmee-Sanford, FL MSA 2018-05-06       1        729   \n",
              "\n",
              "     total_duration  count_calls  ...   mb_left  profit_internet  msg_left  \\\n",
              "0             124.0         16.0  ...  -28817.0        13.008789    -989.0   \n",
              "1            1728.0        261.0  ...   65180.0       786.523438     157.0   \n",
              "2             829.0        113.0  ...   24979.0       393.935547      38.0   \n",
              "3            1104.0        149.0  ...   11709.0       264.345703       0.0   \n",
              "4            2772.0        370.0  ...  141188.0      1528.789062     127.0   \n",
              "..              ...          ...  ...       ...              ...       ...   \n",
              "495          1765.0        253.0  ...   83650.0       966.894531       0.0   \n",
              "496          1455.0        195.0  ...   48997.0       628.486328      15.0   \n",
              "497           300.0         54.0  ...  -19600.0        76.015625    -950.0   \n",
              "498          3211.0        451.0  ...  212438.0      2224.589844       0.0   \n",
              "499          1535.0        204.0  ...   56084.0       697.695312       0.0   \n",
              "\n",
              "     profit_msg  profit_total  duration_per_month  calls_month  \\\n",
              "0         -9.89     44.358789           10.333333     1.333333   \n",
              "1          4.71    848.073438          144.000000    21.750000   \n",
              "2          1.14    424.945547           69.083333     9.416667   \n",
              "3          0.00    302.465703           92.000000    12.416667   \n",
              "4          3.81   1620.759063          231.000000    30.833333   \n",
              "..          ...           ...                 ...          ...   \n",
              "495        0.00      0.000000          147.083333    21.083333   \n",
              "496        0.45    677.586328          121.250000    16.250000   \n",
              "497       -9.50    109.515625           25.000000     4.500000   \n",
              "498        0.00      0.000000          267.583333    37.583333   \n",
              "499        0.00      0.000000          127.916667    17.000000   \n",
              "\n",
              "     internet_mb_per_month  msg_per_month  profit_per_month  \n",
              "0               158.583333       0.916667          3.696566  \n",
              "1              6711.666667      17.250000         70.672786  \n",
              "2              3361.583333       7.333333         35.412129  \n",
              "3              2255.750000       4.166667         25.205475  \n",
              "4             13045.666667      14.750000        135.063255  \n",
              "..                     ...            ...               ...  \n",
              "495            8250.833333       0.000000          0.000000  \n",
              "496            5363.083333       5.416667         56.465527  \n",
              "497             926.666667       4.166667          9.126302  \n",
              "498           18983.166667       0.000000          0.000000  \n",
              "499            5953.666667       0.000000          0.000000  \n",
              "\n",
              "[500 rows x 24 columns]"
            ]
          },
          "metadata": {
            "tags": []
          },
          "execution_count": 218
        }
      ]
    },
    {
      "cell_type": "markdown",
      "metadata": {
        "colab_type": "text",
        "id": "F55iAc8I-ezq"
      },
      "source": [
        "### Summary"
      ]
    },
    {
      "cell_type": "markdown",
      "metadata": {
        "colab_type": "text",
        "id": "u2S6NzPK-p4A"
      },
      "source": [
        "We had really low missed data, - only churn_date, but it's logically correct, cause on the extraction date users still use services. created new feature - used days, - count of days\n",
        "in duration of that users used to services and column churn_date was dropped. Also datetimes columns was converted to demanded format. \n",
        "Also features were created for representing the month usage of services."
      ]
    },
    {
      "cell_type": "markdown",
      "metadata": {
        "id": "q9gSw5hW594u",
        "colab_type": "text"
      },
      "source": [
        "## Review\n",
        "\n",
        "```diff\n",
        "+ You did more than needed in this section, prepare a lot of new features this is great.\n",
        "- You forgot to apply providers trick with rounding up minutes and megabytes (\"Megaline\" always rounds up the minute and megabyte values. If the call lasted just one second, it will be counted as one minute) can you also implement this :)\n",
        "```\n",
        "\n",
        "It is a bit hard to track your work as you leave few comments inside. Your variables names are great, but some accompanying text would be great."
      ]
    },
    {
      "cell_type": "markdown",
      "metadata": {
        "id": "H6OEibJx594v",
        "colab_type": "text"
      },
      "source": [
        ">Thanks! I fixed it"
      ]
    },
    {
      "cell_type": "markdown",
      "metadata": {
        "colab_type": "text",
        "id": "L3Gwpm5FScBm"
      },
      "source": [
        "# Analyse the data"
      ]
    },
    {
      "cell_type": "markdown",
      "metadata": {
        "colab_type": "text",
        "id": "we989hL-8hBH"
      },
      "source": [
        "<div class=\"paragraph\">Describe the clients' behavior. For the users of each of the plans, find the number of minutes and SMS and the volume of web traffic they require per month. Calculate the mean, variance and standard deviation. Plot histograms. Describe the distributions. </div>"
      ]
    },
    {
      "cell_type": "markdown",
      "metadata": {
        "id": "CLUwK96K594v",
        "colab_type": "text"
      },
      "source": [
        "We are going to calculate this metrics:\n",
        "call per month usage, internet per month usage, mb, messages per month usage, profit per month"
      ]
    },
    {
      "cell_type": "code",
      "metadata": {
        "colab_type": "code",
        "id": "JFDTgYHmHZZ2",
        "colab": {}
      },
      "source": [
        "metrics = {'calls_month':'call per month usage', 'internet_mb_per_month':'internet per month usage, mb', 'msg_per_month':'messages per month usage', 'profit_per_month':'profit per month'}"
      ],
      "execution_count": 0,
      "outputs": []
    },
    {
      "cell_type": "markdown",
      "metadata": {
        "id": "1P919rPP594w",
        "colab_type": "text"
      },
      "source": [
        "Let's create plot function, for comparing distribution of our metrics comparing for our plans"
      ]
    },
    {
      "cell_type": "code",
      "metadata": {
        "colab_type": "code",
        "id": "1NUIxF2WH1oa",
        "colab": {}
      },
      "source": [
        "def generate_plots(df, metrics=metrics):\n",
        "   ultimate = df[df[\"tariff\"]==0]\n",
        "   surf = df[df[\"tariff\"]==1]\n",
        "   for col, title in metrics.items():\n",
        "     plt.hist(ultimate[col], alpha=0.5, label=f'ultimate {col}')\n",
        "     plt.hist(surf[col], alpha=0.5, label=f'surf {col}')\n",
        "     plt.legend(loc='upper right')\n",
        "     plt.show()"
      ],
      "execution_count": 0,
      "outputs": []
    },
    {
      "cell_type": "code",
      "metadata": {
        "colab_type": "code",
        "id": "cPdRtqZkIH4v",
        "outputId": "e4fdb4c5-6d91-42df-9ad8-6e6e872c9671",
        "colab": {
          "base_uri": "https://localhost:8080/",
          "height": 761
        }
      },
      "source": [
        "generate_plots(megaline_agg_df)"
      ],
      "execution_count": 0,
      "outputs": [
        {
          "output_type": "display_data",
          "data": {
            "image/png": "[encoded data removed]",
            "text/plain": [
              "<Figure size 432x288 with 1 Axes>"
            ]
          },
          "metadata": {
            "tags": [],
            "needs_background": "light"
          }
        },
        {
          "output_type": "display_data",
          "data": {
            "image/png": "[encoded data removed]",
            "text/plain": [
              "<Figure size 432x288 with 1 Axes>"
            ]
          },
          "metadata": {
            "tags": [],
            "needs_background": "light"
          }
        },
        {
          "output_type": "display_data",
          "data": {
            "image/png": "[encoded data removed]",
            "text/plain": [
              "<Figure size 432x288 with 1 Axes>"
            ]
          },
          "metadata": {
            "tags": [],
            "needs_background": "light"
          }
        },
        {
          "output_type": "display_data",
          "data": {
            "image/png": "[encoded data removed]",
            "text/plain": [
              "<Figure size 432x288 with 1 Axes>"
            ]
          },
          "metadata": {
            "tags": [],
            "needs_background": "light"
          }
        }
      ]
    },
    {
      "cell_type": "code",
      "metadata": {
        "colab_type": "code",
        "id": "ubCWpcwt61iz",
        "colab": {}
      },
      "source": [
        "def generate_report(df, tariff_repr, metrics=metrics):\n",
        "   print(f\"{tariff_repr}\") \n",
        "   tariff = 0 if tariff_repr == \"ultimate\" else 1\n",
        "   dfq = df[df[\"tariff\"]==tariff]\n",
        "   funcs = {'average':np.mean, 'variance':np.var, 'std':np.std}\n",
        "   for col, title in metrics.items():\n",
        "     for method_name, func in funcs.items():\n",
        "         print(f'{method_name} {title}: {func(dfq[col]):.2f}')\n"
      ],
      "execution_count": 0,
      "outputs": []
    },
    {
      "cell_type": "markdown",
      "metadata": {
        "colab_type": "text",
        "id": "NkGqFtN4Xdyh"
      },
      "source": [
        "### Summary"
      ]
    },
    {
      "cell_type": "code",
      "metadata": {
        "colab_type": "code",
        "id": "K4pj2gB8Gl3f",
        "outputId": "9ac990a3-cd7e-43f7-92ab-5c4909e07f4e",
        "colab": {
          "base_uri": "https://localhost:8080/",
          "height": 187
        }
      },
      "source": [
        "generate_report(megaline_agg_df, 'ultimate')"
      ],
      "execution_count": 0,
      "outputs": [
        {
          "output_type": "stream",
          "text": [
            "ultimate\n",
            "average call per month usage: 23.47\n",
            "variance call per month usage: 392.62\n",
            "std call per month usage: 19.81\n",
            "average internet per month usage, mb: 6586.49\n",
            "variance internet per month usage, mb: 30623278.51\n",
            "std internet per month usage, mb: 5533.83\n",
            "average messages per month usage: 17.07\n",
            "variance messages per month usage: 279.27\n",
            "std messages per month usage: 16.71\n",
            "average profit per month: 47.96\n",
            "variance profit per month: 1429.83\n",
            "std profit per month: 37.81\n"
          ],
          "name": "stdout"
        }
      ]
    },
    {
      "cell_type": "code",
      "metadata": {
        "colab_type": "code",
        "id": "9JfPI4jFnpET",
        "outputId": "3a6281bd-51e8-44d4-cf4a-c236ee780c9c",
        "colab": {
          "base_uri": "https://localhost:8080/",
          "height": 187
        }
      },
      "source": [
        "generate_report(megaline_agg_df, 'surf')"
      ],
      "execution_count": 0,
      "outputs": [
        {
          "output_type": "stream",
          "text": [
            "surf\n",
            "average call per month usage: 24.05\n",
            "variance call per month usage: 393.28\n",
            "std call per month usage: 19.83\n",
            "average internet per month usage, mb: 6545.38\n",
            "variance internet per month usage, mb: 24764678.40\n",
            "std internet per month usage, mb: 4976.41\n",
            "average messages per month usage: 15.13\n",
            "variance messages per month usage: 243.26\n",
            "std messages per month usage: 15.60\n",
            "average profit per month: 67.31\n",
            "variance profit per month: 2576.00\n",
            "std profit per month: 50.75\n"
          ],
          "name": "stdout"
        }
      ]
    },
    {
      "cell_type": "markdown",
      "metadata": {
        "id": "9_16B1CS5945",
        "colab_type": "text"
      },
      "source": [
        "## Review\n",
        "\n",
        "```diff\n",
        "+ Your code is great and compact. Everything works correctly\n",
        "- Your work needs more textual content. Some explanations for people who don't understand code. What is happening, what is the results of your analysis, some insights. For example, I see that you calculated monthly profit for users, but I don't see anything about it in your reports.\n",
        "```"
      ]
    },
    {
      "cell_type": "markdown",
      "metadata": {
        "id": "J-segHFU5945",
        "colab_type": "text"
      },
      "source": [
        ">Fixed it, added some explanations;)!"
      ]
    },
    {
      "cell_type": "markdown",
      "metadata": {
        "colab_type": "text",
        "id": "76SvC9TBScBt"
      },
      "source": [
        "# Test the hypotheses"
      ]
    },
    {
      "cell_type": "markdown",
      "metadata": {
        "colab_type": "text",
        "id": "miEppUgF8rXV"
      },
      "source": [
        "<ul><li>the average profit from the users of Ultimate and Surf calling plans is different;</li><li>the average profit from the users in NY-NJ area is different from that of the users from other regions.</li></ul><div class=\"paragraph\">Assign the threshold <em>alpha</em> value independently. </div><div class=\"paragraph\">Explain:</div><ul><li>how you formulated the null and alternative hypotheses;</li><li>what criterion you used for testing the hypotheses and why.</li></ul>"
      ]
    },
    {
      "cell_type": "markdown",
      "metadata": {
        "colab_type": "text",
        "id": "3PXK3R3rM_tP"
      },
      "source": [
        "##### Hypotheses is avg profit of two plans are not different (the null hypothesis that Var(X) == Var(Y))\n",
        "We will use F-test\n",
        "\n"
      ]
    },
    {
      "cell_type": "code",
      "metadata": {
        "colab_type": "code",
        "id": "77HVLHC9NLYM",
        "outputId": "263e1eab-a1b1-493b-906b-4be7111b56b2",
        "colab": {
          "base_uri": "https://localhost:8080/",
          "height": 136
        }
      },
      "source": [
        "megaline_agg_df.columns"
      ],
      "execution_count": 0,
      "outputs": [
        {
          "output_type": "execute_result",
          "data": {
            "text/plain": [
              "Index(['user_id', 'first_name', 'last_name', 'age', 'city', 'reg_date',\n",
              "       'tariff', 'used_days', 'total_duration', 'count_calls', 'total_mb',\n",
              "       'count_msg', 'duration_left', 'profit_call', 'mb_left',\n",
              "       'profit_internet', 'msg_left', 'profit_msg', 'profit_total',\n",
              "       'duration_per_month', 'calls_month', 'internet_mb_per_month',\n",
              "       'msg_per_month', 'profit_per_month'],\n",
              "      dtype='object')"
            ]
          },
          "metadata": {
            "tags": []
          },
          "execution_count": 225
        }
      ]
    },
    {
      "cell_type": "code",
      "metadata": {
        "colab_type": "code",
        "id": "pKvtCHC5P9Pj",
        "colab": {}
      },
      "source": [
        "ultimate = megaline_agg_df[megaline_agg_df[\"tariff\"] == 0]['profit_per_month'].dropna()\n",
        "surf = megaline_agg_df[megaline_agg_df[\"tariff\"] == 1]['profit_per_month'].dropna()"
      ],
      "execution_count": 0,
      "outputs": []
    },
    {
      "cell_type": "code",
      "metadata": {
        "colab_type": "code",
        "id": "ywoCQ_riScBu",
        "colab": {}
      },
      "source": [
        "def check_f_test(X,Y):\n",
        "  F = np.var(X) / np.var(Y)\n",
        "  p_value = f_test.cdf(F, len(X)-1, len(Y)-1)\n",
        "  return p_value > .05"
      ],
      "execution_count": 0,
      "outputs": []
    },
    {
      "cell_type": "code",
      "metadata": {
        "colab_type": "code",
        "id": "anj5tyh0QtNl",
        "outputId": "7b1d7c64-a473-43b2-d98a-b9a0e2b0986b",
        "colab": {
          "base_uri": "https://localhost:8080/",
          "height": 34
        }
      },
      "source": [
        "if check_f_test(ultimate, surf):\n",
        "    print('could not reject the null hypothesis, therefore that Var(ultimate) == Var(surf)')\n",
        "else:\n",
        "    print('There is significance to reject the null hypothesis, therefore Var(ultimate) != Var(surf)')"
      ],
      "execution_count": 0,
      "outputs": [
        {
          "output_type": "stream",
          "text": [
            "There is significance to reject the null hypothesis, therefore Var(ultimate) != Var(surf)\n"
          ],
          "name": "stdout"
        }
      ]
    },
    {
      "cell_type": "code",
      "metadata": {
        "colab_type": "code",
        "id": "wrPkBXPrU4tm",
        "outputId": "3b8fbd8c-b112-455d-b986-ea51c9969b9f",
        "colab": {
          "base_uri": "https://localhost:8080/",
          "height": 51
        }
      },
      "source": [
        "results = stats.ttest_ind(ultimate, surf, equal_var=True)\n",
        "print(results.pvalue)\n",
        "if results.pvalue < .05:\n",
        "      print('reject the null hypothesis, therefore the average profits for plans are different')\n",
        "else:\n",
        "      print('Fail in rejecting of the null hypothesis, therefore the average profits for plans are the same')"
      ],
      "execution_count": 0,
      "outputs": [
        {
          "output_type": "stream",
          "text": [
            "0.000137201929044172\n",
            "reject the null hypothesis, therefore the average profits for plans are different\n"
          ],
          "name": "stdout"
        }
      ]
    },
    {
      "cell_type": "markdown",
      "metadata": {
        "id": "53buA3t0595B",
        "colab_type": "text"
      },
      "source": [
        "The average profit from the users of Ultimate and Surf calling plans is different;"
      ]
    },
    {
      "cell_type": "markdown",
      "metadata": {
        "id": "tM54IpJz595B",
        "colab_type": "text"
      },
      "source": [
        "Let's handle with NY areay, first of all we need to ckeck all unique value, find the pattern for detection of area"
      ]
    },
    {
      "cell_type": "code",
      "metadata": {
        "colab_type": "code",
        "id": "dz-XGM2EScBz",
        "outputId": "8afcb9af-7fbb-4793-f39b-e2890adfddde",
        "colab": {
          "base_uri": "https://localhost:8080/",
          "height": 918
        }
      },
      "source": [
        "megaline_agg_df[\"city\"].unique()\n",
        "# \"NY-NJ\""
      ],
      "execution_count": 0,
      "outputs": [
        {
          "output_type": "execute_result",
          "data": {
            "text/plain": [
              "array(['Atlanta-Sandy Springs-Roswell, GA MSA',\n",
              "       'Seattle-Tacoma-Bellevue, WA MSA',\n",
              "       'Las Vegas-Henderson-Paradise, NV MSA', 'Tulsa, OK MSA',\n",
              "       'Dallas-Fort Worth-Arlington, TX MSA',\n",
              "       'San Francisco-Oakland-Berkeley, CA MSA',\n",
              "       'Grand Rapids-Kentwood, MI MSA',\n",
              "       'Orlando-Kissimmee-Sanford, FL MSA',\n",
              "       'San Jose-Sunnyvale-Santa Clara, CA MSA',\n",
              "       'Cleveland-Elyria, OH MSA',\n",
              "       'Chicago-Naperville-Elgin, IL-IN-WI MSA', 'Knoxville, TN MSA',\n",
              "       'New York-Newark-Jersey City, NY-NJ-PA MSA', 'Pittsburgh, PA MSA',\n",
              "       'Fresno, CA MSA',\n",
              "       'Washington-Arlington-Alexandria, DC-VA-MD-WV MSA',\n",
              "       'Indianapolis-Carmel-Anderson, IN MSA', 'Jacksonville, FL MSA',\n",
              "       'Los Angeles-Long Beach-Anaheim, CA MSA',\n",
              "       'Omaha-Council Bluffs, NE-IA MSA',\n",
              "       'Houston-The Woodlands-Sugar Land, TX MSA',\n",
              "       'Philadelphia-Camden-Wilmington, PA-NJ-DE-MD MSA',\n",
              "       'Tampa-St. Petersburg-Clearwater, FL MSA',\n",
              "       'Birmingham-Hoover, AL MSA', 'Oklahoma City, OK MSA',\n",
              "       'Charlotte-Concord-Gastonia, NC-SC MSA',\n",
              "       'Denver-Aurora-Lakewood, CO MSA',\n",
              "       'Nashville-Davidson–Murfreesboro–Franklin, TN MSA',\n",
              "       'Columbus, OH MSA', 'Albuquerque, NM MSA',\n",
              "       'Boston-Cambridge-Newton, MA-NH MSA',\n",
              "       'Miami-Fort Lauderdale-West Palm Beach, FL MSA',\n",
              "       'San Diego-Chula Vista-Carlsbad, CA MSA',\n",
              "       'Phoenix-Mesa-Chandler, AZ MSA',\n",
              "       'Portland-Vancouver-Hillsboro, OR-WA MSA',\n",
              "       'Cincinnati, OH-KY-IN MSA', 'Columbia, SC MSA',\n",
              "       'San Antonio-New Braunfels, TX MSA', 'Buffalo-Cheektowaga, NY MSA',\n",
              "       'Memphis, TN-MS-AR MSA',\n",
              "       'Riverside-San Bernardino-Ontario, CA MSA',\n",
              "       'Louisville/Jefferson County, KY-IN MSA',\n",
              "       'Albany-Schenectady-Troy, NY MSA', 'Providence-Warwick, RI-MA MSA',\n",
              "       'Salt Lake City, UT MSA', 'Urban Honolulu, HI MSA',\n",
              "       'El Paso, TX MSA', 'New Haven-Milford, CT MSA',\n",
              "       'North Port-Sarasota-Bradenton, FL MSA', 'Baton Rouge, LA MSA',\n",
              "       'New Orleans-Metairie, LA MSA',\n",
              "       'Bridgeport-Stamford-Norwalk, CT MSA',\n",
              "       'Virginia Beach-Norfolk-Newport News, VA-NC MSA',\n",
              "       'Baltimore-Columbia-Towson, MD MSA', 'Milwaukee-Waukesha, WI MSA',\n",
              "       'Oxnard-Thousand Oaks-Ventura, CA MSA',\n",
              "       'Sacramento–Roseville–Folsom, CA MSA',\n",
              "       'Austin-Round Rock-Georgetown, TX MSA', 'Richmond, VA MSA',\n",
              "       'St. Louis, MO-IL MSA',\n",
              "       'Minneapolis-St. Paul-Bloomington, MN-WI MSA',\n",
              "       'Dayton-Kettering, OH MSA', 'Bakersfield, CA MSA',\n",
              "       'Detroit-Warren-Dearborn, MI MSA', 'Kansas City, MO-KS MSA',\n",
              "       'Charleston-North Charleston, SC MSA', 'Rochester, NY MSA',\n",
              "       'Raleigh-Cary, NC MSA', 'Colorado Springs, CO MSA',\n",
              "       'Greensboro-High Point, NC MSA', 'Tucson, AZ MSA',\n",
              "       'Stockton, CA MSA', 'Cape Coral-Fort Myers, FL MSA'], dtype=object)"
            ]
          },
          "metadata": {
            "tags": []
          },
          "execution_count": 230
        }
      ]
    },
    {
      "cell_type": "code",
      "metadata": {
        "colab_type": "code",
        "id": "mVasiC_bTGSb",
        "colab": {}
      },
      "source": [
        "megaline_agg_df[\"is_NY\"] = megaline_agg_df[\"city\"].str.contains(\"NY-NJ\")"
      ],
      "execution_count": 0,
      "outputs": []
    },
    {
      "cell_type": "code",
      "metadata": {
        "colab_type": "code",
        "id": "2K-2iAHnTfqs",
        "colab": {}
      },
      "source": [
        "NY = megaline_agg_df[megaline_agg_df[\"is_NY\"]]['profit_per_month'].dropna()\n",
        "not_NY = NY = megaline_agg_df[~megaline_agg_df[\"is_NY\"]]['profit_per_month'].dropna()"
      ],
      "execution_count": 0,
      "outputs": []
    },
    {
      "cell_type": "code",
      "metadata": {
        "colab_type": "code",
        "id": "8Q5l8d1tT4Rv",
        "outputId": "5635cdca-fbc9-4956-9a46-6ac7c8608d0e",
        "colab": {
          "base_uri": "https://localhost:8080/",
          "height": 34
        }
      },
      "source": [
        "if check_f_test(NY, not_NY):\n",
        "    print('There is significance to reject the null hypothesis, therefore Var(ultimate) == Var(surf)')   \n",
        "else:\n",
        "    print('Failed to reject the null hypothesis, therefore Var(ultimate) != Var(surf)')\n",
        "    "
      ],
      "execution_count": 0,
      "outputs": [
        {
          "output_type": "stream",
          "text": [
            "There is significance to reject the null hypothesis, therefore Var(ultimate) == Var(surf)\n"
          ],
          "name": "stdout"
        }
      ]
    },
    {
      "cell_type": "code",
      "metadata": {
        "colab_type": "code",
        "id": "obb0LYiNUTVx",
        "outputId": "bdc88e40-a33d-41bb-e734-6be00fa80f2a",
        "colab": {
          "base_uri": "https://localhost:8080/",
          "height": 34
        }
      },
      "source": [
        "results = stats.ttest_ind(NY, not_NY, equal_var=True)\n",
        "if results.pvalue < .05:\n",
        "      print('we have sufficient significance for rejecting the null hypothesis, therefore the avg profits comparing for two population in NY area or not are different')\n",
        "        \n",
        "else:\n",
        "      print('Fail in rejecting of the null hypothesis, therefore the avg profits comparing for two population in NY area or not are the same')"
      ],
      "execution_count": 0,
      "outputs": [
        {
          "output_type": "stream",
          "text": [
            "Fail in rejecting of the null hypothesis, therefore the avg profits comparing for two population in NY area or not are the same\n"
          ],
          "name": "stdout"
        }
      ]
    },
    {
      "cell_type": "markdown",
      "metadata": {
        "colab_type": "text",
        "id": "boXC-nfPScB3"
      },
      "source": [
        "# Write an overall conclusion"
      ]
    },
    {
      "cell_type": "markdown",
      "metadata": {
        "colab_type": "text",
        "id": "rA7BjZSn81bv"
      },
      "source": [
        "<div class=\"paragraph\"><strong>Format:</strong> Complete the task in <em>Jupyter Notebook</em>. Insert the programming code in <em>code</em> cells and text explanations in <em>markdown</em> cells then apply formatting and headings.</div>"
      ]
    },
    {
      "cell_type": "markdown",
      "metadata": {
        "id": "yb-QmKmc595N",
        "colab_type": "text"
      },
      "source": [
        "## Summary"
      ]
    },
    {
      "cell_type": "code",
      "metadata": {
        "colab_type": "code",
        "id": "c_TABgTT80iw",
        "colab": {}
      },
      "source": [
        "We checked ultimate and surf plans\n",
        "\n",
        "Checked data, some statistics, also dists for some total features were checked\n",
        "\n",
        "Also were checked  null hypotesis: average profit of the ultimate plan and the surf plan is the same, (significance level is 0.05)\n",
        "\n",
        "The same check we did for NY-NJ clients and other regions\n"
      ],
      "execution_count": 0,
      "outputs": []
    },
    {
      "cell_type": "code",
      "metadata": {
        "colab_type": "code",
        "id": "aJ5zcEZPScB4",
        "colab": {}
      },
      "source": [
        "## Review\n",
        "\n",
        "```diff\n",
        "- And again, code is great, but your conclusions contradict to your code. In the case of different tariffs you reject the null hypothesis, and in the case of different areas - not. But you copypaste your code and don't change text second time so in the overall conclusion, you mess results of your tests.\n",
        "```"
      ],
      "execution_count": 0,
      "outputs": []
    },
    {
      "cell_type": "markdown",
      "metadata": {
        "id": "obdMINh2595P",
        "colab_type": "text"
      },
      "source": [
        ">I apologise for that! I added notes, yes I duplicated code, bit didn't correct it after("
      ]
    },
    {
      "cell_type": "code",
      "metadata": {
        "colab_type": "code",
        "id": "r_ObOn0yScB7",
        "colab": {}
      },
      "source": [
        "## Review (2)\n",
        "\n",
        "```diff\n",
        "+ In two last section everything is correct now, thanks.\n",
        "```\n",
        "\n",
        "---"
      ],
      "execution_count": 0,
      "outputs": []
    },
    {
      "cell_type": "code",
      "metadata": {
        "id": "49q-CgEv595R",
        "colab_type": "code",
        "colab": {}
      },
      "source": [
        ""
      ],
      "execution_count": 0,
      "outputs": []
    }
  ]
}