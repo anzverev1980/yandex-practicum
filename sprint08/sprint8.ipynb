{
 "cells": [
  {
   "cell_type": "markdown",
   "metadata": {},
   "source": [
    "## Review\n",
    "\n",
    "Hi Vladimir. This is Soslan again :). As always I've added all my comments to new cells with different coloring.\n",
    "\n",
    "<div class=\"alert alert-success\" role=\"alert\">\n",
    "  If you did something great I'm using green color for my comment\n",
    "</div>\n",
    "\n",
    "<div class=\"alert alert-warning\" role=\"alert\">\n",
    "If I want to give you advice or think that something can be improved, then I'll use yellow. This is an optional recommendation.\n",
    "</div>\n",
    "\n",
    "<div class=\"alert alert-danger\" role=\"alert\">\n",
    "  If the topic requires some extra work so I can accept it then the color will be red\n",
    "</div>\n",
    "\n",
    "You did a good project. Nice chart, good structured easy to read code, helper functions. Everything is OK. I have just one remark about using cross-validation with upsampling. But because your final score is good enough, I can accept your project. Just have a look at my comments. Good luck.\n",
    "\n",
    "---"
   ]
  },
  {
   "cell_type": "markdown",
   "metadata": {
    "colab_type": "text",
    "id": "hMcO1NKCK1Q6"
   },
   "source": [
    "## Project description"
   ]
  },
  {
   "cell_type": "markdown",
   "metadata": {
    "colab_type": "text",
    "id": "9uNbSVJuK1Q7"
   },
   "source": [
    "<div class=\"paragraph\">Beta Bank customers are leaving: little by little, chipping away every month. The bankers figured out it’s cheaper to save the existing customers rather than to attract new ones.</div><div class=\"paragraph\">We need to predict whether a customer will leave the bank soon. You have the data on clients’ past behavior and termination of contracts with the bank.</div><div class=\"paragraph\">Build a model with the maximum possible <em>F1</em> score. To pass the project, you need an <em>F1</em> score of at least 0.59. Check the <em>F1</em> for the test set.</div><div class=\"paragraph\">Additionally, measure the <em>AUC-ROC</em> metric and compare it with the <em>F1</em>.</div></div>"
   ]
  },
  {
   "cell_type": "markdown",
   "metadata": {
    "colab_type": "text",
    "id": "_FhpRhwDK1Q8"
   },
   "source": [
    "### 1. Download and prepare the data. Explain the procedure."
   ]
  },
  {
   "cell_type": "markdown",
   "metadata": {
    "colab_type": "text",
    "id": "Oh6TmmgvK1Q8"
   },
   "source": [
    "<div class=\"markdown markdown_size_normal markdown_type_theory\"><strong>Features</strong><ul><li><em>RowNumber</em> — data string index</li><li><em>CustomerId</em> — unique customer identifier</li><li><em>Surname</em> — surname</li><li><em>CreditScore</em> — credit score</li><li><em>Geography</em> — country of residence</li><li><em>Gender</em> — gender</li><li><em>Age</em> — age</li><li><em>Tenure</em> — period of maturation for a customer’s fixed deposit (years)</li><li><em>Balance</em> — account balance</li><li><em>NumOfProducts</em> — number of banking products used by the customer</li><li><em>HasCrCard</em> — customer has a credit card</li><li><em>IsActiveMember</em> — customer’s activeness</li><li><em>EstimatedSalary</em> — estimated salary</li></ul><div class=\"paragraph\"><strong>Target</strong></div><ul><li><em>Exited</em> — сustomer has left</li></ul></div>"
   ]
  },
  {
   "cell_type": "code",
   "execution_count": 117,
   "metadata": {
    "colab": {},
    "colab_type": "code",
    "id": "v_iJQ0JdLF0e"
   },
   "outputs": [
    {
     "name": "stdout",
     "output_type": "stream",
     "text": [
      "WARNING: pip is being invoked by an old script wrapper. This will fail in a future version of pip.\r\n",
      "Please see https://github.com/pypa/pip/issues/5599 for advice on fixing the underlying issue.\r\n",
      "To avoid this problem you can invoke Python with '-m pip' instead of running pip directly.\r\n"
     ]
    }
   ],
   "source": [
    "!pip install catboost -q"
   ]
  },
  {
   "cell_type": "code",
   "execution_count": 118,
   "metadata": {
    "ExecuteTime": {
     "end_time": "2020-06-19T16:49:31.397725Z",
     "start_time": "2020-06-19T16:49:31.346004Z"
    },
    "colab": {},
    "colab_type": "code",
    "id": "zgWkD85pK1Q9"
   },
   "outputs": [],
   "source": [
    "import pandas as pd\n",
    "import numpy as np\n",
    "import matplotlib.pyplot as plt\n",
    "%matplotlib inline\n",
    "import seaborn as sns\n",
    "from sklearn.metrics import *\n",
    "from sklearn.model_selection import train_test_split, GridSearchCV\n",
    "from sklearn.preprocessing import *\n",
    "from sklearn.pipeline import make_pipeline, Pipeline\n",
    "from sklearn.tree import DecisionTreeClassifier\n",
    "from sklearn.ensemble import RandomForestClassifier\n",
    "from sklearn.linear_model import LogisticRegression, LinearRegression, Lasso, LogisticRegressionCV\n",
    "from sklearn.utils import shuffle\n",
    "from catboost import CatBoostClassifier\n",
    "import random\n",
    "random.seed(42)\n",
    "np.random.seed(42)\n",
    "import warnings\n",
    "warnings.filterwarnings('ignore')\n",
    "import logging\n",
    "logger = logging.getLogger()\n",
    "logger.setLevel(logging.CRITICAL)"
   ]
  },
  {
   "cell_type": "code",
   "execution_count": 119,
   "metadata": {
    "ExecuteTime": {
     "end_time": "2020-06-19T13:59:54.517113Z",
     "start_time": "2020-06-19T13:59:54.501965Z"
    },
    "colab": {},
    "colab_type": "code",
    "id": "B45LYz7TK1RA"
   },
   "outputs": [],
   "source": [
    "def display_classification_report(y_true, y_pred):\n",
    "    display(pd.DataFrame(classification_report(y_test, y_pred, output_dict=True)).T)"
   ]
  },
  {
   "cell_type": "code",
   "execution_count": 120,
   "metadata": {
    "ExecuteTime": {
     "end_time": "2020-06-19T17:01:47.449715Z",
     "start_time": "2020-06-19T17:01:47.428206Z"
    },
    "colab": {},
    "colab_type": "code",
    "id": "AQix0AceK1RC"
   },
   "outputs": [],
   "source": [
    "def plot_roc(y_test, preds, ax=None, label='model'):\n",
    "    with plt.style.context('seaborn-whitegrid'):\n",
    "        if not ax: fig, ax = plt.subplots(1, 1)\n",
    "        fpr, tpr, thresholds = roc_curve(y_test, preds)\n",
    "        ax.plot([0, 1], [0, 1],'r--')\n",
    "        ax.plot(fpr, tpr, lw=2, label=label)\n",
    "        ax.legend(loc='lower right')\n",
    "        ax.set_title(\n",
    "             'ROC curve\\n'\n",
    "            f\"\"\" AP: {average_precision_score(\n",
    "                y_test, preds, pos_label=1\n",
    "            ):.2} | \"\"\"\n",
    "            f'AUC: {auc(fpr, tpr):.2}')\n",
    "        ax.set_xlabel('False Positive Rate (FPR)')\n",
    "        ax.set_ylabel('True Positive Rate (TPR)')\n",
    "        ax.annotate(f'AUC: {auc(fpr, tpr):.2}', xy=(.43, .025))\n",
    "        ax.legend()\n",
    "        ax.grid()\n",
    "        return ax\n",
    "    \n",
    "\n",
    "def plot_pr(y_test, preds, ax=None, label='model'):\n",
    "    with plt.style.context('seaborn-whitegrid'):\n",
    "        precision, recall, thresholds = precision_recall_curve(y_test, preds)\n",
    "        if not ax: fig, ax = plt.subplots()\n",
    "        ax.plot([0, 1], [1, 0],'r--')    \n",
    "        ax.plot(recall, precision, lw=2, label=label)\n",
    "        ax.legend()\n",
    "        ax.set_title(\n",
    "            'Precision-recall curve\\n'\n",
    "            f\"\"\" AP: {average_precision_score(\n",
    "                y_test, preds, pos_label=1\n",
    "            ):.2} | \"\"\"\n",
    "            f'AUC: {auc(recall, precision):.2}'\n",
    "        )\n",
    "        ax.set_xlabel('Recall')\n",
    "        ax.set_ylabel('Precision')\n",
    "        ax.set_xlim(-0.05, 1.05)\n",
    "        ax.set_ylim(-0.05, 1.05)\n",
    "        ax.legend()\n",
    "        ax.grid()\n",
    "        return ax"
   ]
  },
  {
   "cell_type": "code",
   "execution_count": 121,
   "metadata": {
    "ExecuteTime": {
     "end_time": "2020-06-19T14:02:26.705088Z",
     "start_time": "2020-06-19T14:02:26.662029Z"
    },
    "colab": {},
    "colab_type": "code",
    "id": "igEZ0mEUK1RF"
   },
   "outputs": [],
   "source": [
    "#missing value ratio\n",
    "def missing_values(df):\n",
    "    df_nulls=pd.concat([df.dtypes, df.isna().sum(), df.isna().sum()/len(df)], axis=1)\n",
    "    df_nulls.columns = [\"type\",\"count\",\"missing_ratio\"]\n",
    "    df_nulls=df_nulls[df_nulls[\"count\"]>0]\n",
    "    df_nulls.sort_values(by=\"missing_ratio\", ascending=False)\n",
    "    return df_nulls\n",
    "\n",
    "#outliers by 3 sigma rule\n",
    "def outlier(data):\n",
    "    data_mean, data_std = np.mean(data), np.std(data)\n",
    "    cut_off = data_std * 3\n",
    "    lower, upper = data_mean - cut_off, data_mean + cut_off\n",
    "    outliers = [x for x in data if x < lower or x > upper]\n",
    "    outliers_removed = [x for x in data if x >= lower and x <= upper]\n",
    "    return len(outliers)\n",
    "\n",
    "# full description statistics \n",
    "def describe_full(df, target_name=\"\"):\n",
    "    data_describe = df.describe().T\n",
    "    df_numeric = df._get_numeric_data()\n",
    "    if target_name in df.columns:\n",
    "        corr_with_target=df_numeric.drop(target_name, axis=1).apply(lambda x: x.corr(df_numeric[target_name]))\n",
    "        data_describe['corr_with_target']=corr_with_target\n",
    "    dtype_df = df_numeric.dtypes\n",
    "    data_describe['dtypes'] = dtype_df\n",
    "    data_null = df_numeric.isnull().sum()/len(df) * 100\n",
    "    data_describe['Missing %'] = data_null\n",
    "    Cardinality = df_numeric.apply(pd.Series.nunique)\n",
    "    data_describe['Cardinality'] = Cardinality\n",
    "    df_skew = df_numeric.skew(axis=0, skipna=True)\n",
    "    data_describe['Skew'] = df_skew\n",
    "    data_describe['outliers']=[outlier(df_numeric[col]) for col in df_numeric.columns]\n",
    "    data_describe['kurtosis']=df_numeric.kurtosis()\n",
    "    return data_describe"
   ]
  },
  {
   "cell_type": "markdown",
   "metadata": {},
   "source": [
    "<div class=\"alert alert-success\" role=\"alert\">\n",
    "Great, nice helper functions</div>"
   ]
  },
  {
   "cell_type": "code",
   "execution_count": 122,
   "metadata": {
    "ExecuteTime": {
     "end_time": "2020-06-19T13:58:02.797425Z",
     "start_time": "2020-06-19T13:58:01.421854Z"
    },
    "colab": {},
    "colab_type": "code",
    "id": "YO2136YWK1RH"
   },
   "outputs": [],
   "source": [
    "df = pd.read_csv('https://code.s3.yandex.net/datasets/Churn.csv')"
   ]
  },
  {
   "cell_type": "code",
   "execution_count": 123,
   "metadata": {
    "colab": {},
    "colab_type": "code",
    "id": "PvdiirG8Wt6E"
   },
   "outputs": [],
   "source": [
    "df = shuffle(df, random_state=42)"
   ]
  },
  {
   "cell_type": "code",
   "execution_count": 124,
   "metadata": {
    "ExecuteTime": {
     "end_time": "2020-06-19T15:17:24.356192Z",
     "start_time": "2020-06-19T15:17:24.338339Z"
    },
    "colab": {},
    "colab_type": "code",
    "id": "1oJynZ8oK1RJ"
   },
   "outputs": [],
   "source": [
    "features = ['CreditScore', 'Geography','Gender', 'Age', 'Tenure', 'Balance', 'NumOfProducts', 'HasCrCard',\n",
    "       'IsActiveMember', 'EstimatedSalary']\n",
    "target = 'Exited'"
   ]
  },
  {
   "cell_type": "code",
   "execution_count": 125,
   "metadata": {
    "ExecuteTime": {
     "end_time": "2020-06-19T13:58:34.097372Z",
     "start_time": "2020-06-19T13:58:34.054987Z"
    },
    "colab": {
     "base_uri": "https://localhost:8080/",
     "height": 374
    },
    "colab_type": "code",
    "id": "5C-qUHmVK1RM",
    "outputId": "64af679b-4cee-43f5-94ae-bb3a151b3b02"
   },
   "outputs": [
    {
     "name": "stdout",
     "output_type": "stream",
     "text": [
      "<class 'pandas.core.frame.DataFrame'>\n",
      "Int64Index: 10000 entries, 6252 to 7270\n",
      "Data columns (total 14 columns):\n",
      "RowNumber          10000 non-null int64\n",
      "CustomerId         10000 non-null int64\n",
      "Surname            10000 non-null object\n",
      "CreditScore        10000 non-null int64\n",
      "Geography          10000 non-null object\n",
      "Gender             10000 non-null object\n",
      "Age                10000 non-null int64\n",
      "Tenure             9091 non-null float64\n",
      "Balance            10000 non-null float64\n",
      "NumOfProducts      10000 non-null int64\n",
      "HasCrCard          10000 non-null int64\n",
      "IsActiveMember     10000 non-null int64\n",
      "EstimatedSalary    10000 non-null float64\n",
      "Exited             10000 non-null int64\n",
      "dtypes: float64(3), int64(8), object(3)\n",
      "memory usage: 1.1+ MB\n"
     ]
    }
   ],
   "source": [
    "df.info()"
   ]
  },
  {
   "cell_type": "code",
   "execution_count": 126,
   "metadata": {
    "ExecuteTime": {
     "end_time": "2020-06-19T14:04:08.541538Z",
     "start_time": "2020-06-19T14:04:08.504673Z"
    },
    "colab": {
     "base_uri": "https://localhost:8080/",
     "height": 204
    },
    "colab_type": "code",
    "id": "0MLW2x7BK1RQ",
    "outputId": "6729973a-de7c-4c6f-c1ab-326353ee57e1"
   },
   "outputs": [
    {
     "data": {
      "text/html": [
       "<div>\n",
       "<style scoped>\n",
       "    .dataframe tbody tr th:only-of-type {\n",
       "        vertical-align: middle;\n",
       "    }\n",
       "\n",
       "    .dataframe tbody tr th {\n",
       "        vertical-align: top;\n",
       "    }\n",
       "\n",
       "    .dataframe thead th {\n",
       "        text-align: right;\n",
       "    }\n",
       "</style>\n",
       "<table border=\"1\" class=\"dataframe\">\n",
       "  <thead>\n",
       "    <tr style=\"text-align: right;\">\n",
       "      <th></th>\n",
       "      <th>RowNumber</th>\n",
       "      <th>CustomerId</th>\n",
       "      <th>Surname</th>\n",
       "      <th>CreditScore</th>\n",
       "      <th>Geography</th>\n",
       "      <th>Gender</th>\n",
       "      <th>Age</th>\n",
       "      <th>Tenure</th>\n",
       "      <th>Balance</th>\n",
       "      <th>NumOfProducts</th>\n",
       "      <th>HasCrCard</th>\n",
       "      <th>IsActiveMember</th>\n",
       "      <th>EstimatedSalary</th>\n",
       "      <th>Exited</th>\n",
       "    </tr>\n",
       "  </thead>\n",
       "  <tbody>\n",
       "    <tr>\n",
       "      <td>6252</td>\n",
       "      <td>6253</td>\n",
       "      <td>15687492</td>\n",
       "      <td>Anderson</td>\n",
       "      <td>596</td>\n",
       "      <td>Germany</td>\n",
       "      <td>Male</td>\n",
       "      <td>32</td>\n",
       "      <td>3.0</td>\n",
       "      <td>96709.07</td>\n",
       "      <td>2</td>\n",
       "      <td>0</td>\n",
       "      <td>0</td>\n",
       "      <td>41788.37</td>\n",
       "      <td>0</td>\n",
       "    </tr>\n",
       "    <tr>\n",
       "      <td>4684</td>\n",
       "      <td>4685</td>\n",
       "      <td>15736963</td>\n",
       "      <td>Herring</td>\n",
       "      <td>623</td>\n",
       "      <td>France</td>\n",
       "      <td>Male</td>\n",
       "      <td>43</td>\n",
       "      <td>1.0</td>\n",
       "      <td>0.00</td>\n",
       "      <td>2</td>\n",
       "      <td>1</td>\n",
       "      <td>1</td>\n",
       "      <td>146379.30</td>\n",
       "      <td>0</td>\n",
       "    </tr>\n",
       "    <tr>\n",
       "      <td>1731</td>\n",
       "      <td>1732</td>\n",
       "      <td>15721730</td>\n",
       "      <td>Amechi</td>\n",
       "      <td>601</td>\n",
       "      <td>Spain</td>\n",
       "      <td>Female</td>\n",
       "      <td>44</td>\n",
       "      <td>4.0</td>\n",
       "      <td>0.00</td>\n",
       "      <td>2</td>\n",
       "      <td>1</td>\n",
       "      <td>0</td>\n",
       "      <td>58561.31</td>\n",
       "      <td>0</td>\n",
       "    </tr>\n",
       "    <tr>\n",
       "      <td>4742</td>\n",
       "      <td>4743</td>\n",
       "      <td>15762134</td>\n",
       "      <td>Liang</td>\n",
       "      <td>506</td>\n",
       "      <td>Germany</td>\n",
       "      <td>Male</td>\n",
       "      <td>59</td>\n",
       "      <td>8.0</td>\n",
       "      <td>119152.10</td>\n",
       "      <td>2</td>\n",
       "      <td>1</td>\n",
       "      <td>1</td>\n",
       "      <td>170679.74</td>\n",
       "      <td>0</td>\n",
       "    </tr>\n",
       "    <tr>\n",
       "      <td>4521</td>\n",
       "      <td>4522</td>\n",
       "      <td>15648898</td>\n",
       "      <td>Chuang</td>\n",
       "      <td>560</td>\n",
       "      <td>Spain</td>\n",
       "      <td>Female</td>\n",
       "      <td>27</td>\n",
       "      <td>7.0</td>\n",
       "      <td>124995.98</td>\n",
       "      <td>1</td>\n",
       "      <td>1</td>\n",
       "      <td>1</td>\n",
       "      <td>114669.79</td>\n",
       "      <td>0</td>\n",
       "    </tr>\n",
       "  </tbody>\n",
       "</table>\n",
       "</div>"
      ],
      "text/plain": [
       "      RowNumber  CustomerId   Surname  CreditScore Geography  Gender  Age  \\\n",
       "6252       6253    15687492  Anderson          596   Germany    Male   32   \n",
       "4684       4685    15736963   Herring          623    France    Male   43   \n",
       "1731       1732    15721730    Amechi          601     Spain  Female   44   \n",
       "4742       4743    15762134     Liang          506   Germany    Male   59   \n",
       "4521       4522    15648898    Chuang          560     Spain  Female   27   \n",
       "\n",
       "      Tenure    Balance  NumOfProducts  HasCrCard  IsActiveMember  \\\n",
       "6252     3.0   96709.07              2          0               0   \n",
       "4684     1.0       0.00              2          1               1   \n",
       "1731     4.0       0.00              2          1               0   \n",
       "4742     8.0  119152.10              2          1               1   \n",
       "4521     7.0  124995.98              1          1               1   \n",
       "\n",
       "      EstimatedSalary  Exited  \n",
       "6252         41788.37       0  \n",
       "4684        146379.30       0  \n",
       "1731         58561.31       0  \n",
       "4742        170679.74       0  \n",
       "4521        114669.79       0  "
      ]
     },
     "execution_count": 126,
     "metadata": {},
     "output_type": "execute_result"
    }
   ],
   "source": [
    "df.head()"
   ]
  },
  {
   "cell_type": "code",
   "execution_count": 127,
   "metadata": {
    "ExecuteTime": {
     "end_time": "2020-06-19T14:06:35.978757Z",
     "start_time": "2020-06-19T14:06:35.958447Z"
    },
    "colab": {},
    "colab_type": "code",
    "id": "bvqkggV7K1RS"
   },
   "outputs": [],
   "source": [
    "df['Gender'] = (df['Gender']=='Female').astype(int)"
   ]
  },
  {
   "cell_type": "code",
   "execution_count": 128,
   "metadata": {
    "ExecuteTime": {
     "end_time": "2020-06-19T14:07:41.558106Z",
     "start_time": "2020-06-19T14:07:41.533211Z"
    },
    "colab": {
     "base_uri": "https://localhost:8080/",
     "height": 272
    },
    "colab_type": "code",
    "id": "i3bMRJG8K1RU",
    "outputId": "f0ec5625-507f-4d16-f1db-b4e2b2db7ecd"
   },
   "outputs": [
    {
     "data": {
      "text/plain": [
       "RowNumber            0\n",
       "CustomerId           0\n",
       "Surname              0\n",
       "CreditScore          0\n",
       "Geography            0\n",
       "Gender               0\n",
       "Age                  0\n",
       "Tenure             909\n",
       "Balance              0\n",
       "NumOfProducts        0\n",
       "HasCrCard            0\n",
       "IsActiveMember       0\n",
       "EstimatedSalary      0\n",
       "Exited               0\n",
       "dtype: int64"
      ]
     },
     "execution_count": 128,
     "metadata": {},
     "output_type": "execute_result"
    }
   ],
   "source": [
    "df.isna().sum()"
   ]
  },
  {
   "cell_type": "code",
   "execution_count": 129,
   "metadata": {
    "ExecuteTime": {
     "end_time": "2020-06-19T14:09:52.338843Z",
     "start_time": "2020-06-19T14:09:52.324359Z"
    },
    "colab": {},
    "colab_type": "code",
    "id": "lRilas4GK1RW"
   },
   "outputs": [],
   "source": [
    "df = df.drop(['RowNumber'], axis=1)"
   ]
  },
  {
   "cell_type": "code",
   "execution_count": 130,
   "metadata": {
    "ExecuteTime": {
     "end_time": "2020-06-19T14:55:43.552661Z",
     "start_time": "2020-06-19T14:55:43.527405Z"
    },
    "colab": {},
    "colab_type": "code",
    "id": "pRrm6vaxK1RZ"
   },
   "outputs": [],
   "source": [
    "le_geo = LabelEncoder()\n",
    "df['Geography'] = le_geo.fit_transform(df['Geography'])"
   ]
  },
  {
   "cell_type": "code",
   "execution_count": 131,
   "metadata": {
    "ExecuteTime": {
     "end_time": "2020-06-19T14:57:43.321236Z",
     "start_time": "2020-06-19T14:57:43.301885Z"
    },
    "colab": {
     "base_uri": "https://localhost:8080/",
     "height": 34
    },
    "colab_type": "code",
    "id": "GGxZV4tYK1Rb",
    "outputId": "4897c0f5-fb67-423a-d77a-8c515e2e4dd3"
   },
   "outputs": [
    {
     "data": {
      "text/plain": [
       "2932"
      ]
     },
     "execution_count": 131,
     "metadata": {},
     "output_type": "execute_result"
    }
   ],
   "source": [
    "len(df['Surname'].unique())"
   ]
  },
  {
   "cell_type": "code",
   "execution_count": 132,
   "metadata": {
    "ExecuteTime": {
     "end_time": "2020-06-19T14:58:06.492502Z",
     "start_time": "2020-06-19T14:58:06.473200Z"
    },
    "colab": {},
    "colab_type": "code",
    "id": "KLQdZmqYK1Rd"
   },
   "outputs": [],
   "source": [
    "df = df.drop(['CustomerId', 'Surname'], axis=1)"
   ]
  },
  {
   "cell_type": "code",
   "execution_count": 133,
   "metadata": {
    "ExecuteTime": {
     "end_time": "2020-06-19T14:08:33.528750Z",
     "start_time": "2020-06-19T14:08:33.474574Z"
    },
    "colab": {
     "base_uri": "https://localhost:8080/",
     "height": 419
    },
    "colab_type": "code",
    "id": "2t0xo5tDK1Rf",
    "outputId": "888bbd8e-c036-46ad-a5e0-911911f9bc61"
   },
   "outputs": [
    {
     "data": {
      "text/html": [
       "<div>\n",
       "<style scoped>\n",
       "    .dataframe tbody tr th:only-of-type {\n",
       "        vertical-align: middle;\n",
       "    }\n",
       "\n",
       "    .dataframe tbody tr th {\n",
       "        vertical-align: top;\n",
       "    }\n",
       "\n",
       "    .dataframe thead th {\n",
       "        text-align: right;\n",
       "    }\n",
       "</style>\n",
       "<table border=\"1\" class=\"dataframe\">\n",
       "  <thead>\n",
       "    <tr style=\"text-align: right;\">\n",
       "      <th></th>\n",
       "      <th>CreditScore</th>\n",
       "      <th>Geography</th>\n",
       "      <th>Gender</th>\n",
       "      <th>Age</th>\n",
       "      <th>Tenure</th>\n",
       "      <th>Balance</th>\n",
       "      <th>NumOfProducts</th>\n",
       "      <th>HasCrCard</th>\n",
       "      <th>IsActiveMember</th>\n",
       "      <th>EstimatedSalary</th>\n",
       "      <th>Exited</th>\n",
       "    </tr>\n",
       "  </thead>\n",
       "  <tbody>\n",
       "    <tr>\n",
       "      <td>576</td>\n",
       "      <td>439</td>\n",
       "      <td>2</td>\n",
       "      <td>1</td>\n",
       "      <td>32</td>\n",
       "      <td>NaN</td>\n",
       "      <td>138901.61</td>\n",
       "      <td>1</td>\n",
       "      <td>1</td>\n",
       "      <td>0</td>\n",
       "      <td>75685.97</td>\n",
       "      <td>0</td>\n",
       "    </tr>\n",
       "    <tr>\n",
       "      <td>8158</td>\n",
       "      <td>641</td>\n",
       "      <td>0</td>\n",
       "      <td>1</td>\n",
       "      <td>37</td>\n",
       "      <td>NaN</td>\n",
       "      <td>0.00</td>\n",
       "      <td>2</td>\n",
       "      <td>1</td>\n",
       "      <td>0</td>\n",
       "      <td>3939.87</td>\n",
       "      <td>0</td>\n",
       "    </tr>\n",
       "    <tr>\n",
       "      <td>9485</td>\n",
       "      <td>850</td>\n",
       "      <td>2</td>\n",
       "      <td>0</td>\n",
       "      <td>37</td>\n",
       "      <td>NaN</td>\n",
       "      <td>88141.10</td>\n",
       "      <td>1</td>\n",
       "      <td>1</td>\n",
       "      <td>0</td>\n",
       "      <td>109659.12</td>\n",
       "      <td>0</td>\n",
       "    </tr>\n",
       "    <tr>\n",
       "      <td>1963</td>\n",
       "      <td>578</td>\n",
       "      <td>1</td>\n",
       "      <td>0</td>\n",
       "      <td>34</td>\n",
       "      <td>NaN</td>\n",
       "      <td>147487.23</td>\n",
       "      <td>2</td>\n",
       "      <td>1</td>\n",
       "      <td>0</td>\n",
       "      <td>66680.77</td>\n",
       "      <td>0</td>\n",
       "    </tr>\n",
       "    <tr>\n",
       "      <td>9655</td>\n",
       "      <td>583</td>\n",
       "      <td>0</td>\n",
       "      <td>1</td>\n",
       "      <td>40</td>\n",
       "      <td>NaN</td>\n",
       "      <td>55776.39</td>\n",
       "      <td>2</td>\n",
       "      <td>1</td>\n",
       "      <td>0</td>\n",
       "      <td>26920.43</td>\n",
       "      <td>0</td>\n",
       "    </tr>\n",
       "    <tr>\n",
       "      <td>...</td>\n",
       "      <td>...</td>\n",
       "      <td>...</td>\n",
       "      <td>...</td>\n",
       "      <td>...</td>\n",
       "      <td>...</td>\n",
       "      <td>...</td>\n",
       "      <td>...</td>\n",
       "      <td>...</td>\n",
       "      <td>...</td>\n",
       "      <td>...</td>\n",
       "      <td>...</td>\n",
       "    </tr>\n",
       "    <tr>\n",
       "      <td>3073</td>\n",
       "      <td>531</td>\n",
       "      <td>1</td>\n",
       "      <td>1</td>\n",
       "      <td>32</td>\n",
       "      <td>NaN</td>\n",
       "      <td>109570.21</td>\n",
       "      <td>2</td>\n",
       "      <td>1</td>\n",
       "      <td>1</td>\n",
       "      <td>172049.84</td>\n",
       "      <td>0</td>\n",
       "    </tr>\n",
       "    <tr>\n",
       "      <td>8792</td>\n",
       "      <td>497</td>\n",
       "      <td>0</td>\n",
       "      <td>0</td>\n",
       "      <td>34</td>\n",
       "      <td>NaN</td>\n",
       "      <td>0.00</td>\n",
       "      <td>2</td>\n",
       "      <td>1</td>\n",
       "      <td>1</td>\n",
       "      <td>83087.13</td>\n",
       "      <td>0</td>\n",
       "    </tr>\n",
       "    <tr>\n",
       "      <td>7734</td>\n",
       "      <td>713</td>\n",
       "      <td>0</td>\n",
       "      <td>0</td>\n",
       "      <td>41</td>\n",
       "      <td>NaN</td>\n",
       "      <td>0.00</td>\n",
       "      <td>2</td>\n",
       "      <td>1</td>\n",
       "      <td>0</td>\n",
       "      <td>55772.04</td>\n",
       "      <td>0</td>\n",
       "    </tr>\n",
       "    <tr>\n",
       "      <td>9274</td>\n",
       "      <td>560</td>\n",
       "      <td>2</td>\n",
       "      <td>1</td>\n",
       "      <td>33</td>\n",
       "      <td>NaN</td>\n",
       "      <td>0.00</td>\n",
       "      <td>1</td>\n",
       "      <td>0</td>\n",
       "      <td>1</td>\n",
       "      <td>183358.21</td>\n",
       "      <td>0</td>\n",
       "    </tr>\n",
       "    <tr>\n",
       "      <td>6396</td>\n",
       "      <td>684</td>\n",
       "      <td>1</td>\n",
       "      <td>1</td>\n",
       "      <td>44</td>\n",
       "      <td>NaN</td>\n",
       "      <td>133776.86</td>\n",
       "      <td>2</td>\n",
       "      <td>0</td>\n",
       "      <td>1</td>\n",
       "      <td>49865.04</td>\n",
       "      <td>0</td>\n",
       "    </tr>\n",
       "  </tbody>\n",
       "</table>\n",
       "<p>909 rows × 11 columns</p>\n",
       "</div>"
      ],
      "text/plain": [
       "      CreditScore  Geography  Gender  Age  Tenure    Balance  NumOfProducts  \\\n",
       "576           439          2       1   32     NaN  138901.61              1   \n",
       "8158          641          0       1   37     NaN       0.00              2   \n",
       "9485          850          2       0   37     NaN   88141.10              1   \n",
       "1963          578          1       0   34     NaN  147487.23              2   \n",
       "9655          583          0       1   40     NaN   55776.39              2   \n",
       "...           ...        ...     ...  ...     ...        ...            ...   \n",
       "3073          531          1       1   32     NaN  109570.21              2   \n",
       "8792          497          0       0   34     NaN       0.00              2   \n",
       "7734          713          0       0   41     NaN       0.00              2   \n",
       "9274          560          2       1   33     NaN       0.00              1   \n",
       "6396          684          1       1   44     NaN  133776.86              2   \n",
       "\n",
       "      HasCrCard  IsActiveMember  EstimatedSalary  Exited  \n",
       "576           1               0         75685.97       0  \n",
       "8158          1               0          3939.87       0  \n",
       "9485          1               0        109659.12       0  \n",
       "1963          1               0         66680.77       0  \n",
       "9655          1               0         26920.43       0  \n",
       "...         ...             ...              ...     ...  \n",
       "3073          1               1        172049.84       0  \n",
       "8792          1               1         83087.13       0  \n",
       "7734          1               0         55772.04       0  \n",
       "9274          0               1        183358.21       0  \n",
       "6396          0               1         49865.04       0  \n",
       "\n",
       "[909 rows x 11 columns]"
      ]
     },
     "execution_count": 133,
     "metadata": {},
     "output_type": "execute_result"
    }
   ],
   "source": [
    "df[df['Tenure'].isna()]"
   ]
  },
  {
   "cell_type": "code",
   "execution_count": 134,
   "metadata": {
    "ExecuteTime": {
     "end_time": "2020-06-19T14:10:42.692251Z",
     "start_time": "2020-06-19T14:10:42.667177Z"
    },
    "colab": {
     "base_uri": "https://localhost:8080/",
     "height": 68
    },
    "colab_type": "code",
    "id": "L95aPdKjK1Rh",
    "outputId": "27eecb04-0c05-4b95-f06c-d3e80d14f50c"
   },
   "outputs": [
    {
     "data": {
      "text/plain": [
       "0    726\n",
       "1    183\n",
       "Name: Exited, dtype: int64"
      ]
     },
     "execution_count": 134,
     "metadata": {},
     "output_type": "execute_result"
    }
   ],
   "source": [
    "df[df['Tenure'].isna()][target].value_counts()"
   ]
  },
  {
   "cell_type": "markdown",
   "metadata": {
    "colab_type": "text",
    "id": "sr5EzxcCK1Rl"
   },
   "source": [
    "as we saw , we have missing data at the 'tenure' column, around 10%, in my opinion, it's a lot for dropping, especially if we have positive class value in imbalancing case"
   ]
  },
  {
   "cell_type": "markdown",
   "metadata": {
    "colab_type": "text",
    "id": "xStmgiE2K1Rl"
   },
   "source": [
    "let's impute it, using linear regression (without label for avoiding leakage)"
   ]
  },
  {
   "cell_type": "code",
   "execution_count": 135,
   "metadata": {
    "ExecuteTime": {
     "end_time": "2020-06-19T15:09:44.377894Z",
     "start_time": "2020-06-19T15:09:44.328327Z"
    },
    "colab": {
     "base_uri": "https://localhost:8080/",
     "height": 34
    },
    "colab_type": "code",
    "id": "x0J56WqtK1Rm",
    "outputId": "a22e624b-cf40-478a-9abb-4f5f62e0a8fb"
   },
   "outputs": [
    {
     "data": {
      "text/plain": [
       "9.228571428571428"
      ]
     },
     "execution_count": 135,
     "metadata": {},
     "output_type": "execute_result"
    }
   ],
   "source": [
    "parameters = set(df.columns) - set([target, 'Tenure'])\n",
    "test_data = df[df['Tenure'].isna()]\n",
    "train_data = df[~df['Tenure'].isna()]\n",
    "X = train_data[parameters].values\n",
    "y = train_data['Tenure'].values\n",
    "X_test, y_test = test_data[parameters].values, test_data['Tenure'].values\n",
    "X_train, X_val, y_train, y_val = train_test_split(X, y, test_size=0.1, random_state=42)\n",
    "lr = LinearRegression().fit(X_train, y_train)\n",
    "y_pred = lr.predict(X_val).astype(int)\n",
    "mean_squared_error(y_val, y_pred)"
   ]
  },
  {
   "cell_type": "markdown",
   "metadata": {},
   "source": [
    "<div class=\"alert alert-success\" role=\"alert\">\n",
    "Good solution</div>"
   ]
  },
  {
   "cell_type": "code",
   "execution_count": 136,
   "metadata": {
    "ExecuteTime": {
     "end_time": "2020-06-19T15:11:05.907562Z",
     "start_time": "2020-06-19T15:11:05.887869Z"
    },
    "colab": {},
    "colab_type": "code",
    "id": "_4YaHrEoK1Ro"
   },
   "outputs": [],
   "source": [
    "df.loc[df['Tenure'].isna(), 'Tenure'] = lr.predict(X_test).astype(int)"
   ]
  },
  {
   "cell_type": "code",
   "execution_count": 137,
   "metadata": {
    "ExecuteTime": {
     "end_time": "2020-06-19T15:21:15.888444Z",
     "start_time": "2020-06-19T15:21:15.876853Z"
    },
    "colab": {},
    "colab_type": "code",
    "id": "xQulAKs3K1Rq"
   },
   "outputs": [],
   "source": [
    "df['Tenure'] = df['Tenure'].astype(int)"
   ]
  },
  {
   "cell_type": "code",
   "execution_count": 138,
   "metadata": {
    "ExecuteTime": {
     "end_time": "2020-06-19T15:14:04.019147Z",
     "start_time": "2020-06-19T15:14:03.863216Z"
    },
    "colab": {
     "base_uri": "https://localhost:8080/",
     "height": 390
    },
    "colab_type": "code",
    "id": "8VRkuUIZK1Rs",
    "outputId": "9106921e-5fb9-4d61-9ad2-48701a8707eb"
   },
   "outputs": [
    {
     "data": {
      "text/html": [
       "<div>\n",
       "<style scoped>\n",
       "    .dataframe tbody tr th:only-of-type {\n",
       "        vertical-align: middle;\n",
       "    }\n",
       "\n",
       "    .dataframe tbody tr th {\n",
       "        vertical-align: top;\n",
       "    }\n",
       "\n",
       "    .dataframe thead th {\n",
       "        text-align: right;\n",
       "    }\n",
       "</style>\n",
       "<table border=\"1\" class=\"dataframe\">\n",
       "  <thead>\n",
       "    <tr style=\"text-align: right;\">\n",
       "      <th></th>\n",
       "      <th>count</th>\n",
       "      <th>mean</th>\n",
       "      <th>std</th>\n",
       "      <th>min</th>\n",
       "      <th>25%</th>\n",
       "      <th>50%</th>\n",
       "      <th>75%</th>\n",
       "      <th>max</th>\n",
       "      <th>corr_with_target</th>\n",
       "      <th>dtypes</th>\n",
       "      <th>Missing %</th>\n",
       "      <th>Cardinality</th>\n",
       "      <th>Skew</th>\n",
       "      <th>outliers</th>\n",
       "      <th>kurtosis</th>\n",
       "    </tr>\n",
       "  </thead>\n",
       "  <tbody>\n",
       "    <tr>\n",
       "      <td>CreditScore</td>\n",
       "      <td>10000.0</td>\n",
       "      <td>650.528800</td>\n",
       "      <td>96.653299</td>\n",
       "      <td>350.00</td>\n",
       "      <td>584.00</td>\n",
       "      <td>652.000</td>\n",
       "      <td>718.0000</td>\n",
       "      <td>850.00</td>\n",
       "      <td>-0.027094</td>\n",
       "      <td>int64</td>\n",
       "      <td>0.0</td>\n",
       "      <td>460</td>\n",
       "      <td>-0.071607</td>\n",
       "      <td>8</td>\n",
       "      <td>-0.425726</td>\n",
       "    </tr>\n",
       "    <tr>\n",
       "      <td>Geography</td>\n",
       "      <td>10000.0</td>\n",
       "      <td>0.746300</td>\n",
       "      <td>0.827529</td>\n",
       "      <td>0.00</td>\n",
       "      <td>0.00</td>\n",
       "      <td>0.000</td>\n",
       "      <td>1.0000</td>\n",
       "      <td>2.00</td>\n",
       "      <td>0.035943</td>\n",
       "      <td>int64</td>\n",
       "      <td>0.0</td>\n",
       "      <td>3</td>\n",
       "      <td>0.500916</td>\n",
       "      <td>0</td>\n",
       "      <td>-1.360998</td>\n",
       "    </tr>\n",
       "    <tr>\n",
       "      <td>Gender</td>\n",
       "      <td>10000.0</td>\n",
       "      <td>0.454300</td>\n",
       "      <td>0.497932</td>\n",
       "      <td>0.00</td>\n",
       "      <td>0.00</td>\n",
       "      <td>0.000</td>\n",
       "      <td>1.0000</td>\n",
       "      <td>1.00</td>\n",
       "      <td>0.106512</td>\n",
       "      <td>int64</td>\n",
       "      <td>0.0</td>\n",
       "      <td>2</td>\n",
       "      <td>0.183596</td>\n",
       "      <td>0</td>\n",
       "      <td>-1.966686</td>\n",
       "    </tr>\n",
       "    <tr>\n",
       "      <td>Age</td>\n",
       "      <td>10000.0</td>\n",
       "      <td>38.921800</td>\n",
       "      <td>10.487806</td>\n",
       "      <td>18.00</td>\n",
       "      <td>32.00</td>\n",
       "      <td>37.000</td>\n",
       "      <td>44.0000</td>\n",
       "      <td>92.00</td>\n",
       "      <td>0.285323</td>\n",
       "      <td>int64</td>\n",
       "      <td>0.0</td>\n",
       "      <td>70</td>\n",
       "      <td>1.011320</td>\n",
       "      <td>133</td>\n",
       "      <td>1.395347</td>\n",
       "    </tr>\n",
       "    <tr>\n",
       "      <td>Tenure</td>\n",
       "      <td>10000.0</td>\n",
       "      <td>4.955200</td>\n",
       "      <td>2.767374</td>\n",
       "      <td>0.00</td>\n",
       "      <td>3.00</td>\n",
       "      <td>5.000</td>\n",
       "      <td>7.0000</td>\n",
       "      <td>10.00</td>\n",
       "      <td>-0.015769</td>\n",
       "      <td>int64</td>\n",
       "      <td>0.0</td>\n",
       "      <td>11</td>\n",
       "      <td>0.060880</td>\n",
       "      <td>0</td>\n",
       "      <td>-0.999930</td>\n",
       "    </tr>\n",
       "    <tr>\n",
       "      <td>Balance</td>\n",
       "      <td>10000.0</td>\n",
       "      <td>76485.889288</td>\n",
       "      <td>62397.405202</td>\n",
       "      <td>0.00</td>\n",
       "      <td>0.00</td>\n",
       "      <td>97198.540</td>\n",
       "      <td>127644.2400</td>\n",
       "      <td>250898.09</td>\n",
       "      <td>0.118533</td>\n",
       "      <td>float64</td>\n",
       "      <td>0.0</td>\n",
       "      <td>6382</td>\n",
       "      <td>-0.141109</td>\n",
       "      <td>0</td>\n",
       "      <td>-1.489412</td>\n",
       "    </tr>\n",
       "    <tr>\n",
       "      <td>NumOfProducts</td>\n",
       "      <td>10000.0</td>\n",
       "      <td>1.530200</td>\n",
       "      <td>0.581654</td>\n",
       "      <td>1.00</td>\n",
       "      <td>1.00</td>\n",
       "      <td>1.000</td>\n",
       "      <td>2.0000</td>\n",
       "      <td>4.00</td>\n",
       "      <td>-0.047820</td>\n",
       "      <td>int64</td>\n",
       "      <td>0.0</td>\n",
       "      <td>4</td>\n",
       "      <td>0.745568</td>\n",
       "      <td>60</td>\n",
       "      <td>0.582981</td>\n",
       "    </tr>\n",
       "    <tr>\n",
       "      <td>HasCrCard</td>\n",
       "      <td>10000.0</td>\n",
       "      <td>0.705500</td>\n",
       "      <td>0.455840</td>\n",
       "      <td>0.00</td>\n",
       "      <td>0.00</td>\n",
       "      <td>1.000</td>\n",
       "      <td>1.0000</td>\n",
       "      <td>1.00</td>\n",
       "      <td>-0.007138</td>\n",
       "      <td>int64</td>\n",
       "      <td>0.0</td>\n",
       "      <td>2</td>\n",
       "      <td>-0.901812</td>\n",
       "      <td>0</td>\n",
       "      <td>-1.186973</td>\n",
       "    </tr>\n",
       "    <tr>\n",
       "      <td>IsActiveMember</td>\n",
       "      <td>10000.0</td>\n",
       "      <td>0.515100</td>\n",
       "      <td>0.499797</td>\n",
       "      <td>0.00</td>\n",
       "      <td>0.00</td>\n",
       "      <td>1.000</td>\n",
       "      <td>1.0000</td>\n",
       "      <td>1.00</td>\n",
       "      <td>-0.156128</td>\n",
       "      <td>int64</td>\n",
       "      <td>0.0</td>\n",
       "      <td>2</td>\n",
       "      <td>-0.060437</td>\n",
       "      <td>0</td>\n",
       "      <td>-1.996747</td>\n",
       "    </tr>\n",
       "    <tr>\n",
       "      <td>EstimatedSalary</td>\n",
       "      <td>10000.0</td>\n",
       "      <td>100090.239881</td>\n",
       "      <td>57510.492818</td>\n",
       "      <td>11.58</td>\n",
       "      <td>51002.11</td>\n",
       "      <td>100193.915</td>\n",
       "      <td>149388.2475</td>\n",
       "      <td>199992.48</td>\n",
       "      <td>0.012097</td>\n",
       "      <td>float64</td>\n",
       "      <td>0.0</td>\n",
       "      <td>9999</td>\n",
       "      <td>0.002085</td>\n",
       "      <td>0</td>\n",
       "      <td>-1.181518</td>\n",
       "    </tr>\n",
       "    <tr>\n",
       "      <td>Exited</td>\n",
       "      <td>10000.0</td>\n",
       "      <td>0.203700</td>\n",
       "      <td>0.402769</td>\n",
       "      <td>0.00</td>\n",
       "      <td>0.00</td>\n",
       "      <td>0.000</td>\n",
       "      <td>0.0000</td>\n",
       "      <td>1.00</td>\n",
       "      <td>NaN</td>\n",
       "      <td>int64</td>\n",
       "      <td>0.0</td>\n",
       "      <td>2</td>\n",
       "      <td>1.471611</td>\n",
       "      <td>0</td>\n",
       "      <td>0.165671</td>\n",
       "    </tr>\n",
       "  </tbody>\n",
       "</table>\n",
       "</div>"
      ],
      "text/plain": [
       "                   count           mean           std     min       25%  \\\n",
       "CreditScore      10000.0     650.528800     96.653299  350.00    584.00   \n",
       "Geography        10000.0       0.746300      0.827529    0.00      0.00   \n",
       "Gender           10000.0       0.454300      0.497932    0.00      0.00   \n",
       "Age              10000.0      38.921800     10.487806   18.00     32.00   \n",
       "Tenure           10000.0       4.955200      2.767374    0.00      3.00   \n",
       "Balance          10000.0   76485.889288  62397.405202    0.00      0.00   \n",
       "NumOfProducts    10000.0       1.530200      0.581654    1.00      1.00   \n",
       "HasCrCard        10000.0       0.705500      0.455840    0.00      0.00   \n",
       "IsActiveMember   10000.0       0.515100      0.499797    0.00      0.00   \n",
       "EstimatedSalary  10000.0  100090.239881  57510.492818   11.58  51002.11   \n",
       "Exited           10000.0       0.203700      0.402769    0.00      0.00   \n",
       "\n",
       "                        50%          75%        max  corr_with_target  \\\n",
       "CreditScore         652.000     718.0000     850.00         -0.027094   \n",
       "Geography             0.000       1.0000       2.00          0.035943   \n",
       "Gender                0.000       1.0000       1.00          0.106512   \n",
       "Age                  37.000      44.0000      92.00          0.285323   \n",
       "Tenure                5.000       7.0000      10.00         -0.015769   \n",
       "Balance           97198.540  127644.2400  250898.09          0.118533   \n",
       "NumOfProducts         1.000       2.0000       4.00         -0.047820   \n",
       "HasCrCard             1.000       1.0000       1.00         -0.007138   \n",
       "IsActiveMember        1.000       1.0000       1.00         -0.156128   \n",
       "EstimatedSalary  100193.915  149388.2475  199992.48          0.012097   \n",
       "Exited                0.000       0.0000       1.00               NaN   \n",
       "\n",
       "                  dtypes  Missing %  Cardinality      Skew  outliers  kurtosis  \n",
       "CreditScore        int64        0.0          460 -0.071607         8 -0.425726  \n",
       "Geography          int64        0.0            3  0.500916         0 -1.360998  \n",
       "Gender             int64        0.0            2  0.183596         0 -1.966686  \n",
       "Age                int64        0.0           70  1.011320       133  1.395347  \n",
       "Tenure             int64        0.0           11  0.060880         0 -0.999930  \n",
       "Balance          float64        0.0         6382 -0.141109         0 -1.489412  \n",
       "NumOfProducts      int64        0.0            4  0.745568        60  0.582981  \n",
       "HasCrCard          int64        0.0            2 -0.901812         0 -1.186973  \n",
       "IsActiveMember     int64        0.0            2 -0.060437         0 -1.996747  \n",
       "EstimatedSalary  float64        0.0         9999  0.002085         0 -1.181518  \n",
       "Exited             int64        0.0            2  1.471611         0  0.165671  "
      ]
     },
     "execution_count": 138,
     "metadata": {},
     "output_type": "execute_result"
    }
   ],
   "source": [
    "describe_full(df, target)"
   ]
  },
  {
   "cell_type": "code",
   "execution_count": 139,
   "metadata": {
    "ExecuteTime": {
     "end_time": "2020-06-19T15:22:56.633402Z",
     "start_time": "2020-06-19T15:22:56.460430Z"
    },
    "colab": {
     "base_uri": "https://localhost:8080/",
     "height": 296
    },
    "colab_type": "code",
    "id": "6AeRMpkQK1Ru",
    "outputId": "e6543a10-5532-4340-ba87-71f72d433b50"
   },
   "outputs": [
    {
     "data": {
      "text/plain": [
       "<matplotlib.axes._subplots.AxesSubplot at 0x7fdfb617d2d0>"
      ]
     },
     "execution_count": 139,
     "metadata": {},
     "output_type": "execute_result"
    },
    {
     "data": {
      "image/png": "[encoded data removed]",
      "text/plain": [
       "<Figure size 432x288 with 1 Axes>"
      ]
     },
     "metadata": {
      "needs_background": "light"
     },
     "output_type": "display_data"
    }
   ],
   "source": [
    "sns.boxplot(df['EstimatedSalary'])"
   ]
  },
  {
   "cell_type": "code",
   "execution_count": 140,
   "metadata": {
    "ExecuteTime": {
     "end_time": "2020-06-19T15:23:07.839613Z",
     "start_time": "2020-06-19T15:23:07.693226Z"
    },
    "colab": {
     "base_uri": "https://localhost:8080/",
     "height": 296
    },
    "colab_type": "code",
    "id": "J8duXC4CK1Rw",
    "outputId": "f2829cd0-283d-4522-eed1-b57dddbfa82c"
   },
   "outputs": [
    {
     "data": {
      "text/plain": [
       "<matplotlib.axes._subplots.AxesSubplot at 0x7fdffd8e5410>"
      ]
     },
     "execution_count": 140,
     "metadata": {},
     "output_type": "execute_result"
    },
    {
     "data": {
      "image/png": "[encoded data removed]",
      "text/plain": [
       "<Figure size 432x288 with 1 Axes>"
      ]
     },
     "metadata": {
      "needs_background": "light"
     },
     "output_type": "display_data"
    }
   ],
   "source": [
    "sns.boxplot(df['Balance'])"
   ]
  },
  {
   "cell_type": "code",
   "execution_count": 141,
   "metadata": {
    "ExecuteTime": {
     "end_time": "2020-06-19T15:21:47.505931Z",
     "start_time": "2020-06-19T15:21:47.332752Z"
    },
    "colab": {
     "base_uri": "https://localhost:8080/",
     "height": 597
    },
    "colab_type": "code",
    "id": "ghlUoaISK1Ry",
    "outputId": "161b4956-342b-4313-bcaf-3fbe83abccd6"
   },
   "outputs": [
    {
     "data": {
      "text/plain": [
       "<matplotlib.axes._subplots.AxesSubplot at 0x7fdffd83cd90>"
      ]
     },
     "execution_count": 141,
     "metadata": {},
     "output_type": "execute_result"
    },
    {
     "data": {
      "image/png": "[encoded data removed]",
      "text/plain": [
       "<Figure size 432x288 with 1 Axes>"
      ]
     },
     "metadata": {
      "needs_background": "light"
     },
     "output_type": "display_data"
    }
   ],
   "source": [
    "sns.distplot(df['Balance'])"
   ]
  },
  {
   "cell_type": "markdown",
   "metadata": {
    "colab_type": "text",
    "id": "2tarGYj7K1R1"
   },
   "source": [
    "Let's see most important features"
   ]
  },
  {
   "cell_type": "code",
   "execution_count": 142,
   "metadata": {
    "ExecuteTime": {
     "end_time": "2020-06-19T15:17:29.411954Z",
     "start_time": "2020-06-19T15:17:29.154946Z"
    },
    "colab": {
     "base_uri": "https://localhost:8080/",
     "height": 575
    },
    "colab_type": "code",
    "id": "j5LrADpfK1R1",
    "outputId": "3ebe435b-d8bf-4a7c-cf1f-7e8a876a8681"
   },
   "outputs": [
    {
     "data": {
      "text/plain": [
       "<matplotlib.axes._subplots.AxesSubplot at 0x7fdffd7ce110>"
      ]
     },
     "execution_count": 142,
     "metadata": {},
     "output_type": "execute_result"
    },
    {
     "data": {
      "image/png": "[encoded data removed]",
      "text/plain": [
       "<Figure size 432x288 with 1 Axes>"
      ]
     },
     "metadata": {
      "needs_background": "light"
     },
     "output_type": "display_data"
    }
   ],
   "source": [
    "X, y = df[features].values,df[target].values\n",
    "X_train, X_test, y_train, y_test = train_test_split(X, y, test_size=0.1, random_state=42)\n",
    "rfc = DecisionTreeClassifier().fit(X_train, y_train)\n",
    "y_pred = rfc.predict(X_test)\n",
    "df_feature_importances = pd.DataFrame(((zip(features, rfc.feature_importances_)))).rename(columns={0:\"feature\",1:\"coeff\"}).sort_values(by=\"coeff\", ascending = False )\n",
    "sns.barplot(data=df_feature_importances, x=df_feature_importances[\"coeff\"], y=df_feature_importances[\"feature\"])"
   ]
  },
  {
   "cell_type": "markdown",
   "metadata": {
    "colab_type": "text",
    "id": "p3sEjqO2K1R3"
   },
   "source": [
    "features sorted by importance"
   ]
  },
  {
   "cell_type": "code",
   "execution_count": 143,
   "metadata": {
    "ExecuteTime": {
     "end_time": "2020-06-19T15:18:43.560061Z",
     "start_time": "2020-06-19T15:18:43.555536Z"
    },
    "colab": {
     "base_uri": "https://localhost:8080/",
     "height": 187
    },
    "colab_type": "code",
    "id": "S8tmy8S-K1R4",
    "outputId": "4a3b7d7b-8dc8-4e1b-de04-e5d805e27efd"
   },
   "outputs": [
    {
     "data": {
      "text/plain": [
       "['Age',\n",
       " 'EstimatedSalary',\n",
       " 'CreditScore',\n",
       " 'Balance',\n",
       " 'NumOfProducts',\n",
       " 'Tenure',\n",
       " 'IsActiveMember',\n",
       " 'Geography',\n",
       " 'Gender',\n",
       " 'HasCrCard']"
      ]
     },
     "execution_count": 143,
     "metadata": {},
     "output_type": "execute_result"
    }
   ],
   "source": [
    "features = list(df_feature_importances[\"feature\"])\n",
    "features"
   ]
  },
  {
   "cell_type": "code",
   "execution_count": 144,
   "metadata": {
    "ExecuteTime": {
     "end_time": "2020-06-19T15:18:09.531292Z",
     "start_time": "2020-06-19T15:18:09.520104Z"
    },
    "colab": {},
    "colab_type": "code",
    "id": "EhacStm5K1R6"
   },
   "outputs": [],
   "source": [
    "del X, y, X_test, y_test, X_train, y_train, X_val, y_val"
   ]
  },
  {
   "cell_type": "markdown",
   "metadata": {
    "colab_type": "text",
    "id": "sbbDLZnIK1R8"
   },
   "source": [
    "### Summary"
   ]
  },
  {
   "cell_type": "markdown",
   "metadata": {
    "colab_type": "text",
    "id": "AP6quK_ZLhib"
   },
   "source": [
    "Our data consists from 14 features, where we found out that RowNumber, CustomerId and Surname are not important (don't impact on the model) features by importance: 'Age','EstimatedSalary','Balance','CreditScore','NumOfProducts',\n",
    " 'Tenure','IsActiveMember','Geography','Gender','HasCrCard'.\n",
    " Our target is 'Exited'. Also we have Balance, EstimatedSalary and good questiong what is meause of those columns(we could infer it from column of Geography, if it's Europe probably it's euro). Also some data was missed at Tenure column, but using some simplistic model (linear regression) we imputed it. "
   ]
  },
  {
   "cell_type": "markdown",
   "metadata": {},
   "source": [
    "<div class=\"alert alert-success\" role=\"alert\">\n",
    "Excellent data analysis and preparation.</div>"
   ]
  },
  {
   "cell_type": "markdown",
   "metadata": {
    "colab_type": "text",
    "id": "XyxzOHr_K1R-"
   },
   "source": [
    "### 2. Examine the balance of classes. Train the model without taking into account the imbalance. Briefly describe your findings."
   ]
  },
  {
   "cell_type": "code",
   "execution_count": 145,
   "metadata": {
    "ExecuteTime": {
     "end_time": "2020-06-19T14:00:35.103907Z",
     "start_time": "2020-06-19T14:00:34.911037Z"
    },
    "colab": {
     "base_uri": "https://localhost:8080/",
     "height": 296
    },
    "colab_type": "code",
    "id": "ubRKnmaqK1R_",
    "outputId": "42bc1654-e043-4d82-b1d4-bdb78dfb2edb"
   },
   "outputs": [
    {
     "data": {
      "text/plain": [
       "<matplotlib.axes._subplots.AxesSubplot at 0x7fdffd6f4290>"
      ]
     },
     "execution_count": 145,
     "metadata": {},
     "output_type": "execute_result"
    },
    {
     "data": {
      "image/png": "[encoded data removed]",
      "text/plain": [
       "<Figure size 432x288 with 1 Axes>"
      ]
     },
     "metadata": {
      "needs_background": "light"
     },
     "output_type": "display_data"
    }
   ],
   "source": [
    "sns.countplot(df[target])"
   ]
  },
  {
   "cell_type": "code",
   "execution_count": 146,
   "metadata": {
    "ExecuteTime": {
     "end_time": "2020-06-19T14:01:36.729748Z",
     "start_time": "2020-06-19T14:01:36.700844Z"
    },
    "colab": {
     "base_uri": "https://localhost:8080/",
     "height": 119
    },
    "colab_type": "code",
    "id": "kbuvNt5yK1SB",
    "outputId": "818154ea-554b-48aa-8099-063f75f49d91"
   },
   "outputs": [
    {
     "data": {
      "text/plain": [
       "0    7963\n",
       "1    2037\n",
       "Name: Exited, dtype: int64"
      ]
     },
     "metadata": {},
     "output_type": "display_data"
    },
    {
     "data": {
      "text/plain": [
       "0    79.63\n",
       "1    20.37\n",
       "Name: Exited, dtype: float64"
      ]
     },
     "execution_count": 146,
     "metadata": {},
     "output_type": "execute_result"
    }
   ],
   "source": [
    "display(df[target].value_counts())\n",
    "100*df[target].value_counts()/len(df)"
   ]
  },
  {
   "cell_type": "markdown",
   "metadata": {
    "colab_type": "text",
    "id": "DAYj2SRjNE1A"
   },
   "source": [
    "as we see classes are imbalanced"
   ]
  },
  {
   "cell_type": "markdown",
   "metadata": {
    "colab_type": "text",
    "id": "0_e2iSXSK1SD"
   },
   "source": [
    "#### Logistic regresion"
   ]
  },
  {
   "cell_type": "code",
   "execution_count": 147,
   "metadata": {
    "colab": {},
    "colab_type": "code",
    "id": "iLovCjB3TAr3"
   },
   "outputs": [],
   "source": [
    "history = dict()"
   ]
  },
  {
   "cell_type": "code",
   "execution_count": 148,
   "metadata": {
    "ExecuteTime": {
     "end_time": "2020-06-19T16:20:26.171818Z",
     "start_time": "2020-06-19T16:20:26.150612Z"
    },
    "colab": {},
    "colab_type": "code",
    "id": "9VWt9ysxK1SE"
   },
   "outputs": [],
   "source": [
    "X, y = df[features].values, df[target].values"
   ]
  },
  {
   "cell_type": "markdown",
   "metadata": {},
   "source": [
    "<div class=\"alert alert-warning\" role=\"alert\">\n",
    "You could also scale your numeric features.</div>"
   ]
  },
  {
   "cell_type": "code",
   "execution_count": 149,
   "metadata": {
    "ExecuteTime": {
     "end_time": "2020-06-19T16:21:49.019888Z",
     "start_time": "2020-06-19T16:21:49.005700Z"
    },
    "colab": {},
    "colab_type": "code",
    "id": "AitzOTS0K1SG"
   },
   "outputs": [],
   "source": [
    "X_train, X_test, y_train, y_test = train_test_split(X, y, test_size=0.2, random_state=42)"
   ]
  },
  {
   "cell_type": "code",
   "execution_count": 150,
   "metadata": {
    "ExecuteTime": {
     "end_time": "2020-06-19T16:22:06.243132Z",
     "start_time": "2020-06-19T16:22:05.932386Z"
    },
    "colab": {},
    "colab_type": "code",
    "id": "ulqteDK2K1SI"
   },
   "outputs": [],
   "source": [
    "lr = LogisticRegressionCV(cv=5, random_state=42).fit(X_train, y_train)\n",
    "y_pred = lr.predict(X_test)"
   ]
  },
  {
   "cell_type": "code",
   "execution_count": 151,
   "metadata": {
    "ExecuteTime": {
     "end_time": "2020-06-19T16:22:27.878123Z",
     "start_time": "2020-06-19T16:22:27.837789Z"
    },
    "colab": {
     "base_uri": "https://localhost:8080/",
     "height": 204
    },
    "colab_type": "code",
    "id": "isync7BaK1SJ",
    "outputId": "bd05a372-9b3e-4565-9063-66f3ea2b927f"
   },
   "outputs": [
    {
     "data": {
      "text/html": [
       "<div>\n",
       "<style scoped>\n",
       "    .dataframe tbody tr th:only-of-type {\n",
       "        vertical-align: middle;\n",
       "    }\n",
       "\n",
       "    .dataframe tbody tr th {\n",
       "        vertical-align: top;\n",
       "    }\n",
       "\n",
       "    .dataframe thead th {\n",
       "        text-align: right;\n",
       "    }\n",
       "</style>\n",
       "<table border=\"1\" class=\"dataframe\">\n",
       "  <thead>\n",
       "    <tr style=\"text-align: right;\">\n",
       "      <th></th>\n",
       "      <th>precision</th>\n",
       "      <th>recall</th>\n",
       "      <th>f1-score</th>\n",
       "      <th>support</th>\n",
       "    </tr>\n",
       "  </thead>\n",
       "  <tbody>\n",
       "    <tr>\n",
       "      <td>0</td>\n",
       "      <td>0.802860</td>\n",
       "      <td>0.985580</td>\n",
       "      <td>0.884886</td>\n",
       "      <td>1595.0000</td>\n",
       "    </tr>\n",
       "    <tr>\n",
       "      <td>1</td>\n",
       "      <td>0.452381</td>\n",
       "      <td>0.046914</td>\n",
       "      <td>0.085011</td>\n",
       "      <td>405.0000</td>\n",
       "    </tr>\n",
       "    <tr>\n",
       "      <td>accuracy</td>\n",
       "      <td>0.795500</td>\n",
       "      <td>0.795500</td>\n",
       "      <td>0.795500</td>\n",
       "      <td>0.7955</td>\n",
       "    </tr>\n",
       "    <tr>\n",
       "      <td>macro avg</td>\n",
       "      <td>0.627621</td>\n",
       "      <td>0.516247</td>\n",
       "      <td>0.484949</td>\n",
       "      <td>2000.0000</td>\n",
       "    </tr>\n",
       "    <tr>\n",
       "      <td>weighted avg</td>\n",
       "      <td>0.731888</td>\n",
       "      <td>0.795500</td>\n",
       "      <td>0.722911</td>\n",
       "      <td>2000.0000</td>\n",
       "    </tr>\n",
       "  </tbody>\n",
       "</table>\n",
       "</div>"
      ],
      "text/plain": [
       "              precision    recall  f1-score    support\n",
       "0              0.802860  0.985580  0.884886  1595.0000\n",
       "1              0.452381  0.046914  0.085011   405.0000\n",
       "accuracy       0.795500  0.795500  0.795500     0.7955\n",
       "macro avg      0.627621  0.516247  0.484949  2000.0000\n",
       "weighted avg   0.731888  0.795500  0.722911  2000.0000"
      ]
     },
     "metadata": {},
     "output_type": "display_data"
    }
   ],
   "source": [
    "display_classification_report(y_test, y_pred)"
   ]
  },
  {
   "cell_type": "code",
   "execution_count": 152,
   "metadata": {
    "colab": {
     "base_uri": "https://localhost:8080/",
     "height": 34
    },
    "colab_type": "code",
    "id": "V6foWBl4RalA",
    "outputId": "56ef8015-f04d-46e9-8e17-67d5f79825e4"
   },
   "outputs": [
    {
     "data": {
      "text/plain": [
       "0.08501118568232663"
      ]
     },
     "execution_count": 152,
     "metadata": {},
     "output_type": "execute_result"
    }
   ],
   "source": [
    "#as we saw in the table, for f1 we got very bad result\n",
    "history['linear_imbalanced'] = f1_score(y_test, y_pred)\n",
    "f1_score(y_test, y_pred)"
   ]
  },
  {
   "cell_type": "code",
   "execution_count": 153,
   "metadata": {
    "ExecuteTime": {
     "end_time": "2020-06-19T17:01:52.235636Z",
     "start_time": "2020-06-19T17:01:51.981325Z"
    },
    "colab": {
     "base_uri": "https://localhost:8080/",
     "height": 327
    },
    "colab_type": "code",
    "id": "exxuWL4bK1SL",
    "outputId": "90f9d20c-1599-4f00-b57e-fa347e9cb485"
   },
   "outputs": [
    {
     "data": {
      "text/plain": [
       "<matplotlib.axes._subplots.AxesSubplot at 0x7fdffd688410>"
      ]
     },
     "execution_count": 153,
     "metadata": {},
     "output_type": "execute_result"
    },
    {
     "data": {
      "image/png": "[encoded data removed]",
      "text/plain": [
       "<Figure size 576x288 with 2 Axes>"
      ]
     },
     "metadata": {
      "needs_background": "light"
     },
     "output_type": "display_data"
    }
   ],
   "source": [
    "fig, ax = plt.subplots(1,2, figsize=(8,4))\n",
    "ax = ax.flatten()\n",
    "plot_pr(y_test, y_pred, ax=ax[0],label=\"LogisticRegressionCV\")\n",
    "plot_roc(y_test, y_pred, ax=ax[1],label=\"LogisticRegressionCV\")"
   ]
  },
  {
   "cell_type": "markdown",
   "metadata": {},
   "source": [
    "<div class=\"alert alert-success\" role=\"alert\">\n",
    "Nice charts</div>"
   ]
  },
  {
   "cell_type": "code",
   "execution_count": 154,
   "metadata": {
    "ExecuteTime": {
     "end_time": "2020-06-19T17:02:02.211589Z",
     "start_time": "2020-06-19T17:02:01.106352Z"
    },
    "colab": {
     "base_uri": "https://localhost:8080/",
     "height": 620
    },
    "colab_type": "code",
    "id": "2MdRCv2eK1SN",
    "outputId": "f2e3d853-631c-4dce-8e78-0e1e98a72b2a"
   },
   "outputs": [
    {
     "name": "stdout",
     "output_type": "stream",
     "text": [
      "0.809\n",
      "[[1552   43]\n",
      " [ 339   66]]\n"
     ]
    },
    {
     "data": {
      "text/html": [
       "<div>\n",
       "<style scoped>\n",
       "    .dataframe tbody tr th:only-of-type {\n",
       "        vertical-align: middle;\n",
       "    }\n",
       "\n",
       "    .dataframe tbody tr th {\n",
       "        vertical-align: top;\n",
       "    }\n",
       "\n",
       "    .dataframe thead th {\n",
       "        text-align: right;\n",
       "    }\n",
       "</style>\n",
       "<table border=\"1\" class=\"dataframe\">\n",
       "  <thead>\n",
       "    <tr style=\"text-align: right;\">\n",
       "      <th></th>\n",
       "      <th>precision</th>\n",
       "      <th>recall</th>\n",
       "      <th>f1-score</th>\n",
       "      <th>support</th>\n",
       "    </tr>\n",
       "  </thead>\n",
       "  <tbody>\n",
       "    <tr>\n",
       "      <td>0</td>\n",
       "      <td>0.820730</td>\n",
       "      <td>0.973041</td>\n",
       "      <td>0.890419</td>\n",
       "      <td>1595.000</td>\n",
       "    </tr>\n",
       "    <tr>\n",
       "      <td>1</td>\n",
       "      <td>0.605505</td>\n",
       "      <td>0.162963</td>\n",
       "      <td>0.256809</td>\n",
       "      <td>405.000</td>\n",
       "    </tr>\n",
       "    <tr>\n",
       "      <td>accuracy</td>\n",
       "      <td>0.809000</td>\n",
       "      <td>0.809000</td>\n",
       "      <td>0.809000</td>\n",
       "      <td>0.809</td>\n",
       "    </tr>\n",
       "    <tr>\n",
       "      <td>macro avg</td>\n",
       "      <td>0.713117</td>\n",
       "      <td>0.568002</td>\n",
       "      <td>0.573614</td>\n",
       "      <td>2000.000</td>\n",
       "    </tr>\n",
       "    <tr>\n",
       "      <td>weighted avg</td>\n",
       "      <td>0.777147</td>\n",
       "      <td>0.809000</td>\n",
       "      <td>0.762113</td>\n",
       "      <td>2000.000</td>\n",
       "    </tr>\n",
       "  </tbody>\n",
       "</table>\n",
       "</div>"
      ],
      "text/plain": [
       "              precision    recall  f1-score   support\n",
       "0              0.820730  0.973041  0.890419  1595.000\n",
       "1              0.605505  0.162963  0.256809   405.000\n",
       "accuracy       0.809000  0.809000  0.809000     0.809\n",
       "macro avg      0.713117  0.568002  0.573614  2000.000\n",
       "weighted avg   0.777147  0.809000  0.762113  2000.000"
      ]
     },
     "metadata": {},
     "output_type": "display_data"
    },
    {
     "data": {
      "text/plain": [
       "<matplotlib.axes._subplots.AxesSubplot at 0x7fdffd58da50>"
      ]
     },
     "execution_count": 154,
     "metadata": {},
     "output_type": "execute_result"
    },
    {
     "data": {
      "image/png": "[encoded data removed]",
      "text/plain": [
       "<Figure size 720x360 with 2 Axes>"
      ]
     },
     "metadata": {
      "needs_background": "light"
     },
     "output_type": "display_data"
    }
   ],
   "source": [
    "lrcv = LogisticRegressionCV(\n",
    "    Cs=[0.1,1,10], penalty='l2', tol=1e-10, scoring='neg_log_loss', cv=5,\n",
    "    solver='liblinear', n_jobs=4, verbose=0, refit=True,\n",
    "    max_iter=100,\n",
    ").fit(X_train, y_train)\n",
    "y_pred = lrcv.predict(X_test)\n",
    "print(accuracy_score(y_test, y_pred))\n",
    "print(confusion_matrix(y_test, y_pred))\n",
    "display_classification_report(y_test, y_pred)\n",
    "\n",
    "_, axs = plt.subplots(1, 2,figsize=(10,5))\n",
    "axs = axs.ravel()\n",
    "plot_pr(y_test, y_pred, ax=axs[0], label=\"LogisticRegressionCV\")\n",
    "plot_roc(y_test, y_pred, ax=axs[1], label=\"LogisticRegressionCV\")"
   ]
  },
  {
   "cell_type": "markdown",
   "metadata": {
    "colab_type": "text",
    "id": "r_k5m_iCNTCU"
   },
   "source": [
    "without dealing with imbalancing , we've got very poor model, the same, more or less than baseline, random model(i would like worser, because using random guessing according with fractions weights, random model would be better)"
   ]
  },
  {
   "cell_type": "markdown",
   "metadata": {
    "colab_type": "text",
    "id": "EU_hHnJgK1SQ"
   },
   "source": [
    "#### DecisionTreeClassifier"
   ]
  },
  {
   "cell_type": "code",
   "execution_count": 155,
   "metadata": {
    "ExecuteTime": {
     "end_time": "2020-06-19T17:02:13.700034Z",
     "start_time": "2020-06-19T17:02:06.192058Z"
    },
    "colab": {
     "base_uri": "https://localhost:8080/",
     "height": 272
    },
    "colab_type": "code",
    "id": "WMgmKoPUK1SQ",
    "outputId": "b0dbc182-0ab6-4229-94fb-a81629677e33"
   },
   "outputs": [
    {
     "name": "stdout",
     "output_type": "stream",
     "text": [
      "0.872375\n",
      "0.8515\n",
      "[[1534   61]\n",
      " [ 236  169]]\n"
     ]
    },
    {
     "data": {
      "text/html": [
       "<div>\n",
       "<style scoped>\n",
       "    .dataframe tbody tr th:only-of-type {\n",
       "        vertical-align: middle;\n",
       "    }\n",
       "\n",
       "    .dataframe tbody tr th {\n",
       "        vertical-align: top;\n",
       "    }\n",
       "\n",
       "    .dataframe thead th {\n",
       "        text-align: right;\n",
       "    }\n",
       "</style>\n",
       "<table border=\"1\" class=\"dataframe\">\n",
       "  <thead>\n",
       "    <tr style=\"text-align: right;\">\n",
       "      <th></th>\n",
       "      <th>precision</th>\n",
       "      <th>recall</th>\n",
       "      <th>f1-score</th>\n",
       "      <th>support</th>\n",
       "    </tr>\n",
       "  </thead>\n",
       "  <tbody>\n",
       "    <tr>\n",
       "      <td>0</td>\n",
       "      <td>0.866667</td>\n",
       "      <td>0.961755</td>\n",
       "      <td>0.911738</td>\n",
       "      <td>1595.0000</td>\n",
       "    </tr>\n",
       "    <tr>\n",
       "      <td>1</td>\n",
       "      <td>0.734783</td>\n",
       "      <td>0.417284</td>\n",
       "      <td>0.532283</td>\n",
       "      <td>405.0000</td>\n",
       "    </tr>\n",
       "    <tr>\n",
       "      <td>accuracy</td>\n",
       "      <td>0.851500</td>\n",
       "      <td>0.851500</td>\n",
       "      <td>0.851500</td>\n",
       "      <td>0.8515</td>\n",
       "    </tr>\n",
       "    <tr>\n",
       "      <td>macro avg</td>\n",
       "      <td>0.800725</td>\n",
       "      <td>0.689520</td>\n",
       "      <td>0.722011</td>\n",
       "      <td>2000.0000</td>\n",
       "    </tr>\n",
       "    <tr>\n",
       "      <td>weighted avg</td>\n",
       "      <td>0.839960</td>\n",
       "      <td>0.851500</td>\n",
       "      <td>0.834899</td>\n",
       "      <td>2000.0000</td>\n",
       "    </tr>\n",
       "  </tbody>\n",
       "</table>\n",
       "</div>"
      ],
      "text/plain": [
       "              precision    recall  f1-score    support\n",
       "0              0.866667  0.961755  0.911738  1595.0000\n",
       "1              0.734783  0.417284  0.532283   405.0000\n",
       "accuracy       0.851500  0.851500  0.851500     0.8515\n",
       "macro avg      0.800725  0.689520  0.722011  2000.0000\n",
       "weighted avg   0.839960  0.851500  0.834899  2000.0000"
      ]
     },
     "metadata": {},
     "output_type": "display_data"
    }
   ],
   "source": [
    "params = {\n",
    "\"criterion\":[\"gini\", \"entropy\"],\n",
    "\"max_depth\":[2,4,8,16],\n",
    "\"min_samples_split\":[2,4,8, 16],\n",
    "\"min_samples_leaf\":[2,4,6]}\n",
    "clf = GridSearchCV(DecisionTreeClassifier(), params, cv=5).fit(X_train, y_train)\n",
    "y_pred = clf.predict(X_test)\n",
    "print(clf.score(X_train, y_train))\n",
    "print(accuracy_score(y_test, y_pred))\n",
    "print(confusion_matrix(y_test, y_pred))\n",
    "display_classification_report(y_test, y_pred)"
   ]
  },
  {
   "cell_type": "code",
   "execution_count": 156,
   "metadata": {
    "colab": {
     "base_uri": "https://localhost:8080/",
     "height": 34
    },
    "colab_type": "code",
    "id": "F3rsBcg3RtHH",
    "outputId": "ec8c57d3-cfd6-4d74-f252-1336521639db"
   },
   "outputs": [
    {
     "data": {
      "text/plain": [
       "0.5322834645669292"
      ]
     },
     "execution_count": 156,
     "metadata": {},
     "output_type": "execute_result"
    }
   ],
   "source": [
    "f1_score(y_test, y_pred)"
   ]
  },
  {
   "cell_type": "code",
   "execution_count": 157,
   "metadata": {
    "ExecuteTime": {
     "end_time": "2020-06-19T17:02:13.973439Z",
     "start_time": "2020-06-19T17:02:13.702107Z"
    },
    "colab": {
     "base_uri": "https://localhost:8080/",
     "height": 637
    },
    "colab_type": "code",
    "id": "12oWZQSBK1SU",
    "outputId": "cdce12c4-dfb3-4cc1-b0d2-156ad164d833"
   },
   "outputs": [
    {
     "name": "stdout",
     "output_type": "stream",
     "text": [
      "0.872375\n",
      "0.8515\n",
      "[[1534   61]\n",
      " [ 236  169]]\n"
     ]
    },
    {
     "data": {
      "text/html": [
       "<div>\n",
       "<style scoped>\n",
       "    .dataframe tbody tr th:only-of-type {\n",
       "        vertical-align: middle;\n",
       "    }\n",
       "\n",
       "    .dataframe tbody tr th {\n",
       "        vertical-align: top;\n",
       "    }\n",
       "\n",
       "    .dataframe thead th {\n",
       "        text-align: right;\n",
       "    }\n",
       "</style>\n",
       "<table border=\"1\" class=\"dataframe\">\n",
       "  <thead>\n",
       "    <tr style=\"text-align: right;\">\n",
       "      <th></th>\n",
       "      <th>precision</th>\n",
       "      <th>recall</th>\n",
       "      <th>f1-score</th>\n",
       "      <th>support</th>\n",
       "    </tr>\n",
       "  </thead>\n",
       "  <tbody>\n",
       "    <tr>\n",
       "      <td>0</td>\n",
       "      <td>0.866667</td>\n",
       "      <td>0.961755</td>\n",
       "      <td>0.911738</td>\n",
       "      <td>1595.0000</td>\n",
       "    </tr>\n",
       "    <tr>\n",
       "      <td>1</td>\n",
       "      <td>0.734783</td>\n",
       "      <td>0.417284</td>\n",
       "      <td>0.532283</td>\n",
       "      <td>405.0000</td>\n",
       "    </tr>\n",
       "    <tr>\n",
       "      <td>accuracy</td>\n",
       "      <td>0.851500</td>\n",
       "      <td>0.851500</td>\n",
       "      <td>0.851500</td>\n",
       "      <td>0.8515</td>\n",
       "    </tr>\n",
       "    <tr>\n",
       "      <td>macro avg</td>\n",
       "      <td>0.800725</td>\n",
       "      <td>0.689520</td>\n",
       "      <td>0.722011</td>\n",
       "      <td>2000.0000</td>\n",
       "    </tr>\n",
       "    <tr>\n",
       "      <td>weighted avg</td>\n",
       "      <td>0.839960</td>\n",
       "      <td>0.851500</td>\n",
       "      <td>0.834899</td>\n",
       "      <td>2000.0000</td>\n",
       "    </tr>\n",
       "  </tbody>\n",
       "</table>\n",
       "</div>"
      ],
      "text/plain": [
       "              precision    recall  f1-score    support\n",
       "0              0.866667  0.961755  0.911738  1595.0000\n",
       "1              0.734783  0.417284  0.532283   405.0000\n",
       "accuracy       0.851500  0.851500  0.851500     0.8515\n",
       "macro avg      0.800725  0.689520  0.722011  2000.0000\n",
       "weighted avg   0.839960  0.851500  0.834899  2000.0000"
      ]
     },
     "metadata": {},
     "output_type": "display_data"
    },
    {
     "data": {
      "text/plain": [
       "<matplotlib.axes._subplots.AxesSubplot at 0x7fdffd480390>"
      ]
     },
     "execution_count": 157,
     "metadata": {},
     "output_type": "execute_result"
    },
    {
     "data": {
      "image/png": "[encoded data removed]",
      "text/plain": [
       "<Figure size 720x360 with 2 Axes>"
      ]
     },
     "metadata": {
      "needs_background": "light"
     },
     "output_type": "display_data"
    }
   ],
   "source": [
    "dt = DecisionTreeClassifier(**clf.best_params_).fit(X_train, y_train)\n",
    "y_pred = dt.predict(X_test)\n",
    "print(dt.score(X_train, y_train))\n",
    "print(accuracy_score(y_test, y_pred))\n",
    "print(confusion_matrix(y_test, y_pred))\n",
    "display_classification_report(y_test, y_pred)\n",
    "\n",
    "_, axs = plt.subplots(1, 2,figsize=(10,5))\n",
    "axs = axs.ravel()\n",
    "plot_pr(y_test, y_pred, ax=axs[0], label=\"DecisionTreeClassifier\")\n",
    "plot_roc(y_test, y_pred, ax=axs[1], label=\"DecisionTreeClassifier\")"
   ]
  },
  {
   "cell_type": "code",
   "execution_count": 158,
   "metadata": {
    "colab": {
     "base_uri": "https://localhost:8080/",
     "height": 34
    },
    "colab_type": "code",
    "id": "h23R3-RKR1mb",
    "outputId": "ad5e1dfa-217f-4853-9b56-467eb577af6d"
   },
   "outputs": [
    {
     "data": {
      "text/plain": [
       "0.5322834645669292"
      ]
     },
     "execution_count": 158,
     "metadata": {},
     "output_type": "execute_result"
    }
   ],
   "source": [
    "history['desicion_tree_imbalanced'] = f1_score(y_test, y_pred)\n",
    "f1_score(y_test, y_pred)"
   ]
  },
  {
   "cell_type": "markdown",
   "metadata": {
    "colab_type": "text",
    "id": "jmM6IjMIK1SW"
   },
   "source": [
    "#### CatBoostClassifier"
   ]
  },
  {
   "cell_type": "code",
   "execution_count": 159,
   "metadata": {
    "ExecuteTime": {
     "end_time": "2020-06-19T17:02:17.092777Z",
     "start_time": "2020-06-19T17:02:13.975140Z"
    },
    "colab": {
     "base_uri": "https://localhost:8080/",
     "height": 637
    },
    "colab_type": "code",
    "id": "2oYEjnlxK1SW",
    "outputId": "ea26f806-2222-4b26-ead7-eec2eed326ff"
   },
   "outputs": [
    {
     "name": "stdout",
     "output_type": "stream",
     "text": [
      "0.919625\n",
      "0.8565\n",
      "[[1528   67]\n",
      " [ 220  185]]\n"
     ]
    },
    {
     "data": {
      "text/html": [
       "<div>\n",
       "<style scoped>\n",
       "    .dataframe tbody tr th:only-of-type {\n",
       "        vertical-align: middle;\n",
       "    }\n",
       "\n",
       "    .dataframe tbody tr th {\n",
       "        vertical-align: top;\n",
       "    }\n",
       "\n",
       "    .dataframe thead th {\n",
       "        text-align: right;\n",
       "    }\n",
       "</style>\n",
       "<table border=\"1\" class=\"dataframe\">\n",
       "  <thead>\n",
       "    <tr style=\"text-align: right;\">\n",
       "      <th></th>\n",
       "      <th>precision</th>\n",
       "      <th>recall</th>\n",
       "      <th>f1-score</th>\n",
       "      <th>support</th>\n",
       "    </tr>\n",
       "  </thead>\n",
       "  <tbody>\n",
       "    <tr>\n",
       "      <td>0</td>\n",
       "      <td>0.874142</td>\n",
       "      <td>0.957994</td>\n",
       "      <td>0.914149</td>\n",
       "      <td>1595.0000</td>\n",
       "    </tr>\n",
       "    <tr>\n",
       "      <td>1</td>\n",
       "      <td>0.734127</td>\n",
       "      <td>0.456790</td>\n",
       "      <td>0.563166</td>\n",
       "      <td>405.0000</td>\n",
       "    </tr>\n",
       "    <tr>\n",
       "      <td>accuracy</td>\n",
       "      <td>0.856500</td>\n",
       "      <td>0.856500</td>\n",
       "      <td>0.856500</td>\n",
       "      <td>0.8565</td>\n",
       "    </tr>\n",
       "    <tr>\n",
       "      <td>macro avg</td>\n",
       "      <td>0.804134</td>\n",
       "      <td>0.707392</td>\n",
       "      <td>0.738657</td>\n",
       "      <td>2000.0000</td>\n",
       "    </tr>\n",
       "    <tr>\n",
       "      <td>weighted avg</td>\n",
       "      <td>0.845789</td>\n",
       "      <td>0.856500</td>\n",
       "      <td>0.843075</td>\n",
       "      <td>2000.0000</td>\n",
       "    </tr>\n",
       "  </tbody>\n",
       "</table>\n",
       "</div>"
      ],
      "text/plain": [
       "              precision    recall  f1-score    support\n",
       "0              0.874142  0.957994  0.914149  1595.0000\n",
       "1              0.734127  0.456790  0.563166   405.0000\n",
       "accuracy       0.856500  0.856500  0.856500     0.8565\n",
       "macro avg      0.804134  0.707392  0.738657  2000.0000\n",
       "weighted avg   0.845789  0.856500  0.843075  2000.0000"
      ]
     },
     "metadata": {},
     "output_type": "display_data"
    },
    {
     "data": {
      "text/plain": [
       "<matplotlib.axes._subplots.AxesSubplot at 0x7fdffd36e450>"
      ]
     },
     "execution_count": 159,
     "metadata": {},
     "output_type": "execute_result"
    },
    {
     "data": {
      "image/png": "[encoded data removed]",
      "text/plain": [
       "<Figure size 720x360 with 2 Axes>"
      ]
     },
     "metadata": {
      "needs_background": "light"
     },
     "output_type": "display_data"
    }
   ],
   "source": [
    "cb = CatBoostClassifier(verbose=0, random_state=42).fit(X_train, y_train)\n",
    "y_pred = cb.predict(X_test)\n",
    "print(cb.score(X_train, y_train))\n",
    "print(accuracy_score(y_test, y_pred))\n",
    "print(confusion_matrix(y_test, y_pred))\n",
    "display_classification_report(y_test, y_pred)\n",
    "\n",
    "_, axs = plt.subplots(1, 2,figsize=(10,5))\n",
    "axs = axs.ravel()\n",
    "plot_pr(y_test, y_pred, ax=axs[0], label=\"CatBoostClassifier\")\n",
    "plot_roc(y_test, y_pred, ax=axs[1], label=\"CatBoostClassifier\")"
   ]
  },
  {
   "cell_type": "code",
   "execution_count": 160,
   "metadata": {
    "colab": {
     "base_uri": "https://localhost:8080/",
     "height": 34
    },
    "colab_type": "code",
    "id": "zE2ETgtXR3a9",
    "outputId": "0e548e71-26a0-4027-a6a1-78f67b79b8ee"
   },
   "outputs": [
    {
     "data": {
      "text/plain": [
       "0.563165905631659"
      ]
     },
     "execution_count": 160,
     "metadata": {},
     "output_type": "execute_result"
    }
   ],
   "source": [
    "history['catboost_imbalanced'] = f1_score(y_test, y_pred)\n",
    "f1_score(y_test, y_pred)"
   ]
  },
  {
   "cell_type": "markdown",
   "metadata": {},
   "source": [
    "<div class=\"alert alert-success\" role=\"alert\">\n",
    "Good research of models without balancing.</div>"
   ]
  },
  {
   "cell_type": "markdown",
   "metadata": {
    "colab_type": "text",
    "id": "7S39j0OGK1SY"
   },
   "source": [
    "### 3. Improve the quality of the model. Make sure you use at least two approaches to fixing class imbalance. Use the training set to pick the best parameters. Train different models on training and validation sets. Find the best one. Briefly describe your findings."
   ]
  },
  {
   "cell_type": "markdown",
   "metadata": {
    "colab_type": "text",
    "id": "7AzhQr0JR7R-"
   },
   "source": [
    "### Linear regression"
   ]
  },
  {
   "cell_type": "code",
   "execution_count": 161,
   "metadata": {
    "colab": {
     "base_uri": "https://localhost:8080/",
     "height": 620
    },
    "colab_type": "code",
    "id": "jnV0PGgdSBIV",
    "outputId": "37d1dabf-c822-46b4-bdbb-09ed153c89ea"
   },
   "outputs": [
    {
     "name": "stdout",
     "output_type": "stream",
     "text": [
      "0.705\n",
      "[[1136  459]\n",
      " [ 131  274]]\n"
     ]
    },
    {
     "data": {
      "text/html": [
       "<div>\n",
       "<style scoped>\n",
       "    .dataframe tbody tr th:only-of-type {\n",
       "        vertical-align: middle;\n",
       "    }\n",
       "\n",
       "    .dataframe tbody tr th {\n",
       "        vertical-align: top;\n",
       "    }\n",
       "\n",
       "    .dataframe thead th {\n",
       "        text-align: right;\n",
       "    }\n",
       "</style>\n",
       "<table border=\"1\" class=\"dataframe\">\n",
       "  <thead>\n",
       "    <tr style=\"text-align: right;\">\n",
       "      <th></th>\n",
       "      <th>precision</th>\n",
       "      <th>recall</th>\n",
       "      <th>f1-score</th>\n",
       "      <th>support</th>\n",
       "    </tr>\n",
       "  </thead>\n",
       "  <tbody>\n",
       "    <tr>\n",
       "      <td>0</td>\n",
       "      <td>0.896606</td>\n",
       "      <td>0.712226</td>\n",
       "      <td>0.793850</td>\n",
       "      <td>1595.000</td>\n",
       "    </tr>\n",
       "    <tr>\n",
       "      <td>1</td>\n",
       "      <td>0.373806</td>\n",
       "      <td>0.676543</td>\n",
       "      <td>0.481547</td>\n",
       "      <td>405.000</td>\n",
       "    </tr>\n",
       "    <tr>\n",
       "      <td>accuracy</td>\n",
       "      <td>0.705000</td>\n",
       "      <td>0.705000</td>\n",
       "      <td>0.705000</td>\n",
       "      <td>0.705</td>\n",
       "    </tr>\n",
       "    <tr>\n",
       "      <td>macro avg</td>\n",
       "      <td>0.635206</td>\n",
       "      <td>0.694384</td>\n",
       "      <td>0.637699</td>\n",
       "      <td>2000.000</td>\n",
       "    </tr>\n",
       "    <tr>\n",
       "      <td>weighted avg</td>\n",
       "      <td>0.790739</td>\n",
       "      <td>0.705000</td>\n",
       "      <td>0.730609</td>\n",
       "      <td>2000.000</td>\n",
       "    </tr>\n",
       "  </tbody>\n",
       "</table>\n",
       "</div>"
      ],
      "text/plain": [
       "              precision    recall  f1-score   support\n",
       "0              0.896606  0.712226  0.793850  1595.000\n",
       "1              0.373806  0.676543  0.481547   405.000\n",
       "accuracy       0.705000  0.705000  0.705000     0.705\n",
       "macro avg      0.635206  0.694384  0.637699  2000.000\n",
       "weighted avg   0.790739  0.705000  0.730609  2000.000"
      ]
     },
     "metadata": {},
     "output_type": "display_data"
    },
    {
     "data": {
      "text/plain": [
       "<matplotlib.axes._subplots.AxesSubplot at 0x7fdffd2e4750>"
      ]
     },
     "execution_count": 161,
     "metadata": {},
     "output_type": "execute_result"
    },
    {
     "data": {
      "image/png": "[encoded data removed]",
      "text/plain": [
       "<Figure size 720x360 with 2 Axes>"
      ]
     },
     "metadata": {
      "needs_background": "light"
     },
     "output_type": "display_data"
    }
   ],
   "source": [
    "lrcv = LogisticRegressionCV(\n",
    "    Cs=[0.1,1,10], class_weight='balanced', penalty='l2', tol=1e-10, scoring='neg_log_loss', cv=5,\n",
    "    solver='liblinear', n_jobs=4, verbose=0, refit=True,\n",
    "    max_iter=100,\n",
    ").fit(X_train, y_train)\n",
    "y_pred = lrcv.predict(X_test)\n",
    "print(accuracy_score(y_test, y_pred))\n",
    "print(confusion_matrix(y_test, y_pred))\n",
    "display_classification_report(y_test, y_pred)\n",
    "\n",
    "_, axs = plt.subplots(1, 2,figsize=(10,5))\n",
    "axs = axs.ravel()\n",
    "plot_pr(y_test, y_pred, ax=axs[0], label=\"LogisticRegressionCV\")\n",
    "plot_roc(y_test, y_pred, ax=axs[1], label=\"LogisticRegressionCV\")"
   ]
  },
  {
   "cell_type": "code",
   "execution_count": 162,
   "metadata": {
    "colab": {
     "base_uri": "https://localhost:8080/",
     "height": 34
    },
    "colab_type": "code",
    "id": "k_o12NyjSH6V",
    "outputId": "13b4f8b3-6f0f-4955-c807-55ef4c341e66"
   },
   "outputs": [
    {
     "data": {
      "text/plain": [
       "0.4815465729349737"
      ]
     },
     "execution_count": 162,
     "metadata": {},
     "output_type": "execute_result"
    }
   ],
   "source": [
    "history['linear'] = f1_score(y_test, y_pred)\n",
    "f1_score(y_test, y_pred)"
   ]
  },
  {
   "cell_type": "markdown",
   "metadata": {
    "colab_type": "text",
    "id": "_4xM5TfVSKXr"
   },
   "source": [
    "we got much better result compare with previous result of the f1 metric, without balancing"
   ]
  },
  {
   "cell_type": "markdown",
   "metadata": {
    "colab_type": "text",
    "id": "VLN0h0LYSfDj"
   },
   "source": [
    "### DecisionTreeClassifier"
   ]
  },
  {
   "cell_type": "code",
   "execution_count": 163,
   "metadata": {
    "colab": {
     "base_uri": "https://localhost:8080/",
     "height": 272
    },
    "colab_type": "code",
    "id": "082xLA5TSkOb",
    "outputId": "4431c5c9-8b73-48b6-bd31-40cad948e23a"
   },
   "outputs": [
    {
     "name": "stdout",
     "output_type": "stream",
     "text": [
      "0.94675\n",
      "0.7705\n",
      "[[1318  277]\n",
      " [ 182  223]]\n"
     ]
    },
    {
     "data": {
      "text/html": [
       "<div>\n",
       "<style scoped>\n",
       "    .dataframe tbody tr th:only-of-type {\n",
       "        vertical-align: middle;\n",
       "    }\n",
       "\n",
       "    .dataframe tbody tr th {\n",
       "        vertical-align: top;\n",
       "    }\n",
       "\n",
       "    .dataframe thead th {\n",
       "        text-align: right;\n",
       "    }\n",
       "</style>\n",
       "<table border=\"1\" class=\"dataframe\">\n",
       "  <thead>\n",
       "    <tr style=\"text-align: right;\">\n",
       "      <th></th>\n",
       "      <th>precision</th>\n",
       "      <th>recall</th>\n",
       "      <th>f1-score</th>\n",
       "      <th>support</th>\n",
       "    </tr>\n",
       "  </thead>\n",
       "  <tbody>\n",
       "    <tr>\n",
       "      <td>0</td>\n",
       "      <td>0.878667</td>\n",
       "      <td>0.826332</td>\n",
       "      <td>0.851696</td>\n",
       "      <td>1595.0000</td>\n",
       "    </tr>\n",
       "    <tr>\n",
       "      <td>1</td>\n",
       "      <td>0.446000</td>\n",
       "      <td>0.550617</td>\n",
       "      <td>0.492818</td>\n",
       "      <td>405.0000</td>\n",
       "    </tr>\n",
       "    <tr>\n",
       "      <td>accuracy</td>\n",
       "      <td>0.770500</td>\n",
       "      <td>0.770500</td>\n",
       "      <td>0.770500</td>\n",
       "      <td>0.7705</td>\n",
       "    </tr>\n",
       "    <tr>\n",
       "      <td>macro avg</td>\n",
       "      <td>0.662333</td>\n",
       "      <td>0.688475</td>\n",
       "      <td>0.672257</td>\n",
       "      <td>2000.0000</td>\n",
       "    </tr>\n",
       "    <tr>\n",
       "      <td>weighted avg</td>\n",
       "      <td>0.791052</td>\n",
       "      <td>0.770500</td>\n",
       "      <td>0.779023</td>\n",
       "      <td>2000.0000</td>\n",
       "    </tr>\n",
       "  </tbody>\n",
       "</table>\n",
       "</div>"
      ],
      "text/plain": [
       "              precision    recall  f1-score    support\n",
       "0              0.878667  0.826332  0.851696  1595.0000\n",
       "1              0.446000  0.550617  0.492818   405.0000\n",
       "accuracy       0.770500  0.770500  0.770500     0.7705\n",
       "macro avg      0.662333  0.688475  0.672257  2000.0000\n",
       "weighted avg   0.791052  0.770500  0.779023  2000.0000"
      ]
     },
     "metadata": {},
     "output_type": "display_data"
    }
   ],
   "source": [
    "params = {\n",
    "\"class_weight\":['balanced'],\n",
    "\"criterion\":[\"gini\", \"entropy\"],\n",
    "\"max_depth\":[2,4,8,16],\n",
    "\"min_samples_split\":[2,4,8, 16],\n",
    "\"min_samples_leaf\":[2,4,6]}\n",
    "clf = GridSearchCV(DecisionTreeClassifier(), params, cv=5).fit(X_train, y_train)\n",
    "y_pred = clf.predict(X_test)\n",
    "print(clf.score(X_train, y_train))\n",
    "print(accuracy_score(y_test, y_pred))\n",
    "print(confusion_matrix(y_test, y_pred))\n",
    "display_classification_report(y_test, y_pred)"
   ]
  },
  {
   "cell_type": "code",
   "execution_count": 164,
   "metadata": {
    "colab": {
     "base_uri": "https://localhost:8080/",
     "height": 637
    },
    "colab_type": "code",
    "id": "ksy9fh3uSqXK",
    "outputId": "05ba1407-7643-45f6-c641-8104f6fa44f9"
   },
   "outputs": [
    {
     "name": "stdout",
     "output_type": "stream",
     "text": [
      "0.946375\n",
      "0.7685\n",
      "[[1317  278]\n",
      " [ 185  220]]\n"
     ]
    },
    {
     "data": {
      "text/html": [
       "<div>\n",
       "<style scoped>\n",
       "    .dataframe tbody tr th:only-of-type {\n",
       "        vertical-align: middle;\n",
       "    }\n",
       "\n",
       "    .dataframe tbody tr th {\n",
       "        vertical-align: top;\n",
       "    }\n",
       "\n",
       "    .dataframe thead th {\n",
       "        text-align: right;\n",
       "    }\n",
       "</style>\n",
       "<table border=\"1\" class=\"dataframe\">\n",
       "  <thead>\n",
       "    <tr style=\"text-align: right;\">\n",
       "      <th></th>\n",
       "      <th>precision</th>\n",
       "      <th>recall</th>\n",
       "      <th>f1-score</th>\n",
       "      <th>support</th>\n",
       "    </tr>\n",
       "  </thead>\n",
       "  <tbody>\n",
       "    <tr>\n",
       "      <td>0</td>\n",
       "      <td>0.876831</td>\n",
       "      <td>0.825705</td>\n",
       "      <td>0.850500</td>\n",
       "      <td>1595.0000</td>\n",
       "    </tr>\n",
       "    <tr>\n",
       "      <td>1</td>\n",
       "      <td>0.441767</td>\n",
       "      <td>0.543210</td>\n",
       "      <td>0.487265</td>\n",
       "      <td>405.0000</td>\n",
       "    </tr>\n",
       "    <tr>\n",
       "      <td>accuracy</td>\n",
       "      <td>0.768500</td>\n",
       "      <td>0.768500</td>\n",
       "      <td>0.768500</td>\n",
       "      <td>0.7685</td>\n",
       "    </tr>\n",
       "    <tr>\n",
       "      <td>macro avg</td>\n",
       "      <td>0.659299</td>\n",
       "      <td>0.684458</td>\n",
       "      <td>0.668883</td>\n",
       "      <td>2000.0000</td>\n",
       "    </tr>\n",
       "    <tr>\n",
       "      <td>weighted avg</td>\n",
       "      <td>0.788730</td>\n",
       "      <td>0.768500</td>\n",
       "      <td>0.776945</td>\n",
       "      <td>2000.0000</td>\n",
       "    </tr>\n",
       "  </tbody>\n",
       "</table>\n",
       "</div>"
      ],
      "text/plain": [
       "              precision    recall  f1-score    support\n",
       "0              0.876831  0.825705  0.850500  1595.0000\n",
       "1              0.441767  0.543210  0.487265   405.0000\n",
       "accuracy       0.768500  0.768500  0.768500     0.7685\n",
       "macro avg      0.659299  0.684458  0.668883  2000.0000\n",
       "weighted avg   0.788730  0.768500  0.776945  2000.0000"
      ]
     },
     "metadata": {},
     "output_type": "display_data"
    },
    {
     "data": {
      "text/plain": [
       "<matplotlib.axes._subplots.AxesSubplot at 0x7fdffd1cd850>"
      ]
     },
     "execution_count": 164,
     "metadata": {},
     "output_type": "execute_result"
    },
    {
     "data": {
      "image/png": "[encoded data removed]",
      "text/plain": [
       "<Figure size 720x360 with 2 Axes>"
      ]
     },
     "metadata": {
      "needs_background": "light"
     },
     "output_type": "display_data"
    }
   ],
   "source": [
    "dt = DecisionTreeClassifier(**clf.best_params_).fit(X_train, y_train)\n",
    "y_pred = dt.predict(X_test)\n",
    "print(dt.score(X_train, y_train))\n",
    "print(accuracy_score(y_test, y_pred))\n",
    "print(confusion_matrix(y_test, y_pred))\n",
    "display_classification_report(y_test, y_pred)\n",
    "\n",
    "_, axs = plt.subplots(1, 2,figsize=(10,5))\n",
    "axs = axs.ravel()\n",
    "plot_pr(y_test, y_pred, ax=axs[0], label=\"DecisionTreeClassifier\")\n",
    "plot_roc(y_test, y_pred, ax=axs[1], label=\"DecisionTreeClassifier\")"
   ]
  },
  {
   "cell_type": "code",
   "execution_count": 165,
   "metadata": {
    "colab": {
     "base_uri": "https://localhost:8080/",
     "height": 34
    },
    "colab_type": "code",
    "id": "-z72THf7S7dS",
    "outputId": "14ae517f-c680-4d78-abf1-6536b8bd0567"
   },
   "outputs": [
    {
     "data": {
      "text/plain": [
       "0.48726467331118495"
      ]
     },
     "execution_count": 165,
     "metadata": {},
     "output_type": "execute_result"
    }
   ],
   "source": [
    "history['desicion_tree'] = f1_score(y_test, y_pred)\n",
    "f1_score(y_test, y_pred)"
   ]
  },
  {
   "cell_type": "markdown",
   "metadata": {
    "colab_type": "text",
    "id": "26gi15FgUeIb"
   },
   "source": [
    "### CatBoost"
   ]
  },
  {
   "cell_type": "code",
   "execution_count": 166,
   "metadata": {
    "colab": {},
    "colab_type": "code",
    "id": "OX2HYWbWVpyD"
   },
   "outputs": [],
   "source": [
    "scale_pos_weight=(y_train==0).sum()/(y_train==1).sum()"
   ]
  },
  {
   "cell_type": "code",
   "execution_count": 167,
   "metadata": {
    "colab": {
     "base_uri": "https://localhost:8080/",
     "height": 637
    },
    "colab_type": "code",
    "id": "27qjrFswUhHN",
    "outputId": "9cbd397f-f79f-433a-8eb4-cda56c53dca5"
   },
   "outputs": [
    {
     "name": "stdout",
     "output_type": "stream",
     "text": [
      "0.901375\n",
      "0.822\n",
      "[[1375  220]\n",
      " [ 136  269]]\n"
     ]
    },
    {
     "data": {
      "text/html": [
       "<div>\n",
       "<style scoped>\n",
       "    .dataframe tbody tr th:only-of-type {\n",
       "        vertical-align: middle;\n",
       "    }\n",
       "\n",
       "    .dataframe tbody tr th {\n",
       "        vertical-align: top;\n",
       "    }\n",
       "\n",
       "    .dataframe thead th {\n",
       "        text-align: right;\n",
       "    }\n",
       "</style>\n",
       "<table border=\"1\" class=\"dataframe\">\n",
       "  <thead>\n",
       "    <tr style=\"text-align: right;\">\n",
       "      <th></th>\n",
       "      <th>precision</th>\n",
       "      <th>recall</th>\n",
       "      <th>f1-score</th>\n",
       "      <th>support</th>\n",
       "    </tr>\n",
       "  </thead>\n",
       "  <tbody>\n",
       "    <tr>\n",
       "      <td>0</td>\n",
       "      <td>0.909993</td>\n",
       "      <td>0.862069</td>\n",
       "      <td>0.885383</td>\n",
       "      <td>1595.000</td>\n",
       "    </tr>\n",
       "    <tr>\n",
       "      <td>1</td>\n",
       "      <td>0.550102</td>\n",
       "      <td>0.664198</td>\n",
       "      <td>0.601790</td>\n",
       "      <td>405.000</td>\n",
       "    </tr>\n",
       "    <tr>\n",
       "      <td>accuracy</td>\n",
       "      <td>0.822000</td>\n",
       "      <td>0.822000</td>\n",
       "      <td>0.822000</td>\n",
       "      <td>0.822</td>\n",
       "    </tr>\n",
       "    <tr>\n",
       "      <td>macro avg</td>\n",
       "      <td>0.730048</td>\n",
       "      <td>0.763133</td>\n",
       "      <td>0.743586</td>\n",
       "      <td>2000.000</td>\n",
       "    </tr>\n",
       "    <tr>\n",
       "      <td>weighted avg</td>\n",
       "      <td>0.837115</td>\n",
       "      <td>0.822000</td>\n",
       "      <td>0.827955</td>\n",
       "      <td>2000.000</td>\n",
       "    </tr>\n",
       "  </tbody>\n",
       "</table>\n",
       "</div>"
      ],
      "text/plain": [
       "              precision    recall  f1-score   support\n",
       "0              0.909993  0.862069  0.885383  1595.000\n",
       "1              0.550102  0.664198  0.601790   405.000\n",
       "accuracy       0.822000  0.822000  0.822000     0.822\n",
       "macro avg      0.730048  0.763133  0.743586  2000.000\n",
       "weighted avg   0.837115  0.822000  0.827955  2000.000"
      ]
     },
     "metadata": {},
     "output_type": "display_data"
    },
    {
     "data": {
      "text/plain": [
       "<matplotlib.axes._subplots.AxesSubplot at 0x7fdfb6138410>"
      ]
     },
     "execution_count": 167,
     "metadata": {},
     "output_type": "execute_result"
    },
    {
     "data": {
      "image/png": "[encoded data removed]",
      "text/plain": [
       "<Figure size 720x360 with 2 Axes>"
      ]
     },
     "metadata": {
      "needs_background": "light"
     },
     "output_type": "display_data"
    }
   ],
   "source": [
    "cb = CatBoostClassifier(verbose=0, scale_pos_weight=scale_pos_weight,random_state=42).fit(X_train, y_train)\n",
    "y_pred = cb.predict(X_test)\n",
    "print(cb.score(X_train, y_train))\n",
    "print(accuracy_score(y_test, y_pred))\n",
    "print(confusion_matrix(y_test, y_pred))\n",
    "display_classification_report(y_test, y_pred)\n",
    "\n",
    "_, axs = plt.subplots(1, 2,figsize=(10,5))\n",
    "axs = axs.ravel()\n",
    "plot_pr(y_test, y_pred, ax=axs[0], label=\"CatBoostClassifier\")\n",
    "plot_roc(y_test, y_pred, ax=axs[1], label=\"CatBoostClassifier\")"
   ]
  },
  {
   "cell_type": "code",
   "execution_count": 168,
   "metadata": {
    "colab": {
     "base_uri": "https://localhost:8080/",
     "height": 34
    },
    "colab_type": "code",
    "id": "gRzqPZnvUzrE",
    "outputId": "6bfc0eee-92dd-4bba-da3e-1bf5475bc046"
   },
   "outputs": [
    {
     "data": {
      "text/plain": [
       "0.6017897091722595"
      ]
     },
     "execution_count": 168,
     "metadata": {},
     "output_type": "execute_result"
    }
   ],
   "source": [
    "history['catboost'] = f1_score(y_test, y_pred)\n",
    "f1_score(y_test, y_pred)"
   ]
  },
  {
   "cell_type": "code",
   "execution_count": 169,
   "metadata": {
    "colab": {
     "base_uri": "https://localhost:8080/",
     "height": 119
    },
    "colab_type": "code",
    "id": "uCj7I5pdV4ej",
    "outputId": "257fc28a-7f09-4c25-ab22-a3cb703f789b"
   },
   "outputs": [
    {
     "data": {
      "text/plain": [
       "{'linear_imbalanced': 0.08501118568232663,\n",
       " 'desicion_tree_imbalanced': 0.5322834645669292,\n",
       " 'catboost_imbalanced': 0.563165905631659,\n",
       " 'linear': 0.4815465729349737,\n",
       " 'desicion_tree': 0.48726467331118495,\n",
       " 'catboost': 0.6017897091722595}"
      ]
     },
     "execution_count": 169,
     "metadata": {},
     "output_type": "execute_result"
    }
   ],
   "source": [
    "history"
   ]
  },
  {
   "cell_type": "markdown",
   "metadata": {
    "colab_type": "text",
    "id": "c1uDNTmRV_13"
   },
   "source": [
    "as we could see, we improved f1 metrics using weigths balancing technics"
   ]
  },
  {
   "cell_type": "markdown",
   "metadata": {},
   "source": [
    "<div class=\"alert alert-success\" role=\"alert\">\n",
    "Correct</div>\n"
   ]
  },
  {
   "cell_type": "markdown",
   "metadata": {
    "colab_type": "text",
    "id": "I74XhQMBWHka"
   },
   "source": [
    "## Oversampling"
   ]
  },
  {
   "cell_type": "markdown",
   "metadata": {
    "colab_type": "text",
    "id": "SGEwOCsmWa8B"
   },
   "source": [
    "we also could use imblearn package but let's do it from scratch"
   ]
  },
  {
   "cell_type": "markdown",
   "metadata": {},
   "source": [
    "<div class=\"alert alert-warning\" role=\"alert\">\n",
    "Using CV with upsampling/downsampling also required the custom realization of cross-validation. In case of default cross-validation you feed to CV balanced train set and only then model split it into train and validation parts. So your validation set is also balanced while you should choose a best model on unbalanced set as the nature of your data is such.</div>\n",
    "\n",
    "Here an interesting article about it: https://kiwidamien.github.io/how-to-do-cross-validation-when-upsampling-data.html\n",
    "\n",
    "---"
   ]
  },
  {
   "cell_type": "code",
   "execution_count": 170,
   "metadata": {
    "colab": {},
    "colab_type": "code",
    "id": "W-_jSPfOWkaf"
   },
   "outputs": [],
   "source": [
    "def oversampling(features, target, repeat):\n",
    "  features_zeros = features[target == 0]\n",
    "  features_ones = features[target == 1]\n",
    "  target_zeros = target[target == 0]\n",
    "  target_ones = target[target == 1]\n",
    "  features_resampled = features_zeros\n",
    "  target_resampled = target_zeros\n",
    "  for i in range(repeat):\n",
    "    features_resampled = np.concatenate((features_resampled, features_ones), axis=0)\n",
    "    target_resampled = np.concatenate((target_resampled, target_ones), axis=0)\n",
    "\n",
    "  features_resampled, target_resampled = shuffle(features_resampled, target_resampled, random_state=42)\n",
    "  return features_resampled, target_resampled"
   ]
  },
  {
   "cell_type": "code",
   "execution_count": 171,
   "metadata": {
    "colab": {
     "base_uri": "https://localhost:8080/",
     "height": 68
    },
    "colab_type": "code",
    "id": "0wYToM2RX97w",
    "outputId": "07290212-fb79-462c-8ce1-7c899ece7b00"
   },
   "outputs": [
    {
     "name": "stdout",
     "output_type": "stream",
     "text": [
      "6368\n",
      "1632\n",
      "3\n"
     ]
    }
   ],
   "source": [
    "print((y_train==0).sum())\n",
    "print((y_train==1).sum())\n",
    "print((y_train==0).sum()//(y_train==1).sum())"
   ]
  },
  {
   "cell_type": "code",
   "execution_count": 172,
   "metadata": {
    "colab": {},
    "colab_type": "code",
    "id": "yf0kSwsTX2Tq"
   },
   "outputs": [],
   "source": [
    "X_resampled, y_resampled = oversampling(X_train, y_train, repeat=4)"
   ]
  },
  {
   "cell_type": "code",
   "execution_count": 173,
   "metadata": {
    "colab": {
     "base_uri": "https://localhost:8080/",
     "height": 68
    },
    "colab_type": "code",
    "id": "Cfd98ky0dFdJ",
    "outputId": "105bc264-040a-48e6-d2d4-e6dae9beffaf"
   },
   "outputs": [
    {
     "name": "stdout",
     "output_type": "stream",
     "text": [
      "6368\n",
      "6528\n",
      "0\n"
     ]
    }
   ],
   "source": [
    "print((y_resampled==0).sum())\n",
    "print((y_resampled==1).sum())\n",
    "print((y_resampled==0).sum()//(y_resampled==1).sum())"
   ]
  },
  {
   "cell_type": "markdown",
   "metadata": {
    "colab_type": "text",
    "id": "tiDe5K37dXdc"
   },
   "source": [
    "### Logisticregression"
   ]
  },
  {
   "cell_type": "code",
   "execution_count": 174,
   "metadata": {
    "colab": {
     "base_uri": "https://localhost:8080/",
     "height": 620
    },
    "colab_type": "code",
    "id": "OPgyl4EgK1Se",
    "outputId": "a24fa937-677a-4201-aa05-1758ab45dc03"
   },
   "outputs": [
    {
     "name": "stdout",
     "output_type": "stream",
     "text": [
      "0.705\n",
      "[[1136  459]\n",
      " [ 131  274]]\n"
     ]
    },
    {
     "data": {
      "text/html": [
       "<div>\n",
       "<style scoped>\n",
       "    .dataframe tbody tr th:only-of-type {\n",
       "        vertical-align: middle;\n",
       "    }\n",
       "\n",
       "    .dataframe tbody tr th {\n",
       "        vertical-align: top;\n",
       "    }\n",
       "\n",
       "    .dataframe thead th {\n",
       "        text-align: right;\n",
       "    }\n",
       "</style>\n",
       "<table border=\"1\" class=\"dataframe\">\n",
       "  <thead>\n",
       "    <tr style=\"text-align: right;\">\n",
       "      <th></th>\n",
       "      <th>precision</th>\n",
       "      <th>recall</th>\n",
       "      <th>f1-score</th>\n",
       "      <th>support</th>\n",
       "    </tr>\n",
       "  </thead>\n",
       "  <tbody>\n",
       "    <tr>\n",
       "      <td>0</td>\n",
       "      <td>0.896606</td>\n",
       "      <td>0.712226</td>\n",
       "      <td>0.793850</td>\n",
       "      <td>1595.000</td>\n",
       "    </tr>\n",
       "    <tr>\n",
       "      <td>1</td>\n",
       "      <td>0.373806</td>\n",
       "      <td>0.676543</td>\n",
       "      <td>0.481547</td>\n",
       "      <td>405.000</td>\n",
       "    </tr>\n",
       "    <tr>\n",
       "      <td>accuracy</td>\n",
       "      <td>0.705000</td>\n",
       "      <td>0.705000</td>\n",
       "      <td>0.705000</td>\n",
       "      <td>0.705</td>\n",
       "    </tr>\n",
       "    <tr>\n",
       "      <td>macro avg</td>\n",
       "      <td>0.635206</td>\n",
       "      <td>0.694384</td>\n",
       "      <td>0.637699</td>\n",
       "      <td>2000.000</td>\n",
       "    </tr>\n",
       "    <tr>\n",
       "      <td>weighted avg</td>\n",
       "      <td>0.790739</td>\n",
       "      <td>0.705000</td>\n",
       "      <td>0.730609</td>\n",
       "      <td>2000.000</td>\n",
       "    </tr>\n",
       "  </tbody>\n",
       "</table>\n",
       "</div>"
      ],
      "text/plain": [
       "              precision    recall  f1-score   support\n",
       "0              0.896606  0.712226  0.793850  1595.000\n",
       "1              0.373806  0.676543  0.481547   405.000\n",
       "accuracy       0.705000  0.705000  0.705000     0.705\n",
       "macro avg      0.635206  0.694384  0.637699  2000.000\n",
       "weighted avg   0.790739  0.705000  0.730609  2000.000"
      ]
     },
     "metadata": {},
     "output_type": "display_data"
    },
    {
     "data": {
      "text/plain": [
       "<matplotlib.axes._subplots.AxesSubplot at 0x7fdfb6073450>"
      ]
     },
     "execution_count": 174,
     "metadata": {},
     "output_type": "execute_result"
    },
    {
     "data": {
      "image/png": "[encoded data removed]",
      "text/plain": [
       "<Figure size 720x360 with 2 Axes>"
      ]
     },
     "metadata": {
      "needs_background": "light"
     },
     "output_type": "display_data"
    }
   ],
   "source": [
    "lrcv = LogisticRegressionCV(\n",
    "    Cs=[0.1,1,10], class_weight='balanced', penalty='l2', tol=1e-10, scoring='neg_log_loss', cv=5,\n",
    "    solver='liblinear', n_jobs=4, verbose=0, refit=True,\n",
    "    max_iter=100,\n",
    ").fit(X_resampled, y_resampled)\n",
    "y_pred = lrcv.predict(X_test)\n",
    "print(accuracy_score(y_test, y_pred))\n",
    "print(confusion_matrix(y_test, y_pred))\n",
    "display_classification_report(y_test, y_pred)\n",
    "\n",
    "_, axs = plt.subplots(1, 2,figsize=(10,5))\n",
    "axs = axs.ravel()\n",
    "plot_pr(y_test, y_pred, ax=axs[0], label=\"LogisticRegressionCV\")\n",
    "plot_roc(y_test, y_pred, ax=axs[1], label=\"LogisticRegressionCV\")"
   ]
  },
  {
   "cell_type": "code",
   "execution_count": 175,
   "metadata": {
    "colab": {
     "base_uri": "https://localhost:8080/",
     "height": 68
    },
    "colab_type": "code",
    "id": "3CctEDJXdg3v",
    "outputId": "b2556b03-791c-45b2-a713-1ae66117b821"
   },
   "outputs": [
    {
     "name": "stdout",
     "output_type": "stream",
     "text": [
      "without balancing=0.09\n",
      "with balancing=0.48\n",
      "using oversampling=0.48\n"
     ]
    }
   ],
   "source": [
    "print(f'without balancing={history[\"linear_imbalanced\"]:.2f}')\n",
    "print(f'with balancing={history[\"linear\"]:.2f}')\n",
    "print(f'using oversampling={f1_score(y_test, y_pred):.2f}')"
   ]
  },
  {
   "cell_type": "markdown",
   "metadata": {
    "colab_type": "text",
    "id": "NInk0imdePGw"
   },
   "source": [
    "### DecisionTreeClassifier"
   ]
  },
  {
   "cell_type": "code",
   "execution_count": 176,
   "metadata": {},
   "outputs": [
    {
     "data": {
      "text/plain": [
       "0.772875"
      ]
     },
     "execution_count": 176,
     "metadata": {},
     "output_type": "execute_result"
    }
   ],
   "source": [
    "clf.best_score_"
   ]
  },
  {
   "cell_type": "code",
   "execution_count": 177,
   "metadata": {
    "colab": {
     "base_uri": "https://localhost:8080/",
     "height": 272
    },
    "colab_type": "code",
    "id": "OJmu_scMeQoh",
    "outputId": "77ce33be-2586-4ba2-d4da-2f5846389e1d"
   },
   "outputs": [
    {
     "name": "stdout",
     "output_type": "stream",
     "text": [
      "0.9783653846153846\n",
      "0.783\n",
      "[[1348  247]\n",
      " [ 187  218]]\n"
     ]
    },
    {
     "data": {
      "text/html": [
       "<div>\n",
       "<style scoped>\n",
       "    .dataframe tbody tr th:only-of-type {\n",
       "        vertical-align: middle;\n",
       "    }\n",
       "\n",
       "    .dataframe tbody tr th {\n",
       "        vertical-align: top;\n",
       "    }\n",
       "\n",
       "    .dataframe thead th {\n",
       "        text-align: right;\n",
       "    }\n",
       "</style>\n",
       "<table border=\"1\" class=\"dataframe\">\n",
       "  <thead>\n",
       "    <tr style=\"text-align: right;\">\n",
       "      <th></th>\n",
       "      <th>precision</th>\n",
       "      <th>recall</th>\n",
       "      <th>f1-score</th>\n",
       "      <th>support</th>\n",
       "    </tr>\n",
       "  </thead>\n",
       "  <tbody>\n",
       "    <tr>\n",
       "      <td>0</td>\n",
       "      <td>0.878176</td>\n",
       "      <td>0.845141</td>\n",
       "      <td>0.861342</td>\n",
       "      <td>1595.000</td>\n",
       "    </tr>\n",
       "    <tr>\n",
       "      <td>1</td>\n",
       "      <td>0.468817</td>\n",
       "      <td>0.538272</td>\n",
       "      <td>0.501149</td>\n",
       "      <td>405.000</td>\n",
       "    </tr>\n",
       "    <tr>\n",
       "      <td>accuracy</td>\n",
       "      <td>0.783000</td>\n",
       "      <td>0.783000</td>\n",
       "      <td>0.783000</td>\n",
       "      <td>0.783</td>\n",
       "    </tr>\n",
       "    <tr>\n",
       "      <td>macro avg</td>\n",
       "      <td>0.673497</td>\n",
       "      <td>0.691706</td>\n",
       "      <td>0.681246</td>\n",
       "      <td>2000.000</td>\n",
       "    </tr>\n",
       "    <tr>\n",
       "      <td>weighted avg</td>\n",
       "      <td>0.795281</td>\n",
       "      <td>0.783000</td>\n",
       "      <td>0.788403</td>\n",
       "      <td>2000.000</td>\n",
       "    </tr>\n",
       "  </tbody>\n",
       "</table>\n",
       "</div>"
      ],
      "text/plain": [
       "              precision    recall  f1-score   support\n",
       "0              0.878176  0.845141  0.861342  1595.000\n",
       "1              0.468817  0.538272  0.501149   405.000\n",
       "accuracy       0.783000  0.783000  0.783000     0.783\n",
       "macro avg      0.673497  0.691706  0.681246  2000.000\n",
       "weighted avg   0.795281  0.783000  0.788403  2000.000"
      ]
     },
     "metadata": {},
     "output_type": "display_data"
    }
   ],
   "source": [
    "params = {\n",
    "\"criterion\":[\"gini\", \"entropy\"],\n",
    "\"max_depth\":[2,4,8,16],\n",
    "\"min_samples_split\":[2,4,8, 16],\n",
    "\"min_samples_leaf\":[2,4,6]}\n",
    "clf = GridSearchCV(DecisionTreeClassifier(), params, cv=5).fit(X_resampled, y_resampled)\n",
    "y_pred = clf.predict(X_test)\n",
    "print(clf.score(X_resampled, y_resampled))\n",
    "print(accuracy_score(y_test, y_pred))\n",
    "print(confusion_matrix(y_test, y_pred))\n",
    "display_classification_report(y_test, y_pred)"
   ]
  },
  {
   "cell_type": "code",
   "execution_count": 178,
   "metadata": {
    "colab": {
     "base_uri": "https://localhost:8080/",
     "height": 637
    },
    "colab_type": "code",
    "id": "c_cB6VXveWBH",
    "outputId": "b03b6885-b1eb-4df3-e1ba-78a5eacf5cc9"
   },
   "outputs": [
    {
     "name": "stdout",
     "output_type": "stream",
     "text": [
      "0.9783653846153846\n",
      "0.7825\n",
      "[[1348  247]\n",
      " [ 188  217]]\n"
     ]
    },
    {
     "data": {
      "text/html": [
       "<div>\n",
       "<style scoped>\n",
       "    .dataframe tbody tr th:only-of-type {\n",
       "        vertical-align: middle;\n",
       "    }\n",
       "\n",
       "    .dataframe tbody tr th {\n",
       "        vertical-align: top;\n",
       "    }\n",
       "\n",
       "    .dataframe thead th {\n",
       "        text-align: right;\n",
       "    }\n",
       "</style>\n",
       "<table border=\"1\" class=\"dataframe\">\n",
       "  <thead>\n",
       "    <tr style=\"text-align: right;\">\n",
       "      <th></th>\n",
       "      <th>precision</th>\n",
       "      <th>recall</th>\n",
       "      <th>f1-score</th>\n",
       "      <th>support</th>\n",
       "    </tr>\n",
       "  </thead>\n",
       "  <tbody>\n",
       "    <tr>\n",
       "      <td>0</td>\n",
       "      <td>0.877604</td>\n",
       "      <td>0.845141</td>\n",
       "      <td>0.861067</td>\n",
       "      <td>1595.0000</td>\n",
       "    </tr>\n",
       "    <tr>\n",
       "      <td>1</td>\n",
       "      <td>0.467672</td>\n",
       "      <td>0.535802</td>\n",
       "      <td>0.499425</td>\n",
       "      <td>405.0000</td>\n",
       "    </tr>\n",
       "    <tr>\n",
       "      <td>accuracy</td>\n",
       "      <td>0.782500</td>\n",
       "      <td>0.782500</td>\n",
       "      <td>0.782500</td>\n",
       "      <td>0.7825</td>\n",
       "    </tr>\n",
       "    <tr>\n",
       "      <td>macro avg</td>\n",
       "      <td>0.672638</td>\n",
       "      <td>0.690472</td>\n",
       "      <td>0.680246</td>\n",
       "      <td>2000.0000</td>\n",
       "    </tr>\n",
       "    <tr>\n",
       "      <td>weighted avg</td>\n",
       "      <td>0.794593</td>\n",
       "      <td>0.782500</td>\n",
       "      <td>0.787834</td>\n",
       "      <td>2000.0000</td>\n",
       "    </tr>\n",
       "  </tbody>\n",
       "</table>\n",
       "</div>"
      ],
      "text/plain": [
       "              precision    recall  f1-score    support\n",
       "0              0.877604  0.845141  0.861067  1595.0000\n",
       "1              0.467672  0.535802  0.499425   405.0000\n",
       "accuracy       0.782500  0.782500  0.782500     0.7825\n",
       "macro avg      0.672638  0.690472  0.680246  2000.0000\n",
       "weighted avg   0.794593  0.782500  0.787834  2000.0000"
      ]
     },
     "metadata": {},
     "output_type": "display_data"
    },
    {
     "data": {
      "text/plain": [
       "<matplotlib.axes._subplots.AxesSubplot at 0x7fdfb561f5d0>"
      ]
     },
     "execution_count": 178,
     "metadata": {},
     "output_type": "execute_result"
    },
    {
     "data": {
      "image/png": "[encoded data removed]",
      "text/plain": [
       "<Figure size 720x360 with 2 Axes>"
      ]
     },
     "metadata": {
      "needs_background": "light"
     },
     "output_type": "display_data"
    }
   ],
   "source": [
    "dt = DecisionTreeClassifier(**clf.best_params_).fit(X_resampled, y_resampled)\n",
    "y_pred = dt.predict(X_test)\n",
    "print(dt.score(X_resampled, y_resampled))\n",
    "print(accuracy_score(y_test, y_pred))\n",
    "print(confusion_matrix(y_test, y_pred))\n",
    "display_classification_report(y_test, y_pred)\n",
    "\n",
    "_, axs = plt.subplots(1, 2,figsize=(10,5))\n",
    "axs = axs.ravel()\n",
    "plot_pr(y_test, y_pred, ax=axs[0], label=\"DecisionTreeClassifier\")\n",
    "plot_roc(y_test, y_pred, ax=axs[1], label=\"DecisionTreeClassifier\")"
   ]
  },
  {
   "cell_type": "code",
   "execution_count": 179,
   "metadata": {
    "colab": {
     "base_uri": "https://localhost:8080/",
     "height": 68
    },
    "colab_type": "code",
    "id": "Cdv-pikGep3E",
    "outputId": "91e0cb20-12be-4587-e202-0c23c98a74eb"
   },
   "outputs": [
    {
     "name": "stdout",
     "output_type": "stream",
     "text": [
      "without balancing=0.53\n",
      "with balancing=0.49\n",
      "using oversampling=0.50\n"
     ]
    }
   ],
   "source": [
    "print(f'without balancing={history[\"desicion_tree_imbalanced\"]:.2f}')\n",
    "print(f'with balancing={history[\"desicion_tree\"]:.2f}')\n",
    "print(f'using oversampling={f1_score(y_test, y_pred):.2f}')"
   ]
  },
  {
   "cell_type": "markdown",
   "metadata": {
    "colab_type": "text",
    "id": "CHaa28Ume4sS"
   },
   "source": [
    "### CatBoost\n"
   ]
  },
  {
   "cell_type": "code",
   "execution_count": 180,
   "metadata": {
    "colab": {
     "base_uri": "https://localhost:8080/",
     "height": 637
    },
    "colab_type": "code",
    "id": "bSToAOT6e4Rn",
    "outputId": "ab3439d3-bfa5-4f91-f632-5b9d11f0ba1c"
   },
   "outputs": [
    {
     "name": "stdout",
     "output_type": "stream",
     "text": [
      "0.9267214640198511\n",
      "0.8155\n",
      "[[1374  221]\n",
      " [ 148  257]]\n"
     ]
    },
    {
     "data": {
      "text/html": [
       "<div>\n",
       "<style scoped>\n",
       "    .dataframe tbody tr th:only-of-type {\n",
       "        vertical-align: middle;\n",
       "    }\n",
       "\n",
       "    .dataframe tbody tr th {\n",
       "        vertical-align: top;\n",
       "    }\n",
       "\n",
       "    .dataframe thead th {\n",
       "        text-align: right;\n",
       "    }\n",
       "</style>\n",
       "<table border=\"1\" class=\"dataframe\">\n",
       "  <thead>\n",
       "    <tr style=\"text-align: right;\">\n",
       "      <th></th>\n",
       "      <th>precision</th>\n",
       "      <th>recall</th>\n",
       "      <th>f1-score</th>\n",
       "      <th>support</th>\n",
       "    </tr>\n",
       "  </thead>\n",
       "  <tbody>\n",
       "    <tr>\n",
       "      <td>0</td>\n",
       "      <td>0.902760</td>\n",
       "      <td>0.861442</td>\n",
       "      <td>0.881617</td>\n",
       "      <td>1595.0000</td>\n",
       "    </tr>\n",
       "    <tr>\n",
       "      <td>1</td>\n",
       "      <td>0.537657</td>\n",
       "      <td>0.634568</td>\n",
       "      <td>0.582106</td>\n",
       "      <td>405.0000</td>\n",
       "    </tr>\n",
       "    <tr>\n",
       "      <td>accuracy</td>\n",
       "      <td>0.815500</td>\n",
       "      <td>0.815500</td>\n",
       "      <td>0.815500</td>\n",
       "      <td>0.8155</td>\n",
       "    </tr>\n",
       "    <tr>\n",
       "      <td>macro avg</td>\n",
       "      <td>0.720208</td>\n",
       "      <td>0.748005</td>\n",
       "      <td>0.731862</td>\n",
       "      <td>2000.0000</td>\n",
       "    </tr>\n",
       "    <tr>\n",
       "      <td>weighted avg</td>\n",
       "      <td>0.828826</td>\n",
       "      <td>0.815500</td>\n",
       "      <td>0.820966</td>\n",
       "      <td>2000.0000</td>\n",
       "    </tr>\n",
       "  </tbody>\n",
       "</table>\n",
       "</div>"
      ],
      "text/plain": [
       "              precision    recall  f1-score    support\n",
       "0              0.902760  0.861442  0.881617  1595.0000\n",
       "1              0.537657  0.634568  0.582106   405.0000\n",
       "accuracy       0.815500  0.815500  0.815500     0.8155\n",
       "macro avg      0.720208  0.748005  0.731862  2000.0000\n",
       "weighted avg   0.828826  0.815500  0.820966  2000.0000"
      ]
     },
     "metadata": {},
     "output_type": "display_data"
    },
    {
     "data": {
      "text/plain": [
       "<matplotlib.axes._subplots.AxesSubplot at 0x7fdfb55c6150>"
      ]
     },
     "execution_count": 180,
     "metadata": {},
     "output_type": "execute_result"
    },
    {
     "data": {
      "image/png": "[encoded data removed]",
      "text/plain": [
       "<Figure size 720x360 with 2 Axes>"
      ]
     },
     "metadata": {
      "needs_background": "light"
     },
     "output_type": "display_data"
    }
   ],
   "source": [
    "cb = CatBoostClassifier(verbose=0, random_state=42).fit(X_resampled, y_resampled)\n",
    "y_pred = cb.predict(X_test)\n",
    "print(cb.score(X_resampled, y_resampled))\n",
    "print(accuracy_score(y_test, y_pred))\n",
    "print(confusion_matrix(y_test, y_pred))\n",
    "display_classification_report(y_test, y_pred)\n",
    "\n",
    "_, axs = plt.subplots(1, 2,figsize=(10,5))\n",
    "axs = axs.ravel()\n",
    "plot_pr(y_test, y_pred, ax=axs[0], label=\"CatBoostClassifier\")\n",
    "plot_roc(y_test, y_pred, ax=axs[1], label=\"CatBoostClassifier\")"
   ]
  },
  {
   "cell_type": "code",
   "execution_count": 181,
   "metadata": {
    "colab": {
     "base_uri": "https://localhost:8080/",
     "height": 68
    },
    "colab_type": "code",
    "id": "D0Oq2es8fAxc",
    "outputId": "8a687241-7797-49a0-f113-b3d160639298"
   },
   "outputs": [
    {
     "name": "stdout",
     "output_type": "stream",
     "text": [
      "without balancing=0.56\n",
      "with balancing=0.60\n",
      "using oversampling=0.58\n"
     ]
    }
   ],
   "source": [
    "print(f'without balancing={history[\"catboost_imbalanced\"]:.2f}')\n",
    "print(f'with balancing={history[\"catboost\"]:.2f}')\n",
    "print(f'using oversampling={f1_score(y_test, y_pred):.2f}')"
   ]
  },
  {
   "cell_type": "markdown",
   "metadata": {},
   "source": [
    "<div class=\"alert alert-success\" role=\"alert\">\n",
    "Overall good third step but with keeping in mind a thougth about cv over balancing.</div>"
   ]
  },
  {
   "cell_type": "markdown",
   "metadata": {
    "colab_type": "text",
    "id": "q-km84wHfLfG"
   },
   "source": [
    "also we could use undersampling"
   ]
  },
  {
   "cell_type": "markdown",
   "metadata": {
    "colab_type": "text",
    "id": "8PdHjsGRK1Si"
   },
   "source": [
    "### 4. Perform the final testing."
   ]
  },
  {
   "cell_type": "markdown",
   "metadata": {
    "colab_type": "text",
    "id": "aeoDZ3BxfV0x"
   },
   "source": [
    "best result we've got using CatBoost, using class weights balancing"
   ]
  },
  {
   "cell_type": "code",
   "execution_count": 183,
   "metadata": {
    "colab": {
     "base_uri": "https://localhost:8080/",
     "height": 637
    },
    "colab_type": "code",
    "id": "rww1k6EUfUPS",
    "outputId": "31b6e950-3c38-48d1-f20a-679d6daef2f9"
   },
   "outputs": [
    {
     "name": "stdout",
     "output_type": "stream",
     "text": [
      "0.901375\n",
      "0.822\n",
      "[[1375  220]\n",
      " [ 136  269]]\n"
     ]
    },
    {
     "data": {
      "text/html": [
       "<div>\n",
       "<style scoped>\n",
       "    .dataframe tbody tr th:only-of-type {\n",
       "        vertical-align: middle;\n",
       "    }\n",
       "\n",
       "    .dataframe tbody tr th {\n",
       "        vertical-align: top;\n",
       "    }\n",
       "\n",
       "    .dataframe thead th {\n",
       "        text-align: right;\n",
       "    }\n",
       "</style>\n",
       "<table border=\"1\" class=\"dataframe\">\n",
       "  <thead>\n",
       "    <tr style=\"text-align: right;\">\n",
       "      <th></th>\n",
       "      <th>precision</th>\n",
       "      <th>recall</th>\n",
       "      <th>f1-score</th>\n",
       "      <th>support</th>\n",
       "    </tr>\n",
       "  </thead>\n",
       "  <tbody>\n",
       "    <tr>\n",
       "      <td>0</td>\n",
       "      <td>0.909993</td>\n",
       "      <td>0.862069</td>\n",
       "      <td>0.885383</td>\n",
       "      <td>1595.000</td>\n",
       "    </tr>\n",
       "    <tr>\n",
       "      <td>1</td>\n",
       "      <td>0.550102</td>\n",
       "      <td>0.664198</td>\n",
       "      <td>0.601790</td>\n",
       "      <td>405.000</td>\n",
       "    </tr>\n",
       "    <tr>\n",
       "      <td>accuracy</td>\n",
       "      <td>0.822000</td>\n",
       "      <td>0.822000</td>\n",
       "      <td>0.822000</td>\n",
       "      <td>0.822</td>\n",
       "    </tr>\n",
       "    <tr>\n",
       "      <td>macro avg</td>\n",
       "      <td>0.730048</td>\n",
       "      <td>0.763133</td>\n",
       "      <td>0.743586</td>\n",
       "      <td>2000.000</td>\n",
       "    </tr>\n",
       "    <tr>\n",
       "      <td>weighted avg</td>\n",
       "      <td>0.837115</td>\n",
       "      <td>0.822000</td>\n",
       "      <td>0.827955</td>\n",
       "      <td>2000.000</td>\n",
       "    </tr>\n",
       "  </tbody>\n",
       "</table>\n",
       "</div>"
      ],
      "text/plain": [
       "              precision    recall  f1-score   support\n",
       "0              0.909993  0.862069  0.885383  1595.000\n",
       "1              0.550102  0.664198  0.601790   405.000\n",
       "accuracy       0.822000  0.822000  0.822000     0.822\n",
       "macro avg      0.730048  0.763133  0.743586  2000.000\n",
       "weighted avg   0.837115  0.822000  0.827955  2000.000"
      ]
     },
     "metadata": {},
     "output_type": "display_data"
    },
    {
     "data": {
      "text/plain": [
       "<matplotlib.axes._subplots.AxesSubplot at 0x7fdfb54af050>"
      ]
     },
     "execution_count": 183,
     "metadata": {},
     "output_type": "execute_result"
    },
    {
     "data": {
      "image/png": "[encoded data removed]",
      "text/plain": [
       "<Figure size 720x360 with 2 Axes>"
      ]
     },
     "metadata": {
      "needs_background": "light"
     },
     "output_type": "display_data"
    }
   ],
   "source": [
    "cb = CatBoostClassifier(verbose=0, scale_pos_weight=scale_pos_weight,random_state=42).fit(X_train, y_train)\n",
    "y_pred = cb.predict(X_test)\n",
    "print(cb.score(X_train, y_train))\n",
    "print(accuracy_score(y_test, y_pred))\n",
    "print(confusion_matrix(y_test, y_pred))\n",
    "display_classification_report(y_test, y_pred)\n",
    "\n",
    "_, axs = plt.subplots(1, 2,figsize=(10,5))\n",
    "axs = axs.ravel()\n",
    "plot_pr(y_test, y_pred, ax=axs[0], label=\"CatBoostClassifier\")\n",
    "plot_roc(y_test, y_pred, ax=axs[1], label=\"CatBoostClassifier\")"
   ]
  },
  {
   "cell_type": "markdown",
   "metadata": {},
   "source": [
    "<div class=\"alert alert-success\" role=\"alert\">\n",
    "Final test was done correctly.</div>"
   ]
  },
  {
   "cell_type": "markdown",
   "metadata": {
    "colab_type": "text",
    "id": "0JPshpISK1Sj"
   },
   "source": [
    "<div class=\"markdown markdown_size_normal markdown_type_theory\"><h1>Project evaluation</h1><div class=\"paragraph\">We’ve put together the evaluation criteria for the project. Read this carefully before moving on to the task.</div><div class=\"paragraph\">Here’s what the reviewers will look at when reviewing your project:</div><ul><li>How did you prepare the data for training? Have you processed all of the feature types?</li><li>Have you explained the preprocessing steps well enough?</li><li>How did you investigate the balance of classes?</li><li>Did you study the model without taking into account the imbalance of classes?</li><li>What are your findings about the task research?</li><li>Have you correctly split the data into sets?</li><li>How have you worked with the imbalance of classes?</li><li>Did you use at least two techniques for imbalance fixing?</li><li>Have you performed the model training, validation, and final testing correctly?</li><li>How high is your <em>F1</em> score?</li><li>Did you examine the <em>AUC-ROC</em> values?</li><li>Have you kept to the project structure and kept the code neat?</li></ul></div>"
   ]
  }
 ],
 "metadata": {
  "colab": {
   "collapsed_sections": [],
   "name": "sprint8.ipynb",
   "provenance": []
  },
  "kernelspec": {
   "display_name": "Python 3",
   "language": "python",
   "name": "python3"
  },
  "language_info": {
   "codemirror_mode": {
    "name": "ipython",
    "version": 3
   },
   "file_extension": ".py",
   "mimetype": "text/x-python",
   "name": "python",
   "nbconvert_exporter": "python",
   "pygments_lexer": "ipython3",
   "version": "3.7.4"
  }
 },
 "nbformat": 4,
 "nbformat_minor": 1
}
