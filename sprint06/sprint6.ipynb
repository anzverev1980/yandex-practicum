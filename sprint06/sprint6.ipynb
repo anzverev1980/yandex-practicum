{
 "cells": [
  {
   "cell_type": "markdown",
   "metadata": {},
   "source": [
    "<div style=\"border:solid green 4px; padding: 20px\">Hello! My critical comments are highlighted with <span style='color: red;'>red</span>,  less urgent remarks are in <span style='color: #ebd731;'>yellow</span>, recommendations and extra information - in <span style='color: green;'>green</span>.</div>"
   ]
  },
  {
   "cell_type": "markdown",
   "metadata": {},
   "source": [
    "## Exploratory data analysis"
   ]
  },
  {
   "cell_type": "markdown",
   "metadata": {},
   "source": [
    "<div class=\"markdown markdown_size_normal markdown_type_theory theory-viewer__markdown theory-viewer__markdown_flexible big-theory theory-panel__big-theory\"><div class=\"paragraph\">You have files that contain the data retrieved with queries from the previous tasks. </div><div class=\"paragraph\"><a href=\"https://code.s3.yandex.net/learning-materials/data-analyst-eng/project_sql_result_01.csv\" target=\"_blank\">/datasets/project_sql_result_01.csv</a> — the result of the first query. It contains the following data:</div><div class=\"paragraph\"><em>company_name</em>: taxi company name</div><div class=\"paragraph\"><em>trips_amount</em>: the number of rides for each taxi company on November 15-16, 2017. </div><div class=\"paragraph\"><a href=\"https://code.s3.yandex.net/learning-materials/data-analyst-eng/project_sql_result_04.csv\" target=\"_blank\">/datasets/project_sql_result_04.csv</a> — the result of the second query. It contains the following data:</div><div class=\"paragraph\"><em>dropoff_location_name</em>: Chicago neighborhoods where rides ended</div><div class=\"paragraph\"><em>average_trips</em>: the average number of rides that ended in each neighborhood in November 2017. </div><div class=\"paragraph\"> For these two datasets you now need to</div><ul><li>import the files</li><li>study the data they contain</li><li>make sure the data types are correct</li><li>identify the top 10 neighborhoods in terms of drop-offs</li><li>make graphs: taxi companies and number of rides, top 10 neighborhoods by number of dropoffs</li><li>draw conclusions based on each graph and explain the results</li></ul></div>"
   ]
  },
  {
   "cell_type": "markdown",
   "metadata": {},
   "source": [
    "<div style=\"border:solid green 4px; padding: 20px\">Always pleasant to see some description.</div>"
   ]
  },
  {
   "cell_type": "code",
   "execution_count": 33,
   "metadata": {
    "ExecuteTime": {
     "end_time": "2020-05-23T19:51:09.080385Z",
     "start_time": "2020-05-23T19:51:08.861903Z"
    }
   },
   "outputs": [],
   "source": [
    "import pandas as pd\n",
    "import matplotlib.pyplot as plt\n",
    "import seaborn as sns\n",
    "from scipy import stats"
   ]
  },
  {
   "cell_type": "code",
   "execution_count": 5,
   "metadata": {
    "ExecuteTime": {
     "end_time": "2020-05-23T19:15:01.493861Z",
     "start_time": "2020-05-23T19:15:01.491034Z"
    }
   },
   "outputs": [],
   "source": [
    "query_result1 = \"https://code.s3.yandex.net/learning-materials/data-analyst-eng/project_sql_result_01.csv\"\n",
    "query_result2 = \"https://code.s3.yandex.net/learning-materials/data-analyst-eng/project_sql_result_04.csv\""
   ]
  },
  {
   "cell_type": "code",
   "execution_count": 6,
   "metadata": {
    "ExecuteTime": {
     "end_time": "2020-05-23T19:15:21.464630Z",
     "start_time": "2020-05-23T19:15:21.461150Z"
    }
   },
   "outputs": [],
   "source": [
    "query_result1 = \"./datasets/project_sql_result_01.csv\"\n",
    "query_result2 = \"./datasets/project_sql_result_04.csv\""
   ]
  },
  {
   "cell_type": "code",
   "execution_count": 25,
   "metadata": {
    "ExecuteTime": {
     "end_time": "2020-05-23T19:45:02.397321Z",
     "start_time": "2020-05-23T19:45:02.350639Z"
    }
   },
   "outputs": [],
   "source": [
    "trips_amount_df = pd.read_csv(query_result1)\n",
    "avg_trips_df = pd.read_csv(query_result2)"
   ]
  },
  {
   "cell_type": "code",
   "execution_count": 26,
   "metadata": {
    "ExecuteTime": {
     "end_time": "2020-05-23T19:45:05.975577Z",
     "start_time": "2020-05-23T19:45:05.959532Z"
    }
   },
   "outputs": [
    {
     "data": {
      "text/html": [
       "<div>\n",
       "<style scoped>\n",
       "    .dataframe tbody tr th:only-of-type {\n",
       "        vertical-align: middle;\n",
       "    }\n",
       "\n",
       "    .dataframe tbody tr th {\n",
       "        vertical-align: top;\n",
       "    }\n",
       "\n",
       "    .dataframe thead th {\n",
       "        text-align: right;\n",
       "    }\n",
       "</style>\n",
       "<table border=\"1\" class=\"dataframe\">\n",
       "  <thead>\n",
       "    <tr style=\"text-align: right;\">\n",
       "      <th></th>\n",
       "      <th>company_name</th>\n",
       "      <th>trips_amount</th>\n",
       "    </tr>\n",
       "  </thead>\n",
       "  <tbody>\n",
       "    <tr>\n",
       "      <th>48</th>\n",
       "      <td>3623 - 72222 Arrington Enterprises</td>\n",
       "      <td>20</td>\n",
       "    </tr>\n",
       "    <tr>\n",
       "      <th>15</th>\n",
       "      <td>Checker Taxi Affiliation</td>\n",
       "      <td>2216</td>\n",
       "    </tr>\n",
       "  </tbody>\n",
       "</table>\n",
       "</div>"
      ],
      "text/plain": [
       "                          company_name  trips_amount\n",
       "48  3623 - 72222 Arrington Enterprises            20\n",
       "15            Checker Taxi Affiliation          2216"
      ]
     },
     "execution_count": 26,
     "metadata": {},
     "output_type": "execute_result"
    }
   ],
   "source": [
    "trips_amount_df.sample(2)"
   ]
  },
  {
   "cell_type": "code",
   "execution_count": 27,
   "metadata": {
    "ExecuteTime": {
     "end_time": "2020-05-23T19:45:09.940011Z",
     "start_time": "2020-05-23T19:45:09.926896Z"
    }
   },
   "outputs": [
    {
     "data": {
      "text/html": [
       "<div>\n",
       "<style scoped>\n",
       "    .dataframe tbody tr th:only-of-type {\n",
       "        vertical-align: middle;\n",
       "    }\n",
       "\n",
       "    .dataframe tbody tr th {\n",
       "        vertical-align: top;\n",
       "    }\n",
       "\n",
       "    .dataframe thead th {\n",
       "        text-align: right;\n",
       "    }\n",
       "</style>\n",
       "<table border=\"1\" class=\"dataframe\">\n",
       "  <thead>\n",
       "    <tr style=\"text-align: right;\">\n",
       "      <th></th>\n",
       "      <th>dropoff_location_name</th>\n",
       "      <th>average_trips</th>\n",
       "    </tr>\n",
       "  </thead>\n",
       "  <tbody>\n",
       "    <tr>\n",
       "      <th>11</th>\n",
       "      <td>East Village</td>\n",
       "      <td>1212.066667</td>\n",
       "    </tr>\n",
       "    <tr>\n",
       "      <th>82</th>\n",
       "      <td>South Deering</td>\n",
       "      <td>7.500000</td>\n",
       "    </tr>\n",
       "  </tbody>\n",
       "</table>\n",
       "</div>"
      ],
      "text/plain": [
       "   dropoff_location_name  average_trips\n",
       "11          East Village    1212.066667\n",
       "82         South Deering       7.500000"
      ]
     },
     "execution_count": 27,
     "metadata": {},
     "output_type": "execute_result"
    }
   ],
   "source": [
    "avg_trips_df.sample(2)"
   ]
  },
  {
   "cell_type": "code",
   "execution_count": 28,
   "metadata": {
    "ExecuteTime": {
     "end_time": "2020-05-23T19:45:17.650813Z",
     "start_time": "2020-05-23T19:45:17.643506Z"
    }
   },
   "outputs": [
    {
     "data": {
      "text/plain": [
       "company_name    0\n",
       "trips_amount    0\n",
       "dtype: int64"
      ]
     },
     "execution_count": 28,
     "metadata": {},
     "output_type": "execute_result"
    }
   ],
   "source": [
    "trips_amount_df.isna().sum()"
   ]
  },
  {
   "cell_type": "code",
   "execution_count": 58,
   "metadata": {
    "ExecuteTime": {
     "end_time": "2020-05-23T20:04:24.850529Z",
     "start_time": "2020-05-23T20:04:24.843754Z"
    }
   },
   "outputs": [
    {
     "data": {
      "text/plain": [
       "dropoff_location_name    0\n",
       "average_trips            0\n",
       "dtype: int64"
      ]
     },
     "execution_count": 58,
     "metadata": {},
     "output_type": "execute_result"
    }
   ],
   "source": [
    "avg_trips_df.isna().sum()"
   ]
  },
  {
   "cell_type": "code",
   "execution_count": 59,
   "metadata": {
    "ExecuteTime": {
     "end_time": "2020-05-23T20:04:34.200403Z",
     "start_time": "2020-05-23T20:04:34.196438Z"
    }
   },
   "outputs": [
    {
     "data": {
      "text/plain": [
       "18.8"
      ]
     },
     "execution_count": 59,
     "metadata": {},
     "output_type": "execute_result"
    }
   ],
   "source": [
    "len(avg_trips_df)*0.20"
   ]
  },
  {
   "cell_type": "markdown",
   "metadata": {},
   "source": [
    "identify the top 10 neighborhoods in terms of drop-offs"
   ]
  },
  {
   "cell_type": "code",
   "execution_count": 73,
   "metadata": {
    "ExecuteTime": {
     "end_time": "2020-05-23T20:09:03.373364Z",
     "start_time": "2020-05-23T20:09:03.362118Z"
    }
   },
   "outputs": [
    {
     "data": {
      "text/html": [
       "<div>\n",
       "<style scoped>\n",
       "    .dataframe tbody tr th:only-of-type {\n",
       "        vertical-align: middle;\n",
       "    }\n",
       "\n",
       "    .dataframe tbody tr th {\n",
       "        vertical-align: top;\n",
       "    }\n",
       "\n",
       "    .dataframe thead th {\n",
       "        text-align: right;\n",
       "    }\n",
       "</style>\n",
       "<table border=\"1\" class=\"dataframe\">\n",
       "  <thead>\n",
       "    <tr style=\"text-align: right;\">\n",
       "      <th></th>\n",
       "      <th>dropoff_location_name</th>\n",
       "      <th>average_trips</th>\n",
       "    </tr>\n",
       "  </thead>\n",
       "  <tbody>\n",
       "    <tr>\n",
       "      <th>0</th>\n",
       "      <td>Loop</td>\n",
       "      <td>10727.466667</td>\n",
       "    </tr>\n",
       "    <tr>\n",
       "      <th>1</th>\n",
       "      <td>River North</td>\n",
       "      <td>9523.666667</td>\n",
       "    </tr>\n",
       "    <tr>\n",
       "      <th>2</th>\n",
       "      <td>Streeterville</td>\n",
       "      <td>6664.666667</td>\n",
       "    </tr>\n",
       "    <tr>\n",
       "      <th>3</th>\n",
       "      <td>West Loop</td>\n",
       "      <td>5163.666667</td>\n",
       "    </tr>\n",
       "    <tr>\n",
       "      <th>4</th>\n",
       "      <td>O'Hare</td>\n",
       "      <td>2546.900000</td>\n",
       "    </tr>\n",
       "    <tr>\n",
       "      <th>5</th>\n",
       "      <td>Lake View</td>\n",
       "      <td>2420.966667</td>\n",
       "    </tr>\n",
       "    <tr>\n",
       "      <th>6</th>\n",
       "      <td>Grant Park</td>\n",
       "      <td>2068.533333</td>\n",
       "    </tr>\n",
       "    <tr>\n",
       "      <th>7</th>\n",
       "      <td>Museum Campus</td>\n",
       "      <td>1510.000000</td>\n",
       "    </tr>\n",
       "    <tr>\n",
       "      <th>8</th>\n",
       "      <td>Gold Coast</td>\n",
       "      <td>1364.233333</td>\n",
       "    </tr>\n",
       "    <tr>\n",
       "      <th>9</th>\n",
       "      <td>Sheffield &amp; DePaul</td>\n",
       "      <td>1259.766667</td>\n",
       "    </tr>\n",
       "  </tbody>\n",
       "</table>\n",
       "</div>"
      ],
      "text/plain": [
       "  dropoff_location_name  average_trips\n",
       "0                  Loop   10727.466667\n",
       "1           River North    9523.666667\n",
       "2         Streeterville    6664.666667\n",
       "3             West Loop    5163.666667\n",
       "4                O'Hare    2546.900000\n",
       "5             Lake View    2420.966667\n",
       "6            Grant Park    2068.533333\n",
       "7         Museum Campus    1510.000000\n",
       "8            Gold Coast    1364.233333\n",
       "9    Sheffield & DePaul    1259.766667"
      ]
     },
     "execution_count": 73,
     "metadata": {},
     "output_type": "execute_result"
    }
   ],
   "source": [
    "avg_trips_df.nlargest(10, columns=[\"average_trips\"])"
   ]
  },
  {
   "cell_type": "markdown",
   "metadata": {},
   "source": [
    "make graphs: taxi companies and number of rides, top 10 neighborhoods by number of dropoffs"
   ]
  },
  {
   "cell_type": "code",
   "execution_count": 99,
   "metadata": {
    "ExecuteTime": {
     "end_time": "2020-05-23T20:26:23.751585Z",
     "start_time": "2020-05-23T20:26:23.741158Z"
    }
   },
   "outputs": [],
   "source": [
    "def plt_nlargest_pie(df, column, index, title=\"\", top=10):\n",
    "    data = df.nlargest(top, columns=[column]).set_index(index)  \n",
    "    data.plot(kind='pie', y=column,autopct='%1.0f%%', figsize=(10, 5), legend=False).set(label=data.index)\n",
    "    plt.title(title)\n",
    "    plt.ylabel(\"\")\n",
    "    plt.show()   "
   ]
  },
  {
   "cell_type": "code",
   "execution_count": 101,
   "metadata": {
    "ExecuteTime": {
     "end_time": "2020-05-23T20:26:34.595495Z",
     "start_time": "2020-05-23T20:26:34.423190Z"
    }
   },
   "outputs": [
    {
     "data": {
      "image/png": "[encoded data removed]",
      "text/plain": [
       "<Figure size 720x360 with 1 Axes>"
      ]
     },
     "metadata": {},
     "output_type": "display_data"
    }
   ],
   "source": [
    "plt_nlargest_pie(trips_amount_df, column=\"trips_amount\", index=\"company_name\", title=\"taxi companies and number of rides\")"
   ]
  },
  {
   "cell_type": "markdown",
   "metadata": {},
   "source": [
    "<div style=\"border:solid green 4px; padding: 20px\">Although I personally like barcharts over pies that is a pretty neat pie chart, I like it.</div>"
   ]
  },
  {
   "cell_type": "markdown",
   "metadata": {},
   "source": [
    "As we could see, very popular was Flash Cab at November 15-16, 2017(Wednesday-Thursday), and the next one is Taxi Affiliation Services, and etc.  "
   ]
  },
  {
   "cell_type": "code",
   "execution_count": 103,
   "metadata": {
    "ExecuteTime": {
     "end_time": "2020-05-23T20:28:20.949058Z",
     "start_time": "2020-05-23T20:28:20.770771Z"
    }
   },
   "outputs": [
    {
     "data": {
      "image/png": "[encoded data removed]",
      "text/plain": [
       "<Figure size 720x360 with 1 Axes>"
      ]
     },
     "metadata": {},
     "output_type": "display_data"
    }
   ],
   "source": [
    "plt_nlargest_pie(avg_trips_df, column=\"average_trips\", index=\"dropoff_location_name\", title=\"top 10 neighborhoods by number of dropoffs\")"
   ]
  },
  {
   "cell_type": "markdown",
   "metadata": {},
   "source": [
    "Loop, River North and Streeterville were mostly neighborhoods by average number of rides that ended in each neighborhood in November 2017."
   ]
  },
  {
   "cell_type": "code",
   "execution_count": 95,
   "metadata": {
    "ExecuteTime": {
     "end_time": "2020-05-23T20:24:38.577343Z",
     "start_time": "2020-05-23T20:24:38.567114Z"
    }
   },
   "outputs": [],
   "source": [
    "top20_dropoff = avg_trips_df.nlargest(20, columns=[\"average_trips\"])\n",
    "others_dropoff = pd.DataFrame(dict(dropoff_location_name=[\"Others\"],average_trips=[avg_trips_df[~avg_trips_df[\"dropoff_location_name\"]\n",
    "              .isin(top20_dropoff[\"dropoff_location_name\"])][\"average_trips\"]\n",
    "              .sum()]))"
   ]
  },
  {
   "cell_type": "code",
   "execution_count": 96,
   "metadata": {
    "ExecuteTime": {
     "end_time": "2020-05-23T20:24:40.623229Z",
     "start_time": "2020-05-23T20:24:40.314873Z"
    }
   },
   "outputs": [
    {
     "data": {
      "image/png": "[encoded data removed]",
      "text/plain": [
       "<Figure size 432x288 with 1 Axes>"
      ]
     },
     "metadata": {
      "needs_background": "light"
     },
     "output_type": "display_data"
    }
   ],
   "source": [
    "sns.set_color_codes(\"pastel\")\n",
    "sns.barplot(y=\"dropoff_location_name\",x='average_trips', data=pd.concat([top20_dropoff, others_dropoff]))\n",
    "sns.set_color_codes(\"muted\")\n",
    "plt.title(\"Distribution of average_trips per top 20 neighborhoods and others\")\n",
    "plt.show()"
   ]
  },
  {
   "cell_type": "markdown",
   "metadata": {},
   "source": [
    "<div style=\"border:solid green 4px; padding: 20px\">Grouping small values into unified bar is always a good idea. Strictly speaking, there is no need in setting any color scheme to that chart, you don't encode any other variable in your colors, your values already expressed by the length of bars.</div>"
   ]
  },
  {
   "cell_type": "markdown",
   "metadata": {},
   "source": [
    "## Testing hypotheses"
   ]
  },
  {
   "cell_type": "markdown",
   "metadata": {},
   "source": [
    "<div class=\"markdown markdown_size_normal markdown_type_theory theory-viewer__markdown theory-viewer__markdown_flexible big-theory theory-panel__big-theory\"><div class=\"paragraph\"><strong>Step 5. Testing hypotheses (Python)</strong></div><div class=\"paragraph\"><a href=\"https://code.s3.yandex.net/learning-materials/data-analyst-eng/project_sql_result_07.csv\" target=\"_blank\">/datasets/project_sql_result_07.csv</a> — the result of the last query. It contains data on rides from the Loop to O'Hare International Airport. Remember, these are the table's field values:</div><ul><li><em>start_ts</em> <ul><li>pickup date and time</li></ul></li><li><em>weather_conditions</em> <ul><li>weather conditions at the moment the ride started</li></ul></li><li><em>duration_seconds</em> <ul><li>ride duration in seconds</li></ul></li></ul><div class=\"paragraph\">Test the hypothesis:</div><div class=\"paragraph\">\"The average duration of rides from the Loop to O'Hare International Airport changes on rainy Saturdays.\" </div><div class=\"paragraph\">Decide where to set the significance level (alpha) on your own.</div><div class=\"paragraph\">Explain:</div><ul><li>how you formed the null and alternative hypotheses</li><li>what criterion you used to test the hypotheses and why</li></ul></div>"
   ]
  },
  {
   "cell_type": "code",
   "execution_count": 17,
   "metadata": {
    "ExecuteTime": {
     "end_time": "2020-05-23T19:18:11.365809Z",
     "start_time": "2020-05-23T19:18:11.363044Z"
    }
   },
   "outputs": [],
   "source": [
    "rides_df = \"https://code.s3.yandex.net/learning-materials/data-analyst-eng/project_sql_result_07.csv\"\n",
    "rides_df = \"./datasets/project_sql_result_07.csv\""
   ]
  },
  {
   "cell_type": "code",
   "execution_count": 104,
   "metadata": {
    "ExecuteTime": {
     "end_time": "2020-05-23T20:32:47.024025Z",
     "start_time": "2020-05-23T20:32:47.000716Z"
    }
   },
   "outputs": [],
   "source": [
    "rides_df = pd.read_csv(query_result3)"
   ]
  },
  {
   "cell_type": "code",
   "execution_count": 105,
   "metadata": {
    "ExecuteTime": {
     "end_time": "2020-05-23T20:32:49.123191Z",
     "start_time": "2020-05-23T20:32:49.102956Z"
    }
   },
   "outputs": [
    {
     "data": {
      "text/html": [
       "<div>\n",
       "<style scoped>\n",
       "    .dataframe tbody tr th:only-of-type {\n",
       "        vertical-align: middle;\n",
       "    }\n",
       "\n",
       "    .dataframe tbody tr th {\n",
       "        vertical-align: top;\n",
       "    }\n",
       "\n",
       "    .dataframe thead th {\n",
       "        text-align: right;\n",
       "    }\n",
       "</style>\n",
       "<table border=\"1\" class=\"dataframe\">\n",
       "  <thead>\n",
       "    <tr style=\"text-align: right;\">\n",
       "      <th></th>\n",
       "      <th>duration_seconds</th>\n",
       "    </tr>\n",
       "  </thead>\n",
       "  <tbody>\n",
       "    <tr>\n",
       "      <th>count</th>\n",
       "      <td>1068.000000</td>\n",
       "    </tr>\n",
       "    <tr>\n",
       "      <th>mean</th>\n",
       "      <td>2071.731273</td>\n",
       "    </tr>\n",
       "    <tr>\n",
       "      <th>std</th>\n",
       "      <td>769.461125</td>\n",
       "    </tr>\n",
       "    <tr>\n",
       "      <th>min</th>\n",
       "      <td>0.000000</td>\n",
       "    </tr>\n",
       "    <tr>\n",
       "      <th>25%</th>\n",
       "      <td>1438.250000</td>\n",
       "    </tr>\n",
       "    <tr>\n",
       "      <th>50%</th>\n",
       "      <td>1980.000000</td>\n",
       "    </tr>\n",
       "    <tr>\n",
       "      <th>75%</th>\n",
       "      <td>2580.000000</td>\n",
       "    </tr>\n",
       "    <tr>\n",
       "      <th>max</th>\n",
       "      <td>7440.000000</td>\n",
       "    </tr>\n",
       "  </tbody>\n",
       "</table>\n",
       "</div>"
      ],
      "text/plain": [
       "       duration_seconds\n",
       "count       1068.000000\n",
       "mean        2071.731273\n",
       "std          769.461125\n",
       "min            0.000000\n",
       "25%         1438.250000\n",
       "50%         1980.000000\n",
       "75%         2580.000000\n",
       "max         7440.000000"
      ]
     },
     "execution_count": 105,
     "metadata": {},
     "output_type": "execute_result"
    }
   ],
   "source": [
    "rides_df.describe()"
   ]
  },
  {
   "cell_type": "code",
   "execution_count": 114,
   "metadata": {
    "ExecuteTime": {
     "end_time": "2020-05-23T20:37:15.999483Z",
     "start_time": "2020-05-23T20:37:15.966256Z"
    }
   },
   "outputs": [
    {
     "data": {
      "text/plain": [
       "start_ts              0\n",
       "weather_conditions    0\n",
       "duration_seconds      0\n",
       "dtype: int64"
      ]
     },
     "execution_count": 114,
     "metadata": {},
     "output_type": "execute_result"
    }
   ],
   "source": [
    "rides_df.isna().sum()"
   ]
  },
  {
   "cell_type": "code",
   "execution_count": 129,
   "metadata": {
    "ExecuteTime": {
     "end_time": "2020-05-23T20:40:29.794345Z",
     "start_time": "2020-05-23T20:40:29.525893Z"
    }
   },
   "outputs": [
    {
     "data": {
      "text/plain": [
       "<matplotlib.axes._subplots.AxesSubplot at 0x7f14d423d290>"
      ]
     },
     "execution_count": 129,
     "metadata": {},
     "output_type": "execute_result"
    },
    {
     "data": {
      "image/png": "[encoded data removed]",
      "text/plain": [
       "<Figure size 432x288 with 1 Axes>"
      ]
     },
     "metadata": {
      "needs_background": "light"
     },
     "output_type": "display_data"
    }
   ],
   "source": [
    "sns.distplot(rides_df[\"duration_seconds\"], bins=list(range(100, 4000, 200)))"
   ]
  },
  {
   "cell_type": "code",
   "execution_count": 112,
   "metadata": {
    "ExecuteTime": {
     "end_time": "2020-05-23T20:35:08.157329Z",
     "start_time": "2020-05-23T20:35:07.973793Z"
    }
   },
   "outputs": [
    {
     "data": {
      "text/plain": [
       "<matplotlib.axes._subplots.AxesSubplot at 0x7f14d4bfacd0>"
      ]
     },
     "execution_count": 112,
     "metadata": {},
     "output_type": "execute_result"
    },
    {
     "data": {
      "image/png": "[encoded data removed]",
      "text/plain": [
       "<Figure size 432x288 with 1 Axes>"
      ]
     },
     "metadata": {
      "needs_background": "light"
     },
     "output_type": "display_data"
    }
   ],
   "source": [
    "sns.boxplot(rides_df[\"duration_seconds\"])"
   ]
  },
  {
   "cell_type": "markdown",
   "metadata": {},
   "source": [
    "<div style=\"border:solid green 4px; padding: 20px\">Good use of seaborn to look into distribution.</div>"
   ]
  },
  {
   "cell_type": "code",
   "execution_count": 110,
   "metadata": {
    "ExecuteTime": {
     "end_time": "2020-05-23T20:34:03.235156Z",
     "start_time": "2020-05-23T20:34:03.230283Z"
    }
   },
   "outputs": [
    {
     "data": {
      "text/plain": [
       "0.9146993095472892"
      ]
     },
     "execution_count": 110,
     "metadata": {},
     "output_type": "execute_result"
    }
   ],
   "source": [
    "rides_df[\"duration_seconds\"].skew()"
   ]
  },
  {
   "cell_type": "code",
   "execution_count": 135,
   "metadata": {
    "ExecuteTime": {
     "end_time": "2020-05-23T20:43:50.226128Z",
     "start_time": "2020-05-23T20:43:50.212449Z"
    }
   },
   "outputs": [],
   "source": [
    "rides_df[\"start_ts\"] = pd.to_datetime(rides_df[\"start_ts\"])"
   ]
  },
  {
   "cell_type": "code",
   "execution_count": 152,
   "metadata": {
    "ExecuteTime": {
     "end_time": "2020-05-23T21:01:14.083119Z",
     "start_time": "2020-05-23T21:01:14.074620Z"
    }
   },
   "outputs": [],
   "source": [
    "saturdays_bad_rides = rides_df[(rides_df[\"start_ts\"].dt.weekday==5)&(rides_df[\"weather_conditions\"]!=\"Good\")][\"duration_seconds\"].values"
   ]
  },
  {
   "cell_type": "code",
   "execution_count": 150,
   "metadata": {
    "ExecuteTime": {
     "end_time": "2020-05-23T21:00:47.055129Z",
     "start_time": "2020-05-23T21:00:47.044034Z"
    }
   },
   "outputs": [],
   "source": [
    "saturdays_good_rides = rides_df[(rides_df[\"start_ts\"].dt.weekday==5)&(rides_df[\"weather_conditions\"]==\"Good\")][\"duration_seconds\"].values"
   ]
  },
  {
   "cell_type": "code",
   "execution_count": 160,
   "metadata": {
    "ExecuteTime": {
     "end_time": "2020-05-23T21:05:20.991824Z",
     "start_time": "2020-05-23T21:05:20.983754Z"
    }
   },
   "outputs": [
    {
     "data": {
      "text/plain": [
       "(180, 888)"
      ]
     },
     "execution_count": 160,
     "metadata": {},
     "output_type": "execute_result"
    }
   ],
   "source": [
    "len(saturdays_bad_rides), len(saturdays_good_rides)"
   ]
  },
  {
   "cell_type": "code",
   "execution_count": 161,
   "metadata": {
    "ExecuteTime": {
     "end_time": "2020-05-23T21:05:42.187768Z",
     "start_time": "2020-05-23T21:05:42.178916Z"
    }
   },
   "outputs": [],
   "source": [
    "alpha = .05 "
   ]
  },
  {
   "cell_type": "markdown",
   "metadata": {},
   "source": [
    "Let's choose standard the significance level (actually it really depends on sample size, but anyway let's leave standard level) and let's state:\n",
    "\n",
    "$H_0$=\"The average duration of rides from the Loop to O'Hare International Airport doesn't change\"\n",
    "\n",
    "$H_1$=\"The average duration of rides from the Loop to O'Hare International Airport changes on rainy Saturdays.\"\n",
    "\n",
    "we will test by avg value and after that also will check both avg values"
   ]
  },
  {
   "cell_type": "markdown",
   "metadata": {},
   "source": [
    "<div style=\"border:solid green 4px; padding: 20px\">Hypotheses are stated correctly.</div>"
   ]
  },
  {
   "cell_type": "code",
   "execution_count": 147,
   "metadata": {
    "ExecuteTime": {
     "end_time": "2020-05-23T20:59:09.222769Z",
     "start_time": "2020-05-23T20:59:09.219548Z"
    }
   },
   "outputs": [],
   "source": [
    "H_0 = \"The average duration of rides from the Loop to O'Hare International Airport doesn't change\"\n",
    "H_1 = \"The average duration of rides from the Loop to O'Hare International Airport changes on rainy Saturdays.\""
   ]
  },
  {
   "cell_type": "code",
   "execution_count": 162,
   "metadata": {
    "ExecuteTime": {
     "end_time": "2020-05-23T21:08:26.379392Z",
     "start_time": "2020-05-23T21:08:26.368722Z"
    },
    "scrolled": true
   },
   "outputs": [
    {
     "name": "stdout",
     "output_type": "stream",
     "text": [
      "pvalue: 6.517970327099473e-12\n",
      "The average duration of rides from the Loop to O'Hare International Airport changes on rainy Saturdays.\n",
      "checking:\n",
      "bad weather, mean=2427.21\n",
      "good weather, mean=1999.68\n"
     ]
    }
   ],
   "source": [
    "result = stats.ttest_ind(saturdays_bad_rides, saturdays_good_rides)\n",
    "print('pvalue:', result.pvalue)\n",
    "\n",
    "if (result.pvalue < alpha):\n",
    "    print(H_1)\n",
    "else:\n",
    "    print(H_0)\n",
    "print(\"checking:\")\n",
    "print(f\"bad weather, mean={saturdays_bad_rides.mean():.2f}\")\n",
    "print(f\"good weather, mean={saturdays_good_rides.mean():.2f}\")"
   ]
  },
  {
   "cell_type": "markdown",
   "metadata": {},
   "source": [
    "<div style=\"border:solid green 4px; padding: 20px\">Okay, I am glad that now we could draw conclusions from the results of our SQL queries. Keep up the good work, see you!</div>"
   ]
  }
 ],
 "metadata": {
  "kernelspec": {
   "display_name": "Python 3",
   "language": "python",
   "name": "python3"
  },
  "language_info": {
   "codemirror_mode": {
    "name": "ipython",
    "version": 3
   },
   "file_extension": ".py",
   "mimetype": "text/x-python",
   "name": "python",
   "nbconvert_exporter": "python",
   "pygments_lexer": "ipython3",
   "version": "3.7.7"
  },
  "toc": {
   "base_numbering": 1,
   "nav_menu": {},
   "number_sections": true,
   "sideBar": true,
   "skip_h1_title": false,
   "title_cell": "Table of Contents",
   "title_sidebar": "Contents",
   "toc_cell": false,
   "toc_position": {},
   "toc_section_display": true,
   "toc_window_display": false
  },
  "varInspector": {
   "cols": {
    "lenName": 16,
    "lenType": 16,
    "lenVar": 40
   },
   "kernels_config": {
    "python": {
     "delete_cmd_postfix": "",
     "delete_cmd_prefix": "del ",
     "library": "var_list.py",
     "varRefreshCmd": "print(var_dic_list())"
    },
    "r": {
     "delete_cmd_postfix": ") ",
     "delete_cmd_prefix": "rm(",
     "library": "var_list.r",
     "varRefreshCmd": "cat(var_dic_list()) "
    }
   },
   "types_to_exclude": [
    "module",
    "function",
    "builtin_function_or_method",
    "instance",
    "_Feature"
   ],
   "window_display": false
  }
 },
 "nbformat": 4,
 "nbformat_minor": 4
}
