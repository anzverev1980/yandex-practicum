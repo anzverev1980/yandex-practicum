{
 "cells": [
  {
   "cell_type": "code",
   "execution_count": 43,
   "metadata": {},
   "outputs": [],
   "source": [
    "import pandas as pd\n",
    "from sklearn.tree import DecisionTreeClassifier\n",
    "from sklearn.model_selection import train_test_split, GridSearchCV, validation_curve\n",
    "from sklearn.ensemble import RandomForestClassifier\n",
    "from sklearn.linear_model import LogisticRegression, LinearRegression\n",
    "from sklearn.tree import DecisionTreeRegressor\n",
    "from sklearn.ensemble import RandomForestRegressor\n",
    "from sklearn.metrics import *\n",
    "from joblib import dump"
   ]
  },
  {
   "cell_type": "code",
   "execution_count": 3,
   "metadata": {},
   "outputs": [],
   "source": [
    "df = pd.read_csv('/datasets/train_data_us.csv')\n",
    "df.loc[df['last_price'] > 113000, 'price_class'] = 1\n",
    "df.loc[df['last_price'] <= 113000, 'price_class'] = 0\n",
    "features = df.drop(['last_price', 'price_class'], axis=1)\n",
    "target = df['price_class']"
   ]
  },
  {
   "cell_type": "code",
   "execution_count": 4,
   "metadata": {},
   "outputs": [
    {
     "data": {
      "text/plain": [
       "(5196, 1299)"
      ]
     },
     "execution_count": 4,
     "metadata": {},
     "output_type": "execute_result"
    }
   ],
   "source": [
    "X_train, X_test, y_train, y_test = train_test_split(features,target,test_size=0.2, random_state=42)\n",
    "len(y_train),len(y_test)"
   ]
  },
  {
   "cell_type": "code",
   "execution_count": 12,
   "metadata": {},
   "outputs": [],
   "source": [
    "tree_param = {'n_estimators':list(range(1, 11)),'max_depth':[2, 4, 8, 12, 16, 20], 'min_samples_leaf':[4,8, 10, 12], 'max_leaf_nodes':[7, 9]}"
   ]
  },
  {
   "cell_type": "code",
   "execution_count": 13,
   "metadata": {},
   "outputs": [
    {
     "data": {
      "text/plain": [
       "GridSearchCV(cv=5, error_score='raise-deprecating',\n",
       "             estimator=RandomForestClassifier(bootstrap=True, class_weight=None,\n",
       "                                              criterion='gini', max_depth=None,\n",
       "                                              max_features='auto',\n",
       "                                              max_leaf_nodes=None,\n",
       "                                              min_impurity_decrease=0.0,\n",
       "                                              min_impurity_split=None,\n",
       "                                              min_samples_leaf=1,\n",
       "                                              min_samples_split=2,\n",
       "                                              min_weight_fraction_leaf=0.0,\n",
       "                                              n_estimators='warn', n_jobs=None,\n",
       "                                              oob_score=False,\n",
       "                                              random_state=None, verbose=0,\n",
       "                                              warm_start=False),\n",
       "             iid='warn', n_jobs=None,\n",
       "             param_grid={'max_depth': [2, 4, 8, 12, 16, 20],\n",
       "                         'max_leaf_nodes': [7, 9],\n",
       "                         'min_samples_leaf': [4, 8, 10, 12],\n",
       "                         'n_estimators': [1, 2, 3, 4, 5, 6, 7, 8, 9, 10]},\n",
       "             pre_dispatch='2*n_jobs', refit=True, return_train_score=False,\n",
       "             scoring=make_scorer(accuracy_score), verbose=0)"
      ]
     },
     "execution_count": 13,
     "metadata": {},
     "output_type": "execute_result"
    }
   ],
   "source": [
    "clf = GridSearchCV(RandomForestClassifier(), tree_param, cv=5, scoring=make_scorer(score_func=accuracy_score, greater_is_better=True))\n",
    "clf.fit(X_train, y_train)"
   ]
  },
  {
   "cell_type": "code",
   "execution_count": 14,
   "metadata": {},
   "outputs": [
    {
     "data": {
      "text/plain": [
       "{'max_depth': 20,\n",
       " 'max_leaf_nodes': 9,\n",
       " 'min_samples_leaf': 10,\n",
       " 'n_estimators': 8}"
      ]
     },
     "execution_count": 14,
     "metadata": {},
     "output_type": "execute_result"
    }
   ],
   "source": [
    "clf.best_params_"
   ]
  },
  {
   "cell_type": "code",
   "execution_count": 31,
   "metadata": {},
   "outputs": [
    {
     "data": {
      "text/plain": [
       "RandomForestClassifier(bootstrap=True, class_weight=None, criterion='gini',\n",
       "                       max_depth=None, max_features='auto', max_leaf_nodes=None,\n",
       "                       min_impurity_decrease=0.0, min_impurity_split=None,\n",
       "                       min_samples_leaf=1, min_samples_split=2,\n",
       "                       min_weight_fraction_leaf=0.0, n_estimators=25,\n",
       "                       n_jobs=None, oob_score=False, random_state=None,\n",
       "                       verbose=0, warm_start=False)"
      ]
     },
     "execution_count": 31,
     "metadata": {},
     "output_type": "execute_result"
    }
   ],
   "source": [
    "params = {'max_depth': 12,\n",
    " 'max_leaf_nodes': 9,\n",
    " 'min_samples_leaf': 8}\n",
    "model = RandomForestClassifier(n_estimators=25)\n",
    "model.fit(X_train, y_train)"
   ]
  },
  {
   "cell_type": "code",
   "execution_count": 32,
   "metadata": {},
   "outputs": [],
   "source": [
    "y_pred = model.predict(X_test)"
   ]
  },
  {
   "cell_type": "code",
   "execution_count": 33,
   "metadata": {},
   "outputs": [
    {
     "name": "stdout",
     "output_type": "stream",
     "text": [
      "              precision    recall  f1-score   support\n",
      "\n",
      "         0.0       0.91      0.88      0.89       677\n",
      "         1.0       0.88      0.90      0.89       622\n",
      "\n",
      "    accuracy                           0.89      1299\n",
      "   macro avg       0.89      0.89      0.89      1299\n",
      "weighted avg       0.89      0.89      0.89      1299\n",
      "\n"
     ]
    }
   ],
   "source": [
    "print(classification_report(y_pred, y_test))"
   ]
  },
  {
   "cell_type": "code",
   "execution_count": 29,
   "metadata": {},
   "outputs": [],
   "source": [
    "train_scoreNum, test_scoreNum = validation_curve(\n",
    "                                RandomForestClassifier(),\n",
    "                                X = X_train, y = y_train, \n",
    "                                param_name = 'n_estimators', \n",
    "                                param_range = range(1,25), cv = 3)"
   ]
  },
  {
   "cell_type": "code",
   "execution_count": 30,
   "metadata": {},
   "outputs": [
    {
     "data": {
      "text/plain": [
       "(array([[0.94195784, 0.93677829, 0.93997114],\n",
       "        [0.93011839, 0.93620092, 0.94372294],\n",
       "        [0.97458851, 0.97806005, 0.97662338],\n",
       "        [0.97372221, 0.97199769, 0.97344877],\n",
       "        [0.98469535, 0.98325635, 0.98556999],\n",
       "        [0.98700549, 0.98527714, 0.98008658],\n",
       "        [0.99047069, 0.99076212, 0.98903319],\n",
       "        [0.99133699, 0.98960739, 0.99047619],\n",
       "        [0.99335836, 0.99422633, 0.99336219],\n",
       "        [0.99364713, 0.99393764, 0.995671  ],\n",
       "        [0.99335836, 0.99624711, 0.99480519],\n",
       "        [0.99278083, 0.99422633, 0.99307359],\n",
       "        [0.99624603, 0.9965358 , 0.9965368 ],\n",
       "        [0.99595726, 0.99393764, 0.9962482 ],\n",
       "        [0.99480219, 0.9948037 , 0.9962482 ],\n",
       "        [0.9965348 , 0.99566975, 0.997114  ],\n",
       "        [0.99682356, 0.99711316, 0.9968254 ],\n",
       "        [0.9965348 , 0.99769053, 0.9959596 ],\n",
       "        [0.99711233, 0.99797921, 0.9979798 ],\n",
       "        [0.99711233, 0.99740185, 0.9979798 ],\n",
       "        [0.9991337 , 0.99740185, 0.9988456 ],\n",
       "        [0.99768986, 0.99769053, 0.9988456 ],\n",
       "        [0.99855617, 0.99913395, 0.998557  ],\n",
       "        [0.99884493, 0.99855658, 0.9994228 ]]),\n",
       " array([[0.83612233, 0.84295612, 0.83997689],\n",
       "        [0.84881708, 0.83371824, 0.82668977],\n",
       "        [0.86843624, 0.88106236, 0.86655113],\n",
       "        [0.87824582, 0.86951501, 0.86712883],\n",
       "        [0.87766878, 0.87528868, 0.87001733],\n",
       "        [0.88920946, 0.88221709, 0.85441941],\n",
       "        [0.87997692, 0.87990762, 0.87521664],\n",
       "        [0.88747836, 0.88625866, 0.86886193],\n",
       "        [0.8897865 , 0.88741339, 0.88099365],\n",
       "        [0.8880554 , 0.88625866, 0.87059503],\n",
       "        [0.8880554 , 0.89491917, 0.87694974],\n",
       "        [0.8932487 , 0.88972286, 0.87752744],\n",
       "        [0.8932487 , 0.8891455 , 0.86828423],\n",
       "        [0.89440277, 0.88683603, 0.87926054],\n",
       "        [0.8915176 , 0.88856813, 0.87810514],\n",
       "        [0.8897865 , 0.89722864, 0.87752744],\n",
       "        [0.8915176 , 0.88510393, 0.88041594],\n",
       "        [0.89267167, 0.88972286, 0.88330445],\n",
       "        [0.89036353, 0.88799076, 0.87521664],\n",
       "        [0.89728794, 0.89549654, 0.87868284],\n",
       "        [0.89844201, 0.8960739 , 0.87926054],\n",
       "        [0.90017311, 0.89203233, 0.88330445],\n",
       "        [0.89959608, 0.89203233, 0.87926054],\n",
       "        [0.89728794, 0.89491917, 0.89023686]]))"
      ]
     },
     "execution_count": 30,
     "metadata": {},
     "output_type": "execute_result"
    }
   ],
   "source": [
    "train_scoreNum, test_scoreNum"
   ]
  },
  {
   "cell_type": "code",
   "execution_count": 36,
   "metadata": {},
   "outputs": [
    {
     "data": {
      "text/plain": [
       "24"
      ]
     },
     "execution_count": 36,
     "metadata": {},
     "output_type": "execute_result"
    }
   ],
   "source": [
    "len(train_scoreNum)"
   ]
  },
  {
   "cell_type": "code",
   "execution_count": 34,
   "metadata": {},
   "outputs": [
    {
     "data": {
      "text/plain": [
       "['rfclassifier.joblib']"
      ]
     },
     "execution_count": 34,
     "metadata": {},
     "output_type": "execute_result"
    }
   ],
   "source": [
    "import joblib\n",
    "joblib.dump(model, 'rfclassifier.joblib')"
   ]
  },
  {
   "cell_type": "code",
   "execution_count": 37,
   "metadata": {},
   "outputs": [
    {
     "name": "stderr",
     "output_type": "stream",
     "text": [
      "/opt/conda/lib/python3.7/site-packages/sklearn/linear_model/logistic.py:432: FutureWarning: Default solver will be changed to 'lbfgs' in 0.22. Specify a solver to silence this warning.\n",
      "  FutureWarning)\n"
     ]
    },
    {
     "data": {
      "text/plain": [
       "['logreg.joblib']"
      ]
     },
     "execution_count": 37,
     "metadata": {},
     "output_type": "execute_result"
    }
   ],
   "source": [
    "model = LogisticRegression(random_state=12345)\n",
    "model.fit(X_train, y_train)\n",
    "joblib.dump(model, 'logreg.joblib')"
   ]
  },
  {
   "cell_type": "code",
   "execution_count": 39,
   "metadata": {},
   "outputs": [
    {
     "data": {
      "text/plain": [
       "(5196, 1299)"
      ]
     },
     "execution_count": 39,
     "metadata": {},
     "output_type": "execute_result"
    }
   ],
   "source": [
    "df = pd.read_csv('/datasets/train_data_us.csv')\n",
    "features = df.drop(['last_price'], axis=1)\n",
    "target = df['last_price'] / 100000\n",
    "X_train, X_test, y_train, y_test = train_test_split(features,target,test_size=0.2, random_state=42)\n",
    "len(y_train),len(y_test)"
   ]
  },
  {
   "cell_type": "code",
   "execution_count": 45,
   "metadata": {},
   "outputs": [
    {
     "data": {
      "text/plain": [
       "4.991321516948247"
      ]
     },
     "execution_count": 45,
     "metadata": {},
     "output_type": "execute_result"
    }
   ],
   "source": [
    "model = DecisionTreeRegressor().fit(X_train, y_train)\n",
    "# joblib.dump(model, 'dtr.joblib')\n",
    "y_pred = model.predict(X_test)\n",
    "mean_squared_error(y_test, y_pred)"
   ]
  },
  {
   "cell_type": "code",
   "execution_count": 46,
   "metadata": {},
   "outputs": [
    {
     "data": {
      "text/plain": [
       "1.7793841580380398"
      ]
     },
     "execution_count": 46,
     "metadata": {},
     "output_type": "execute_result"
    }
   ],
   "source": [
    "model = RandomForestRegressor(n_estimators=3).fit(X_train, y_train)\n",
    "# joblib.dump(model, 'rtr.joblib')\n",
    "y_pred = model.predict(X_test)\n",
    "mean_squared_error(y_test, y_pred)"
   ]
  },
  {
   "cell_type": "code",
   "execution_count": 47,
   "metadata": {},
   "outputs": [
    {
     "data": {
      "text/plain": [
       "2.017432758829753"
      ]
     },
     "execution_count": 47,
     "metadata": {},
     "output_type": "execute_result"
    }
   ],
   "source": [
    "model = LinearRegression().fit(X_train, y_train)\n",
    "# joblib.dump(model, 'lr.joblib')\n",
    "y_pred = model.predict(X_test)\n",
    "mean_squared_error(y_test, y_pred)"
   ]
  },
  {
   "cell_type": "markdown",
   "metadata": {},
   "source": [
    "For decision tree model, iterate over max_depth values from 1 to 4.\n",
    "For random forest model, iterate over n_estimators values from 10 to 50. Take only factors of 10 (10, 20, 30, 40, 50). Limit the maximum depth: max_depth=10."
   ]
  },
  {
   "cell_type": "code",
   "execution_count": 51,
   "metadata": {},
   "outputs": [
    {
     "data": {
      "text/plain": [
       "GridSearchCV(cv=5, error_score='raise-deprecating',\n",
       "             estimator=RandomForestRegressor(bootstrap=True, criterion='mse',\n",
       "                                             max_depth=None,\n",
       "                                             max_features='auto',\n",
       "                                             max_leaf_nodes=None,\n",
       "                                             min_impurity_decrease=0.0,\n",
       "                                             min_impurity_split=None,\n",
       "                                             min_samples_leaf=1,\n",
       "                                             min_samples_split=2,\n",
       "                                             min_weight_fraction_leaf=0.0,\n",
       "                                             n_estimators='warn', n_jobs=None,\n",
       "                                             oob_score=False, random_state=None,\n",
       "                                             verbose=0, warm_start=False),\n",
       "             iid='warn', n_jobs=None,\n",
       "             param_grid={'max_depth': [10],\n",
       "                         'n_estimators': [10, 20, 30, 40, 50]},\n",
       "             pre_dispatch='2*n_jobs', refit=True, return_train_score=False,\n",
       "             scoring=make_scorer(mean_squared_error), verbose=0)"
      ]
     },
     "execution_count": 51,
     "metadata": {},
     "output_type": "execute_result"
    }
   ],
   "source": [
    "tree_param = {'n_estimators':list(range(10, 51, 10)),'max_depth':[10]}\n",
    "clf = GridSearchCV(RandomForestRegressor(), tree_param, cv=5, scoring=make_scorer(score_func=mean_squared_error))\n",
    "clf.fit(features, target)"
   ]
  },
  {
   "cell_type": "code",
   "execution_count": 53,
   "metadata": {},
   "outputs": [
    {
     "data": {
      "text/plain": [
       "{'max_depth': 10, 'n_estimators': 40}"
      ]
     },
     "execution_count": 53,
     "metadata": {},
     "output_type": "execute_result"
    }
   ],
   "source": [
    "clf.best_params_"
   ]
  },
  {
   "cell_type": "code",
   "execution_count": 54,
   "metadata": {},
   "outputs": [],
   "source": [
    "params = {'max_depth': 10, 'n_estimators': 40}\n",
    "model = RandomForestRegressor(**params).fit(features, target)"
   ]
  },
  {
   "cell_type": "code",
   "execution_count": 56,
   "metadata": {},
   "outputs": [
    {
     "data": {
      "text/plain": [
       "['rfr.joblib']"
      ]
     },
     "execution_count": 56,
     "metadata": {},
     "output_type": "execute_result"
    }
   ],
   "source": [
    "joblib.dump(model, 'rfr.joblib')"
   ]
  },
  {
   "cell_type": "code",
   "execution_count": 55,
   "metadata": {},
   "outputs": [
    {
     "name": "stdout",
     "output_type": "stream",
     "text": [
      "RMSE\n",
      "Training set: 0.6518891054365964\n",
      "Test set: 1.412539358035851\n"
     ]
    }
   ],
   "source": [
    "df = pd.read_csv('/datasets/train_data_us.csv')\n",
    "features = df.drop(['last_price'], axis=1)\n",
    "target = df['last_price'] / 100000\n",
    "test_df = pd.read_csv('/datasets/test_data_full_us.csv')\n",
    "test_features = test_df.drop(['last_price'], axis=1)\n",
    "test_target = test_df['last_price'] / 100000\n",
    "train_predictions = model.predict(features)\n",
    "test_predictions = model.predict(test_features)\n",
    "rmse_train = mean_squared_error(target, train_predictions)**0.5\n",
    "rmse_test = mean_squared_error(test_target, test_predictions)**0.5\n",
    "# assert rmse_test <= 1.5\n",
    "print(\"RMSE\")\n",
    "print(\"Training set:\", rmse_train)\n",
    "print(\"Test set:\", rmse_test)"
   ]
  }
 ],
 "metadata": {
  "kernelspec": {
   "display_name": "Python 3",
   "language": "python",
   "name": "python3"
  },
  "language_info": {
   "codemirror_mode": {
    "name": "ipython",
    "version": 3
   },
   "file_extension": ".py",
   "mimetype": "text/x-python",
   "name": "python",
   "nbconvert_exporter": "python",
   "pygments_lexer": "ipython3",
   "version": "3.7.4"
  }
 },
 "nbformat": 4,
 "nbformat_minor": 2
}
